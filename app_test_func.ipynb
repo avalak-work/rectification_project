{
 "cells": [
  {
   "cell_type": "code",
   "execution_count": 1,
   "metadata": {},
   "outputs": [
    {
     "data": {
      "text/plain": [
       "[['C6H5CH3', 'CCl4'],\n",
       " ['C6H6', 'C6H5CH3'],\n",
       " ['CH3(CH2)4CH3', 'C6H5CH3'],\n",
       " ['CH3CH2OH', 'CH3(CH2)2CH2OH'],\n",
       " ['CH3COCH3', 'CH3COOH'],\n",
       " ['CH3COOCH3', 'C6H6'],\n",
       " ['CH3OH', 'CH3CH2CH2OH'],\n",
       " ['CH3OH', 'CH3CH2OH'],\n",
       " ['CHCl3', 'CCl4']]"
      ]
     },
     "execution_count": 1,
     "metadata": {},
     "output_type": "execute_result"
    }
   ],
   "source": [
    "import glob\n",
    "import pandas as pd\n",
    "from data_functions import DataFunctions as dfс\n",
    "\n",
    "ph_organic = pd.read_excel('data/ph_organic.xlsx')\n",
    "#Основные характеристики органических веществ\n",
    "exclude_list =['salts','name','formula','salt']\n",
    "ph_organic = dfс.delete_hyphens(ph_organic,exclude_list)\n",
    "\n",
    "def get_all_diagrams():\n",
    "    def filter_diagrams(diagram):\n",
    "        exclude_list = ['H2O', 'H2O_p', 'HCl']\n",
    "        for substance in exclude_list:\n",
    "            if substance in diagram:\n",
    "                return False\n",
    "        return True\n",
    "\n",
    "    file_list = [file_name[:-5] for file_name in glob.glob('*.xlsx', root_dir='l_v')]\n",
    "    diagrams_list = [[file_name[0:file_name.find('-')],file_name[file_name.find('-')+1:]] for file_name in file_list]\n",
    "    diagrams = list(filter(filter_diagrams, diagrams_list))\n",
    "\n",
    "    return diagrams\n",
    "\n",
    "diagrams = get_all_diagrams()\n",
    "for diagram in diagrams:\n",
    "    for substance in diagram:\n",
    "        if substance not in ph_organic['formula'].values:\n",
    "            print(substance)\n",
    "            \n",
    "def get_giagram(substances):\n",
    "    path = 'l_v\\\\'+substances+'.xlsx'\n",
    "    diagram = pd.read_excel(path)\n",
    "\n",
    "    if diagram['x'].values.max() > 1:\n",
    "        diagram['x'] = diagram['x']/100\n",
    "        \n",
    "    if diagram['y'].values.max() > 1:\n",
    "        diagram['y'] = diagram['y']/100\n",
    "        \n",
    "    diagram.sort_values(by = ['t'], ascending=False,ignore_index=True, inplace=True)\n",
    "    \n",
    "    return diagram\n",
    "\n",
    "diagrams = get_all_diagrams()\n",
    "diagrams"
   ]
  },
  {
   "cell_type": "code",
   "execution_count": 2,
   "metadata": {},
   "outputs": [
    {
     "data": {
      "text/plain": [
       "[{'label': 'Толуол-Тетрахлорметан', 'value': 'C6H5CH3-CCl4'},\n",
       " {'label': 'Бензол-Толуол', 'value': 'C6H6-C6H5CH3'},\n",
       " {'label': 'Гексан-Толуол', 'value': 'CH3(CH2)4CH3-C6H5CH3'},\n",
       " {'label': 'Этанол-Бутанол', 'value': 'CH3CH2OH-CH3(CH2)2CH2OH'},\n",
       " {'label': 'Ацетон-Уксусная кислота', 'value': 'CH3COCH3-CH3COOH'},\n",
       " {'label': 'Метилацетат-Бензол', 'value': 'CH3COOCH3-C6H6'},\n",
       " {'label': 'Метанол-Пропанол', 'value': 'CH3OH-CH3CH2CH2OH'},\n",
       " {'label': 'Метанол-Этанол', 'value': 'CH3OH-CH3CH2OH'},\n",
       " {'label': 'Хлороформ-Тетрахлорметан', 'value': 'CHCl3-CCl4'}]"
      ]
     },
     "execution_count": 2,
     "metadata": {},
     "output_type": "execute_result"
    }
   ],
   "source": [
    "def get_diagrams_options():\n",
    "    diagrams_labels = []\n",
    "    diagrams_values = []\n",
    "    for diagram in diagrams:\n",
    "        diagrams_values.append(\n",
    "            diagram[0] + '-' + diagram[1])\n",
    "        diagrams_labels.append(\n",
    "            str(*ph_organic[ph_organic['formula'] == diagram[0]]['name'].values)\n",
    "            +'-'\n",
    "            +str(*ph_organic[ph_organic['formula'] == diagram[1]]['name'].values))\n",
    "    return diagrams_labels, diagrams_values\n",
    "\n",
    "diagrams_labels, diagrams_values = get_diagrams_options()\n",
    "options=[{'label':label, 'value':value} for label,value in list(zip(diagrams_labels, diagrams_values))]\n",
    "options"
   ]
  },
  {
   "cell_type": "code",
   "execution_count": 9,
   "metadata": {},
   "outputs": [
    {
     "name": "stderr",
     "output_type": "stream",
     "text": [
      "C:\\Users\\davjd\\AppData\\Local\\Temp\\ipykernel_32312\\1545956335.py:4: FutureWarning: The frame.append method is deprecated and will be removed from pandas in a future version. Use pandas.concat instead.\n",
      "  return df.head(x).append(df.tail(x))\n"
     ]
    },
    {
     "data": {
      "text/html": [
       "<div>\n",
       "<style scoped>\n",
       "    .dataframe tbody tr th:only-of-type {\n",
       "        vertical-align: middle;\n",
       "    }\n",
       "\n",
       "    .dataframe tbody tr th {\n",
       "        vertical-align: top;\n",
       "    }\n",
       "\n",
       "    .dataframe thead th {\n",
       "        text-align: right;\n",
       "    }\n",
       "</style>\n",
       "<table border=\"1\" class=\"dataframe\">\n",
       "  <thead>\n",
       "    <tr style=\"text-align: right;\">\n",
       "      <th></th>\n",
       "      <th>x</th>\n",
       "      <th>y</th>\n",
       "      <th>t</th>\n",
       "    </tr>\n",
       "  </thead>\n",
       "  <tbody>\n",
       "    <tr>\n",
       "      <th>0</th>\n",
       "      <td>0.0000</td>\n",
       "      <td>0.0000</td>\n",
       "      <td>110.60</td>\n",
       "    </tr>\n",
       "    <tr>\n",
       "      <th>1</th>\n",
       "      <td>0.0471</td>\n",
       "      <td>0.1005</td>\n",
       "      <td>109.04</td>\n",
       "    </tr>\n",
       "    <tr>\n",
       "      <th>2</th>\n",
       "      <td>0.0800</td>\n",
       "      <td>0.1650</td>\n",
       "      <td>107.90</td>\n",
       "    </tr>\n",
       "    <tr>\n",
       "      <th>3</th>\n",
       "      <td>0.0962</td>\n",
       "      <td>0.1918</td>\n",
       "      <td>107.41</td>\n",
       "    </tr>\n",
       "    <tr>\n",
       "      <th>35</th>\n",
       "      <td>0.9050</td>\n",
       "      <td>0.9560</td>\n",
       "      <td>79.20</td>\n",
       "    </tr>\n",
       "    <tr>\n",
       "      <th>36</th>\n",
       "      <td>0.9470</td>\n",
       "      <td>0.9810</td>\n",
       "      <td>77.95</td>\n",
       "    </tr>\n",
       "    <tr>\n",
       "      <th>37</th>\n",
       "      <td>0.9794</td>\n",
       "      <td>0.9921</td>\n",
       "      <td>77.43</td>\n",
       "    </tr>\n",
       "    <tr>\n",
       "      <th>38</th>\n",
       "      <td>0.9950</td>\n",
       "      <td>0.9970</td>\n",
       "      <td>77.03</td>\n",
       "    </tr>\n",
       "  </tbody>\n",
       "</table>\n",
       "</div>"
      ],
      "text/plain": [
       "         x       y       t\n",
       "0   0.0000  0.0000  110.60\n",
       "1   0.0471  0.1005  109.04\n",
       "2   0.0800  0.1650  107.90\n",
       "3   0.0962  0.1918  107.41\n",
       "35  0.9050  0.9560   79.20\n",
       "36  0.9470  0.9810   77.95\n",
       "37  0.9794  0.9921   77.43\n",
       "38  0.9950  0.9970   77.03"
      ]
     },
     "execution_count": 9,
     "metadata": {},
     "output_type": "execute_result"
    }
   ],
   "source": [
    "options[0]['value']\n",
    "df = get_giagram(options[0]['value'])\n",
    "def ends(df, x=4):\n",
    "    return df.head(x).append(df.tail(x))\n",
    "\n",
    "ends(df)"
   ]
  }
 ],
 "metadata": {
  "kernelspec": {
   "display_name": "Python 3",
   "language": "python",
   "name": "python3"
  },
  "language_info": {
   "codemirror_mode": {
    "name": "ipython",
    "version": 3
   },
   "file_extension": ".py",
   "mimetype": "text/x-python",
   "name": "python",
   "nbconvert_exporter": "python",
   "pygments_lexer": "ipython3",
   "version": "3.11.0"
  },
  "orig_nbformat": 4,
  "vscode": {
   "interpreter": {
    "hash": "45c3fc492d5cd59d9b7b8976291383a0a174889fce363176086771d08edc2534"
   }
  }
 },
 "nbformat": 4,
 "nbformat_minor": 2
}
