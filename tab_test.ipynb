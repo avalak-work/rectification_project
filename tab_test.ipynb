{
 "cells": [
  {
   "cell_type": "code",
   "execution_count": 5,
   "metadata": {},
   "outputs": [],
   "source": [
    "import glob\n",
    "import pandas as pd\n",
    "import numpy as np\n",
    "from dash import html, dcc, Input, Output\n",
    "import dash_bootstrap_components as dbc\n",
    "from app import app\n",
    "\n",
    "from column_functions import Calculations as clc\n",
    "from column_functions import Figures as figures\n",
    "from data_functions import DataFunctions as dfс\n",
    "from equipment_functions import Calculations as eq\n",
    "\n",
    "am = pd.read_excel('data/atomic_mass.xlsx')\n",
    "aqua_liquid_saturation = pd.read_excel('data/ph_H2O_saturation_liquid.xlsx')\n",
    "aqua_vapor_saturation = pd.read_excel('data/ph_H2O_saturation_gas.xlsx')\n",
    "aqua_vapor_saturation_by_pressure = pd.read_excel('data/ph_H2O_saturation_gas_by_pressure.xlsx')\n",
    "mass_concentration_solution = pd.read_excel('data/mass_concentration_solution.xlsx')\n",
    "boiling_point_solution = pd.read_excel('data/boiling_point_solution.xlsx')\n",
    "density_solution = pd.read_excel('data/density_solution.xlsx')\n",
    "vicosity_solution = pd.read_excel('data/vicosity_solution.xlsx')\n",
    "specific_heat_capacity_solution = pd.read_excel('data/heat_capacity_solution.xlsx')\n",
    "thermal_conductivity_solutions = pd.read_excel('data/thermal_conductivity_solutions.xlsx')\n",
    "ph_gases = pd.read_excel('data/ph_gases.xlsx')\n",
    "ph_organic = pd.read_excel('data/ph_organic.xlsx')\n",
    "density_organic_liquid = pd.read_excel('data/density_organic_liquid.xlsx')\n",
    "vicosity_organic_liquid = pd.read_excel('data/vicosity_organic_liquid.xlsx')\n",
    "interfactial_tension_organic_liquid = pd.read_excel('data/interfacial_tension_organic_liquid.xlsx')\n",
    "thermal_expansion_organic_liquid = pd.read_excel('data/thermal_expansion_organic_liquid.xlsx')\n",
    "heat_capacity_organic_liquid = pd.read_excel('data/heat_capacity_organic_liquid.xlsx')\n",
    "thermal_conductivity_organic_liquid = pd.read_excel('data/thermal_conductivity_organic_liquid.xlsx')\n",
    "heat_vaporization_organic_liquid = pd.read_excel('data/heat_vaporization_organic_liquid.xlsx')\n",
    "vapor_pressure_organic_liquid = pd.read_excel('data/vapor_pressure_organic_liquid.xlsx')\n",
    "vicosity_organic_vapor = pd.read_excel('data/vicosity_organic_vapor.xlsx')\n",
    "\n",
    "exclude_list =['salts','name','formula','salt']\n",
    "#Поверхностное натяжение органических жидкостей [мДж/м^2]\n",
    "interfactial_tension_organic_liquid = dfс.delete_hyphens(interfactial_tension_organic_liquid,exclude_list)\n",
    "\n",
    "#Теплопроводность органических жидкостей [Вт/(м*K)]\n",
    "thermal_conductivity_organic_liquid = dfс.delete_hyphens(thermal_conductivity_organic_liquid,exclude_list)\n",
    "\n",
    "#Свойства водяного пара в состянии насыщения в зависимости от давления\n",
    "aqua_vapor_saturation_by_pressure = dfс.delete_hyphens(aqua_vapor_saturation_by_pressure,exclude_list)\n",
    "\n",
    "#Коэффициенты объемного теплового расширения органических жидкостей b*10^3, K^-1\n",
    "thermal_expansion_organic_liquid = dfс.delete_hyphens(thermal_expansion_organic_liquid,exclude_list)\n",
    "\n",
    "#Теплота парообразования органических жидкостей [кДж/кг]\n",
    "heat_vaporization_organic_liquid = dfс.delete_hyphens(heat_vaporization_organic_liquid,exclude_list)\n",
    "\n",
    "#Удельная  теплоемкость водных р-ров cp = cpAQ - w * (d1 - d2*w -d3e-3 *t^2)\n",
    "specific_heat_capacity_solution = dfс.delete_hyphens(specific_heat_capacity_solution,exclude_list)\n",
    "\n",
    "#Теплопроводность водных р-ров неорганических соединений lya = lyaAQ * (1 - f*w)\n",
    "thermal_conductivity_solutions = dfс.delete_hyphens(thermal_conductivity_solutions,exclude_list)\n",
    "\n",
    "#Давление насыщенного пара [мм.рт.ст.] над органической жидкостью\n",
    "vapor_pressure_organic_liquid = dfс.delete_hyphens(vapor_pressure_organic_liquid,exclude_list)\n",
    "\n",
    "#Удельная теплоемкость [Дж/(кг*K)] органических жидкостей\n",
    "heat_capacity_organic_liquid = dfс.delete_hyphens(heat_capacity_organic_liquid,exclude_list)\n",
    "\n",
    "#Концентрации насыщенных водных растворов неорганических веществ кг/кг при °С\n",
    "mass_concentration_solution = dfс.delete_hyphens(mass_concentration_solution,exclude_list)\n",
    "\n",
    "#Динамическая вязкость органических жидкостей [мПа*с]\n",
    "vicosity_organic_liquid = dfс.delete_hyphens(vicosity_organic_liquid,exclude_list)\n",
    "\n",
    "#Плотность органических жидкостей [кг/м^3]\n",
    "density_organic_liquid = dfс.delete_hyphens(density_organic_liquid,exclude_list)\n",
    "\n",
    "#Температуры кипения водных растворов неорганических веществ при н.у.\n",
    "boiling_point_solution = dfс.delete_hyphens(boiling_point_solution,exclude_list)\n",
    "\n",
    "#Физические свойства воды на линии насыщения\n",
    "aqua_liquid_saturation = dfс.delete_hyphens(aqua_liquid_saturation,exclude_list)\n",
    "\n",
    "#Вязкость паров органических веществ [мкПа*с]\n",
    "vicosity_organic_vapor = dfс.delete_hyphens(vicosity_organic_vapor,exclude_list)\n",
    "\n",
    "#Свойства водяного пара в состянии насыщения в зависимости от температуры\n",
    "aqua_vapor_saturation = dfс.delete_hyphens(aqua_vapor_saturation,exclude_list)\n",
    "\n",
    "#Вязкость водных растворов неорганических веществ u = uaq*exp^[w(b1 + b2e-2 * t - b3e-7 * t^2)]\n",
    "vicosity_solution = dfс.delete_hyphens(vicosity_solution,exclude_list)\n",
    "\n",
    "#Плотность водных растворов p = paq*exp^[w*(a1 + a2e-4 * t - a3e-6 * t^2)], w[кг/кг], t[°C], p[кг/м^3], u[Па*c]\n",
    "density_solution = dfс.delete_hyphens(density_solution,exclude_list)\n",
    "\n",
    "#Основные характеристики органических веществ\n",
    "ph_organic = dfс.delete_hyphens(ph_organic,exclude_list)\n",
    "\n",
    "#Свойства газов при н.у.\n",
    "ph_gases = dfс.delete_hyphens(ph_gases,exclude_list)\n",
    "#am = delete_hyphens(am)\n",
    "\n",
    "class Сomponent():\n",
    "                \n",
    "    def __init__(self, name):        \n",
    "        self.interfactial_tension_organic_liquid = interfactial_tension_organic_liquid[interfactial_tension_organic_liquid['name'] == name].drop('name', axis=1)\n",
    "        self.thermal_conductivity_organic_liquid = thermal_conductivity_organic_liquid[thermal_conductivity_organic_liquid['name'] == name].drop('name', axis=1)\n",
    "        self.thermal_expansion_organic_liquid = thermal_expansion_organic_liquid[thermal_expansion_organic_liquid['name'] == name].drop('name', axis=1)\n",
    "        self.heat_vaporization_organic_liquid = heat_vaporization_organic_liquid[heat_vaporization_organic_liquid['name'] == name].drop('name', axis=1)        \n",
    "        self.vapor_pressure_organic_liquid = vapor_pressure_organic_liquid[vapor_pressure_organic_liquid['name'] == name].drop('name', axis=1)\n",
    "        self.heat_capacity_organic_liquid = heat_capacity_organic_liquid[heat_capacity_organic_liquid['name'] == name].drop('name', axis=1)\n",
    "        self.vicosity_organic_liquid = vicosity_organic_liquid[vicosity_organic_liquid['name'] == name].drop('name', axis=1)\n",
    "        self.vicosity_organic_liquid = vicosity_organic_liquid[vicosity_organic_liquid['name'] == name].drop('name', axis=1)\n",
    "        self.density_organic_liquid = density_organic_liquid[density_organic_liquid['name'] == name].drop('name', axis=1)\n",
    "        self.vicosity_organic_vapor = vicosity_organic_vapor[vicosity_organic_vapor['name'] == name].drop('name', axis=1)\n",
    "        self.ph_organic = ph_organic[ph_organic['name'] == name]\n",
    "\n",
    "def get_all_diagrams():\n",
    "    def filter_diagrams(diagram):\n",
    "        exclude_list = ['H2O', 'H2O_p', 'HCl']\n",
    "        for substance in exclude_list:\n",
    "            if substance in diagram:\n",
    "                return False\n",
    "        return True\n",
    "\n",
    "    file_list = [file_name[:-5] for file_name in glob.glob('*.xlsx', root_dir='l_v')]\n",
    "    diagrams_list = [[file_name[0:file_name.find('-')],file_name[file_name.find('-')+1:]] for file_name in file_list]\n",
    "    diagrams = list(filter(filter_diagrams, diagrams_list))\n",
    "\n",
    "    return diagrams\n",
    "diagrams = get_all_diagrams()\n",
    "\n",
    "def get_diagrams_options():\n",
    "    diagrams_labels = []\n",
    "    diagrams_values = []\n",
    "    for diagram in diagrams:\n",
    "        diagrams_values.append(\n",
    "            diagram[0] + '-' + diagram[1])\n",
    "        diagrams_labels.append(\n",
    "            str(*ph_organic[ph_organic['formula'] == diagram[0]]['name'].values)\n",
    "            +'-'\n",
    "            +str(*ph_organic[ph_organic['formula'] == diagram[1]]['name'].values))\n",
    "    return diagrams_labels, diagrams_values\n",
    "diagrams_labels, diagrams_values = get_diagrams_options()\n",
    "\n",
    "\n",
    "\n",
    "Substance = {'A':Сomponent(name='Метанол'), 'B':Сomponent(name='Этанол')}\n",
    "A_name = Substance['A'].ph_organic['formula'].values\n",
    "B_name = Substance['B'].ph_organic['formula'].values\n",
    "\n",
    "diagram = pd.read_excel('l_v/CH3OH-CH3CH2OH.xlsx')\n",
    "\n",
    "if diagram['x'].values.max() > 1:\n",
    "    diagram['x'] = diagram['x']/100\n",
    "    \n",
    "if diagram['y'].values.max() > 1:\n",
    "    diagram['y'] = diagram['y']/100\n",
    "    \n",
    "diagram.sort_values(by = ['t'], ascending=False,ignore_index=True, inplace=True)\n",
    "xy_diagram = dfс.get_coeffs(diagram['x'], diagram['y'])\n",
    "\n",
    "\n",
    "F = np.double(5)                  #Производительность по исходной смеси кг/с\n",
    "FEED_TEMPERATURE = np.double(20)  #Начальная температура\n",
    "FEED = np.double(0.35)            #В исходной смеси %масс Ллт \n",
    "DISTILLATE = np.double(0.98)      #В дистилляте(ректификате) %масс \n",
    "BOTTOM = np.double(0.017)         #В кубовом остатке %масс ллт\n",
    "PRESSURE = np.double(10**5)       #Давление в колонне в Па. Влияет на коэфф. диффузии пара в колонне\n",
    "\n",
    "diagram_fig = figures.plot_xy_diagram(diagram, A_name, plot_type='plotly')\n",
    "balance = clc.material_balance(F, FEED, DISTILLATE, BOTTOM, xy_diagram, Substance)\n",
    "\n",
    "phlegm_number_fig, R, Ngraf = clc.get_range_phlegm_number(\n",
    "    balance['yf'],\n",
    "    balance['xw'],\n",
    "    balance['xf'],\n",
    "    balance['xp'],\n",
    "    balance['Rmin'],\n",
    "    xy_diagram,\n",
    "    diagram,\n",
    "    Bt_range=20,#изменяемый параметр\n",
    "    plot_type='plotly')\n",
    "\n",
    "Ropt_fig, Ropt = clc.get_optimal_phlegm_number(R, Ngraf, plot_type='plotly')\n",
    "properties = clc.calculate_properties(diagram, balance, Substance)\n",
    "transfer_numbers_fig, bottom, top = clc.get_transfer_numbers(balance, Ropt, xy_diagram, plot_type='plotly')\n",
    "diameter = clc.calculate_diameter(balance, Ropt, properties, filling_name='50x50x5')\n",
    "\n",
    "height = clc.calculate_hight(\n",
    "    balance,\n",
    "    properties,\n",
    "    diameter,\n",
    "    xy_diagram,\n",
    "    bottom,\n",
    "    top,\n",
    "    Substance,\n",
    "    Ropt,\n",
    "    PRESSURE,\n",
    "    filling_name='50x50x5')\n",
    "\n",
    "thermal_balance = clc.calculate_thermal_balance(balance, properties, Ropt)\n",
    "\n",
    "\n",
    "\n",
    "#выпадающие списки\n",
    "properties_dropdown = dcc.Dropdown(\n",
    "    id='properties-dropdown',\n",
    "    options=[{'label':column, 'value':column} for column in properties.columns],\n",
    "    value=list(properties.columns[0:7]),\n",
    "    multi=True)\n",
    "\n",
    "diagrams_dropdown = dcc.Dropdown(\n",
    "    id='diagrams-dropdown',\n",
    "    options=[{'label':label, 'value':value} for label,value in list(zip(diagrams_labels, diagrams_values))],\n",
    "    value=diagrams_values[0])\n",
    "\n",
    "#слайдеры\n",
    "substance_slider = dcc.RangeSlider(\n",
    "    id='substance-slider',\n",
    "    min=0, \n",
    "    max=1, \n",
    "    marks=None, \n",
    "    value=[0.017, 0.35, 0.98])\n",
    "\n",
    "\n",
    "filling_layout = html.Div([    \n",
    "    dbc.Row([dbc.Col([html.Div('Выберите бинарную смесь '),\n",
    "                      html.Div(diagrams_dropdown)], width=3),\n",
    "            dbc.Col([html.Div('Задайте чистоту продукта и исходную смесь'),\n",
    "                      html.Div(substance_slider)], width=5)]),\n",
    "    dbc.Row(dbc.Col([html.Div(id='diagram-table')], width=3)),\n",
    "    dbc.Row([dbc.Col([html.Div('Выберите физико-химические свойства веществ для таблицы ниже: '),\n",
    "                      html.Div(properties_dropdown)], width=6),\n",
    "             dbc.Col()]),\n",
    "    dbc.Row(dbc.Col([html.Div(id='properties-table')], width=8)),\n",
    "    ],\n",
    "    style={'margin-left': '10px',\n",
    "           'margin-right': '10px'}\n",
    ")\n",
    "\n",
    "@app.callback(\n",
    "    Output(component_id='properties-table', component_property='children'),\n",
    "    Input(component_id='properties-dropdown', component_property='value')\n",
    ")\n",
    "def create_preperties_table(properties_list):\n",
    "    return dbc.Table.from_dataframe(round(properties[properties_list], 3), index=True)\n",
    "\n",
    "@app.callback(\n",
    "    Output(component_id='diagram-table', component_property='children'),\n",
    "    Input(component_id='diagrams-dropdown', component_property='value')\n",
    ")\n",
    "def get_diagram(substances, call='auto'):\n",
    "    \n",
    "    def ends(df, x=5):\n",
    "        return pd.concat([df.head(x), df.tail(x)])\n",
    "    \n",
    "    path = 'l_v/'+substances+'.xlsx'\n",
    "    diagram = pd.read_excel(path)\n",
    "\n",
    "    if diagram['x'].values.max() > 1:\n",
    "        diagram['x'] = diagram['x']/100\n",
    "        \n",
    "    if diagram['y'].values.max() > 1:\n",
    "        diagram['y'] = diagram['y']/100\n",
    "        \n",
    "    diagram.sort_values(by = ['t'], ascending=False,ignore_index=True, inplace=True)\n",
    "    if call != 'auto':\n",
    "        return diagram\n",
    "    return dbc.Table.from_dataframe(df=round(ends(diagram),2), index=True)\n",
    "\n",
    "\n"
   ]
  },
  {
   "cell_type": "code",
   "execution_count": 6,
   "metadata": {},
   "outputs": [
    {
     "data": {
      "application/vnd.plotly.v1+json": {
       "config": {
        "plotlyServerURL": "https://plot.ly"
       },
       "data": [
        {
         "line": {
          "color": "rgb(0, 77, 153)",
          "width": 3
         },
         "mode": "lines+markers",
         "name": "жидкая фаза",
         "type": "scatter",
         "x": [
          0,
          0.0471,
          0.08,
          0.0962,
          0.1045,
          0.1362,
          0.1442,
          0.1723,
          0.205,
          0.2568,
          0.2625,
          0.289,
          0.2925,
          0.3265,
          0.382,
          0.3845,
          0.39399999999999996,
          0.4168,
          0.4228,
          0.45,
          0.4825,
          0.4982,
          0.5519,
          0.588,
          0.601,
          0.6358,
          0.6559,
          0.6816,
          0.7192000000000001,
          0.7558,
          0.785,
          0.8078,
          0.83,
          0.8367,
          0.879,
          0.905,
          0.9470000000000001,
          0.9793999999999999,
          0.995
         ],
         "xaxis": "x",
         "y": [
          110.6,
          109.04,
          107.9,
          107.41,
          106.5,
          105.5,
          105,
          104.52,
          102.39,
          99.96,
          99.75,
          98.72,
          98.6,
          97.48,
          95.54,
          95.17,
          94.89,
          94.58,
          93.55,
          91.96,
          91.85,
          90.86,
          88.97,
          87.45,
          87.2,
          86.04,
          85.56,
          84.86,
          83.95,
          82.92,
          81.95,
          81.22,
          80.74,
          79.95,
          79.43,
          79.2,
          77.95,
          77.43,
          77.03
         ],
         "yaxis": "y"
        },
        {
         "line": {
          "color": "rgb(41, 163, 41)",
          "width": 3
         },
         "mode": "lines+markers",
         "name": "паровая фаза",
         "type": "scatter",
         "x": [
          0,
          0.1005,
          0.165,
          0.1918,
          0.21420000000000003,
          0.2822,
          0.29600000000000004,
          0.3225,
          0.3741,
          0.4685,
          0.4765,
          0.4982,
          0.504,
          0.5398,
          0.5925,
          0.6,
          0.6045,
          0.6282,
          0.6428,
          0.6659,
          0.6965,
          0.711,
          0.7552,
          0.7809999999999999,
          0.7878000000000001,
          0.8051999999999999,
          0.818,
          0.84,
          0.8690000000000001,
          0.8765000000000001,
          0.8985,
          0.905,
          0.9179999999999999,
          0.9185,
          0.934,
          0.956,
          0.981,
          0.9921,
          0.997
         ],
         "xaxis": "x",
         "y": [
          110.6,
          109.04,
          107.9,
          107.41,
          106.5,
          105.5,
          105,
          104.52,
          102.39,
          99.96,
          99.75,
          98.72,
          98.6,
          97.48,
          95.54,
          95.17,
          94.89,
          94.58,
          93.55,
          91.96,
          91.85,
          90.86,
          88.97,
          87.45,
          87.2,
          86.04,
          85.56,
          84.86,
          83.95,
          82.92,
          81.95,
          81.22,
          80.74,
          79.95,
          79.43,
          79.2,
          77.95,
          77.43,
          77.03
         ],
         "yaxis": "y"
        },
        {
         "line": {
          "color": "red",
          "width": 0.7
         },
         "mode": "lines",
         "name": "аппроксимация жидкой фазы",
         "type": "scatter",
         "x": [
          0,
          0.0471,
          0.08,
          0.0962,
          0.1045,
          0.1362,
          0.1442,
          0.1723,
          0.205,
          0.2568,
          0.2625,
          0.289,
          0.2925,
          0.3265,
          0.382,
          0.3845,
          0.39399999999999996,
          0.4168,
          0.4228,
          0.45,
          0.4825,
          0.4982,
          0.5519,
          0.588,
          0.601,
          0.6358,
          0.6559,
          0.6816,
          0.7192000000000001,
          0.7558,
          0.785,
          0.8078,
          0.83,
          0.8367,
          0.879,
          0.905,
          0.9470000000000001,
          0.9793999999999999,
          0.995
         ],
         "xaxis": "x",
         "y": [
          110.61162366800791,
          109.0906593440169,
          107.82963717348909,
          107.17002575112386,
          106.82484341919081,
          105.47486964264372,
          105.12876106505942,
          103.90516632947083,
          102.48025003694737,
          100.25741081905407,
          100.01681841843859,
          98.91071735828213,
          98.76621872612324,
          97.38248928932836,
          95.20081965030201,
          95.10470305608158,
          94.74107369950107,
          93.8784782306849,
          93.65377244249737,
          92.64649808958417,
          91.46613995140258,
          90.90452971501995,
          89.02473318966902,
          87.79777988971166,
          87.36371569066694,
          86.22399319185227,
          85.5817944425158,
          84.77976965678434,
          83.6493567444302,
          82.60382947005255,
          81.8119789849917,
          81.22088383074765,
          80.66832682864676,
          80.50593479693458,
          79.52420126851885,
          78.95277486161461,
          78.06046695432934,
          77.37275398244326,
          77.03220033984066
         ],
         "yaxis": "y"
        },
        {
         "line": {
          "color": "blue",
          "width": 0.7
         },
         "mode": "lines",
         "name": "аппроксимация паровой фазы",
         "type": "scatter",
         "x": [
          0,
          0.1005,
          0.165,
          0.1918,
          0.21420000000000003,
          0.2822,
          0.29600000000000004,
          0.3225,
          0.3741,
          0.4685,
          0.4765,
          0.4982,
          0.504,
          0.5398,
          0.5925,
          0.6,
          0.6045,
          0.6282,
          0.6428,
          0.6659,
          0.6965,
          0.711,
          0.7552,
          0.7809999999999999,
          0.7878000000000001,
          0.8051999999999999,
          0.818,
          0.84,
          0.8690000000000001,
          0.8765000000000001,
          0.8985,
          0.905,
          0.9179999999999999,
          0.9185,
          0.934,
          0.956,
          0.981,
          0.9921,
          0.997
         ],
         "xaxis": "x",
         "y": [
          110.62243472106701,
          108.93987404995974,
          107.86434642796465,
          107.35676285027172,
          106.89897070712591,
          105.31779446609889,
          104.96343659749132,
          104.25442753639817,
          102.77856470987243,
          99.822977019035,
          99.5598264720431,
          98.83657972473476,
          98.64090408294551,
          97.41000678752799,
          95.5169201117574,
          95.23849448305691,
          95.07024948341373,
          94.16860302723613,
          93.59929386903327,
          92.6750674936945,
          91.40286214380086,
          90.77974587329864,
          88.79632037460802,
          87.58050676464246,
          87.25329778597289,
          86.40414212286575,
          85.76949173493665,
          84.66233015993767,
          83.18242029436315,
          82.79829846255754,
          81.67549589230089,
          81.34640282196862,
          80.6945405421591,
          80.66967568326959,
          79.9086815226524,
          78.87205365562416,
          77.78501913106514,
          77.34402660271596,
          77.1591538105288
         ],
         "yaxis": "y"
        },
        {
         "line": {
          "color": "rgb(0, 77, 153)",
          "width": 2
         },
         "mode": "lines+markers",
         "name": "x-y диаграмма",
         "type": "scatter",
         "x": [
          0,
          0.0471,
          0.08,
          0.0962,
          0.1045,
          0.1362,
          0.1442,
          0.1723,
          0.205,
          0.2568,
          0.2625,
          0.289,
          0.2925,
          0.3265,
          0.382,
          0.3845,
          0.39399999999999996,
          0.4168,
          0.4228,
          0.45,
          0.4825,
          0.4982,
          0.5519,
          0.588,
          0.601,
          0.6358,
          0.6559,
          0.6816,
          0.7192000000000001,
          0.7558,
          0.785,
          0.8078,
          0.83,
          0.8367,
          0.879,
          0.905,
          0.9470000000000001,
          0.9793999999999999,
          0.995
         ],
         "xaxis": "x2",
         "y": [
          0,
          0.1005,
          0.165,
          0.1918,
          0.21420000000000003,
          0.2822,
          0.29600000000000004,
          0.3225,
          0.3741,
          0.4685,
          0.4765,
          0.4982,
          0.504,
          0.5398,
          0.5925,
          0.6,
          0.6045,
          0.6282,
          0.6428,
          0.6659,
          0.6965,
          0.711,
          0.7552,
          0.7809999999999999,
          0.7878000000000001,
          0.8051999999999999,
          0.818,
          0.84,
          0.8690000000000001,
          0.8765000000000001,
          0.8985,
          0.905,
          0.9179999999999999,
          0.9185,
          0.934,
          0.956,
          0.981,
          0.9921,
          0.997
         ],
         "yaxis": "y2"
        },
        {
         "line": {
          "color": "red",
          "width": 0.7
         },
         "mode": "lines",
         "name": "аппроксимация x-y диаграммы",
         "type": "scatter",
         "x": [
          0,
          0.0471,
          0.08,
          0.0962,
          0.1045,
          0.1362,
          0.1442,
          0.1723,
          0.205,
          0.2568,
          0.2625,
          0.289,
          0.2925,
          0.3265,
          0.382,
          0.3845,
          0.39399999999999996,
          0.4168,
          0.4228,
          0.45,
          0.4825,
          0.4982,
          0.5519,
          0.588,
          0.601,
          0.6358,
          0.6559,
          0.6816,
          0.7192000000000001,
          0.7558,
          0.785,
          0.8078,
          0.83,
          0.8367,
          0.879,
          0.905,
          0.9470000000000001,
          0.9793999999999999,
          0.995
         ],
         "xaxis": "x2",
         "y": [
          -0.001978053808794214,
          0.10069043278865823,
          0.16781885286213866,
          0.1993472122789006,
          0.21509931659804285,
          0.27273345716597486,
          0.2866457438811097,
          0.3335211745616974,
          0.38428327359855535,
          0.4569612574064689,
          0.4644234839699146,
          0.49784068079754407,
          0.5021036750240152,
          0.5418258628165454,
          0.600844013051467,
          0.6033533261539115,
          0.6127824806371499,
          0.6347593542849419,
          0.6403975991282885,
          0.6652549780103069,
          0.6935651918490954,
          0.706742888374785,
          0.7495591665599192,
          0.7764725660440447,
          0.7858019356751166,
          0.8098211918101936,
          0.8230503762752363,
          0.8392636203802154,
          0.8615457107446906,
          0.8816101346075467,
          0.8965377920623849,
          0.907607971455294,
          0.9179869838672091,
          0.9210589460366266,
          0.9401491080073824,
          0.9520313959178873,
          0.9727708894509658,
          0.99145234116391,
          1.0017636685105966
         ],
         "yaxis": "y2"
        },
        {
         "line": {
          "color": "grey",
          "width": 1
         },
         "mode": "lines+markers",
         "name": "линия нулевого разделения",
         "type": "scatter",
         "x": [
          0,
          1
         ],
         "xaxis": "x2",
         "y": [
          0,
          1
         ],
         "yaxis": "y2"
        }
       ],
       "layout": {
        "autosize": false,
        "margin": {
         "b": 2,
         "l": 20,
         "r": 5,
         "t": 20
        },
        "plot_bgcolor": "white",
        "showlegend": false,
        "template": {
         "data": {
          "bar": [
           {
            "error_x": {
             "color": "#2a3f5f"
            },
            "error_y": {
             "color": "#2a3f5f"
            },
            "marker": {
             "line": {
              "color": "#E5ECF6",
              "width": 0.5
             },
             "pattern": {
              "fillmode": "overlay",
              "size": 10,
              "solidity": 0.2
             }
            },
            "type": "bar"
           }
          ],
          "barpolar": [
           {
            "marker": {
             "line": {
              "color": "#E5ECF6",
              "width": 0.5
             },
             "pattern": {
              "fillmode": "overlay",
              "size": 10,
              "solidity": 0.2
             }
            },
            "type": "barpolar"
           }
          ],
          "carpet": [
           {
            "aaxis": {
             "endlinecolor": "#2a3f5f",
             "gridcolor": "white",
             "linecolor": "white",
             "minorgridcolor": "white",
             "startlinecolor": "#2a3f5f"
            },
            "baxis": {
             "endlinecolor": "#2a3f5f",
             "gridcolor": "white",
             "linecolor": "white",
             "minorgridcolor": "white",
             "startlinecolor": "#2a3f5f"
            },
            "type": "carpet"
           }
          ],
          "choropleth": [
           {
            "colorbar": {
             "outlinewidth": 0,
             "ticks": ""
            },
            "type": "choropleth"
           }
          ],
          "contour": [
           {
            "colorbar": {
             "outlinewidth": 0,
             "ticks": ""
            },
            "colorscale": [
             [
              0,
              "#0d0887"
             ],
             [
              0.1111111111111111,
              "#46039f"
             ],
             [
              0.2222222222222222,
              "#7201a8"
             ],
             [
              0.3333333333333333,
              "#9c179e"
             ],
             [
              0.4444444444444444,
              "#bd3786"
             ],
             [
              0.5555555555555556,
              "#d8576b"
             ],
             [
              0.6666666666666666,
              "#ed7953"
             ],
             [
              0.7777777777777778,
              "#fb9f3a"
             ],
             [
              0.8888888888888888,
              "#fdca26"
             ],
             [
              1,
              "#f0f921"
             ]
            ],
            "type": "contour"
           }
          ],
          "contourcarpet": [
           {
            "colorbar": {
             "outlinewidth": 0,
             "ticks": ""
            },
            "type": "contourcarpet"
           }
          ],
          "heatmap": [
           {
            "colorbar": {
             "outlinewidth": 0,
             "ticks": ""
            },
            "colorscale": [
             [
              0,
              "#0d0887"
             ],
             [
              0.1111111111111111,
              "#46039f"
             ],
             [
              0.2222222222222222,
              "#7201a8"
             ],
             [
              0.3333333333333333,
              "#9c179e"
             ],
             [
              0.4444444444444444,
              "#bd3786"
             ],
             [
              0.5555555555555556,
              "#d8576b"
             ],
             [
              0.6666666666666666,
              "#ed7953"
             ],
             [
              0.7777777777777778,
              "#fb9f3a"
             ],
             [
              0.8888888888888888,
              "#fdca26"
             ],
             [
              1,
              "#f0f921"
             ]
            ],
            "type": "heatmap"
           }
          ],
          "heatmapgl": [
           {
            "colorbar": {
             "outlinewidth": 0,
             "ticks": ""
            },
            "colorscale": [
             [
              0,
              "#0d0887"
             ],
             [
              0.1111111111111111,
              "#46039f"
             ],
             [
              0.2222222222222222,
              "#7201a8"
             ],
             [
              0.3333333333333333,
              "#9c179e"
             ],
             [
              0.4444444444444444,
              "#bd3786"
             ],
             [
              0.5555555555555556,
              "#d8576b"
             ],
             [
              0.6666666666666666,
              "#ed7953"
             ],
             [
              0.7777777777777778,
              "#fb9f3a"
             ],
             [
              0.8888888888888888,
              "#fdca26"
             ],
             [
              1,
              "#f0f921"
             ]
            ],
            "type": "heatmapgl"
           }
          ],
          "histogram": [
           {
            "marker": {
             "pattern": {
              "fillmode": "overlay",
              "size": 10,
              "solidity": 0.2
             }
            },
            "type": "histogram"
           }
          ],
          "histogram2d": [
           {
            "colorbar": {
             "outlinewidth": 0,
             "ticks": ""
            },
            "colorscale": [
             [
              0,
              "#0d0887"
             ],
             [
              0.1111111111111111,
              "#46039f"
             ],
             [
              0.2222222222222222,
              "#7201a8"
             ],
             [
              0.3333333333333333,
              "#9c179e"
             ],
             [
              0.4444444444444444,
              "#bd3786"
             ],
             [
              0.5555555555555556,
              "#d8576b"
             ],
             [
              0.6666666666666666,
              "#ed7953"
             ],
             [
              0.7777777777777778,
              "#fb9f3a"
             ],
             [
              0.8888888888888888,
              "#fdca26"
             ],
             [
              1,
              "#f0f921"
             ]
            ],
            "type": "histogram2d"
           }
          ],
          "histogram2dcontour": [
           {
            "colorbar": {
             "outlinewidth": 0,
             "ticks": ""
            },
            "colorscale": [
             [
              0,
              "#0d0887"
             ],
             [
              0.1111111111111111,
              "#46039f"
             ],
             [
              0.2222222222222222,
              "#7201a8"
             ],
             [
              0.3333333333333333,
              "#9c179e"
             ],
             [
              0.4444444444444444,
              "#bd3786"
             ],
             [
              0.5555555555555556,
              "#d8576b"
             ],
             [
              0.6666666666666666,
              "#ed7953"
             ],
             [
              0.7777777777777778,
              "#fb9f3a"
             ],
             [
              0.8888888888888888,
              "#fdca26"
             ],
             [
              1,
              "#f0f921"
             ]
            ],
            "type": "histogram2dcontour"
           }
          ],
          "mesh3d": [
           {
            "colorbar": {
             "outlinewidth": 0,
             "ticks": ""
            },
            "type": "mesh3d"
           }
          ],
          "parcoords": [
           {
            "line": {
             "colorbar": {
              "outlinewidth": 0,
              "ticks": ""
             }
            },
            "type": "parcoords"
           }
          ],
          "pie": [
           {
            "automargin": true,
            "type": "pie"
           }
          ],
          "scatter": [
           {
            "fillpattern": {
             "fillmode": "overlay",
             "size": 10,
             "solidity": 0.2
            },
            "type": "scatter"
           }
          ],
          "scatter3d": [
           {
            "line": {
             "colorbar": {
              "outlinewidth": 0,
              "ticks": ""
             }
            },
            "marker": {
             "colorbar": {
              "outlinewidth": 0,
              "ticks": ""
             }
            },
            "type": "scatter3d"
           }
          ],
          "scattercarpet": [
           {
            "marker": {
             "colorbar": {
              "outlinewidth": 0,
              "ticks": ""
             }
            },
            "type": "scattercarpet"
           }
          ],
          "scattergeo": [
           {
            "marker": {
             "colorbar": {
              "outlinewidth": 0,
              "ticks": ""
             }
            },
            "type": "scattergeo"
           }
          ],
          "scattergl": [
           {
            "marker": {
             "colorbar": {
              "outlinewidth": 0,
              "ticks": ""
             }
            },
            "type": "scattergl"
           }
          ],
          "scattermapbox": [
           {
            "marker": {
             "colorbar": {
              "outlinewidth": 0,
              "ticks": ""
             }
            },
            "type": "scattermapbox"
           }
          ],
          "scatterpolar": [
           {
            "marker": {
             "colorbar": {
              "outlinewidth": 0,
              "ticks": ""
             }
            },
            "type": "scatterpolar"
           }
          ],
          "scatterpolargl": [
           {
            "marker": {
             "colorbar": {
              "outlinewidth": 0,
              "ticks": ""
             }
            },
            "type": "scatterpolargl"
           }
          ],
          "scatterternary": [
           {
            "marker": {
             "colorbar": {
              "outlinewidth": 0,
              "ticks": ""
             }
            },
            "type": "scatterternary"
           }
          ],
          "surface": [
           {
            "colorbar": {
             "outlinewidth": 0,
             "ticks": ""
            },
            "colorscale": [
             [
              0,
              "#0d0887"
             ],
             [
              0.1111111111111111,
              "#46039f"
             ],
             [
              0.2222222222222222,
              "#7201a8"
             ],
             [
              0.3333333333333333,
              "#9c179e"
             ],
             [
              0.4444444444444444,
              "#bd3786"
             ],
             [
              0.5555555555555556,
              "#d8576b"
             ],
             [
              0.6666666666666666,
              "#ed7953"
             ],
             [
              0.7777777777777778,
              "#fb9f3a"
             ],
             [
              0.8888888888888888,
              "#fdca26"
             ],
             [
              1,
              "#f0f921"
             ]
            ],
            "type": "surface"
           }
          ],
          "table": [
           {
            "cells": {
             "fill": {
              "color": "#EBF0F8"
             },
             "line": {
              "color": "white"
             }
            },
            "header": {
             "fill": {
              "color": "#C8D4E3"
             },
             "line": {
              "color": "white"
             }
            },
            "type": "table"
           }
          ]
         },
         "layout": {
          "annotationdefaults": {
           "arrowcolor": "#2a3f5f",
           "arrowhead": 0,
           "arrowwidth": 1
          },
          "autotypenumbers": "strict",
          "coloraxis": {
           "colorbar": {
            "outlinewidth": 0,
            "ticks": ""
           }
          },
          "colorscale": {
           "diverging": [
            [
             0,
             "#8e0152"
            ],
            [
             0.1,
             "#c51b7d"
            ],
            [
             0.2,
             "#de77ae"
            ],
            [
             0.3,
             "#f1b6da"
            ],
            [
             0.4,
             "#fde0ef"
            ],
            [
             0.5,
             "#f7f7f7"
            ],
            [
             0.6,
             "#e6f5d0"
            ],
            [
             0.7,
             "#b8e186"
            ],
            [
             0.8,
             "#7fbc41"
            ],
            [
             0.9,
             "#4d9221"
            ],
            [
             1,
             "#276419"
            ]
           ],
           "sequential": [
            [
             0,
             "#0d0887"
            ],
            [
             0.1111111111111111,
             "#46039f"
            ],
            [
             0.2222222222222222,
             "#7201a8"
            ],
            [
             0.3333333333333333,
             "#9c179e"
            ],
            [
             0.4444444444444444,
             "#bd3786"
            ],
            [
             0.5555555555555556,
             "#d8576b"
            ],
            [
             0.6666666666666666,
             "#ed7953"
            ],
            [
             0.7777777777777778,
             "#fb9f3a"
            ],
            [
             0.8888888888888888,
             "#fdca26"
            ],
            [
             1,
             "#f0f921"
            ]
           ],
           "sequentialminus": [
            [
             0,
             "#0d0887"
            ],
            [
             0.1111111111111111,
             "#46039f"
            ],
            [
             0.2222222222222222,
             "#7201a8"
            ],
            [
             0.3333333333333333,
             "#9c179e"
            ],
            [
             0.4444444444444444,
             "#bd3786"
            ],
            [
             0.5555555555555556,
             "#d8576b"
            ],
            [
             0.6666666666666666,
             "#ed7953"
            ],
            [
             0.7777777777777778,
             "#fb9f3a"
            ],
            [
             0.8888888888888888,
             "#fdca26"
            ],
            [
             1,
             "#f0f921"
            ]
           ]
          },
          "colorway": [
           "#636efa",
           "#EF553B",
           "#00cc96",
           "#ab63fa",
           "#FFA15A",
           "#19d3f3",
           "#FF6692",
           "#B6E880",
           "#FF97FF",
           "#FECB52"
          ],
          "font": {
           "color": "#2a3f5f"
          },
          "geo": {
           "bgcolor": "white",
           "lakecolor": "white",
           "landcolor": "#E5ECF6",
           "showlakes": true,
           "showland": true,
           "subunitcolor": "white"
          },
          "hoverlabel": {
           "align": "left"
          },
          "hovermode": "closest",
          "mapbox": {
           "style": "light"
          },
          "paper_bgcolor": "white",
          "plot_bgcolor": "#E5ECF6",
          "polar": {
           "angularaxis": {
            "gridcolor": "white",
            "linecolor": "white",
            "ticks": ""
           },
           "bgcolor": "#E5ECF6",
           "radialaxis": {
            "gridcolor": "white",
            "linecolor": "white",
            "ticks": ""
           }
          },
          "scene": {
           "xaxis": {
            "backgroundcolor": "#E5ECF6",
            "gridcolor": "white",
            "gridwidth": 2,
            "linecolor": "white",
            "showbackground": true,
            "ticks": "",
            "zerolinecolor": "white"
           },
           "yaxis": {
            "backgroundcolor": "#E5ECF6",
            "gridcolor": "white",
            "gridwidth": 2,
            "linecolor": "white",
            "showbackground": true,
            "ticks": "",
            "zerolinecolor": "white"
           },
           "zaxis": {
            "backgroundcolor": "#E5ECF6",
            "gridcolor": "white",
            "gridwidth": 2,
            "linecolor": "white",
            "showbackground": true,
            "ticks": "",
            "zerolinecolor": "white"
           }
          },
          "shapedefaults": {
           "line": {
            "color": "#2a3f5f"
           }
          },
          "ternary": {
           "aaxis": {
            "gridcolor": "white",
            "linecolor": "white",
            "ticks": ""
           },
           "baxis": {
            "gridcolor": "white",
            "linecolor": "white",
            "ticks": ""
           },
           "bgcolor": "#E5ECF6",
           "caxis": {
            "gridcolor": "white",
            "linecolor": "white",
            "ticks": ""
           }
          },
          "title": {
           "x": 0.05
          },
          "xaxis": {
           "automargin": true,
           "gridcolor": "white",
           "linecolor": "white",
           "ticks": "",
           "title": {
            "standoff": 15
           },
           "zerolinecolor": "white",
           "zerolinewidth": 2
          },
          "yaxis": {
           "automargin": true,
           "gridcolor": "white",
           "linecolor": "white",
           "ticks": "",
           "title": {
            "standoff": 15
           },
           "zerolinecolor": "white",
           "zerolinewidth": 2
          }
         }
        },
        "xaxis": {
         "anchor": "y",
         "domain": [
          0,
          0.45
         ],
         "gridcolor": "rgb(105,105,105)",
         "griddash": "1px",
         "linecolor": "black",
         "linewidth": 2,
         "mirror": true,
         "range": [
          -0.05,
          1.05
         ],
         "showline": true,
         "ticks": "inside",
         "title": {
          "text": "мольная доля C6H5CH3-CCl4"
         },
         "zeroline": false
        },
        "xaxis2": {
         "anchor": "y2",
         "domain": [
          0.55,
          1
         ],
         "gridcolor": "rgb(105,105,105)",
         "griddash": "1px",
         "linecolor": "black",
         "linewidth": 2,
         "mirror": true,
         "range": [
          -0.05,
          1.05
         ],
         "showline": true,
         "ticks": "inside",
         "title": {
          "text": "мольная доля C6H5CH3-CCl4 в жидкости"
         },
         "zeroline": false
        },
        "yaxis": {
         "anchor": "x",
         "domain": [
          0,
          1
         ],
         "gridcolor": "rgb(105,105,105)",
         "griddash": "1px",
         "linecolor": "black",
         "linewidth": 2,
         "mirror": true,
         "range": [
          75.55533333333334,
          112.07466666666666
         ],
         "showline": true,
         "ticks": "inside",
         "title": {
          "text": "температура, °C"
         },
         "zeroline": false
        },
        "yaxis2": {
         "anchor": "x2",
         "domain": [
          0,
          1
         ],
         "gridcolor": "rgb(105,105,105)",
         "griddash": "1px",
         "linecolor": "black",
         "linewidth": 2,
         "mirror": true,
         "range": [
          -0.05,
          1.05
         ],
         "showline": true,
         "ticks": "inside",
         "title": {
          "text": "мольная доля C6H5CH3-CCl4 в паре"
         },
         "zeroline": false
        }
       }
      }
     },
     "metadata": {},
     "output_type": "display_data"
    }
   ],
   "source": [
    "figures.plot_xy_diagram(get_diagram(diagrams_dropdown.value, call='direct'), diagrams_dropdown.value, plot_type='plotly')"
   ]
  }
 ],
 "metadata": {
  "kernelspec": {
   "display_name": "Python 3",
   "language": "python",
   "name": "python3"
  },
  "language_info": {
   "codemirror_mode": {
    "name": "ipython",
    "version": 3
   },
   "file_extension": ".py",
   "mimetype": "text/x-python",
   "name": "python",
   "nbconvert_exporter": "python",
   "pygments_lexer": "ipython3",
   "version": "3.11.0 (main, Oct 24 2022, 18:26:48) [MSC v.1933 64 bit (AMD64)]"
  },
  "orig_nbformat": 4,
  "vscode": {
   "interpreter": {
    "hash": "45c3fc492d5cd59d9b7b8976291383a0a174889fce363176086771d08edc2534"
   }
  }
 },
 "nbformat": 4,
 "nbformat_minor": 2
}
