{
 "cells": [
  {
   "cell_type": "code",
   "execution_count": 1,
   "metadata": {},
   "outputs": [],
   "source": [
    "import pandas as pd\n",
    "pd.options.mode.chained_assignment = None  # default='warn'\n",
    "import numpy as np\n",
    "from matplotlib import pyplot as plt\n",
    "import scipy\n",
    "import plotly.express as px\n",
    "\n",
    "from column_functions import Calculations as clc\n",
    "from data_functions import DataFunctions as dfс\n",
    "from equipment_functions import Calculations as eq"
   ]
  },
  {
   "cell_type": "code",
   "execution_count": 2,
   "metadata": {},
   "outputs": [],
   "source": [
    "am = pd.read_excel('data/atomic_mass.xlsx')\n",
    "aqua_liquid_saturation = pd.read_excel('data/ph_H2O_saturation_liquid.xlsx')\n",
    "aqua_vapor_saturation = pd.read_excel('data/ph_H2O_saturation_gas.xlsx')\n",
    "aqua_vapor_saturation_by_pressure = pd.read_excel('data/ph_H2O_saturation_gas_by_pressure.xlsx')\n",
    "mass_concentration_solution = pd.read_excel('data/mass_concentration_solution.xlsx')\n",
    "boiling_point_solution = pd.read_excel('data/boiling_point_solution.xlsx')\n",
    "density_solution = pd.read_excel('data/density_solution.xlsx')\n",
    "vicosity_solution = pd.read_excel('data/vicosity_solution.xlsx')\n",
    "specific_heat_capacity_solution = pd.read_excel('data/heat_capacity_solution.xlsx')\n",
    "thermal_conductivity_solutions = pd.read_excel('data/thermal_conductivity_solutions.xlsx')\n",
    "ph_gases = pd.read_excel('data/ph_gases.xlsx')\n",
    "ph_organic = pd.read_excel('data/ph_organic.xlsx')\n",
    "density_organic_liquid = pd.read_excel('data/density_organic_liquid.xlsx')\n",
    "vicosity_organic_liquid = pd.read_excel('data/vicosity_organic_liquid.xlsx')\n",
    "interfactial_tension_organic_liquid = pd.read_excel('data/interfacial_tension_organic_liquid.xlsx')\n",
    "thermal_expansion_organic_liquid = pd.read_excel('data/thermal_expansion_organic_liquid.xlsx')\n",
    "heat_capacity_organic_liquid = pd.read_excel('data/heat_capacity_organic_liquid.xlsx')\n",
    "thermal_conductivity_organic_liquid = pd.read_excel('data/thermal_conductivity_organic_liquid.xlsx')\n",
    "heat_vaporization_organic_liquid = pd.read_excel('data/heat_vaporization_organic_liquid.xlsx')\n",
    "vapor_pressure_organic_liquid = pd.read_excel('data/vapor_pressure_organic_liquid.xlsx')\n",
    "vicosity_organic_vapor = pd.read_excel('data/vicosity_organic_vapor.xlsx')"
   ]
  },
  {
   "cell_type": "code",
   "execution_count": 3,
   "metadata": {},
   "outputs": [],
   "source": [
    "exclude_list =['salts','name','formula','salt']\n",
    "#Поверхностное натяжение органических жидкостей [мДж/м^2]\n",
    "interfactial_tension_organic_liquid = dfс.delete_hyphens(interfactial_tension_organic_liquid,exclude_list)\n",
    "\n",
    "#Теплопроводность органических жидкостей [Вт/(м*K)]\n",
    "thermal_conductivity_organic_liquid = dfс.delete_hyphens(thermal_conductivity_organic_liquid,exclude_list)\n",
    "\n",
    "#Свойства водяного пара в состянии насыщения в зависимости от давления\n",
    "aqua_vapor_saturation_by_pressure = dfс.delete_hyphens(aqua_vapor_saturation_by_pressure,exclude_list)\n",
    "\n",
    "#Коэффициенты объемного теплового расширения органических жидкостей b*10^3, K^-1\n",
    "thermal_expansion_organic_liquid = dfс.delete_hyphens(thermal_expansion_organic_liquid,exclude_list)\n",
    "\n",
    "#Теплота парообразования органических жидкостей [кДж/кг]\n",
    "heat_vaporization_organic_liquid = dfс.delete_hyphens(heat_vaporization_organic_liquid,exclude_list)\n",
    "\n",
    "#Удельная  теплоемкость водных р-ров cp = cpAQ - w * (d1 - d2*w -d3e-3 *t^2)\n",
    "specific_heat_capacity_solution = dfс.delete_hyphens(specific_heat_capacity_solution,exclude_list)\n",
    "\n",
    "#Теплопроводность водных р-ров неорганических соединений lya = lyaAQ * (1 - f*w)\n",
    "thermal_conductivity_solutions = dfс.delete_hyphens(thermal_conductivity_solutions,exclude_list)\n",
    "\n",
    "#Давление насыщенного пара [мм.рт.ст.] над органической жидкостью\n",
    "vapor_pressure_organic_liquid = dfс.delete_hyphens(vapor_pressure_organic_liquid,exclude_list)\n",
    "\n",
    "#Удельная теплоемкость [Дж/(кг*K)] органических жидкостей\n",
    "heat_capacity_organic_liquid = dfс.delete_hyphens(heat_capacity_organic_liquid,exclude_list)\n",
    "\n",
    "#Концентрации насыщенных водных растворов неорганических веществ кг/кг при °С\n",
    "mass_concentration_solution = dfс.delete_hyphens(mass_concentration_solution,exclude_list)\n",
    "\n",
    "#Динамическая вязкость органических жидкостей [мПа*с]\n",
    "vicosity_organic_liquid = dfс.delete_hyphens(vicosity_organic_liquid,exclude_list)\n",
    "\n",
    "#Плотность органических жидкостей [кг/м^3]\n",
    "density_organic_liquid = dfс.delete_hyphens(density_organic_liquid,exclude_list)\n",
    "\n",
    "#Температуры кипения водных растворов неорганических веществ при н.у.\n",
    "boiling_point_solution = dfс.delete_hyphens(boiling_point_solution,exclude_list)\n",
    "\n",
    "#Физические свойства воды на линии насыщения\n",
    "aqua_liquid_saturation = dfс.delete_hyphens(aqua_liquid_saturation,exclude_list)\n",
    "\n",
    "#Вязкость паров органических веществ [мкПа*с]\n",
    "vicosity_organic_vapor = dfс.delete_hyphens(vicosity_organic_vapor,exclude_list)\n",
    "\n",
    "#Свойства водяного пара в состянии насыщения в зависимости от температуры\n",
    "aqua_vapor_saturation = dfс.delete_hyphens(aqua_vapor_saturation,exclude_list)\n",
    "\n",
    "#Вязкость водных растворов неорганических веществ u = uaq*exp^[w(b1 + b2e-2 * t - b3e-7 * t^2)]\n",
    "vicosity_solution = dfс.delete_hyphens(vicosity_solution,exclude_list)\n",
    "\n",
    "#Плотность водных растворов p = paq*exp^[w*(a1 + a2e-4 * t - a3e-6 * t^2)], w[кг/кг], t[°C], p[кг/м^3], u[Па*c]\n",
    "density_solution = dfс.delete_hyphens(density_solution,exclude_list)\n",
    "\n",
    "#Основные характеристики органических веществ\n",
    "ph_organic = dfс.delete_hyphens(ph_organic,exclude_list)\n",
    "\n",
    "#Свойства газов при н.у.\n",
    "ph_gases = dfс.delete_hyphens(ph_gases,exclude_list)\n",
    "#am = delete_hyphens(am)"
   ]
  },
  {
   "cell_type": "code",
   "execution_count": 4,
   "metadata": {},
   "outputs": [],
   "source": [
    "class Сomponent():\n",
    "                \n",
    "    def __init__(self, name):        \n",
    "        self.interfactial_tension_organic_liquid = interfactial_tension_organic_liquid[interfactial_tension_organic_liquid['name'] == name].drop('name', axis=1)\n",
    "        self.thermal_conductivity_organic_liquid = thermal_conductivity_organic_liquid[thermal_conductivity_organic_liquid['name'] == name].drop('name', axis=1)\n",
    "        self.thermal_expansion_organic_liquid = thermal_expansion_organic_liquid[thermal_expansion_organic_liquid['name'] == name].drop('name', axis=1)\n",
    "        self.heat_vaporization_organic_liquid = heat_vaporization_organic_liquid[heat_vaporization_organic_liquid['name'] == name].drop('name', axis=1)        \n",
    "        self.vapor_pressure_organic_liquid = vapor_pressure_organic_liquid[vapor_pressure_organic_liquid['name'] == name].drop('name', axis=1)\n",
    "        self.heat_capacity_organic_liquid = heat_capacity_organic_liquid[heat_capacity_organic_liquid['name'] == name].drop('name', axis=1)\n",
    "        self.vicosity_organic_liquid = vicosity_organic_liquid[vicosity_organic_liquid['name'] == name].drop('name', axis=1)\n",
    "        self.vicosity_organic_liquid = vicosity_organic_liquid[vicosity_organic_liquid['name'] == name].drop('name', axis=1)\n",
    "        self.density_organic_liquid = density_organic_liquid[density_organic_liquid['name'] == name].drop('name', axis=1)\n",
    "        self.vicosity_organic_vapor = vicosity_organic_vapor[vicosity_organic_vapor['name'] == name].drop('name', axis=1)\n",
    "        self.ph_organic = ph_organic[ph_organic['name'] == name]"
   ]
  },
  {
   "cell_type": "markdown",
   "metadata": {},
   "source": [
    "Ниже в поле Substance присвойте компонентам 'А' и 'В' имена веществ, смесь которых необходимо разделить. Например 'Толуол', 'Бензол', 'Этанол', 'Тетрахлорметан' и др. Полный список веществ в базе можно узнать ниже.\n",
    "\n",
    "Из этой пары компонент 'A' должен иметь меньшую темперутуру плавления 'melting_point'. \n",
    " \n",
    "Для пар веществ должна быть таблица с экспериментальными даннымив папке 'l_v' заполненная как в образцах. Найти интересующую смесь можно в справочном пособии Коган, Фридман, Кафаров \"Равновесие между жидкостью и паром\" источник указан в файле README. Некоторые смеси находятся в примерах. Соотнесите 'formula' из базы данных с названием файла в папке 'l_v'. Например:\n",
    "метанол-бутанол\n",
    "толуол-тетрахлорметан\n",
    "бензол-толуол\n",
    "метанол-этанол\n",
    "\n"
   ]
  },
  {
   "cell_type": "code",
   "execution_count": 5,
   "metadata": {},
   "outputs": [
    {
     "data": {
      "text/html": [
       "<div>\n",
       "<style scoped>\n",
       "    .dataframe tbody tr th:only-of-type {\n",
       "        vertical-align: middle;\n",
       "    }\n",
       "\n",
       "    .dataframe tbody tr th {\n",
       "        vertical-align: top;\n",
       "    }\n",
       "\n",
       "    .dataframe thead th {\n",
       "        text-align: right;\n",
       "    }\n",
       "</style>\n",
       "<table border=\"1\" class=\"dataframe\">\n",
       "  <thead>\n",
       "    <tr style=\"text-align: right;\">\n",
       "      <th></th>\n",
       "      <th>name</th>\n",
       "      <th>formula</th>\n",
       "      <th>molar_mass</th>\n",
       "      <th>melting_point</th>\n",
       "      <th>boiling_point</th>\n",
       "      <th>critical_point</th>\n",
       "      <th>critical_pressure</th>\n",
       "    </tr>\n",
       "  </thead>\n",
       "  <tbody>\n",
       "    <tr>\n",
       "      <th>0</th>\n",
       "      <td>Анилин</td>\n",
       "      <td>C6H5NH2</td>\n",
       "      <td>93.128</td>\n",
       "      <td>-5.9</td>\n",
       "      <td>184.4</td>\n",
       "      <td>426.0</td>\n",
       "      <td>5.309</td>\n",
       "    </tr>\n",
       "    <tr>\n",
       "      <th>1</th>\n",
       "      <td>Ацетон</td>\n",
       "      <td>CH3COCH3</td>\n",
       "      <td>58.080</td>\n",
       "      <td>-95.4</td>\n",
       "      <td>56.2</td>\n",
       "      <td>235.5</td>\n",
       "      <td>4.701</td>\n",
       "    </tr>\n",
       "    <tr>\n",
       "      <th>2</th>\n",
       "      <td>Бензол</td>\n",
       "      <td>C6H6</td>\n",
       "      <td>78.114</td>\n",
       "      <td>5.5</td>\n",
       "      <td>80.1</td>\n",
       "      <td>289.4</td>\n",
       "      <td>4.894</td>\n",
       "    </tr>\n",
       "    <tr>\n",
       "      <th>3</th>\n",
       "      <td>Бромбензол</td>\n",
       "      <td>C6H5Br</td>\n",
       "      <td>157.010</td>\n",
       "      <td>-30.8</td>\n",
       "      <td>156.0</td>\n",
       "      <td>397.0</td>\n",
       "      <td>4.519</td>\n",
       "    </tr>\n",
       "    <tr>\n",
       "      <th>4</th>\n",
       "      <td>Бутанол</td>\n",
       "      <td>CH3(CH2)2CH2OH</td>\n",
       "      <td>74.123</td>\n",
       "      <td>-89.5</td>\n",
       "      <td>117.3</td>\n",
       "      <td>288.6</td>\n",
       "      <td>4.418</td>\n",
       "    </tr>\n",
       "    <tr>\n",
       "      <th>5</th>\n",
       "      <td>Гексан</td>\n",
       "      <td>CH3(CH2)4CH3</td>\n",
       "      <td>86.177</td>\n",
       "      <td>-95.3</td>\n",
       "      <td>68.7</td>\n",
       "      <td>234.7</td>\n",
       "      <td>2.969</td>\n",
       "    </tr>\n",
       "    <tr>\n",
       "      <th>6</th>\n",
       "      <td>Гептан</td>\n",
       "      <td>CH3(CH2)5CH3</td>\n",
       "      <td>100.204</td>\n",
       "      <td>-90.6</td>\n",
       "      <td>98.4</td>\n",
       "      <td>267.0</td>\n",
       "      <td>2.736</td>\n",
       "    </tr>\n",
       "    <tr>\n",
       "      <th>7</th>\n",
       "      <td>Дихлорэтан</td>\n",
       "      <td>ClCH2CH2Cl</td>\n",
       "      <td>98.959</td>\n",
       "      <td>-35.9</td>\n",
       "      <td>83.5</td>\n",
       "      <td>288.0</td>\n",
       "      <td>5.369</td>\n",
       "    </tr>\n",
       "    <tr>\n",
       "      <th>8</th>\n",
       "      <td>Изопропанол</td>\n",
       "      <td>(CH3)2CHOH</td>\n",
       "      <td>60.096</td>\n",
       "      <td>-89.5</td>\n",
       "      <td>82.4</td>\n",
       "      <td>235.6</td>\n",
       "      <td>4.762</td>\n",
       "    </tr>\n",
       "    <tr>\n",
       "      <th>9</th>\n",
       "      <td>о-Ксилол</td>\n",
       "      <td>C6H4(CH3)2</td>\n",
       "      <td>106.167</td>\n",
       "      <td>-25.2</td>\n",
       "      <td>144.4</td>\n",
       "      <td>358.4</td>\n",
       "      <td>3.729</td>\n",
       "    </tr>\n",
       "    <tr>\n",
       "      <th>10</th>\n",
       "      <td>п-Ксилол</td>\n",
       "      <td>C6H4(CH3)2</td>\n",
       "      <td>106.167</td>\n",
       "      <td>13.3</td>\n",
       "      <td>138.4</td>\n",
       "      <td>342.8</td>\n",
       "      <td>3.516</td>\n",
       "    </tr>\n",
       "    <tr>\n",
       "      <th>11</th>\n",
       "      <td>Метанол</td>\n",
       "      <td>CH3OH</td>\n",
       "      <td>32.042</td>\n",
       "      <td>-97.9</td>\n",
       "      <td>64.7</td>\n",
       "      <td>239.5</td>\n",
       "      <td>8.096</td>\n",
       "    </tr>\n",
       "    <tr>\n",
       "      <th>12</th>\n",
       "      <td>Метилацетат</td>\n",
       "      <td>CH3COOCH3</td>\n",
       "      <td>74.079</td>\n",
       "      <td>-98.1</td>\n",
       "      <td>56.9</td>\n",
       "      <td>233.7</td>\n",
       "      <td>4.691</td>\n",
       "    </tr>\n",
       "    <tr>\n",
       "      <th>13</th>\n",
       "      <td>Муравьиная кислота</td>\n",
       "      <td>HCOOH</td>\n",
       "      <td>46.026</td>\n",
       "      <td>8.3</td>\n",
       "      <td>100.7</td>\n",
       "      <td>306.8</td>\n",
       "      <td>NaN</td>\n",
       "    </tr>\n",
       "    <tr>\n",
       "      <th>14</th>\n",
       "      <td>Нитробензол</td>\n",
       "      <td>C6H5NO2</td>\n",
       "      <td>123.111</td>\n",
       "      <td>5.8</td>\n",
       "      <td>210.9</td>\n",
       "      <td>459.0</td>\n",
       "      <td>NaN</td>\n",
       "    </tr>\n",
       "    <tr>\n",
       "      <th>15</th>\n",
       "      <td>Октан</td>\n",
       "      <td>CH3(CH2)6CH3</td>\n",
       "      <td>114.231</td>\n",
       "      <td>-56.8</td>\n",
       "      <td>125.7</td>\n",
       "      <td>296.2</td>\n",
       "      <td>2.482</td>\n",
       "    </tr>\n",
       "    <tr>\n",
       "      <th>16</th>\n",
       "      <td>Пропанол</td>\n",
       "      <td>CH3CH2CH2OH</td>\n",
       "      <td>60.096</td>\n",
       "      <td>-126.2</td>\n",
       "      <td>97.2</td>\n",
       "      <td>263.7</td>\n",
       "      <td>5.168</td>\n",
       "    </tr>\n",
       "    <tr>\n",
       "      <th>17</th>\n",
       "      <td>Сероуглерод</td>\n",
       "      <td>CS2</td>\n",
       "      <td>76.143</td>\n",
       "      <td>-111.9</td>\n",
       "      <td>46.2</td>\n",
       "      <td>279.0</td>\n",
       "      <td>7.903</td>\n",
       "    </tr>\n",
       "    <tr>\n",
       "      <th>18</th>\n",
       "      <td>Тетрахлорметан</td>\n",
       "      <td>CCl4</td>\n",
       "      <td>153.822</td>\n",
       "      <td>-22.9</td>\n",
       "      <td>76.8</td>\n",
       "      <td>283.2</td>\n",
       "      <td>4.560</td>\n",
       "    </tr>\n",
       "    <tr>\n",
       "      <th>19</th>\n",
       "      <td>Толуол</td>\n",
       "      <td>C6H5CH3</td>\n",
       "      <td>92.141</td>\n",
       "      <td>-95.0</td>\n",
       "      <td>110.6</td>\n",
       "      <td>320.4</td>\n",
       "      <td>4.114</td>\n",
       "    </tr>\n",
       "    <tr>\n",
       "      <th>20</th>\n",
       "      <td>Уксусная кислота</td>\n",
       "      <td>CH3COOH</td>\n",
       "      <td>60.053</td>\n",
       "      <td>16.8</td>\n",
       "      <td>118.1</td>\n",
       "      <td>321.6</td>\n",
       "      <td>5.786</td>\n",
       "    </tr>\n",
       "    <tr>\n",
       "      <th>21</th>\n",
       "      <td>Хлорбензол</td>\n",
       "      <td>C6H5Cl</td>\n",
       "      <td>112.558</td>\n",
       "      <td>-45.6</td>\n",
       "      <td>131.7</td>\n",
       "      <td>359.2</td>\n",
       "      <td>4.519</td>\n",
       "    </tr>\n",
       "    <tr>\n",
       "      <th>22</th>\n",
       "      <td>Хлороформ</td>\n",
       "      <td>CHCl3</td>\n",
       "      <td>119.377</td>\n",
       "      <td>-63.5</td>\n",
       "      <td>61.2</td>\n",
       "      <td>263.4</td>\n",
       "      <td>5.472</td>\n",
       "    </tr>\n",
       "    <tr>\n",
       "      <th>23</th>\n",
       "      <td>Циклогексан</td>\n",
       "      <td>C6H12</td>\n",
       "      <td>84.161</td>\n",
       "      <td>6.6</td>\n",
       "      <td>80.7</td>\n",
       "      <td>280.4</td>\n",
       "      <td>4.073</td>\n",
       "    </tr>\n",
       "    <tr>\n",
       "      <th>24</th>\n",
       "      <td>Этанол</td>\n",
       "      <td>CH3CH2OH</td>\n",
       "      <td>46.069</td>\n",
       "      <td>-114.2</td>\n",
       "      <td>78.3</td>\n",
       "      <td>243.0</td>\n",
       "      <td>6.383</td>\n",
       "    </tr>\n",
       "    <tr>\n",
       "      <th>25</th>\n",
       "      <td>Этилацетат</td>\n",
       "      <td>CH3COOC2H5</td>\n",
       "      <td>88.106</td>\n",
       "      <td>-83.6</td>\n",
       "      <td>77.1</td>\n",
       "      <td>250.2</td>\n",
       "      <td>3.830</td>\n",
       "    </tr>\n",
       "    <tr>\n",
       "      <th>26</th>\n",
       "      <td>Этилбензол</td>\n",
       "      <td>C6H5C2H5</td>\n",
       "      <td>106.167</td>\n",
       "      <td>-95.0</td>\n",
       "      <td>136.2</td>\n",
       "      <td>346.4</td>\n",
       "      <td>3.607</td>\n",
       "    </tr>\n",
       "    <tr>\n",
       "      <th>27</th>\n",
       "      <td>Этиловый эфир</td>\n",
       "      <td>(C2H5)2O</td>\n",
       "      <td>74.123</td>\n",
       "      <td>-116.3</td>\n",
       "      <td>34.6</td>\n",
       "      <td>193.4</td>\n",
       "      <td>3.638</td>\n",
       "    </tr>\n",
       "  </tbody>\n",
       "</table>\n",
       "</div>"
      ],
      "text/plain": [
       "                  name         formula  molar_mass  melting_point  \\\n",
       "0               Анилин         C6H5NH2      93.128           -5.9   \n",
       "1               Ацетон        CH3COCH3      58.080          -95.4   \n",
       "2               Бензол            C6H6      78.114            5.5   \n",
       "3           Бромбензол          C6H5Br     157.010          -30.8   \n",
       "4              Бутанол  CH3(CH2)2CH2OH      74.123          -89.5   \n",
       "5               Гексан    CH3(CH2)4CH3      86.177          -95.3   \n",
       "6               Гептан    CH3(CH2)5CH3     100.204          -90.6   \n",
       "7           Дихлорэтан      ClCH2CH2Cl      98.959          -35.9   \n",
       "8          Изопропанол      (CH3)2CHOH      60.096          -89.5   \n",
       "9             о-Ксилол      C6H4(CH3)2     106.167          -25.2   \n",
       "10            п-Ксилол      C6H4(CH3)2     106.167           13.3   \n",
       "11             Метанол           CH3OH      32.042          -97.9   \n",
       "12         Метилацетат       CH3COOCH3      74.079          -98.1   \n",
       "13  Муравьиная кислота           HCOOH      46.026            8.3   \n",
       "14         Нитробензол         C6H5NO2     123.111            5.8   \n",
       "15               Октан    CH3(CH2)6CH3     114.231          -56.8   \n",
       "16            Пропанол     CH3CH2CH2OH      60.096         -126.2   \n",
       "17         Сероуглерод             CS2      76.143         -111.9   \n",
       "18      Тетрахлорметан            CCl4     153.822          -22.9   \n",
       "19              Толуол         C6H5CH3      92.141          -95.0   \n",
       "20    Уксусная кислота         CH3COOH      60.053           16.8   \n",
       "21          Хлорбензол          C6H5Cl     112.558          -45.6   \n",
       "22           Хлороформ           CHCl3     119.377          -63.5   \n",
       "23         Циклогексан           C6H12      84.161            6.6   \n",
       "24              Этанол        CH3CH2OH      46.069         -114.2   \n",
       "25          Этилацетат      CH3COOC2H5      88.106          -83.6   \n",
       "26          Этилбензол        C6H5C2H5     106.167          -95.0   \n",
       "27       Этиловый эфир        (C2H5)2O      74.123         -116.3   \n",
       "\n",
       "    boiling_point  critical_point  critical_pressure  \n",
       "0           184.4           426.0              5.309  \n",
       "1            56.2           235.5              4.701  \n",
       "2            80.1           289.4              4.894  \n",
       "3           156.0           397.0              4.519  \n",
       "4           117.3           288.6              4.418  \n",
       "5            68.7           234.7              2.969  \n",
       "6            98.4           267.0              2.736  \n",
       "7            83.5           288.0              5.369  \n",
       "8            82.4           235.6              4.762  \n",
       "9           144.4           358.4              3.729  \n",
       "10          138.4           342.8              3.516  \n",
       "11           64.7           239.5              8.096  \n",
       "12           56.9           233.7              4.691  \n",
       "13          100.7           306.8                NaN  \n",
       "14          210.9           459.0                NaN  \n",
       "15          125.7           296.2              2.482  \n",
       "16           97.2           263.7              5.168  \n",
       "17           46.2           279.0              7.903  \n",
       "18           76.8           283.2              4.560  \n",
       "19          110.6           320.4              4.114  \n",
       "20          118.1           321.6              5.786  \n",
       "21          131.7           359.2              4.519  \n",
       "22           61.2           263.4              5.472  \n",
       "23           80.7           280.4              4.073  \n",
       "24           78.3           243.0              6.383  \n",
       "25           77.1           250.2              3.830  \n",
       "26          136.2           346.4              3.607  \n",
       "27           34.6           193.4              3.638  "
      ]
     },
     "execution_count": 5,
     "metadata": {},
     "output_type": "execute_result"
    }
   ],
   "source": [
    "Substance = {'A':Сomponent(name='Бензол'), 'B':Сomponent(name='Толуол')}\n",
    "A_name = Substance['A'].ph_organic['formula'].values\n",
    "B_name = Substance['B'].ph_organic['formula'].values\n",
    "\n",
    "ph_organic"
   ]
  },
  {
   "cell_type": "markdown",
   "metadata": {},
   "source": [
    "В переменную diagram загружаем таблицу с данными о равновесии жидкость-пар для смеси выбранных веществ. В примере выбраны бензол и толуол, согласно базе ph_organic их формулы соответственно C6H6 и C6H5CH3. Если Вы захотите изучить свою смесь, то название файлу можете выбрать произвольное. \n",
    "\n",
    "ВАЖНО! в столбцах 'x' и 'y' значения должны быть в долях от единицы, а не в процентах. Если вдруг попалась таблица с процентами, то раскомментируем деление на 100 для каждого из столбцов."
   ]
  },
  {
   "cell_type": "code",
   "execution_count": 6,
   "metadata": {},
   "outputs": [
    {
     "data": {
      "text/html": [
       "<div>\n",
       "<style scoped>\n",
       "    .dataframe tbody tr th:only-of-type {\n",
       "        vertical-align: middle;\n",
       "    }\n",
       "\n",
       "    .dataframe tbody tr th {\n",
       "        vertical-align: top;\n",
       "    }\n",
       "\n",
       "    .dataframe thead th {\n",
       "        text-align: right;\n",
       "    }\n",
       "</style>\n",
       "<table border=\"1\" class=\"dataframe\">\n",
       "  <thead>\n",
       "    <tr style=\"text-align: right;\">\n",
       "      <th></th>\n",
       "      <th>x</th>\n",
       "      <th>y</th>\n",
       "      <th>t</th>\n",
       "    </tr>\n",
       "  </thead>\n",
       "  <tbody>\n",
       "    <tr>\n",
       "      <th>0</th>\n",
       "      <td>0.000</td>\n",
       "      <td>0.000</td>\n",
       "      <td>110.7</td>\n",
       "    </tr>\n",
       "    <tr>\n",
       "      <th>1</th>\n",
       "      <td>0.107</td>\n",
       "      <td>0.219</td>\n",
       "      <td>105.9</td>\n",
       "    </tr>\n",
       "    <tr>\n",
       "      <th>2</th>\n",
       "      <td>0.207</td>\n",
       "      <td>0.381</td>\n",
       "      <td>101.9</td>\n",
       "    </tr>\n",
       "    <tr>\n",
       "      <th>3</th>\n",
       "      <td>0.303</td>\n",
       "      <td>0.509</td>\n",
       "      <td>98.4</td>\n",
       "    </tr>\n",
       "    <tr>\n",
       "      <th>4</th>\n",
       "      <td>0.393</td>\n",
       "      <td>0.609</td>\n",
       "      <td>95.4</td>\n",
       "    </tr>\n",
       "    <tr>\n",
       "      <th>5</th>\n",
       "      <td>0.486</td>\n",
       "      <td>0.696</td>\n",
       "      <td>92.6</td>\n",
       "    </tr>\n",
       "    <tr>\n",
       "      <th>6</th>\n",
       "      <td>0.578</td>\n",
       "      <td>0.769</td>\n",
       "      <td>90.0</td>\n",
       "    </tr>\n",
       "    <tr>\n",
       "      <th>7</th>\n",
       "      <td>0.673</td>\n",
       "      <td>0.835</td>\n",
       "      <td>87.5</td>\n",
       "    </tr>\n",
       "    <tr>\n",
       "      <th>8</th>\n",
       "      <td>0.773</td>\n",
       "      <td>0.893</td>\n",
       "      <td>85.1</td>\n",
       "    </tr>\n",
       "    <tr>\n",
       "      <th>9</th>\n",
       "      <td>0.875</td>\n",
       "      <td>0.945</td>\n",
       "      <td>82.8</td>\n",
       "    </tr>\n",
       "    <tr>\n",
       "      <th>10</th>\n",
       "      <td>1.000</td>\n",
       "      <td>1.000</td>\n",
       "      <td>80.2</td>\n",
       "    </tr>\n",
       "  </tbody>\n",
       "</table>\n",
       "</div>"
      ],
      "text/plain": [
       "        x      y      t\n",
       "0   0.000  0.000  110.7\n",
       "1   0.107  0.219  105.9\n",
       "2   0.207  0.381  101.9\n",
       "3   0.303  0.509   98.4\n",
       "4   0.393  0.609   95.4\n",
       "5   0.486  0.696   92.6\n",
       "6   0.578  0.769   90.0\n",
       "7   0.673  0.835   87.5\n",
       "8   0.773  0.893   85.1\n",
       "9   0.875  0.945   82.8\n",
       "10  1.000  1.000   80.2"
      ]
     },
     "execution_count": 6,
     "metadata": {},
     "output_type": "execute_result"
    }
   ],
   "source": [
    "diagram = pd.read_excel('l_v/C6H6 - C6H5CH3.xlsx')\n",
    "diagram['x'] = diagram['x']#/100\n",
    "diagram['y'] = diagram['y']#/100\n",
    "diagram.sort_values(by = ['t'], ascending=False,ignore_index=True, inplace=True)\n",
    "xy_diagram = dfс.get_coeffs(diagram['x'], diagram['y'])\n",
    "diagram"
   ]
  },
  {
   "cell_type": "markdown",
   "metadata": {},
   "source": [
    "Ниже представлена диаграма жидкость-пар выбранной смеси компонентов. Правая диаграма показывает как сильно состав жидкой фазы отличается от состава паровой. Серой прямой показана линия, в которой составы жидкости и пара были бы равны.\n",
    "\n",
    "На диаграмы так же наложены линии аппроксимации данных. Если автомтически подобранные функции не пересекаются в неожиданных местах, не создают странных выбросов и вообще просто лежат на данных, полностью повторяя кривую эксперимента, то расчет будет точным и без проблем. Как правило, трудности случаются со смесями с азеотропной точкой. Самым простым способом было бы добавить данных экспериментов в исходную таблицу. Так же можно в ручную искать полином, добавляя в функции dfc.get_fit(n='нужная размерность полинома')"
   ]
  },
  {
   "cell_type": "code",
   "execution_count": 7,
   "metadata": {},
   "outputs": [
    {
     "data": {
      "text/plain": [
       "Text(0.5, 0, \"Мольная доля ['C6H6'] в жидкости\")"
      ]
     },
     "execution_count": 7,
     "metadata": {},
     "output_type": "execute_result"
    },
    {
     "data": {
      "image/png": "[encoded data removed]",
      "text/plain": [
       "<Figure size 1440x720 with 2 Axes>"
      ]
     },
     "metadata": {
      "needs_background": "light"
     },
     "output_type": "display_data"
    }
   ],
   "source": [
    "plt.style.use(['science', 'no-latex', 'notebook', 'grid'])\n",
    "\n",
    "\n",
    "fig = plt.figure(figsize=(20,10))\n",
    "axes = fig.add_subplot(1,2,1)\n",
    "axes2 = fig.add_subplot(1,2,2)\n",
    "\n",
    "axes.plot(diagram['x'], diagram['t'], label='состав жидкости')\n",
    "axes.plot(diagram['y'], diagram['t'], label='состав пара')\n",
    "axes.set_ylabel('Температура, °С', fontsize=15)\n",
    "axes.set_xlabel(f'Мольная доля {A_name}', fontsize=15)\n",
    "\n",
    "p_x = dfс.get_fit(diagram['x'], diagram['t'])\n",
    "p_y = dfс.get_fit(diagram['y'], diagram['t'])\n",
    "axes.plot(diagram['x'], p_x, 'o--', color='red', lw=0.5, ms=2)\n",
    "axes.plot(diagram['y'], p_y, 'o--', color='blue', lw=0.5, ms=2)\n",
    "axes.legend(loc='upper right')\n",
    "\n",
    "axes2.plot(diagram['x'], diagram['y'])\n",
    "x_y = dfс.get_fit(diagram['x'], diagram['y'])\n",
    "axes2.plot(diagram['x'], x_y, 'o--', color='red', lw=1, ms=2)\n",
    "_ = [0, 1]\n",
    "axes2.plot(_, _, color='black', lw=0.5)\n",
    "axes2.set_ylabel(f'Мольная доля {A_name} в паре', fontsize=15)\n",
    "axes2.set_xlabel(f'Мольная доля {A_name} в жидкости', fontsize=15)\n"
   ]
  },
  {
   "cell_type": "markdown",
   "metadata": {},
   "source": [
    "Задаемся исходными данными на проектирование. \n",
    "1. Какой производительностью должна обладать наша колонна(поле F); Верхний предел производительности ~10кг/с. При таких объемах установка требует экстремальные требования к диаметру и высоте из каталогов ГОСТа. \n",
    "2. Какой температуры раствор подается в колонну(поле FEED_TEMPERATURE, °С);\n",
    "3. Сколько в исходной смеси содержится легколетучего компонента(поле FEED, %масс);\n",
    "4. Какой чистоты нужно получить дистиллят (поле DISTILLATE, в долях от единицы);\n",
    "5. Какой чистоты нужно получить кубовый остаток (поле BOTTOM, в долях от единицы);\n",
    "6. При каком давлении проводить процесс(PRESSURE); важно помнить, что при изменении давления внтри колонны, диаграмма равновесия жидкость-пар тоже может изменяться. Некоторые закономерности показаны в файле processing_frames"
   ]
  },
  {
   "cell_type": "code",
   "execution_count": 8,
   "metadata": {},
   "outputs": [
    {
     "data": {
      "text/plain": [
       "Ma                                                [78.114]\n",
       "Mb                                                [92.141]\n",
       "массовый расход в питателе                             5.0\n",
       "массовый расход в кубовом остатке                 3.271028\n",
       "массовый расход в дефлегматоре                    1.728972\n",
       "xf                                     [0.388436640491331]\n",
       "xp                                    [0.9829929003185919]\n",
       "xw                                   [0.01999167633015832]\n",
       "yf                                    [0.6040665755664814]\n",
       "Rmin                                  [1.7572992572670803]\n",
       "dtype: object"
      ]
     },
     "execution_count": 8,
     "metadata": {},
     "output_type": "execute_result"
    }
   ],
   "source": [
    "F = np.double(5)                  #Производительность по исходной смеси кг/с\n",
    "FEED_TEMPERATURE = np.double(20)  #Начальная температура\n",
    "FEED = np.double(0.35)            #В исходной смеси %масс Ллт \n",
    "DISTILLATE = np.double(0.98)      #В дистилляте(ректификате) %масс \n",
    "BOTTOM = np.double(0.017)         #В кубовом остатке %масс ллт\n",
    "PRESSURE = np.double(10**5)       #Давление в колонне в Па. Влияет на коэфф. диффузии пара в колонне\n",
    "\n",
    "balance = clc.material_balance(F, FEED, DISTILLATE, BOTTOM, xy_diagram, Substance)\n",
    "balance"
   ]
  },
  {
   "cell_type": "markdown",
   "metadata": {},
   "source": [
    "Нагрузки по пару и жидкости определяются рабочим флегмовым числом 'R'; его оптимальное значение 'Ropt' можно найти путем технико-экономического расчета. Ввиду отсутствия надежной методики оцени 'Ropt' используют приближенные вычисления, основанные на определении коэффициента избытка флегмы (орошения). Задавшись различными значениями коэффициентов избытка флегмы β, находим соответствующие флегмовые числа. Графическим построением ступеней изменения концентраций между равновесной и рабочими линиями на диаграмме у – х найдем необходимое количество при каждом значении избытка флегмы\n",
    "\n",
    "В функции ниже можно задать кол-во значений коэффициента избытка флегмы 'Bt_range', на основании которых будем искать оптимальное флегмовое число. "
   ]
  },
  {
   "cell_type": "code",
   "execution_count": 9,
   "metadata": {},
   "outputs": [
    {
     "data": {
      "image/png": "[encoded data removed]",
      "text/plain": [
       "<Figure size 1080x3240 with 20 Axes>"
      ]
     },
     "metadata": {
      "needs_background": "light"
     },
     "output_type": "display_data"
    }
   ],
   "source": [
    "SMALL_SIZE = 6\n",
    "MEDIUM_SIZE = 10\n",
    "BIGGER_SIZE = 12\n",
    "\n",
    "plt.rc('font', size=SMALL_SIZE)          # controls default text sizes\n",
    "plt.rc('axes', titlesize=MEDIUM_SIZE)    # fontsize of the axes title\n",
    "plt.rc('axes', labelsize=SMALL_SIZE)     # fontsize of the x and y labels\n",
    "plt.rc('xtick', labelsize=SMALL_SIZE)    # fontsize of the tick labels\n",
    "plt.rc('ytick', labelsize=SMALL_SIZE)    # fontsize of the tick labels\n",
    "plt.rc('legend', fontsize=SMALL_SIZE)    # legend fontsize\n",
    "plt.rc('figure', titlesize=BIGGER_SIZE)  # fontsize of the figure title\n",
    "\n",
    "R,Ngraf = clc.get_range_phlegm_number(\n",
    "    balance['yf'],\n",
    "    balance['xw'],\n",
    "    balance['xf'],\n",
    "    balance['xp'],\n",
    "    balance['Rmin'],\n",
    "    xy_diagram,\n",
    "    diagram,\n",
    "    Bt_range=20,#изменяемый параметр\n",
    "    plot_lines='True')\n",
    "\n"
   ]
  },
  {
   "cell_type": "markdown",
   "metadata": {},
   "source": [
    "На рисунке выше: \n",
    "\n",
    "в каждой точке коэффициента избытка флегмы находится рабочее флегмовое число 'R', по которому строится рабочая линия с координатой 'Yf'. Графическим построением ступеней 'N' изменения концентраций между равновесной и рабочими линиями на диаграмме у – х находят необходимое количество при каждом значении избытка флегмы.\n",
    "\n",
    "На рисунке ниже:\n",
    "\n",
    "строится график зависимости N(R + 1) = f(R). Оптимальное флегмовое число соответствует минимальному произведению N(R + 1)\n"
   ]
  },
  {
   "cell_type": "code",
   "execution_count": 10,
   "metadata": {},
   "outputs": [
    {
     "name": "stdout",
     "output_type": "stream",
     "text": [
      "Оптимальное флегмовое число = [2.39]\n"
     ]
    },
    {
     "data": {
      "image/png": "[encoded data removed]",
      "text/plain": [
       "<Figure size 504x504 with 1 Axes>"
      ]
     },
     "metadata": {
      "needs_background": "light"
     },
     "output_type": "display_data"
    }
   ],
   "source": [
    "plt.style.use(['science', 'no-latex', 'notebook', 'grid'])\n",
    "Ropt = clc.get_optimal_phlegm_number(R, Ngraf)\n",
    "#Ropt = 2.1\n",
    "#Здесь можно задать любое флегмовое число, раскомментировав строку выше, и посомтреть как оно влияет на конструкцию колонны"
   ]
  },
  {
   "cell_type": "code",
   "execution_count": 11,
   "metadata": {},
   "outputs": [
    {
     "data": {
      "text/html": [
       "<div>\n",
       "<style scoped>\n",
       "    .dataframe tbody tr th:only-of-type {\n",
       "        vertical-align: middle;\n",
       "    }\n",
       "\n",
       "    .dataframe tbody tr th {\n",
       "        vertical-align: top;\n",
       "    }\n",
       "\n",
       "    .dataframe thead th {\n",
       "        text-align: right;\n",
       "    }\n",
       "</style>\n",
       "<table border=\"1\" class=\"dataframe\">\n",
       "  <thead>\n",
       "    <tr style=\"text-align: right;\">\n",
       "      <th></th>\n",
       "      <th>температура</th>\n",
       "      <th>содержание легколетучего в жидкости</th>\n",
       "      <th>содержание легколетучего в паре</th>\n",
       "      <th>плотность жидкости</th>\n",
       "      <th>теплопроводность жидкости</th>\n",
       "      <th>теплота парообразования жидкости</th>\n",
       "      <th>удельная теплоемкость жидкости</th>\n",
       "      <th>поверхностное натяжение жидкости</th>\n",
       "      <th>давление насыщенного пара жидкости</th>\n",
       "      <th>коэффициент объемного расширения жидкости</th>\n",
       "      <th>молярный объем газа</th>\n",
       "      <th>молярная масса жидкости</th>\n",
       "      <th>молярная масса газа</th>\n",
       "      <th>плотность пара</th>\n",
       "      <th>вязкость пара</th>\n",
       "      <th>вязкость жидкости</th>\n",
       "      <th>молярный объем жидкости</th>\n",
       "    </tr>\n",
       "  </thead>\n",
       "  <tbody>\n",
       "    <tr>\n",
       "      <th>куба</th>\n",
       "      <td>109.762678</td>\n",
       "      <td>0.019992</td>\n",
       "      <td>0.05</td>\n",
       "      <td>779.837843</td>\n",
       "      <td>0.112000</td>\n",
       "      <td>364.723205</td>\n",
       "      <td>2006.529720</td>\n",
       "      <td>18.488489</td>\n",
       "      <td>761.651184</td>\n",
       "      <td>1.355766</td>\n",
       "      <td>31.401223</td>\n",
       "      <td>91.860577</td>\n",
       "      <td>91.43965</td>\n",
       "      <td>2.911977</td>\n",
       "      <td>0.009151</td>\n",
       "      <td>0.249722</td>\n",
       "      <td>117.794459</td>\n",
       "    </tr>\n",
       "    <tr>\n",
       "      <th>низа</th>\n",
       "      <td>101.994479</td>\n",
       "      <td>0.204214</td>\n",
       "      <td>0.38</td>\n",
       "      <td>788.467040</td>\n",
       "      <td>0.115215</td>\n",
       "      <td>370.958523</td>\n",
       "      <td>1978.548527</td>\n",
       "      <td>19.202779</td>\n",
       "      <td>761.206841</td>\n",
       "      <td>1.348172</td>\n",
       "      <td>30.764182</td>\n",
       "      <td>89.276488</td>\n",
       "      <td>86.81074</td>\n",
       "      <td>2.821812</td>\n",
       "      <td>0.009140</td>\n",
       "      <td>0.263988</td>\n",
       "      <td>113.227926</td>\n",
       "    </tr>\n",
       "    <tr>\n",
       "      <th>питания</th>\n",
       "      <td>95.563416</td>\n",
       "      <td>0.388437</td>\n",
       "      <td>0.60</td>\n",
       "      <td>795.685722</td>\n",
       "      <td>0.118108</td>\n",
       "      <td>376.740489</td>\n",
       "      <td>1955.998162</td>\n",
       "      <td>19.780756</td>\n",
       "      <td>761.251372</td>\n",
       "      <td>1.346961</td>\n",
       "      <td>30.236795</td>\n",
       "      <td>86.692399</td>\n",
       "      <td>83.72480</td>\n",
       "      <td>2.768971</td>\n",
       "      <td>0.009113</td>\n",
       "      <td>0.277152</td>\n",
       "      <td>108.953066</td>\n",
       "    </tr>\n",
       "    <tr>\n",
       "      <th>верха</th>\n",
       "      <td>87.196111</td>\n",
       "      <td>0.685715</td>\n",
       "      <td>0.84</td>\n",
       "      <td>805.368993</td>\n",
       "      <td>0.122387</td>\n",
       "      <td>385.408872</td>\n",
       "      <td>1927.937492</td>\n",
       "      <td>20.528354</td>\n",
       "      <td>761.898617</td>\n",
       "      <td>1.354274</td>\n",
       "      <td>29.550624</td>\n",
       "      <td>82.522479</td>\n",
       "      <td>80.35832</td>\n",
       "      <td>2.719344</td>\n",
       "      <td>0.009063</td>\n",
       "      <td>0.296614</td>\n",
       "      <td>102.465428</td>\n",
       "    </tr>\n",
       "    <tr>\n",
       "      <th>дистиллята</th>\n",
       "      <td>80.542778</td>\n",
       "      <td>0.982993</td>\n",
       "      <td>0.99</td>\n",
       "      <td>813.536777</td>\n",
       "      <td>0.126447</td>\n",
       "      <td>393.541689</td>\n",
       "      <td>1907.084242</td>\n",
       "      <td>21.128299</td>\n",
       "      <td>762.373885</td>\n",
       "      <td>1.369285</td>\n",
       "      <td>29.005009</td>\n",
       "      <td>78.352559</td>\n",
       "      <td>78.25427</td>\n",
       "      <td>2.697957</td>\n",
       "      <td>0.009002</td>\n",
       "      <td>0.314584</td>\n",
       "      <td>96.311022</td>\n",
       "    </tr>\n",
       "  </tbody>\n",
       "</table>\n",
       "</div>"
      ],
      "text/plain": [
       "            температура  содержание легколетучего в жидкости  \\\n",
       "куба         109.762678                             0.019992   \n",
       "низа         101.994479                             0.204214   \n",
       "питания       95.563416                             0.388437   \n",
       "верха         87.196111                             0.685715   \n",
       "дистиллята    80.542778                             0.982993   \n",
       "\n",
       "            содержание легколетучего в паре  плотность жидкости  \\\n",
       "куба                                   0.05          779.837843   \n",
       "низа                                   0.38          788.467040   \n",
       "питания                                0.60          795.685722   \n",
       "верха                                  0.84          805.368993   \n",
       "дистиллята                             0.99          813.536777   \n",
       "\n",
       "            теплопроводность жидкости  теплота парообразования жидкости  \\\n",
       "куба                         0.112000                        364.723205   \n",
       "низа                         0.115215                        370.958523   \n",
       "питания                      0.118108                        376.740489   \n",
       "верха                        0.122387                        385.408872   \n",
       "дистиллята                   0.126447                        393.541689   \n",
       "\n",
       "            удельная теплоемкость жидкости  поверхностное натяжение жидкости  \\\n",
       "куба                           2006.529720                         18.488489   \n",
       "низа                           1978.548527                         19.202779   \n",
       "питания                        1955.998162                         19.780756   \n",
       "верха                          1927.937492                         20.528354   \n",
       "дистиллята                     1907.084242                         21.128299   \n",
       "\n",
       "            давление насыщенного пара жидкости  \\\n",
       "куба                                761.651184   \n",
       "низа                                761.206841   \n",
       "питания                             761.251372   \n",
       "верха                               761.898617   \n",
       "дистиллята                          762.373885   \n",
       "\n",
       "            коэффициент объемного расширения жидкости  молярный объем газа  \\\n",
       "куба                                         1.355766            31.401223   \n",
       "низа                                         1.348172            30.764182   \n",
       "питания                                      1.346961            30.236795   \n",
       "верха                                        1.354274            29.550624   \n",
       "дистиллята                                   1.369285            29.005009   \n",
       "\n",
       "            молярная масса жидкости  молярная масса газа  плотность пара  \\\n",
       "куба                      91.860577             91.43965        2.911977   \n",
       "низа                      89.276488             86.81074        2.821812   \n",
       "питания                   86.692399             83.72480        2.768971   \n",
       "верха                     82.522479             80.35832        2.719344   \n",
       "дистиллята                78.352559             78.25427        2.697957   \n",
       "\n",
       "            вязкость пара  вязкость жидкости  молярный объем жидкости  \n",
       "куба             0.009151           0.249722               117.794459  \n",
       "низа             0.009140           0.263988               113.227926  \n",
       "питания          0.009113           0.277152               108.953066  \n",
       "верха            0.009063           0.296614               102.465428  \n",
       "дистиллята       0.009002           0.314584                96.311022  "
      ]
     },
     "execution_count": 11,
     "metadata": {},
     "output_type": "execute_result"
    }
   ],
   "source": [
    "properties = clc.calculate_properties(diagram, balance, Substance)\n",
    "properties"
   ]
  },
  {
   "cell_type": "markdown",
   "metadata": {},
   "source": [
    "Высоту насадки в колонне рассчитывают по модифицированному уравнению массопередачи, для которого необходимо найти общее число единиц переноса и общую высоту единицы переноса. Число единиц переноса найдем численными методом для верхней и нижней частей колонны. Общее число единиц переноса вычисляют по уравнению:\n",
    "$$ n_{oy} = \\int_{yw}^{yp} \\frac{dy}{y^{*}-y} $$"
   ]
  },
  {
   "cell_type": "code",
   "execution_count": 12,
   "metadata": {},
   "outputs": [
    {
     "data": {
      "image/png": "[encoded data removed]",
      "text/plain": [
       "<Figure size 864x360 with 2 Axes>"
      ]
     },
     "metadata": {
      "needs_background": "light"
     },
     "output_type": "display_data"
    }
   ],
   "source": [
    "bottom, top = clc.get_transfer_numbers(balance, Ropt, xy_diagram)"
   ]
  },
  {
   "cell_type": "markdown",
   "metadata": {},
   "source": [
    "Расчет ректиификационной колоны сводится к определению ее основных геометрических размеров - диаметра и высоты. Оба параметра в значительной мере определяются гидродинамическим режимом работы колоны, который, в свою очередь, зависит от скоростей и физических свойств фаз, а также от типа и размера насадки.\n",
    "При расчете ректификационной установки приняты следующие допущения:\n",
    "1. молярные теплоты испарения компонентов при одной и той же температуре приблизительно одинаковы (правило Трутона), поэтому каждый кМоль пара при конденсации испаряет 1 кМоль жидкости. Поэтому мольные потоки пара в любом сечении колонны постоянны;\n",
    "2. в дефлегматоре не происходит изменения состава пара;\n",
    "3. при испарении жидкости в кипятильнике не происходит изменения ее состава;\n",
    "4. теплоты смешения компонентов разделяемой смеси равны нулю\n",
    "\n",
    "В качестве насадки выбраны неупорядоченные кольца Рашига трех размеров по каталогу.\n",
    "\n",
    "Диаметр колонны в графе 'стандартный размер обечайки' в метрах"
   ]
  },
  {
   "cell_type": "code",
   "execution_count": 13,
   "metadata": {},
   "outputs": [
    {
     "data": {
      "text/plain": [
       "массовая нагрузка жидкости верха          [4.352160812852881]\n",
       "массовая нагрузка жидкости низа           [9.857398928289692]\n",
       "массовый поток пара верха                  [6.01880749515315]\n",
       "массовый поток пара низа                  [6.502091290258327]\n",
       "предельная скорость пара верха           [1.9554265170057432]\n",
       "предельная скорость пара низа             [1.582136883559107]\n",
       "рабочая скорость пара верха              [1.3687985619040202]\n",
       "рабочая скорость пара низа               [1.1074958184913748]\n",
       "диаметр верха                            [1.4348563294314625]\n",
       "диаметр низа                             [1.6275955738647714]\n",
       "стандартный размер обечайки                               1.8\n",
       "действительная рабочая скорость верха    [0.8697839024618755]\n",
       "действительная рабочая скорость низа     [0.9055033997879981]\n",
       "% от предельной скорости верха            [44.48052099619353]\n",
       "% от предельной скорости низа             [57.23293661867086]\n",
       "dtype: object"
      ]
     },
     "execution_count": 13,
     "metadata": {},
     "output_type": "execute_result"
    }
   ],
   "source": [
    "diameter = clc.calculate_diameter(balance, Ropt, properties, filling_name='50x50x5')# насадки могут быть трех размеров '25x25x3' '35x35x4' '50x50x5'\n",
    "diameter"
   ]
  },
  {
   "cell_type": "markdown",
   "metadata": {},
   "source": [
    "'общая высота колонны' в метрах"
   ]
  },
  {
   "cell_type": "code",
   "execution_count": 14,
   "metadata": {},
   "outputs": [
    {
     "data": {
      "text/plain": [
       "отношение нагрузок пар/жидкость верха               [1.4184100418410042]\n",
       "отношение нагрузок пар/жидкость низа                [0.6774998926875101]\n",
       "коэффициент диффузии жидкости верха при 20°С     [2.157152455916271e-09]\n",
       "коэффициент диффузии жидкости низа при 20°С     [2.2119815939664596e-09]\n",
       "температурный коэффициент верха                                 0.016566\n",
       "температурный коэффициент низа                                  0.016191\n",
       "коэффициент диффузии жидкости низа               [5.148560352666184e-09]\n",
       "коэффициент диффузии жидкости верха              [4.558360621092526e-09]\n",
       "коэффициент диффузии пара верха                                 0.000005\n",
       "коэффициент диффузии пара низа                                  0.000005\n",
       "средний коэффициент распределения верха                         1.246698\n",
       "средний коэффициент распределения низа                          1.867081\n",
       "критерий Прандтля жидости верха                      [80.79579258788459]\n",
       "критерий Прандтля жидкости низа                      [65.03012182747588]\n",
       "высота единицы переноса жидкости верха             [0.08413141248887833]\n",
       "высота единицы переноса жидкости низа              [0.07048028560235352]\n",
       "критерий Прандтля пара верха                                     0.67595\n",
       "критерий Прандтля пара низа                                     0.618459\n",
       "массовая плотность орошения верха                    [1.711158611643029]\n",
       "массовая плотность орошения низа                    [3.8756778046275424]\n",
       "высота единицы переноса пара верха                   [2.688637732201288]\n",
       "высота единицы переноса пара низа                   [1.4978031677974621]\n",
       "общая высота единицы переноса верха                 [2.8374097004468553]\n",
       "общая высота единицы переноса низа                  [1.5869569954131033]\n",
       "высота насадки верха                                 [22.50065892454356]\n",
       "высота насадки низа                                  [14.44130865825924]\n",
       "общая высота насадки в колонне                        [36.9419675828028]\n",
       "общая высота колонны                                              [48.0]\n",
       "dtype: object"
      ]
     },
     "execution_count": 14,
     "metadata": {},
     "output_type": "execute_result"
    }
   ],
   "source": [
    "hight = clc.calculate_hight(\n",
    "    balance,\n",
    "    properties,\n",
    "    diameter,\n",
    "    xy_diagram,\n",
    "    bottom,\n",
    "    top,\n",
    "    Substance,\n",
    "    Ropt,\n",
    "    PRESSURE,\n",
    "    filling_name='50x50x5')\n",
    "hight"
   ]
  },
  {
   "cell_type": "code",
   "execution_count": 15,
   "metadata": {},
   "outputs": [
    {
     "data": {
      "text/plain": [
       "теплота забираемая водой в дефлегматоре     [2306.6324306259285]\n",
       "теплота передаваемая паром от испарителя             1883.702444\n",
       "теплота исходной смеси                                934.609329\n",
       "теплота кубовой жидкости                              720.418007\n",
       "теплота дистиллята                                    265.573315\n",
       "теплота получаемая кипящей жидкостью         [2358.014423399037]\n",
       "dtype: object"
      ]
     },
     "execution_count": 15,
     "metadata": {},
     "output_type": "execute_result"
    }
   ],
   "source": [
    "thermal_balance = clc.calculate_thermal_balance(balance, properties, Ropt)\n",
    "thermal_balance"
   ]
  },
  {
   "cell_type": "code",
   "execution_count": 16,
   "metadata": {},
   "outputs": [
    {
     "data": {
      "application/vnd.plotly.v1+json": {
       "config": {
        "plotlyServerURL": "https://plot.ly"
       },
       "data": [
        {
         "coloraxis": "coloraxis",
         "hovertemplate": "Длина труб: %{x}<br>Хараеткристики теплообменника: %{y}<br>Запас поверхности, %: %{z}<extra></extra>",
         "name": "0",
         "texttemplate": "%{z}",
         "type": "heatmap",
         "x": [
          "1",
          "1.5",
          "2",
          "3",
          "4",
          "6",
          "9"
         ],
         "xaxis": "x",
         "y": [
          "159 0.02 1 19",
          "159 0.025 1 13",
          "273 0.02 1 61",
          "273 0.025 1 37",
          "325 0.02 1 100",
          "325 0.02 2 90",
          "325 0.025 1 62",
          "325 0.025 2 56",
          "400 0.02 1 181",
          "400 0.02 2 166",
          "400 0.025 1 111",
          "400 0.025 2 100",
          "600 0.02 1 389",
          "600 0.02 2 370",
          "600 0.02 4 334",
          "600 0.02 6 316",
          "600 0.025 1 257",
          "600 0.025 2 240",
          "600 0.025 4 206",
          "600 0.025 6 196",
          "800 0.02 1 717",
          "800 0.02 2 690",
          "800 0.02 4 638",
          "800 0.02 6 618",
          "800 0.025 1 465",
          "800 0.025 2 442",
          "800 0.025 4 404",
          "800 0.025 6 384",
          "1000 0.02 1 1173",
          "1000 0.02 2 1138",
          "1000 0.02 4 1072",
          "1000 0.02 6 1044",
          "1000 0.025 1 747",
          "1000 0.025 2 718",
          "1000 0.025 4 666",
          "1000 0.025 6 642",
          "1200 0.02 1 1701",
          "1200 0.02 2 1658",
          "1200 0.02 4 1580",
          "1200 0.02 6 1544",
          "1200 0.025 1 1083",
          "1200 0.025 2 1048",
          "1200 0.025 4 986",
          "1200 0.025 6 958"
         ],
         "yaxis": "y",
         "z": [
          [
           -3090,
           -1495,
           -1176,
           -811,
           null,
           null,
           null
          ],
          [
           -3253,
           -2135,
           -1576,
           -1018,
           null,
           null,
           null
          ],
          [
           -553,
           -335,
           -248,
           -127,
           null,
           null,
           null
          ],
          [
           -835,
           -523,
           -368,
           -212,
           null,
           null,
           null
          ],
          [
           null,
           -170,
           -105,
           -35,
           -2,
           null,
           null
          ],
          [
           null,
           -172,
           -110,
           -36,
           -3,
           null,
           null
          ],
          [
           null,
           -266,
           -174,
           -89,
           -41,
           null,
           null
          ],
          [
           null,
           -280,
           -174,
           -90,
           -41,
           null,
           null
          ],
          [
           null,
           null,
           -101,
           -36,
           0,
           32,
           null
          ],
          [
           null,
           null,
           -7,
           28,
           47,
           64,
           null
          ],
          [
           null,
           null,
           -192,
           -91,
           -42,
           5,
           null
          ],
          [
           null,
           null,
           -50,
           0,
           23,
           49,
           null
          ],
          [
           null,
           null,
           -48,
           1,
           26,
           51,
           null
          ],
          [
           null,
           null,
           6,
           37,
           52,
           68,
           null
          ],
          [
           null,
           null,
           53,
           69,
           76,
           84,
           null
          ],
          [
           null,
           null,
           54,
           69,
           77,
           85,
           null
          ],
          [
           null,
           null,
           -105,
           -34,
           -1,
           32,
           null
          ],
          [
           null,
           null,
           -29,
           14,
           35,
           57,
           null
          ],
          [
           null,
           null,
           34,
           57,
           67,
           78,
           null
          ],
          [
           null,
           null,
           37,
           58,
           68,
           79,
           79
          ],
          [
           null,
           null,
           -26,
           16,
           37,
           58,
           72
          ],
          [
           null,
           null,
           26,
           50,
           63,
           75,
           83
          ],
          [
           null,
           null,
           51,
           68,
           76,
           84,
           89
          ],
          [
           null,
           null,
           76,
           84,
           88,
           92,
           95
          ],
          [
           null,
           null,
           -74,
           -17,
           13,
           42,
           61
          ],
          [
           null,
           null,
           -4,
           31,
           48,
           66,
           77
          ],
          [
           null,
           null,
           63,
           75,
           81,
           88,
           92
          ],
          [
           null,
           null,
           66,
           77,
           83,
           89,
           92
          ],
          [
           null,
           null,
           null,
           24,
           43,
           62,
           75
          ],
          [
           null,
           null,
           null,
           56,
           67,
           78,
           86
          ],
          [
           null,
           null,
           null,
           74,
           80,
           87,
           91
          ],
          [
           null,
           null,
           null,
           80,
           85,
           90,
           93
          ],
          [
           null,
           null,
           null,
           -6,
           20,
           47,
           65
          ],
          [
           null,
           null,
           null,
           39,
           55,
           70,
           80
          ],
          [
           null,
           null,
           null,
           63,
           72,
           82,
           88
          ],
          [
           null,
           null,
           null,
           85,
           89,
           92,
           95
          ],
          [
           null,
           null,
           null,
           null,
           46,
           64,
           76
          ],
          [
           null,
           null,
           null,
           null,
           70,
           80,
           87
          ],
          [
           null,
           null,
           null,
           null,
           82,
           88,
           92
          ],
          [
           null,
           null,
           null,
           null,
           87,
           91,
           94
          ],
          [
           null,
           null,
           null,
           null,
           25,
           50,
           67
          ],
          [
           null,
           null,
           null,
           null,
           58,
           72,
           81
          ],
          [
           null,
           null,
           null,
           null,
           76,
           84,
           89
          ],
          [
           null,
           null,
           null,
           null,
           82,
           88,
           92
          ]
         ]
        }
       ],
       "layout": {
        "coloraxis": {
         "cmax": 80,
         "cmin": -40,
         "colorbar": {
          "title": {
           "text": "Запас поверхности, %"
          }
         },
         "colorscale": [
          [
           0,
           "rgb(178, 50, 34)"
          ],
          [
           0.5,
           "rgb(34, 149, 34)"
          ],
          [
           1,
           "rgb(25, 65, 225)"
          ]
         ]
        },
        "height": 1000,
        "margin": {
         "t": 60
        },
        "template": {
         "data": {
          "bar": [
           {
            "error_x": {
             "color": "#2a3f5f"
            },
            "error_y": {
             "color": "#2a3f5f"
            },
            "marker": {
             "line": {
              "color": "#E5ECF6",
              "width": 0.5
             },
             "pattern": {
              "fillmode": "overlay",
              "size": 10,
              "solidity": 0.2
             }
            },
            "type": "bar"
           }
          ],
          "barpolar": [
           {
            "marker": {
             "line": {
              "color": "#E5ECF6",
              "width": 0.5
             },
             "pattern": {
              "fillmode": "overlay",
              "size": 10,
              "solidity": 0.2
             }
            },
            "type": "barpolar"
           }
          ],
          "carpet": [
           {
            "aaxis": {
             "endlinecolor": "#2a3f5f",
             "gridcolor": "white",
             "linecolor": "white",
             "minorgridcolor": "white",
             "startlinecolor": "#2a3f5f"
            },
            "baxis": {
             "endlinecolor": "#2a3f5f",
             "gridcolor": "white",
             "linecolor": "white",
             "minorgridcolor": "white",
             "startlinecolor": "#2a3f5f"
            },
            "type": "carpet"
           }
          ],
          "choropleth": [
           {
            "colorbar": {
             "outlinewidth": 0,
             "ticks": ""
            },
            "type": "choropleth"
           }
          ],
          "contour": [
           {
            "colorbar": {
             "outlinewidth": 0,
             "ticks": ""
            },
            "colorscale": [
             [
              0,
              "#0d0887"
             ],
             [
              0.1111111111111111,
              "#46039f"
             ],
             [
              0.2222222222222222,
              "#7201a8"
             ],
             [
              0.3333333333333333,
              "#9c179e"
             ],
             [
              0.4444444444444444,
              "#bd3786"
             ],
             [
              0.5555555555555556,
              "#d8576b"
             ],
             [
              0.6666666666666666,
              "#ed7953"
             ],
             [
              0.7777777777777778,
              "#fb9f3a"
             ],
             [
              0.8888888888888888,
              "#fdca26"
             ],
             [
              1,
              "#f0f921"
             ]
            ],
            "type": "contour"
           }
          ],
          "contourcarpet": [
           {
            "colorbar": {
             "outlinewidth": 0,
             "ticks": ""
            },
            "type": "contourcarpet"
           }
          ],
          "heatmap": [
           {
            "colorbar": {
             "outlinewidth": 0,
             "ticks": ""
            },
            "colorscale": [
             [
              0,
              "#0d0887"
             ],
             [
              0.1111111111111111,
              "#46039f"
             ],
             [
              0.2222222222222222,
              "#7201a8"
             ],
             [
              0.3333333333333333,
              "#9c179e"
             ],
             [
              0.4444444444444444,
              "#bd3786"
             ],
             [
              0.5555555555555556,
              "#d8576b"
             ],
             [
              0.6666666666666666,
              "#ed7953"
             ],
             [
              0.7777777777777778,
              "#fb9f3a"
             ],
             [
              0.8888888888888888,
              "#fdca26"
             ],
             [
              1,
              "#f0f921"
             ]
            ],
            "type": "heatmap"
           }
          ],
          "heatmapgl": [
           {
            "colorbar": {
             "outlinewidth": 0,
             "ticks": ""
            },
            "colorscale": [
             [
              0,
              "#0d0887"
             ],
             [
              0.1111111111111111,
              "#46039f"
             ],
             [
              0.2222222222222222,
              "#7201a8"
             ],
             [
              0.3333333333333333,
              "#9c179e"
             ],
             [
              0.4444444444444444,
              "#bd3786"
             ],
             [
              0.5555555555555556,
              "#d8576b"
             ],
             [
              0.6666666666666666,
              "#ed7953"
             ],
             [
              0.7777777777777778,
              "#fb9f3a"
             ],
             [
              0.8888888888888888,
              "#fdca26"
             ],
             [
              1,
              "#f0f921"
             ]
            ],
            "type": "heatmapgl"
           }
          ],
          "histogram": [
           {
            "marker": {
             "pattern": {
              "fillmode": "overlay",
              "size": 10,
              "solidity": 0.2
             }
            },
            "type": "histogram"
           }
          ],
          "histogram2d": [
           {
            "colorbar": {
             "outlinewidth": 0,
             "ticks": ""
            },
            "colorscale": [
             [
              0,
              "#0d0887"
             ],
             [
              0.1111111111111111,
              "#46039f"
             ],
             [
              0.2222222222222222,
              "#7201a8"
             ],
             [
              0.3333333333333333,
              "#9c179e"
             ],
             [
              0.4444444444444444,
              "#bd3786"
             ],
             [
              0.5555555555555556,
              "#d8576b"
             ],
             [
              0.6666666666666666,
              "#ed7953"
             ],
             [
              0.7777777777777778,
              "#fb9f3a"
             ],
             [
              0.8888888888888888,
              "#fdca26"
             ],
             [
              1,
              "#f0f921"
             ]
            ],
            "type": "histogram2d"
           }
          ],
          "histogram2dcontour": [
           {
            "colorbar": {
             "outlinewidth": 0,
             "ticks": ""
            },
            "colorscale": [
             [
              0,
              "#0d0887"
             ],
             [
              0.1111111111111111,
              "#46039f"
             ],
             [
              0.2222222222222222,
              "#7201a8"
             ],
             [
              0.3333333333333333,
              "#9c179e"
             ],
             [
              0.4444444444444444,
              "#bd3786"
             ],
             [
              0.5555555555555556,
              "#d8576b"
             ],
             [
              0.6666666666666666,
              "#ed7953"
             ],
             [
              0.7777777777777778,
              "#fb9f3a"
             ],
             [
              0.8888888888888888,
              "#fdca26"
             ],
             [
              1,
              "#f0f921"
             ]
            ],
            "type": "histogram2dcontour"
           }
          ],
          "mesh3d": [
           {
            "colorbar": {
             "outlinewidth": 0,
             "ticks": ""
            },
            "type": "mesh3d"
           }
          ],
          "parcoords": [
           {
            "line": {
             "colorbar": {
              "outlinewidth": 0,
              "ticks": ""
             }
            },
            "type": "parcoords"
           }
          ],
          "pie": [
           {
            "automargin": true,
            "type": "pie"
           }
          ],
          "scatter": [
           {
            "fillpattern": {
             "fillmode": "overlay",
             "size": 10,
             "solidity": 0.2
            },
            "type": "scatter"
           }
          ],
          "scatter3d": [
           {
            "line": {
             "colorbar": {
              "outlinewidth": 0,
              "ticks": ""
             }
            },
            "marker": {
             "colorbar": {
              "outlinewidth": 0,
              "ticks": ""
             }
            },
            "type": "scatter3d"
           }
          ],
          "scattercarpet": [
           {
            "marker": {
             "colorbar": {
              "outlinewidth": 0,
              "ticks": ""
             }
            },
            "type": "scattercarpet"
           }
          ],
          "scattergeo": [
           {
            "marker": {
             "colorbar": {
              "outlinewidth": 0,
              "ticks": ""
             }
            },
            "type": "scattergeo"
           }
          ],
          "scattergl": [
           {
            "marker": {
             "colorbar": {
              "outlinewidth": 0,
              "ticks": ""
             }
            },
            "type": "scattergl"
           }
          ],
          "scattermapbox": [
           {
            "marker": {
             "colorbar": {
              "outlinewidth": 0,
              "ticks": ""
             }
            },
            "type": "scattermapbox"
           }
          ],
          "scatterpolar": [
           {
            "marker": {
             "colorbar": {
              "outlinewidth": 0,
              "ticks": ""
             }
            },
            "type": "scatterpolar"
           }
          ],
          "scatterpolargl": [
           {
            "marker": {
             "colorbar": {
              "outlinewidth": 0,
              "ticks": ""
             }
            },
            "type": "scatterpolargl"
           }
          ],
          "scatterternary": [
           {
            "marker": {
             "colorbar": {
              "outlinewidth": 0,
              "ticks": ""
             }
            },
            "type": "scatterternary"
           }
          ],
          "surface": [
           {
            "colorbar": {
             "outlinewidth": 0,
             "ticks": ""
            },
            "colorscale": [
             [
              0,
              "#0d0887"
             ],
             [
              0.1111111111111111,
              "#46039f"
             ],
             [
              0.2222222222222222,
              "#7201a8"
             ],
             [
              0.3333333333333333,
              "#9c179e"
             ],
             [
              0.4444444444444444,
              "#bd3786"
             ],
             [
              0.5555555555555556,
              "#d8576b"
             ],
             [
              0.6666666666666666,
              "#ed7953"
             ],
             [
              0.7777777777777778,
              "#fb9f3a"
             ],
             [
              0.8888888888888888,
              "#fdca26"
             ],
             [
              1,
              "#f0f921"
             ]
            ],
            "type": "surface"
           }
          ],
          "table": [
           {
            "cells": {
             "fill": {
              "color": "#EBF0F8"
             },
             "line": {
              "color": "white"
             }
            },
            "header": {
             "fill": {
              "color": "#C8D4E3"
             },
             "line": {
              "color": "white"
             }
            },
            "type": "table"
           }
          ]
         },
         "layout": {
          "annotationdefaults": {
           "arrowcolor": "#2a3f5f",
           "arrowhead": 0,
           "arrowwidth": 1
          },
          "autotypenumbers": "strict",
          "coloraxis": {
           "colorbar": {
            "outlinewidth": 0,
            "ticks": ""
           }
          },
          "colorscale": {
           "diverging": [
            [
             0,
             "#8e0152"
            ],
            [
             0.1,
             "#c51b7d"
            ],
            [
             0.2,
             "#de77ae"
            ],
            [
             0.3,
             "#f1b6da"
            ],
            [
             0.4,
             "#fde0ef"
            ],
            [
             0.5,
             "#f7f7f7"
            ],
            [
             0.6,
             "#e6f5d0"
            ],
            [
             0.7,
             "#b8e186"
            ],
            [
             0.8,
             "#7fbc41"
            ],
            [
             0.9,
             "#4d9221"
            ],
            [
             1,
             "#276419"
            ]
           ],
           "sequential": [
            [
             0,
             "#0d0887"
            ],
            [
             0.1111111111111111,
             "#46039f"
            ],
            [
             0.2222222222222222,
             "#7201a8"
            ],
            [
             0.3333333333333333,
             "#9c179e"
            ],
            [
             0.4444444444444444,
             "#bd3786"
            ],
            [
             0.5555555555555556,
             "#d8576b"
            ],
            [
             0.6666666666666666,
             "#ed7953"
            ],
            [
             0.7777777777777778,
             "#fb9f3a"
            ],
            [
             0.8888888888888888,
             "#fdca26"
            ],
            [
             1,
             "#f0f921"
            ]
           ],
           "sequentialminus": [
            [
             0,
             "#0d0887"
            ],
            [
             0.1111111111111111,
             "#46039f"
            ],
            [
             0.2222222222222222,
             "#7201a8"
            ],
            [
             0.3333333333333333,
             "#9c179e"
            ],
            [
             0.4444444444444444,
             "#bd3786"
            ],
            [
             0.5555555555555556,
             "#d8576b"
            ],
            [
             0.6666666666666666,
             "#ed7953"
            ],
            [
             0.7777777777777778,
             "#fb9f3a"
            ],
            [
             0.8888888888888888,
             "#fdca26"
            ],
            [
             1,
             "#f0f921"
            ]
           ]
          },
          "colorway": [
           "#636efa",
           "#EF553B",
           "#00cc96",
           "#ab63fa",
           "#FFA15A",
           "#19d3f3",
           "#FF6692",
           "#B6E880",
           "#FF97FF",
           "#FECB52"
          ],
          "font": {
           "color": "#2a3f5f"
          },
          "geo": {
           "bgcolor": "white",
           "lakecolor": "white",
           "landcolor": "#E5ECF6",
           "showlakes": true,
           "showland": true,
           "subunitcolor": "white"
          },
          "hoverlabel": {
           "align": "left"
          },
          "hovermode": "closest",
          "mapbox": {
           "style": "light"
          },
          "paper_bgcolor": "white",
          "plot_bgcolor": "#E5ECF6",
          "polar": {
           "angularaxis": {
            "gridcolor": "white",
            "linecolor": "white",
            "ticks": ""
           },
           "bgcolor": "#E5ECF6",
           "radialaxis": {
            "gridcolor": "white",
            "linecolor": "white",
            "ticks": ""
           }
          },
          "scene": {
           "xaxis": {
            "backgroundcolor": "#E5ECF6",
            "gridcolor": "white",
            "gridwidth": 2,
            "linecolor": "white",
            "showbackground": true,
            "ticks": "",
            "zerolinecolor": "white"
           },
           "yaxis": {
            "backgroundcolor": "#E5ECF6",
            "gridcolor": "white",
            "gridwidth": 2,
            "linecolor": "white",
            "showbackground": true,
            "ticks": "",
            "zerolinecolor": "white"
           },
           "zaxis": {
            "backgroundcolor": "#E5ECF6",
            "gridcolor": "white",
            "gridwidth": 2,
            "linecolor": "white",
            "showbackground": true,
            "ticks": "",
            "zerolinecolor": "white"
           }
          },
          "shapedefaults": {
           "line": {
            "color": "#2a3f5f"
           }
          },
          "ternary": {
           "aaxis": {
            "gridcolor": "white",
            "linecolor": "white",
            "ticks": ""
           },
           "baxis": {
            "gridcolor": "white",
            "linecolor": "white",
            "ticks": ""
           },
           "bgcolor": "#E5ECF6",
           "caxis": {
            "gridcolor": "white",
            "linecolor": "white",
            "ticks": ""
           }
          },
          "title": {
           "x": 0.05
          },
          "xaxis": {
           "automargin": true,
           "gridcolor": "white",
           "linecolor": "white",
           "ticks": "",
           "title": {
            "standoff": 15
           },
           "zerolinecolor": "white",
           "zerolinewidth": 2
          },
          "yaxis": {
           "automargin": true,
           "gridcolor": "white",
           "linecolor": "white",
           "ticks": "",
           "title": {
            "standoff": 15
           },
           "zerolinecolor": "white",
           "zerolinewidth": 2
          }
         }
        },
        "width": 500,
        "xaxis": {
         "anchor": "y",
         "domain": [
          0,
          1
         ],
         "title": {
          "text": "Длина труб"
         }
        },
        "yaxis": {
         "anchor": "x",
         "autorange": "reversed",
         "domain": [
          0,
          1
         ],
         "title": {
          "text": "Хараеткристики теплообменника"
         }
        }
       }
      }
     },
     "metadata": {},
     "output_type": "display_data"
    }
   ],
   "source": [
    "heaters_table = pd.read_excel('tables/Параметры кожухотрубчатых теплообменников и холодильников.xlsx',\n",
    "                   header=[2])\n",
    "\n",
    "exclude_list = ['d труб, мм']\n",
    "heaters_table[exclude_list] = heaters_table[exclude_list].apply(eq.get_diameter)\n",
    "heaters = eq.calculate_equipment(\n",
    "    heaters_table,\n",
    "    aqua_vapor_saturation_by_pressure,\n",
    "    aqua_liquid_saturation,\n",
    "    aqua_vapor_saturation,\n",
    "    balance,\n",
    "    properties,\n",
    "    FEED_TEMPERATURE,\n",
    "    thermal_balance,\n",
    "    Ropt,\n",
    "    EQ_NAME = 'подогреватель',\n",
    "    ORIENTACION = 'вертикальный', #может быть 'горизонтальный'\n",
    "    AQ_PRESSURE = 3) \n",
    "\n",
    "fig = px.imshow(\n",
    "    round(heaters),\n",
    "    labels=dict(x=\"Длина труб\", y=\"Хараеткристики теплообменника\", color=\"Запас поверхности, %\"),\n",
    "    range_color=[-40,80],\n",
    "    color_continuous_scale=[\"rgb(178, 50, 34)\", \"rgb(34, 149, 34)\", \"rgb(25, 65, 225)\"],\n",
    "    x=heaters.columns,\n",
    "    y=heaters.index,\n",
    "    text_auto=True, aspect=\"auto\",\n",
    "    width=500,\n",
    "    height=1000\n",
    "            )\n",
    "fig.show()"
   ]
  },
  {
   "cell_type": "code",
   "execution_count": 17,
   "metadata": {},
   "outputs": [
    {
     "data": {
      "text/plain": [
       "cредняя движущая сила теплопередачи                 68.996001\n",
       "тепловой поток в подогревателе                  739009.513185\n",
       "расход пара на подогрев                            381.129197\n",
       "критерий Рейнольдса                               9115.116718\n",
       "критерий Прандтля                                    4.589944\n",
       "коэффициент теплоотдачи в трубах                   317.330824\n",
       "коэффициент теплопередачи в межтрубном            1047.686788\n",
       "сумма термических сопротивлений                      0.000459\n",
       "коэффициент теплопередачи                          219.063691\n",
       "требуемая поверхность теплообмена                   48.894015\n",
       "запас поверхности, %                      [14.22102544237589]\n",
       "dtype: object"
      ]
     },
     "execution_count": 17,
     "metadata": {},
     "output_type": "execute_result"
    }
   ],
   "source": [
    "row = heaters_table.loc[17]\n",
    "name = '3'\n",
    "\n",
    "heater = eq.get_heater(row,\n",
    "        name,\n",
    "        aqua_vapor_saturation_by_pressure,\n",
    "        aqua_liquid_saturation,\n",
    "        aqua_vapor_saturation,\n",
    "        balance, properties,\n",
    "        FEED_TEMPERATURE,\n",
    "        Ropt,\n",
    "        ORIENTACION='вертикальный',\n",
    "        AQ_PRESSURE=3, call='direct')\n",
    "\n",
    "heater\n",
    "\n"
   ]
  },
  {
   "cell_type": "code",
   "execution_count": 18,
   "metadata": {},
   "outputs": [
    {
     "data": {
      "application/vnd.plotly.v1+json": {
       "config": {
        "plotlyServerURL": "https://plot.ly"
       },
       "data": [
        {
         "coloraxis": "coloraxis",
         "hovertemplate": "Длина труб: %{x}<br>Хараеткристики теплообменника: %{y}<br>Запас поверхности, %: %{z}<extra></extra>",
         "name": "0",
         "texttemplate": "%{z}",
         "type": "heatmap",
         "x": [
          "1",
          "1.5",
          "2",
          "3",
          "4",
          "6",
          "9"
         ],
         "xaxis": "x",
         "y": [
          "159 0.02 1 19",
          "159 0.025 1 13",
          "273 0.02 1 61",
          "273 0.025 1 37",
          "325 0.02 1 100",
          "325 0.02 2 90",
          "325 0.025 1 62",
          "325 0.025 2 56",
          "400 0.02 1 181",
          "400 0.02 2 166",
          "400 0.025 1 111",
          "400 0.025 2 100",
          "600 0.02 1 389",
          "600 0.02 2 370",
          "600 0.02 4 334",
          "600 0.02 6 316",
          "600 0.025 1 257",
          "600 0.025 2 240",
          "600 0.025 4 206",
          "600 0.025 6 196",
          "800 0.02 1 717",
          "800 0.02 2 690",
          "800 0.02 4 638",
          "800 0.02 6 618",
          "800 0.025 1 465",
          "800 0.025 2 442",
          "800 0.025 4 404",
          "800 0.025 6 384",
          "1000 0.02 1 1173",
          "1000 0.02 2 1138",
          "1000 0.02 4 1072",
          "1000 0.02 6 1044",
          "1000 0.025 1 747",
          "1000 0.025 2 718",
          "1000 0.025 4 666",
          "1000 0.025 6 642",
          "1200 0.02 1 1701",
          "1200 0.02 2 1658",
          "1200 0.02 4 1580",
          "1200 0.02 6 1544",
          "1200 0.025 1 1083",
          "1200 0.025 2 1048",
          "1200 0.025 4 986",
          "1200 0.025 6 958"
         ],
         "yaxis": "y",
         "z": [
          [
           -7140,
           -3578,
           -2879,
           -2069,
           null,
           null,
           null
          ],
          [
           -7140,
           -4804,
           -3624,
           -2430,
           null,
           null,
           null
          ],
          [
           -1710,
           -1126,
           -893,
           -560,
           null,
           null,
           null
          ],
          [
           -2313,
           -1535,
           -1141,
           -743,
           null,
           null,
           null
          ],
          [
           null,
           -674,
           -496,
           -300,
           -208,
           null,
           null
          ],
          [
           null,
           -765,
           -577,
           -347,
           -242,
           null,
           null
          ],
          [
           null,
           -881,
           -645,
           -423,
           -295,
           null,
           null
          ],
          [
           null,
           -1032,
           -728,
           -484,
           -340,
           null,
           null
          ],
          [
           null,
           null,
           -224,
           -123,
           -67,
           -16,
           null
          ],
          [
           null,
           null,
           -255,
           -145,
           -83,
           -25,
           null
          ],
          [
           null,
           null,
           -338,
           -192,
           -120,
           -52,
           null
          ],
          [
           null,
           null,
           -365,
           -216,
           -149,
           -68,
           null
          ],
          [
           null,
           null,
           -52,
           -4,
           21,
           46,
           null
          ],
          [
           null,
           null,
           -58,
           -8,
           17,
           43,
           null
          ],
          [
           null,
           null,
           -77,
           -20,
           8,
           37,
           null
          ],
          [
           null,
           null,
           -86,
           -27,
           2,
           34,
           null
          ],
          [
           null,
           null,
           -86,
           -24,
           5,
           35,
           null
          ],
          [
           null,
           null,
           -96,
           -33,
           -3,
           30,
           null
          ],
          [
           null,
           null,
           -133,
           -55,
           -19,
           19,
           null
          ],
          [
           null,
           null,
           -140,
           -65,
           -26,
           13,
           11
          ],
          [
           null,
           null,
           17,
           44,
           57,
           71,
           80
          ],
          [
           null,
           null,
           14,
           42,
           55,
           70,
           79
          ],
          [
           null,
           null,
           7,
           37,
           52,
           67,
           78
          ],
          [
           null,
           null,
           5,
           35,
           50,
           66,
           77
          ],
          [
           null,
           null,
           -2,
           30,
           47,
           64,
           75
          ],
          [
           null,
           null,
           -8,
           27,
           45,
           62,
           74
          ],
          [
           null,
           null,
           -18,
           20,
           39,
           59,
           72
          ],
          [
           null,
           null,
           -24,
           16,
           36,
           56,
           70
          ],
          [
           null,
           null,
           null,
           66,
           74,
           82,
           88
          ],
          [
           null,
           null,
           null,
           65,
           73,
           82,
           87
          ],
          [
           null,
           null,
           null,
           62,
           71,
           80,
           87
          ],
          [
           null,
           null,
           null,
           61,
           71,
           80,
           86
          ],
          [
           null,
           null,
           null,
           57,
           67,
           78,
           85
          ],
          [
           null,
           null,
           null,
           55,
           66,
           77,
           84
          ],
          [
           null,
           null,
           null,
           52,
           63,
           75,
           83
          ],
          [
           null,
           null,
           null,
           50,
           62,
           74,
           82
          ],
          [
           null,
           null,
           null,
           null,
           82,
           88,
           92
          ],
          [
           null,
           null,
           null,
           null,
           82,
           87,
           91
          ],
          [
           null,
           null,
           null,
           null,
           81,
           87,
           91
          ],
          [
           null,
           null,
           null,
           null,
           80,
           86,
           91
          ],
          [
           null,
           null,
           null,
           null,
           77,
           85,
           89
          ],
          [
           null,
           null,
           null,
           null,
           77,
           84,
           89
          ],
          [
           null,
           null,
           null,
           null,
           75,
           83,
           88
          ],
          [
           null,
           null,
           null,
           null,
           74,
           83,
           88
          ]
         ]
        }
       ],
       "layout": {
        "coloraxis": {
         "cmax": 80,
         "cmin": -40,
         "colorbar": {
          "title": {
           "text": "Запас поверхности, %"
          }
         },
         "colorscale": [
          [
           0,
           "rgb(178, 50, 34)"
          ],
          [
           0.5,
           "rgb(34, 149, 34)"
          ],
          [
           1,
           "rgb(25, 65, 225)"
          ]
         ]
        },
        "height": 1000,
        "margin": {
         "t": 60
        },
        "template": {
         "data": {
          "bar": [
           {
            "error_x": {
             "color": "#2a3f5f"
            },
            "error_y": {
             "color": "#2a3f5f"
            },
            "marker": {
             "line": {
              "color": "#E5ECF6",
              "width": 0.5
             },
             "pattern": {
              "fillmode": "overlay",
              "size": 10,
              "solidity": 0.2
             }
            },
            "type": "bar"
           }
          ],
          "barpolar": [
           {
            "marker": {
             "line": {
              "color": "#E5ECF6",
              "width": 0.5
             },
             "pattern": {
              "fillmode": "overlay",
              "size": 10,
              "solidity": 0.2
             }
            },
            "type": "barpolar"
           }
          ],
          "carpet": [
           {
            "aaxis": {
             "endlinecolor": "#2a3f5f",
             "gridcolor": "white",
             "linecolor": "white",
             "minorgridcolor": "white",
             "startlinecolor": "#2a3f5f"
            },
            "baxis": {
             "endlinecolor": "#2a3f5f",
             "gridcolor": "white",
             "linecolor": "white",
             "minorgridcolor": "white",
             "startlinecolor": "#2a3f5f"
            },
            "type": "carpet"
           }
          ],
          "choropleth": [
           {
            "colorbar": {
             "outlinewidth": 0,
             "ticks": ""
            },
            "type": "choropleth"
           }
          ],
          "contour": [
           {
            "colorbar": {
             "outlinewidth": 0,
             "ticks": ""
            },
            "colorscale": [
             [
              0,
              "#0d0887"
             ],
             [
              0.1111111111111111,
              "#46039f"
             ],
             [
              0.2222222222222222,
              "#7201a8"
             ],
             [
              0.3333333333333333,
              "#9c179e"
             ],
             [
              0.4444444444444444,
              "#bd3786"
             ],
             [
              0.5555555555555556,
              "#d8576b"
             ],
             [
              0.6666666666666666,
              "#ed7953"
             ],
             [
              0.7777777777777778,
              "#fb9f3a"
             ],
             [
              0.8888888888888888,
              "#fdca26"
             ],
             [
              1,
              "#f0f921"
             ]
            ],
            "type": "contour"
           }
          ],
          "contourcarpet": [
           {
            "colorbar": {
             "outlinewidth": 0,
             "ticks": ""
            },
            "type": "contourcarpet"
           }
          ],
          "heatmap": [
           {
            "colorbar": {
             "outlinewidth": 0,
             "ticks": ""
            },
            "colorscale": [
             [
              0,
              "#0d0887"
             ],
             [
              0.1111111111111111,
              "#46039f"
             ],
             [
              0.2222222222222222,
              "#7201a8"
             ],
             [
              0.3333333333333333,
              "#9c179e"
             ],
             [
              0.4444444444444444,
              "#bd3786"
             ],
             [
              0.5555555555555556,
              "#d8576b"
             ],
             [
              0.6666666666666666,
              "#ed7953"
             ],
             [
              0.7777777777777778,
              "#fb9f3a"
             ],
             [
              0.8888888888888888,
              "#fdca26"
             ],
             [
              1,
              "#f0f921"
             ]
            ],
            "type": "heatmap"
           }
          ],
          "heatmapgl": [
           {
            "colorbar": {
             "outlinewidth": 0,
             "ticks": ""
            },
            "colorscale": [
             [
              0,
              "#0d0887"
             ],
             [
              0.1111111111111111,
              "#46039f"
             ],
             [
              0.2222222222222222,
              "#7201a8"
             ],
             [
              0.3333333333333333,
              "#9c179e"
             ],
             [
              0.4444444444444444,
              "#bd3786"
             ],
             [
              0.5555555555555556,
              "#d8576b"
             ],
             [
              0.6666666666666666,
              "#ed7953"
             ],
             [
              0.7777777777777778,
              "#fb9f3a"
             ],
             [
              0.8888888888888888,
              "#fdca26"
             ],
             [
              1,
              "#f0f921"
             ]
            ],
            "type": "heatmapgl"
           }
          ],
          "histogram": [
           {
            "marker": {
             "pattern": {
              "fillmode": "overlay",
              "size": 10,
              "solidity": 0.2
             }
            },
            "type": "histogram"
           }
          ],
          "histogram2d": [
           {
            "colorbar": {
             "outlinewidth": 0,
             "ticks": ""
            },
            "colorscale": [
             [
              0,
              "#0d0887"
             ],
             [
              0.1111111111111111,
              "#46039f"
             ],
             [
              0.2222222222222222,
              "#7201a8"
             ],
             [
              0.3333333333333333,
              "#9c179e"
             ],
             [
              0.4444444444444444,
              "#bd3786"
             ],
             [
              0.5555555555555556,
              "#d8576b"
             ],
             [
              0.6666666666666666,
              "#ed7953"
             ],
             [
              0.7777777777777778,
              "#fb9f3a"
             ],
             [
              0.8888888888888888,
              "#fdca26"
             ],
             [
              1,
              "#f0f921"
             ]
            ],
            "type": "histogram2d"
           }
          ],
          "histogram2dcontour": [
           {
            "colorbar": {
             "outlinewidth": 0,
             "ticks": ""
            },
            "colorscale": [
             [
              0,
              "#0d0887"
             ],
             [
              0.1111111111111111,
              "#46039f"
             ],
             [
              0.2222222222222222,
              "#7201a8"
             ],
             [
              0.3333333333333333,
              "#9c179e"
             ],
             [
              0.4444444444444444,
              "#bd3786"
             ],
             [
              0.5555555555555556,
              "#d8576b"
             ],
             [
              0.6666666666666666,
              "#ed7953"
             ],
             [
              0.7777777777777778,
              "#fb9f3a"
             ],
             [
              0.8888888888888888,
              "#fdca26"
             ],
             [
              1,
              "#f0f921"
             ]
            ],
            "type": "histogram2dcontour"
           }
          ],
          "mesh3d": [
           {
            "colorbar": {
             "outlinewidth": 0,
             "ticks": ""
            },
            "type": "mesh3d"
           }
          ],
          "parcoords": [
           {
            "line": {
             "colorbar": {
              "outlinewidth": 0,
              "ticks": ""
             }
            },
            "type": "parcoords"
           }
          ],
          "pie": [
           {
            "automargin": true,
            "type": "pie"
           }
          ],
          "scatter": [
           {
            "fillpattern": {
             "fillmode": "overlay",
             "size": 10,
             "solidity": 0.2
            },
            "type": "scatter"
           }
          ],
          "scatter3d": [
           {
            "line": {
             "colorbar": {
              "outlinewidth": 0,
              "ticks": ""
             }
            },
            "marker": {
             "colorbar": {
              "outlinewidth": 0,
              "ticks": ""
             }
            },
            "type": "scatter3d"
           }
          ],
          "scattercarpet": [
           {
            "marker": {
             "colorbar": {
              "outlinewidth": 0,
              "ticks": ""
             }
            },
            "type": "scattercarpet"
           }
          ],
          "scattergeo": [
           {
            "marker": {
             "colorbar": {
              "outlinewidth": 0,
              "ticks": ""
             }
            },
            "type": "scattergeo"
           }
          ],
          "scattergl": [
           {
            "marker": {
             "colorbar": {
              "outlinewidth": 0,
              "ticks": ""
             }
            },
            "type": "scattergl"
           }
          ],
          "scattermapbox": [
           {
            "marker": {
             "colorbar": {
              "outlinewidth": 0,
              "ticks": ""
             }
            },
            "type": "scattermapbox"
           }
          ],
          "scatterpolar": [
           {
            "marker": {
             "colorbar": {
              "outlinewidth": 0,
              "ticks": ""
             }
            },
            "type": "scatterpolar"
           }
          ],
          "scatterpolargl": [
           {
            "marker": {
             "colorbar": {
              "outlinewidth": 0,
              "ticks": ""
             }
            },
            "type": "scatterpolargl"
           }
          ],
          "scatterternary": [
           {
            "marker": {
             "colorbar": {
              "outlinewidth": 0,
              "ticks": ""
             }
            },
            "type": "scatterternary"
           }
          ],
          "surface": [
           {
            "colorbar": {
             "outlinewidth": 0,
             "ticks": ""
            },
            "colorscale": [
             [
              0,
              "#0d0887"
             ],
             [
              0.1111111111111111,
              "#46039f"
             ],
             [
              0.2222222222222222,
              "#7201a8"
             ],
             [
              0.3333333333333333,
              "#9c179e"
             ],
             [
              0.4444444444444444,
              "#bd3786"
             ],
             [
              0.5555555555555556,
              "#d8576b"
             ],
             [
              0.6666666666666666,
              "#ed7953"
             ],
             [
              0.7777777777777778,
              "#fb9f3a"
             ],
             [
              0.8888888888888888,
              "#fdca26"
             ],
             [
              1,
              "#f0f921"
             ]
            ],
            "type": "surface"
           }
          ],
          "table": [
           {
            "cells": {
             "fill": {
              "color": "#EBF0F8"
             },
             "line": {
              "color": "white"
             }
            },
            "header": {
             "fill": {
              "color": "#C8D4E3"
             },
             "line": {
              "color": "white"
             }
            },
            "type": "table"
           }
          ]
         },
         "layout": {
          "annotationdefaults": {
           "arrowcolor": "#2a3f5f",
           "arrowhead": 0,
           "arrowwidth": 1
          },
          "autotypenumbers": "strict",
          "coloraxis": {
           "colorbar": {
            "outlinewidth": 0,
            "ticks": ""
           }
          },
          "colorscale": {
           "diverging": [
            [
             0,
             "#8e0152"
            ],
            [
             0.1,
             "#c51b7d"
            ],
            [
             0.2,
             "#de77ae"
            ],
            [
             0.3,
             "#f1b6da"
            ],
            [
             0.4,
             "#fde0ef"
            ],
            [
             0.5,
             "#f7f7f7"
            ],
            [
             0.6,
             "#e6f5d0"
            ],
            [
             0.7,
             "#b8e186"
            ],
            [
             0.8,
             "#7fbc41"
            ],
            [
             0.9,
             "#4d9221"
            ],
            [
             1,
             "#276419"
            ]
           ],
           "sequential": [
            [
             0,
             "#0d0887"
            ],
            [
             0.1111111111111111,
             "#46039f"
            ],
            [
             0.2222222222222222,
             "#7201a8"
            ],
            [
             0.3333333333333333,
             "#9c179e"
            ],
            [
             0.4444444444444444,
             "#bd3786"
            ],
            [
             0.5555555555555556,
             "#d8576b"
            ],
            [
             0.6666666666666666,
             "#ed7953"
            ],
            [
             0.7777777777777778,
             "#fb9f3a"
            ],
            [
             0.8888888888888888,
             "#fdca26"
            ],
            [
             1,
             "#f0f921"
            ]
           ],
           "sequentialminus": [
            [
             0,
             "#0d0887"
            ],
            [
             0.1111111111111111,
             "#46039f"
            ],
            [
             0.2222222222222222,
             "#7201a8"
            ],
            [
             0.3333333333333333,
             "#9c179e"
            ],
            [
             0.4444444444444444,
             "#bd3786"
            ],
            [
             0.5555555555555556,
             "#d8576b"
            ],
            [
             0.6666666666666666,
             "#ed7953"
            ],
            [
             0.7777777777777778,
             "#fb9f3a"
            ],
            [
             0.8888888888888888,
             "#fdca26"
            ],
            [
             1,
             "#f0f921"
            ]
           ]
          },
          "colorway": [
           "#636efa",
           "#EF553B",
           "#00cc96",
           "#ab63fa",
           "#FFA15A",
           "#19d3f3",
           "#FF6692",
           "#B6E880",
           "#FF97FF",
           "#FECB52"
          ],
          "font": {
           "color": "#2a3f5f"
          },
          "geo": {
           "bgcolor": "white",
           "lakecolor": "white",
           "landcolor": "#E5ECF6",
           "showlakes": true,
           "showland": true,
           "subunitcolor": "white"
          },
          "hoverlabel": {
           "align": "left"
          },
          "hovermode": "closest",
          "mapbox": {
           "style": "light"
          },
          "paper_bgcolor": "white",
          "plot_bgcolor": "#E5ECF6",
          "polar": {
           "angularaxis": {
            "gridcolor": "white",
            "linecolor": "white",
            "ticks": ""
           },
           "bgcolor": "#E5ECF6",
           "radialaxis": {
            "gridcolor": "white",
            "linecolor": "white",
            "ticks": ""
           }
          },
          "scene": {
           "xaxis": {
            "backgroundcolor": "#E5ECF6",
            "gridcolor": "white",
            "gridwidth": 2,
            "linecolor": "white",
            "showbackground": true,
            "ticks": "",
            "zerolinecolor": "white"
           },
           "yaxis": {
            "backgroundcolor": "#E5ECF6",
            "gridcolor": "white",
            "gridwidth": 2,
            "linecolor": "white",
            "showbackground": true,
            "ticks": "",
            "zerolinecolor": "white"
           },
           "zaxis": {
            "backgroundcolor": "#E5ECF6",
            "gridcolor": "white",
            "gridwidth": 2,
            "linecolor": "white",
            "showbackground": true,
            "ticks": "",
            "zerolinecolor": "white"
           }
          },
          "shapedefaults": {
           "line": {
            "color": "#2a3f5f"
           }
          },
          "ternary": {
           "aaxis": {
            "gridcolor": "white",
            "linecolor": "white",
            "ticks": ""
           },
           "baxis": {
            "gridcolor": "white",
            "linecolor": "white",
            "ticks": ""
           },
           "bgcolor": "#E5ECF6",
           "caxis": {
            "gridcolor": "white",
            "linecolor": "white",
            "ticks": ""
           }
          },
          "title": {
           "x": 0.05
          },
          "xaxis": {
           "automargin": true,
           "gridcolor": "white",
           "linecolor": "white",
           "ticks": "",
           "title": {
            "standoff": 15
           },
           "zerolinecolor": "white",
           "zerolinewidth": 2
          },
          "yaxis": {
           "automargin": true,
           "gridcolor": "white",
           "linecolor": "white",
           "ticks": "",
           "title": {
            "standoff": 15
           },
           "zerolinecolor": "white",
           "zerolinewidth": 2
          }
         }
        },
        "width": 500,
        "xaxis": {
         "anchor": "y",
         "domain": [
          0,
          1
         ],
         "title": {
          "text": "Длина труб"
         }
        },
        "yaxis": {
         "anchor": "x",
         "autorange": "reversed",
         "domain": [
          0,
          1
         ],
         "title": {
          "text": "Хараеткристики теплообменника"
         }
        }
       }
      }
     },
     "metadata": {},
     "output_type": "display_data"
    }
   ],
   "source": [
    "heaters_table = pd.read_excel('tables/Параметры кожухотрубчатых теплообменников и холодильников.xlsx',\n",
    "                   header=[2])\n",
    "\n",
    "exclude_list = ['d труб, мм']\n",
    "heaters_table[exclude_list] = heaters_table[exclude_list].apply(eq.get_diameter)\n",
    "heaters = eq.calculate_equipment(\n",
    "        heaters_table,\n",
    "        aqua_vapor_saturation_by_pressure,\n",
    "        aqua_liquid_saturation,\n",
    "        aqua_vapor_saturation,\n",
    "        balance,\n",
    "        properties,\n",
    "        FEED_TEMPERATURE,\n",
    "        thermal_balance,\n",
    "        Ropt,\n",
    "        EQ_NAME = 'испаритель',\n",
    "        AQ_PRESSURE = 3)\n",
    "\n",
    "fig = px.imshow(\n",
    "    round(heaters),\n",
    "    labels=dict(x=\"Длина труб\", y=\"Хараеткристики теплообменника\", color=\"Запас поверхности, %\"),\n",
    "    range_color=[-40,80],\n",
    "    color_continuous_scale=[\"rgb(178, 50, 34)\", \"rgb(34, 149, 34)\", \"rgb(25, 65, 225)\"],\n",
    "    x=heaters.columns,\n",
    "    y=heaters.index,\n",
    "    text_auto=True, aspect=\"auto\",\n",
    "    width=500,\n",
    "    height=1000\n",
    "            )\n",
    "fig.show()"
   ]
  },
  {
   "cell_type": "code",
   "execution_count": 19,
   "metadata": {},
   "outputs": [
    {
     "data": {
      "text/plain": [
       "необходимый расход пара                                 [1.077309221216665]\n",
       "cредняя движущая сила теплопередачи                               24.666584\n",
       "коэффициент теплоотдачи от пара к трубам                      252369.979462\n",
       "коэффициент теплоотдачи от труб к жидкости в трубах                 2.77312\n",
       "сумма термических сопротивлений                                    0.000373\n",
       "удельная тепловая нагрузка                             [15764.630585223407]\n",
       "требуемая поверхность теплообмена                      [149.57625620541114]\n",
       "запас поверхности, %                                   [15.013490792380033]\n",
       "dtype: object"
      ]
     },
     "execution_count": 19,
     "metadata": {},
     "output_type": "execute_result"
    }
   ],
   "source": [
    "row = heaters_table.loc[32]\n",
    "name = '3'\n",
    "\n",
    "evaporator = eq.get_evaporator(row,\n",
    "            name,                  \n",
    "            aqua_vapor_saturation_by_pressure, \n",
    "            aqua_liquid_saturation,\n",
    "            aqua_vapor_saturation,\n",
    "            properties,\n",
    "            thermal_balance,\n",
    "            AQ_PRESSURE = 2,\n",
    "            call = 'direct')\n",
    "\n",
    "evaporator"
   ]
  },
  {
   "cell_type": "code",
   "execution_count": 20,
   "metadata": {},
   "outputs": [
    {
     "data": {
      "application/vnd.plotly.v1+json": {
       "config": {
        "plotlyServerURL": "https://plot.ly"
       },
       "data": [
        {
         "coloraxis": "coloraxis",
         "hovertemplate": "Длина труб: %{x}<br>Хараеткристики теплообменника: %{y}<br>Запас поверхности, %: %{z}<extra></extra>",
         "name": "0",
         "texttemplate": "%{z}",
         "type": "heatmap",
         "x": [
          "1",
          "1.5",
          "2",
          "3",
          "4",
          "6",
          "9"
         ],
         "xaxis": "x",
         "y": [
          "159 0.02 1 19",
          "159 0.025 1 13",
          "273 0.02 1 61",
          "273 0.025 1 37",
          "325 0.02 1 100",
          "325 0.02 2 90",
          "325 0.025 1 62",
          "325 0.025 2 56",
          "400 0.02 1 181",
          "400 0.02 2 166",
          "400 0.025 1 111",
          "400 0.025 2 100",
          "600 0.02 1 389",
          "600 0.02 2 370",
          "600 0.02 4 334",
          "600 0.02 6 316",
          "600 0.025 1 257",
          "600 0.025 2 240",
          "600 0.025 4 206",
          "600 0.025 6 196",
          "800 0.02 1 717",
          "800 0.02 2 690",
          "800 0.02 4 638",
          "800 0.02 6 618",
          "800 0.025 1 465",
          "800 0.025 2 442",
          "800 0.025 4 404",
          "800 0.025 6 384",
          "1000 0.02 1 1173",
          "1000 0.02 2 1138",
          "1000 0.02 4 1072",
          "1000 0.02 6 1044",
          "1000 0.025 1 747",
          "1000 0.025 2 718",
          "1000 0.025 4 666",
          "1000 0.025 6 642",
          "1200 0.02 1 1701",
          "1200 0.02 2 1658",
          "1200 0.02 4 1580",
          "1200 0.02 6 1544",
          "1200 0.025 1 1083",
          "1200 0.025 2 1048",
          "1200 0.025 4 986",
          "1200 0.025 6 958"
         ],
         "yaxis": "y",
         "z": [
          [
           -2366,
           -1133,
           -886,
           -605,
           null,
           null,
           null
          ],
          [
           -2490,
           -1627,
           -1195,
           -763,
           null,
           null,
           null
          ],
          [
           -401,
           -234,
           -167,
           -74,
           null,
           null,
           null
          ],
          [
           -618,
           -378,
           -259,
           -139,
           null,
           null,
           null
          ],
          [
           null,
           -105,
           -56,
           -3,
           22,
           null,
           null
          ],
          [
           null,
           -109,
           -61,
           -4,
           21,
           null,
           null
          ],
          [
           null,
           -179,
           -109,
           -44,
           -7,
           null,
           null
          ],
          [
           null,
           -192,
           -111,
           -46,
           -8,
           null,
           null
          ],
          [
           null,
           null,
           -48,
           0,
           26,
           50,
           null
          ],
          [
           null,
           null,
           19,
           45,
           59,
           73,
           null
          ],
          [
           null,
           null,
           -29,
           16,
           37,
           58,
           null
          ],
          [
           null,
           null,
           -14,
           24,
           41,
           61,
           null
          ],
          [
           null,
           null,
           -7,
           28,
           47,
           64,
           null
          ],
          [
           null,
           null,
           31,
           54,
           65,
           77,
           null
          ],
          [
           null,
           null,
           64,
           76,
           82,
           88,
           null
          ],
          [
           null,
           null,
           65,
           77,
           82,
           88,
           null
          ],
          [
           null,
           null,
           -48,
           3,
           27,
           51,
           null
          ],
          [
           null,
           null,
           6,
           37,
           52,
           68,
           null
          ],
          [
           null,
           null,
           50,
           67,
           75,
           83,
           null
          ],
          [
           null,
           null,
           52,
           68,
           76,
           84,
           84
          ],
          [
           null,
           null,
           10,
           40,
           55,
           70,
           80
          ],
          [
           null,
           null,
           46,
           64,
           73,
           82,
           88
          ],
          [
           null,
           null,
           64,
           76,
           82,
           88,
           92
          ],
          [
           null,
           null,
           81,
           88,
           91,
           94,
           96
          ],
          [
           null,
           null,
           -25,
           16,
           37,
           58,
           72
          ],
          [
           null,
           null,
           25,
           50,
           63,
           75,
           83
          ],
          [
           null,
           null,
           72,
           81,
           86,
           91,
           94
          ],
          [
           null,
           null,
           74,
           83,
           87,
           91,
           94
          ],
          [
           null,
           null,
           null,
           46,
           59,
           73,
           82
          ],
          [
           null,
           null,
           null,
           69,
           77,
           84,
           90
          ],
          [
           null,
           null,
           null,
           81,
           86,
           90,
           94
          ],
          [
           null,
           null,
           null,
           85,
           89,
           93,
           95
          ],
          [
           null,
           null,
           null,
           24,
           43,
           62,
           75
          ],
          [
           null,
           null,
           null,
           56,
           67,
           78,
           85
          ],
          [
           null,
           null,
           null,
           73,
           80,
           87,
           91
          ],
          [
           null,
           null,
           null,
           89,
           92,
           94,
           96
          ],
          [
           null,
           null,
           null,
           null,
           62,
           74,
           83
          ],
          [
           null,
           null,
           null,
           null,
           78,
           86,
           90
          ],
          [
           null,
           null,
           null,
           null,
           87,
           92,
           94
          ],
          [
           null,
           null,
           null,
           null,
           90,
           94,
           96
          ],
          [
           null,
           null,
           null,
           null,
           46,
           64,
           76
          ],
          [
           null,
           null,
           null,
           null,
           70,
           80,
           87
          ],
          [
           null,
           null,
           null,
           null,
           82,
           88,
           92
          ],
          [
           null,
           null,
           null,
           null,
           87,
           91,
           94
          ]
         ]
        }
       ],
       "layout": {
        "coloraxis": {
         "cmax": 80,
         "cmin": -40,
         "colorbar": {
          "title": {
           "text": "Запас поверхности, %"
          }
         },
         "colorscale": [
          [
           0,
           "rgb(178, 50, 34)"
          ],
          [
           0.5,
           "rgb(34, 149, 34)"
          ],
          [
           1,
           "rgb(25, 65, 225)"
          ]
         ]
        },
        "height": 1000,
        "margin": {
         "t": 60
        },
        "template": {
         "data": {
          "bar": [
           {
            "error_x": {
             "color": "#2a3f5f"
            },
            "error_y": {
             "color": "#2a3f5f"
            },
            "marker": {
             "line": {
              "color": "#E5ECF6",
              "width": 0.5
             },
             "pattern": {
              "fillmode": "overlay",
              "size": 10,
              "solidity": 0.2
             }
            },
            "type": "bar"
           }
          ],
          "barpolar": [
           {
            "marker": {
             "line": {
              "color": "#E5ECF6",
              "width": 0.5
             },
             "pattern": {
              "fillmode": "overlay",
              "size": 10,
              "solidity": 0.2
             }
            },
            "type": "barpolar"
           }
          ],
          "carpet": [
           {
            "aaxis": {
             "endlinecolor": "#2a3f5f",
             "gridcolor": "white",
             "linecolor": "white",
             "minorgridcolor": "white",
             "startlinecolor": "#2a3f5f"
            },
            "baxis": {
             "endlinecolor": "#2a3f5f",
             "gridcolor": "white",
             "linecolor": "white",
             "minorgridcolor": "white",
             "startlinecolor": "#2a3f5f"
            },
            "type": "carpet"
           }
          ],
          "choropleth": [
           {
            "colorbar": {
             "outlinewidth": 0,
             "ticks": ""
            },
            "type": "choropleth"
           }
          ],
          "contour": [
           {
            "colorbar": {
             "outlinewidth": 0,
             "ticks": ""
            },
            "colorscale": [
             [
              0,
              "#0d0887"
             ],
             [
              0.1111111111111111,
              "#46039f"
             ],
             [
              0.2222222222222222,
              "#7201a8"
             ],
             [
              0.3333333333333333,
              "#9c179e"
             ],
             [
              0.4444444444444444,
              "#bd3786"
             ],
             [
              0.5555555555555556,
              "#d8576b"
             ],
             [
              0.6666666666666666,
              "#ed7953"
             ],
             [
              0.7777777777777778,
              "#fb9f3a"
             ],
             [
              0.8888888888888888,
              "#fdca26"
             ],
             [
              1,
              "#f0f921"
             ]
            ],
            "type": "contour"
           }
          ],
          "contourcarpet": [
           {
            "colorbar": {
             "outlinewidth": 0,
             "ticks": ""
            },
            "type": "contourcarpet"
           }
          ],
          "heatmap": [
           {
            "colorbar": {
             "outlinewidth": 0,
             "ticks": ""
            },
            "colorscale": [
             [
              0,
              "#0d0887"
             ],
             [
              0.1111111111111111,
              "#46039f"
             ],
             [
              0.2222222222222222,
              "#7201a8"
             ],
             [
              0.3333333333333333,
              "#9c179e"
             ],
             [
              0.4444444444444444,
              "#bd3786"
             ],
             [
              0.5555555555555556,
              "#d8576b"
             ],
             [
              0.6666666666666666,
              "#ed7953"
             ],
             [
              0.7777777777777778,
              "#fb9f3a"
             ],
             [
              0.8888888888888888,
              "#fdca26"
             ],
             [
              1,
              "#f0f921"
             ]
            ],
            "type": "heatmap"
           }
          ],
          "heatmapgl": [
           {
            "colorbar": {
             "outlinewidth": 0,
             "ticks": ""
            },
            "colorscale": [
             [
              0,
              "#0d0887"
             ],
             [
              0.1111111111111111,
              "#46039f"
             ],
             [
              0.2222222222222222,
              "#7201a8"
             ],
             [
              0.3333333333333333,
              "#9c179e"
             ],
             [
              0.4444444444444444,
              "#bd3786"
             ],
             [
              0.5555555555555556,
              "#d8576b"
             ],
             [
              0.6666666666666666,
              "#ed7953"
             ],
             [
              0.7777777777777778,
              "#fb9f3a"
             ],
             [
              0.8888888888888888,
              "#fdca26"
             ],
             [
              1,
              "#f0f921"
             ]
            ],
            "type": "heatmapgl"
           }
          ],
          "histogram": [
           {
            "marker": {
             "pattern": {
              "fillmode": "overlay",
              "size": 10,
              "solidity": 0.2
             }
            },
            "type": "histogram"
           }
          ],
          "histogram2d": [
           {
            "colorbar": {
             "outlinewidth": 0,
             "ticks": ""
            },
            "colorscale": [
             [
              0,
              "#0d0887"
             ],
             [
              0.1111111111111111,
              "#46039f"
             ],
             [
              0.2222222222222222,
              "#7201a8"
             ],
             [
              0.3333333333333333,
              "#9c179e"
             ],
             [
              0.4444444444444444,
              "#bd3786"
             ],
             [
              0.5555555555555556,
              "#d8576b"
             ],
             [
              0.6666666666666666,
              "#ed7953"
             ],
             [
              0.7777777777777778,
              "#fb9f3a"
             ],
             [
              0.8888888888888888,
              "#fdca26"
             ],
             [
              1,
              "#f0f921"
             ]
            ],
            "type": "histogram2d"
           }
          ],
          "histogram2dcontour": [
           {
            "colorbar": {
             "outlinewidth": 0,
             "ticks": ""
            },
            "colorscale": [
             [
              0,
              "#0d0887"
             ],
             [
              0.1111111111111111,
              "#46039f"
             ],
             [
              0.2222222222222222,
              "#7201a8"
             ],
             [
              0.3333333333333333,
              "#9c179e"
             ],
             [
              0.4444444444444444,
              "#bd3786"
             ],
             [
              0.5555555555555556,
              "#d8576b"
             ],
             [
              0.6666666666666666,
              "#ed7953"
             ],
             [
              0.7777777777777778,
              "#fb9f3a"
             ],
             [
              0.8888888888888888,
              "#fdca26"
             ],
             [
              1,
              "#f0f921"
             ]
            ],
            "type": "histogram2dcontour"
           }
          ],
          "mesh3d": [
           {
            "colorbar": {
             "outlinewidth": 0,
             "ticks": ""
            },
            "type": "mesh3d"
           }
          ],
          "parcoords": [
           {
            "line": {
             "colorbar": {
              "outlinewidth": 0,
              "ticks": ""
             }
            },
            "type": "parcoords"
           }
          ],
          "pie": [
           {
            "automargin": true,
            "type": "pie"
           }
          ],
          "scatter": [
           {
            "fillpattern": {
             "fillmode": "overlay",
             "size": 10,
             "solidity": 0.2
            },
            "type": "scatter"
           }
          ],
          "scatter3d": [
           {
            "line": {
             "colorbar": {
              "outlinewidth": 0,
              "ticks": ""
             }
            },
            "marker": {
             "colorbar": {
              "outlinewidth": 0,
              "ticks": ""
             }
            },
            "type": "scatter3d"
           }
          ],
          "scattercarpet": [
           {
            "marker": {
             "colorbar": {
              "outlinewidth": 0,
              "ticks": ""
             }
            },
            "type": "scattercarpet"
           }
          ],
          "scattergeo": [
           {
            "marker": {
             "colorbar": {
              "outlinewidth": 0,
              "ticks": ""
             }
            },
            "type": "scattergeo"
           }
          ],
          "scattergl": [
           {
            "marker": {
             "colorbar": {
              "outlinewidth": 0,
              "ticks": ""
             }
            },
            "type": "scattergl"
           }
          ],
          "scattermapbox": [
           {
            "marker": {
             "colorbar": {
              "outlinewidth": 0,
              "ticks": ""
             }
            },
            "type": "scattermapbox"
           }
          ],
          "scatterpolar": [
           {
            "marker": {
             "colorbar": {
              "outlinewidth": 0,
              "ticks": ""
             }
            },
            "type": "scatterpolar"
           }
          ],
          "scatterpolargl": [
           {
            "marker": {
             "colorbar": {
              "outlinewidth": 0,
              "ticks": ""
             }
            },
            "type": "scatterpolargl"
           }
          ],
          "scatterternary": [
           {
            "marker": {
             "colorbar": {
              "outlinewidth": 0,
              "ticks": ""
             }
            },
            "type": "scatterternary"
           }
          ],
          "surface": [
           {
            "colorbar": {
             "outlinewidth": 0,
             "ticks": ""
            },
            "colorscale": [
             [
              0,
              "#0d0887"
             ],
             [
              0.1111111111111111,
              "#46039f"
             ],
             [
              0.2222222222222222,
              "#7201a8"
             ],
             [
              0.3333333333333333,
              "#9c179e"
             ],
             [
              0.4444444444444444,
              "#bd3786"
             ],
             [
              0.5555555555555556,
              "#d8576b"
             ],
             [
              0.6666666666666666,
              "#ed7953"
             ],
             [
              0.7777777777777778,
              "#fb9f3a"
             ],
             [
              0.8888888888888888,
              "#fdca26"
             ],
             [
              1,
              "#f0f921"
             ]
            ],
            "type": "surface"
           }
          ],
          "table": [
           {
            "cells": {
             "fill": {
              "color": "#EBF0F8"
             },
             "line": {
              "color": "white"
             }
            },
            "header": {
             "fill": {
              "color": "#C8D4E3"
             },
             "line": {
              "color": "white"
             }
            },
            "type": "table"
           }
          ]
         },
         "layout": {
          "annotationdefaults": {
           "arrowcolor": "#2a3f5f",
           "arrowhead": 0,
           "arrowwidth": 1
          },
          "autotypenumbers": "strict",
          "coloraxis": {
           "colorbar": {
            "outlinewidth": 0,
            "ticks": ""
           }
          },
          "colorscale": {
           "diverging": [
            [
             0,
             "#8e0152"
            ],
            [
             0.1,
             "#c51b7d"
            ],
            [
             0.2,
             "#de77ae"
            ],
            [
             0.3,
             "#f1b6da"
            ],
            [
             0.4,
             "#fde0ef"
            ],
            [
             0.5,
             "#f7f7f7"
            ],
            [
             0.6,
             "#e6f5d0"
            ],
            [
             0.7,
             "#b8e186"
            ],
            [
             0.8,
             "#7fbc41"
            ],
            [
             0.9,
             "#4d9221"
            ],
            [
             1,
             "#276419"
            ]
           ],
           "sequential": [
            [
             0,
             "#0d0887"
            ],
            [
             0.1111111111111111,
             "#46039f"
            ],
            [
             0.2222222222222222,
             "#7201a8"
            ],
            [
             0.3333333333333333,
             "#9c179e"
            ],
            [
             0.4444444444444444,
             "#bd3786"
            ],
            [
             0.5555555555555556,
             "#d8576b"
            ],
            [
             0.6666666666666666,
             "#ed7953"
            ],
            [
             0.7777777777777778,
             "#fb9f3a"
            ],
            [
             0.8888888888888888,
             "#fdca26"
            ],
            [
             1,
             "#f0f921"
            ]
           ],
           "sequentialminus": [
            [
             0,
             "#0d0887"
            ],
            [
             0.1111111111111111,
             "#46039f"
            ],
            [
             0.2222222222222222,
             "#7201a8"
            ],
            [
             0.3333333333333333,
             "#9c179e"
            ],
            [
             0.4444444444444444,
             "#bd3786"
            ],
            [
             0.5555555555555556,
             "#d8576b"
            ],
            [
             0.6666666666666666,
             "#ed7953"
            ],
            [
             0.7777777777777778,
             "#fb9f3a"
            ],
            [
             0.8888888888888888,
             "#fdca26"
            ],
            [
             1,
             "#f0f921"
            ]
           ]
          },
          "colorway": [
           "#636efa",
           "#EF553B",
           "#00cc96",
           "#ab63fa",
           "#FFA15A",
           "#19d3f3",
           "#FF6692",
           "#B6E880",
           "#FF97FF",
           "#FECB52"
          ],
          "font": {
           "color": "#2a3f5f"
          },
          "geo": {
           "bgcolor": "white",
           "lakecolor": "white",
           "landcolor": "#E5ECF6",
           "showlakes": true,
           "showland": true,
           "subunitcolor": "white"
          },
          "hoverlabel": {
           "align": "left"
          },
          "hovermode": "closest",
          "mapbox": {
           "style": "light"
          },
          "paper_bgcolor": "white",
          "plot_bgcolor": "#E5ECF6",
          "polar": {
           "angularaxis": {
            "gridcolor": "white",
            "linecolor": "white",
            "ticks": ""
           },
           "bgcolor": "#E5ECF6",
           "radialaxis": {
            "gridcolor": "white",
            "linecolor": "white",
            "ticks": ""
           }
          },
          "scene": {
           "xaxis": {
            "backgroundcolor": "#E5ECF6",
            "gridcolor": "white",
            "gridwidth": 2,
            "linecolor": "white",
            "showbackground": true,
            "ticks": "",
            "zerolinecolor": "white"
           },
           "yaxis": {
            "backgroundcolor": "#E5ECF6",
            "gridcolor": "white",
            "gridwidth": 2,
            "linecolor": "white",
            "showbackground": true,
            "ticks": "",
            "zerolinecolor": "white"
           },
           "zaxis": {
            "backgroundcolor": "#E5ECF6",
            "gridcolor": "white",
            "gridwidth": 2,
            "linecolor": "white",
            "showbackground": true,
            "ticks": "",
            "zerolinecolor": "white"
           }
          },
          "shapedefaults": {
           "line": {
            "color": "#2a3f5f"
           }
          },
          "ternary": {
           "aaxis": {
            "gridcolor": "white",
            "linecolor": "white",
            "ticks": ""
           },
           "baxis": {
            "gridcolor": "white",
            "linecolor": "white",
            "ticks": ""
           },
           "bgcolor": "#E5ECF6",
           "caxis": {
            "gridcolor": "white",
            "linecolor": "white",
            "ticks": ""
           }
          },
          "title": {
           "x": 0.05
          },
          "xaxis": {
           "automargin": true,
           "gridcolor": "white",
           "linecolor": "white",
           "ticks": "",
           "title": {
            "standoff": 15
           },
           "zerolinecolor": "white",
           "zerolinewidth": 2
          },
          "yaxis": {
           "automargin": true,
           "gridcolor": "white",
           "linecolor": "white",
           "ticks": "",
           "title": {
            "standoff": 15
           },
           "zerolinecolor": "white",
           "zerolinewidth": 2
          }
         }
        },
        "width": 500,
        "xaxis": {
         "anchor": "y",
         "domain": [
          0,
          1
         ],
         "title": {
          "text": "Длина труб"
         }
        },
        "yaxis": {
         "anchor": "x",
         "autorange": "reversed",
         "domain": [
          0,
          1
         ],
         "title": {
          "text": "Хараеткристики теплообменника"
         }
        }
       }
      }
     },
     "metadata": {},
     "output_type": "display_data"
    }
   ],
   "source": [
    "heaters = eq.calculate_equipment(\n",
    "        heaters_table,\n",
    "        aqua_vapor_saturation_by_pressure,\n",
    "        aqua_liquid_saturation,\n",
    "        aqua_vapor_saturation,\n",
    "        balance,\n",
    "        properties,\n",
    "        FEED_TEMPERATURE,\n",
    "        thermal_balance,\n",
    "        Ropt,\n",
    "        EQ_NAME = 'дефлегматор',\n",
    "        ORIENTACION = 'вертикальный',\n",
    "        AQ_PRESSURE = 3)\n",
    "\n",
    "fig = px.imshow(\n",
    "    round(heaters),\n",
    "    labels=dict(x=\"Длина труб\", y=\"Хараеткристики теплообменника\", color=\"Запас поверхности, %\"),\n",
    "    range_color=[-40,80],\n",
    "    color_continuous_scale=[\"rgb(178, 50, 34)\", \"rgb(34, 149, 34)\", \"rgb(25, 65, 225)\"],\n",
    "    x=heaters.columns,\n",
    "    y=heaters.index,\n",
    "    text_auto=True, aspect=\"auto\",\n",
    "    width=500,\n",
    "    height=1000\n",
    "    )\n",
    "fig.show()"
   ]
  },
  {
   "cell_type": "code",
   "execution_count": 21,
   "metadata": {},
   "outputs": [
    {
     "data": {
      "text/plain": [
       "cредняя движущая сила теплопередачи                 79.461255\n",
       "тепловой поток в подогревателе                  676736.925394\n",
       "расход пара на подогрев                             349.01337\n",
       "критерий Рейнольдса                               9413.712264\n",
       "критерий Прандтля                                    4.744572\n",
       "коэффициент теплоотдачи в трубах                   354.755724\n",
       "коэффициент теплопередачи в межтрубном            1078.884248\n",
       "сумма термических сопротивлений                      0.000459\n",
       "коэффициент теплопередачи                          237.821299\n",
       "требуемая поверхность теплообмена                   35.810774\n",
       "запас поверхности, %                      [5.761121230262919]\n",
       "dtype: object"
      ]
     },
     "execution_count": 21,
     "metadata": {},
     "output_type": "execute_result"
    }
   ],
   "source": [
    "row = heaters_table.loc[17]\n",
    "name = '2'\n",
    "\n",
    "heater = eq.get_heater(row,\n",
    "        name,\n",
    "        aqua_vapor_saturation_by_pressure,\n",
    "        aqua_liquid_saturation,\n",
    "        aqua_vapor_saturation,\n",
    "        balance, properties,\n",
    "        FEED_TEMPERATURE,\n",
    "        Ropt,\n",
    "        HEATER_NAME = 'дефлегматор',\n",
    "        ORIENTACION='вертикальный',\n",
    "        AQ_PRESSURE=3, call='direct')\n",
    "\n",
    "heater"
   ]
  },
  {
   "cell_type": "code",
   "execution_count": 22,
   "metadata": {},
   "outputs": [
    {
     "data": {
      "application/vnd.plotly.v1+json": {
       "config": {
        "plotlyServerURL": "https://plot.ly"
       },
       "data": [
        {
         "coloraxis": "coloraxis",
         "hovertemplate": "Длина труб: %{x}<br>Хараеткристики теплообменника: %{y}<br>Запас поверхности, %: %{z}<extra></extra>",
         "name": "0",
         "texttemplate": "%{z}",
         "type": "heatmap",
         "x": [
          "1",
          "1.5",
          "2",
          "3",
          "4",
          "6",
          "9"
         ],
         "xaxis": "x",
         "y": [
          "159 0.02 1 19",
          "159 0.025 1 13",
          "273 0.02 1 61",
          "273 0.025 1 37",
          "325 0.02 1 100",
          "325 0.02 2 90",
          "325 0.025 1 62",
          "325 0.025 2 56",
          "400 0.02 1 181",
          "400 0.02 2 166",
          "400 0.025 1 111",
          "400 0.025 2 100",
          "600 0.02 1 389",
          "600 0.02 2 370",
          "600 0.02 4 334",
          "600 0.02 6 316",
          "600 0.025 1 257",
          "600 0.025 2 240",
          "600 0.025 4 206",
          "600 0.025 6 196",
          "800 0.02 1 717",
          "800 0.02 2 690",
          "800 0.02 4 638",
          "800 0.02 6 618",
          "800 0.025 1 465",
          "800 0.025 2 442",
          "800 0.025 4 404",
          "800 0.025 6 384",
          "1000 0.02 1 1173",
          "1000 0.02 2 1138",
          "1000 0.02 4 1072",
          "1000 0.02 6 1044",
          "1000 0.025 1 747",
          "1000 0.025 2 718",
          "1000 0.025 4 666",
          "1000 0.025 6 642",
          "1200 0.02 1 1701",
          "1200 0.02 2 1658",
          "1200 0.02 4 1580",
          "1200 0.02 6 1544",
          "1200 0.025 1 1083",
          "1200 0.025 2 1048",
          "1200 0.025 4 986",
          "1200 0.025 6 958"
         ],
         "yaxis": "y",
         "z": [
          [
           -698,
           -299,
           -219,
           -128,
           null,
           null,
           null
          ],
          [
           -773,
           -482,
           -336,
           -191,
           null,
           null,
           null
          ],
          [
           -538,
           -326,
           -240,
           -122,
           null,
           null,
           null
          ],
          [
           -811,
           -507,
           -356,
           -204,
           null,
           null,
           null
          ],
          [
           null,
           -266,
           -178,
           -83,
           -39,
           null,
           null
          ],
          [
           null,
           -143,
           -88,
           -22,
           8,
           null,
           null
          ],
          [
           null,
           -403,
           -278,
           -160,
           -94,
           null,
           null
          ],
          [
           null,
           -98,
           -43,
           1,
           27,
           null,
           null
          ],
          [
           null,
           null,
           -140,
           -62,
           -20,
           19,
           null
          ],
          [
           null,
           null,
           -50,
           -2,
           25,
           50,
           null
          ],
          [
           null,
           null,
           -250,
           -129,
           -70,
           -14,
           null
          ],
          [
           null,
           null,
           -110,
           -40,
           -8,
           29,
           null
          ],
          [
           null,
           null,
           -113,
           -43,
           -6,
           29,
           null
          ],
          [
           null,
           null,
           -25,
           16,
           37,
           58,
           null
          ],
          [
           null,
           null,
           18,
           46,
           59,
           73,
           null
          ],
          [
           null,
           null,
           34,
           56,
           67,
           78,
           null
          ],
          [
           null,
           null,
           -199,
           -96,
           -48,
           1,
           null
          ],
          [
           null,
           null,
           -74,
           -16,
           12,
           41,
           null
          ],
          [
           null,
           null,
           -16,
           24,
           43,
           62,
           null
          ],
          [
           null,
           null,
           43,
           62,
           71,
           81,
           81
          ],
          [
           null,
           null,
           -92,
           -28,
           4,
           36,
           57
          ],
          [
           null,
           null,
           -8,
           27,
           45,
           64,
           76
          ],
          [
           null,
           null,
           35,
           56,
           67,
           78,
           86
          ],
          [
           null,
           null,
           50,
           67,
           75,
           83,
           89
          ],
          [
           null,
           null,
           -172,
           -82,
           -36,
           9,
           40
          ],
          [
           null,
           null,
           -58,
           -5,
           22,
           48,
           65
          ],
          [
           null,
           null,
           3,
           35,
           52,
           68,
           78
          ],
          [
           null,
           null,
           24,
           49,
           62,
           75,
           83
          ],
          [
           null,
           null,
           null,
           -20,
           10,
           40,
           60
          ],
          [
           null,
           null,
           null,
           33,
           50,
           66,
           78
          ],
          [
           null,
           null,
           null,
           61,
           70,
           80,
           87
          ],
          [
           null,
           null,
           null,
           71,
           78,
           85,
           90
          ],
          [
           null,
           null,
           null,
           -68,
           -26,
           16,
           44
          ],
          [
           null,
           null,
           null,
           6,
           29,
           53,
           69
          ],
          [
           null,
           null,
           null,
           45,
           59,
           72,
           82
          ],
          [
           null,
           null,
           null,
           58,
           69,
           79,
           86
          ],
          [
           null,
           null,
           null,
           null,
           14,
           43,
           62
          ],
          [
           null,
           null,
           null,
           null,
           52,
           68,
           79
          ],
          [
           null,
           null,
           null,
           null,
           72,
           82,
           88
          ],
          [
           null,
           null,
           null,
           null,
           79,
           86,
           91
          ],
          [
           null,
           null,
           null,
           null,
           -21,
           20,
           46
          ],
          [
           null,
           null,
           null,
           null,
           33,
           55,
           70
          ],
          [
           null,
           null,
           null,
           null,
           61,
           74,
           83
          ],
          [
           null,
           null,
           null,
           null,
           71,
           81,
           87
          ]
         ]
        }
       ],
       "layout": {
        "coloraxis": {
         "cmax": 80,
         "cmin": -40,
         "colorbar": {
          "title": {
           "text": "Запас поверхности, %"
          }
         },
         "colorscale": [
          [
           0,
           "rgb(178, 50, 34)"
          ],
          [
           0.5,
           "rgb(34, 149, 34)"
          ],
          [
           1,
           "rgb(25, 65, 225)"
          ]
         ]
        },
        "height": 1000,
        "margin": {
         "t": 60
        },
        "template": {
         "data": {
          "bar": [
           {
            "error_x": {
             "color": "#2a3f5f"
            },
            "error_y": {
             "color": "#2a3f5f"
            },
            "marker": {
             "line": {
              "color": "#E5ECF6",
              "width": 0.5
             },
             "pattern": {
              "fillmode": "overlay",
              "size": 10,
              "solidity": 0.2
             }
            },
            "type": "bar"
           }
          ],
          "barpolar": [
           {
            "marker": {
             "line": {
              "color": "#E5ECF6",
              "width": 0.5
             },
             "pattern": {
              "fillmode": "overlay",
              "size": 10,
              "solidity": 0.2
             }
            },
            "type": "barpolar"
           }
          ],
          "carpet": [
           {
            "aaxis": {
             "endlinecolor": "#2a3f5f",
             "gridcolor": "white",
             "linecolor": "white",
             "minorgridcolor": "white",
             "startlinecolor": "#2a3f5f"
            },
            "baxis": {
             "endlinecolor": "#2a3f5f",
             "gridcolor": "white",
             "linecolor": "white",
             "minorgridcolor": "white",
             "startlinecolor": "#2a3f5f"
            },
            "type": "carpet"
           }
          ],
          "choropleth": [
           {
            "colorbar": {
             "outlinewidth": 0,
             "ticks": ""
            },
            "type": "choropleth"
           }
          ],
          "contour": [
           {
            "colorbar": {
             "outlinewidth": 0,
             "ticks": ""
            },
            "colorscale": [
             [
              0,
              "#0d0887"
             ],
             [
              0.1111111111111111,
              "#46039f"
             ],
             [
              0.2222222222222222,
              "#7201a8"
             ],
             [
              0.3333333333333333,
              "#9c179e"
             ],
             [
              0.4444444444444444,
              "#bd3786"
             ],
             [
              0.5555555555555556,
              "#d8576b"
             ],
             [
              0.6666666666666666,
              "#ed7953"
             ],
             [
              0.7777777777777778,
              "#fb9f3a"
             ],
             [
              0.8888888888888888,
              "#fdca26"
             ],
             [
              1,
              "#f0f921"
             ]
            ],
            "type": "contour"
           }
          ],
          "contourcarpet": [
           {
            "colorbar": {
             "outlinewidth": 0,
             "ticks": ""
            },
            "type": "contourcarpet"
           }
          ],
          "heatmap": [
           {
            "colorbar": {
             "outlinewidth": 0,
             "ticks": ""
            },
            "colorscale": [
             [
              0,
              "#0d0887"
             ],
             [
              0.1111111111111111,
              "#46039f"
             ],
             [
              0.2222222222222222,
              "#7201a8"
             ],
             [
              0.3333333333333333,
              "#9c179e"
             ],
             [
              0.4444444444444444,
              "#bd3786"
             ],
             [
              0.5555555555555556,
              "#d8576b"
             ],
             [
              0.6666666666666666,
              "#ed7953"
             ],
             [
              0.7777777777777778,
              "#fb9f3a"
             ],
             [
              0.8888888888888888,
              "#fdca26"
             ],
             [
              1,
              "#f0f921"
             ]
            ],
            "type": "heatmap"
           }
          ],
          "heatmapgl": [
           {
            "colorbar": {
             "outlinewidth": 0,
             "ticks": ""
            },
            "colorscale": [
             [
              0,
              "#0d0887"
             ],
             [
              0.1111111111111111,
              "#46039f"
             ],
             [
              0.2222222222222222,
              "#7201a8"
             ],
             [
              0.3333333333333333,
              "#9c179e"
             ],
             [
              0.4444444444444444,
              "#bd3786"
             ],
             [
              0.5555555555555556,
              "#d8576b"
             ],
             [
              0.6666666666666666,
              "#ed7953"
             ],
             [
              0.7777777777777778,
              "#fb9f3a"
             ],
             [
              0.8888888888888888,
              "#fdca26"
             ],
             [
              1,
              "#f0f921"
             ]
            ],
            "type": "heatmapgl"
           }
          ],
          "histogram": [
           {
            "marker": {
             "pattern": {
              "fillmode": "overlay",
              "size": 10,
              "solidity": 0.2
             }
            },
            "type": "histogram"
           }
          ],
          "histogram2d": [
           {
            "colorbar": {
             "outlinewidth": 0,
             "ticks": ""
            },
            "colorscale": [
             [
              0,
              "#0d0887"
             ],
             [
              0.1111111111111111,
              "#46039f"
             ],
             [
              0.2222222222222222,
              "#7201a8"
             ],
             [
              0.3333333333333333,
              "#9c179e"
             ],
             [
              0.4444444444444444,
              "#bd3786"
             ],
             [
              0.5555555555555556,
              "#d8576b"
             ],
             [
              0.6666666666666666,
              "#ed7953"
             ],
             [
              0.7777777777777778,
              "#fb9f3a"
             ],
             [
              0.8888888888888888,
              "#fdca26"
             ],
             [
              1,
              "#f0f921"
             ]
            ],
            "type": "histogram2d"
           }
          ],
          "histogram2dcontour": [
           {
            "colorbar": {
             "outlinewidth": 0,
             "ticks": ""
            },
            "colorscale": [
             [
              0,
              "#0d0887"
             ],
             [
              0.1111111111111111,
              "#46039f"
             ],
             [
              0.2222222222222222,
              "#7201a8"
             ],
             [
              0.3333333333333333,
              "#9c179e"
             ],
             [
              0.4444444444444444,
              "#bd3786"
             ],
             [
              0.5555555555555556,
              "#d8576b"
             ],
             [
              0.6666666666666666,
              "#ed7953"
             ],
             [
              0.7777777777777778,
              "#fb9f3a"
             ],
             [
              0.8888888888888888,
              "#fdca26"
             ],
             [
              1,
              "#f0f921"
             ]
            ],
            "type": "histogram2dcontour"
           }
          ],
          "mesh3d": [
           {
            "colorbar": {
             "outlinewidth": 0,
             "ticks": ""
            },
            "type": "mesh3d"
           }
          ],
          "parcoords": [
           {
            "line": {
             "colorbar": {
              "outlinewidth": 0,
              "ticks": ""
             }
            },
            "type": "parcoords"
           }
          ],
          "pie": [
           {
            "automargin": true,
            "type": "pie"
           }
          ],
          "scatter": [
           {
            "fillpattern": {
             "fillmode": "overlay",
             "size": 10,
             "solidity": 0.2
            },
            "type": "scatter"
           }
          ],
          "scatter3d": [
           {
            "line": {
             "colorbar": {
              "outlinewidth": 0,
              "ticks": ""
             }
            },
            "marker": {
             "colorbar": {
              "outlinewidth": 0,
              "ticks": ""
             }
            },
            "type": "scatter3d"
           }
          ],
          "scattercarpet": [
           {
            "marker": {
             "colorbar": {
              "outlinewidth": 0,
              "ticks": ""
             }
            },
            "type": "scattercarpet"
           }
          ],
          "scattergeo": [
           {
            "marker": {
             "colorbar": {
              "outlinewidth": 0,
              "ticks": ""
             }
            },
            "type": "scattergeo"
           }
          ],
          "scattergl": [
           {
            "marker": {
             "colorbar": {
              "outlinewidth": 0,
              "ticks": ""
             }
            },
            "type": "scattergl"
           }
          ],
          "scattermapbox": [
           {
            "marker": {
             "colorbar": {
              "outlinewidth": 0,
              "ticks": ""
             }
            },
            "type": "scattermapbox"
           }
          ],
          "scatterpolar": [
           {
            "marker": {
             "colorbar": {
              "outlinewidth": 0,
              "ticks": ""
             }
            },
            "type": "scatterpolar"
           }
          ],
          "scatterpolargl": [
           {
            "marker": {
             "colorbar": {
              "outlinewidth": 0,
              "ticks": ""
             }
            },
            "type": "scatterpolargl"
           }
          ],
          "scatterternary": [
           {
            "marker": {
             "colorbar": {
              "outlinewidth": 0,
              "ticks": ""
             }
            },
            "type": "scatterternary"
           }
          ],
          "surface": [
           {
            "colorbar": {
             "outlinewidth": 0,
             "ticks": ""
            },
            "colorscale": [
             [
              0,
              "#0d0887"
             ],
             [
              0.1111111111111111,
              "#46039f"
             ],
             [
              0.2222222222222222,
              "#7201a8"
             ],
             [
              0.3333333333333333,
              "#9c179e"
             ],
             [
              0.4444444444444444,
              "#bd3786"
             ],
             [
              0.5555555555555556,
              "#d8576b"
             ],
             [
              0.6666666666666666,
              "#ed7953"
             ],
             [
              0.7777777777777778,
              "#fb9f3a"
             ],
             [
              0.8888888888888888,
              "#fdca26"
             ],
             [
              1,
              "#f0f921"
             ]
            ],
            "type": "surface"
           }
          ],
          "table": [
           {
            "cells": {
             "fill": {
              "color": "#EBF0F8"
             },
             "line": {
              "color": "white"
             }
            },
            "header": {
             "fill": {
              "color": "#C8D4E3"
             },
             "line": {
              "color": "white"
             }
            },
            "type": "table"
           }
          ]
         },
         "layout": {
          "annotationdefaults": {
           "arrowcolor": "#2a3f5f",
           "arrowhead": 0,
           "arrowwidth": 1
          },
          "autotypenumbers": "strict",
          "coloraxis": {
           "colorbar": {
            "outlinewidth": 0,
            "ticks": ""
           }
          },
          "colorscale": {
           "diverging": [
            [
             0,
             "#8e0152"
            ],
            [
             0.1,
             "#c51b7d"
            ],
            [
             0.2,
             "#de77ae"
            ],
            [
             0.3,
             "#f1b6da"
            ],
            [
             0.4,
             "#fde0ef"
            ],
            [
             0.5,
             "#f7f7f7"
            ],
            [
             0.6,
             "#e6f5d0"
            ],
            [
             0.7,
             "#b8e186"
            ],
            [
             0.8,
             "#7fbc41"
            ],
            [
             0.9,
             "#4d9221"
            ],
            [
             1,
             "#276419"
            ]
           ],
           "sequential": [
            [
             0,
             "#0d0887"
            ],
            [
             0.1111111111111111,
             "#46039f"
            ],
            [
             0.2222222222222222,
             "#7201a8"
            ],
            [
             0.3333333333333333,
             "#9c179e"
            ],
            [
             0.4444444444444444,
             "#bd3786"
            ],
            [
             0.5555555555555556,
             "#d8576b"
            ],
            [
             0.6666666666666666,
             "#ed7953"
            ],
            [
             0.7777777777777778,
             "#fb9f3a"
            ],
            [
             0.8888888888888888,
             "#fdca26"
            ],
            [
             1,
             "#f0f921"
            ]
           ],
           "sequentialminus": [
            [
             0,
             "#0d0887"
            ],
            [
             0.1111111111111111,
             "#46039f"
            ],
            [
             0.2222222222222222,
             "#7201a8"
            ],
            [
             0.3333333333333333,
             "#9c179e"
            ],
            [
             0.4444444444444444,
             "#bd3786"
            ],
            [
             0.5555555555555556,
             "#d8576b"
            ],
            [
             0.6666666666666666,
             "#ed7953"
            ],
            [
             0.7777777777777778,
             "#fb9f3a"
            ],
            [
             0.8888888888888888,
             "#fdca26"
            ],
            [
             1,
             "#f0f921"
            ]
           ]
          },
          "colorway": [
           "#636efa",
           "#EF553B",
           "#00cc96",
           "#ab63fa",
           "#FFA15A",
           "#19d3f3",
           "#FF6692",
           "#B6E880",
           "#FF97FF",
           "#FECB52"
          ],
          "font": {
           "color": "#2a3f5f"
          },
          "geo": {
           "bgcolor": "white",
           "lakecolor": "white",
           "landcolor": "#E5ECF6",
           "showlakes": true,
           "showland": true,
           "subunitcolor": "white"
          },
          "hoverlabel": {
           "align": "left"
          },
          "hovermode": "closest",
          "mapbox": {
           "style": "light"
          },
          "paper_bgcolor": "white",
          "plot_bgcolor": "#E5ECF6",
          "polar": {
           "angularaxis": {
            "gridcolor": "white",
            "linecolor": "white",
            "ticks": ""
           },
           "bgcolor": "#E5ECF6",
           "radialaxis": {
            "gridcolor": "white",
            "linecolor": "white",
            "ticks": ""
           }
          },
          "scene": {
           "xaxis": {
            "backgroundcolor": "#E5ECF6",
            "gridcolor": "white",
            "gridwidth": 2,
            "linecolor": "white",
            "showbackground": true,
            "ticks": "",
            "zerolinecolor": "white"
           },
           "yaxis": {
            "backgroundcolor": "#E5ECF6",
            "gridcolor": "white",
            "gridwidth": 2,
            "linecolor": "white",
            "showbackground": true,
            "ticks": "",
            "zerolinecolor": "white"
           },
           "zaxis": {
            "backgroundcolor": "#E5ECF6",
            "gridcolor": "white",
            "gridwidth": 2,
            "linecolor": "white",
            "showbackground": true,
            "ticks": "",
            "zerolinecolor": "white"
           }
          },
          "shapedefaults": {
           "line": {
            "color": "#2a3f5f"
           }
          },
          "ternary": {
           "aaxis": {
            "gridcolor": "white",
            "linecolor": "white",
            "ticks": ""
           },
           "baxis": {
            "gridcolor": "white",
            "linecolor": "white",
            "ticks": ""
           },
           "bgcolor": "#E5ECF6",
           "caxis": {
            "gridcolor": "white",
            "linecolor": "white",
            "ticks": ""
           }
          },
          "title": {
           "x": 0.05
          },
          "xaxis": {
           "automargin": true,
           "gridcolor": "white",
           "linecolor": "white",
           "ticks": "",
           "title": {
            "standoff": 15
           },
           "zerolinecolor": "white",
           "zerolinewidth": 2
          },
          "yaxis": {
           "automargin": true,
           "gridcolor": "white",
           "linecolor": "white",
           "ticks": "",
           "title": {
            "standoff": 15
           },
           "zerolinecolor": "white",
           "zerolinewidth": 2
          }
         }
        },
        "width": 500,
        "xaxis": {
         "anchor": "y",
         "domain": [
          0,
          1
         ],
         "title": {
          "text": "Длина труб"
         }
        },
        "yaxis": {
         "anchor": "x",
         "autorange": "reversed",
         "domain": [
          0,
          1
         ],
         "title": {
          "text": "Хараеткристики теплообменника"
         }
        }
       }
      }
     },
     "metadata": {},
     "output_type": "display_data"
    }
   ],
   "source": [
    "heaters = eq.calculate_equipment(\n",
    "        heaters_table,\n",
    "        aqua_vapor_saturation_by_pressure,\n",
    "        aqua_liquid_saturation,\n",
    "        aqua_vapor_saturation,\n",
    "        balance,\n",
    "        properties,\n",
    "        FEED_TEMPERATURE,\n",
    "        thermal_balance,\n",
    "        Ropt,\n",
    "        EQ_NAME = 'холодильник',\n",
    "        COOLER_NAME = 'дистиллята',\n",
    "        pipes = 'продукт',\n",
    "        aq_t = 20,\n",
    "        tk = 30\n",
    "        )\n",
    "\n",
    "fig = px.imshow(\n",
    "    round(heaters),\n",
    "    labels=dict(x=\"Длина труб\", y=\"Хараеткристики теплообменника\", color=\"Запас поверхности, %\"),\n",
    "    range_color=[-40,80],\n",
    "    color_continuous_scale=[\"rgb(178, 50, 34)\", \"rgb(34, 149, 34)\", \"rgb(25, 65, 225)\"],\n",
    "    x=heaters.columns,\n",
    "    y=heaters.index,\n",
    "    text_auto=True, aspect=\"auto\",\n",
    "    width=500,\n",
    "    height=1000\n",
    "    )\n",
    "fig.show()"
   ]
  },
  {
   "cell_type": "code",
   "execution_count": 23,
   "metadata": {},
   "outputs": [
    {
     "data": {
      "text/plain": [
       "тепловой поток в холодильнике                    166654.459774\n",
       "расход воды                                           3.623025\n",
       "cредняя движущая сила теплопередачи                  25.930969\n",
       "площадь сечения межтруб                               0.045239\n",
       "критерий Рейнольдса межтруб                         1597.57521\n",
       "критерий Прандтля межтруб                             7.007475\n",
       "коэффициент теплопередачи в межтрубном              809.768924\n",
       "критерий Рейнольдса в трубах                       2364.122908\n",
       "критерий Прандтля в трубах                            4.744572\n",
       "коэффициент теплопередачи в трубах                  134.260092\n",
       "сумма термических сопротивлений                       0.000459\n",
       "коэффициент теплоотдачи                             109.382106\n",
       "требуемая поверхность теплообмена                    58.755957\n",
       "запас поверхности, %                      [16.062918469201364]\n",
       "dtype: object"
      ]
     },
     "execution_count": 23,
     "metadata": {},
     "output_type": "execute_result"
    }
   ],
   "source": [
    "row = heaters_table.loc[13]\n",
    "name = '3'\n",
    "eq.get_cooler(\n",
    "    row,\n",
    "    name,\n",
    "    aqua_liquid_saturation,\n",
    "    aqua_vapor_saturation,\n",
    "    properties,\n",
    "    balance,\n",
    "    COOLER_NAME = 'дистиллята',\n",
    "    pipes = 'продукт',\n",
    "    aq_t = 20,\n",
    "    tk = 30,\n",
    "    call = 'direct')"
   ]
  },
  {
   "cell_type": "code",
   "execution_count": 24,
   "metadata": {},
   "outputs": [
    {
     "data": {
      "application/vnd.plotly.v1+json": {
       "config": {
        "plotlyServerURL": "https://plot.ly"
       },
       "data": [
        {
         "coloraxis": "coloraxis",
         "hovertemplate": "Длина труб: %{x}<br>Хараеткристики теплообменника: %{y}<br>Запас поверхности, %: %{z}<extra></extra>",
         "name": "0",
         "texttemplate": "%{z}",
         "type": "heatmap",
         "x": [
          "1",
          "1.5",
          "2",
          "3",
          "4",
          "6",
          "9"
         ],
         "xaxis": "x",
         "y": [
          "159 0.02 1 19",
          "159 0.025 1 13",
          "273 0.02 1 61",
          "273 0.025 1 37",
          "325 0.02 1 100",
          "325 0.02 2 90",
          "325 0.025 1 62",
          "325 0.025 2 56",
          "400 0.02 1 181",
          "400 0.02 2 166",
          "400 0.025 1 111",
          "400 0.025 2 100",
          "600 0.02 1 389",
          "600 0.02 2 370",
          "600 0.02 4 334",
          "600 0.02 6 316",
          "600 0.025 1 257",
          "600 0.025 2 240",
          "600 0.025 4 206",
          "600 0.025 6 196",
          "800 0.02 1 717",
          "800 0.02 2 690",
          "800 0.02 4 638",
          "800 0.02 6 618",
          "800 0.025 1 465",
          "800 0.025 2 442",
          "800 0.025 4 404",
          "800 0.025 6 384",
          "1000 0.02 1 1173",
          "1000 0.02 2 1138",
          "1000 0.02 4 1072",
          "1000 0.02 6 1044",
          "1000 0.025 1 747",
          "1000 0.025 2 718",
          "1000 0.025 4 666",
          "1000 0.025 6 642",
          "1200 0.02 1 1701",
          "1200 0.02 2 1658",
          "1200 0.02 4 1580",
          "1200 0.02 6 1544",
          "1200 0.025 1 1083",
          "1200 0.025 2 1048",
          "1200 0.025 4 986",
          "1200 0.025 6 958"
         ],
         "yaxis": "y",
         "z": [
          [
           -1241,
           -570,
           -436,
           -283,
           null,
           null,
           null
          ],
          [
           -1337,
           -858,
           -618,
           -379,
           null,
           null,
           null
          ],
          [
           -428,
           -252,
           -181,
           -83,
           null,
           null,
           null
          ],
          [
           -647,
           -398,
           -273,
           -149,
           null,
           null,
           null
          ],
          [
           null,
           -158,
           -96,
           -29,
           2,
           null,
           null
          ],
          [
           null,
           -117,
           -67,
           -8,
           18,
           null,
           null
          ],
          [
           null,
           -250,
           -163,
           -81,
           -35,
           null,
           null
          ],
          [
           null,
           -202,
           -118,
           -51,
           -12,
           null,
           null
          ],
          [
           null,
           null,
           -214,
           -113,
           -57,
           -6,
           null
          ],
          [
           null,
           null,
           -14,
           23,
           43,
           62,
           null
          ],
          [
           null,
           null,
           -358,
           -199,
           -122,
           -50,
           null
          ],
          [
           null,
           null,
           -59,
           -6,
           18,
           46,
           null
          ],
          [
           null,
           null,
           -173,
           -83,
           -36,
           9,
           null
          ],
          [
           null,
           null,
           -64,
           -10,
           17,
           45,
           null
          ],
          [
           null,
           null,
           34,
           56,
           67,
           78,
           null
          ],
          [
           null,
           null,
           40,
           60,
           69,
           80,
           null
          ],
          [
           null,
           null,
           -282,
           -151,
           -89,
           -26,
           null
          ],
          [
           null,
           null,
           -127,
           -51,
           -15,
           24,
           null
          ],
          [
           null,
           null,
           7,
           39,
           54,
           69,
           null
          ],
          [
           null,
           null,
           16,
           44,
           57,
           71,
           71
          ],
          [
           null,
           null,
           -147,
           -65,
           -24,
           18,
           45
          ],
          [
           null,
           null,
           -44,
           4,
           28,
           52,
           68
          ],
          [
           null,
           null,
           9,
           39,
           54,
           70,
           80
          ],
          [
           null,
           null,
           57,
           71,
           79,
           86,
           90
          ],
          [
           null,
           null,
           -244,
           -131,
           -72,
           -15,
           24
          ],
          [
           null,
           null,
           -102,
           -34,
           -1,
           33,
           55
          ],
          [
           null,
           null,
           -28,
           15,
           37,
           58,
           72
          ],
          [
           null,
           null,
           40,
           60,
           70,
           80,
           87
          ],
          [
           null,
           null,
           null,
           -53,
           -15,
           23,
           49
          ],
          [
           null,
           null,
           null,
           12,
           34,
           56,
           71
          ],
          [
           null,
           null,
           null,
           47,
           60,
           73,
           82
          ],
          [
           null,
           null,
           null,
           59,
           69,
           79,
           86
          ],
          [
           null,
           null,
           null,
           -114,
           -60,
           -7,
           29
          ],
          [
           null,
           null,
           null,
           -23,
           8,
           39,
           59
          ],
          [
           null,
           null,
           null,
           25,
           44,
           63,
           75
          ],
          [
           null,
           null,
           null,
           42,
           57,
           71,
           81
          ],
          [
           null,
           null,
           null,
           null,
           -9,
           27,
           51
          ],
          [
           null,
           null,
           null,
           null,
           38,
           59,
           73
          ],
          [
           null,
           null,
           null,
           null,
           63,
           76,
           84
          ],
          [
           null,
           null,
           null,
           null,
           72,
           81,
           88
          ],
          [
           null,
           null,
           null,
           null,
           -53,
           -2,
           32
          ],
          [
           null,
           null,
           null,
           null,
           13,
           42,
           61
          ],
          [
           null,
           null,
           null,
           null,
           49,
           66,
           77
          ],
          [
           null,
           null,
           null,
           null,
           61,
           74,
           83
          ]
         ]
        }
       ],
       "layout": {
        "coloraxis": {
         "cmax": 80,
         "cmin": -40,
         "colorbar": {
          "title": {
           "text": "Запас поверхности, %"
          }
         },
         "colorscale": [
          [
           0,
           "rgb(178, 50, 34)"
          ],
          [
           0.5,
           "rgb(34, 149, 34)"
          ],
          [
           1,
           "rgb(25, 65, 225)"
          ]
         ]
        },
        "height": 1000,
        "margin": {
         "t": 60
        },
        "template": {
         "data": {
          "bar": [
           {
            "error_x": {
             "color": "#2a3f5f"
            },
            "error_y": {
             "color": "#2a3f5f"
            },
            "marker": {
             "line": {
              "color": "#E5ECF6",
              "width": 0.5
             },
             "pattern": {
              "fillmode": "overlay",
              "size": 10,
              "solidity": 0.2
             }
            },
            "type": "bar"
           }
          ],
          "barpolar": [
           {
            "marker": {
             "line": {
              "color": "#E5ECF6",
              "width": 0.5
             },
             "pattern": {
              "fillmode": "overlay",
              "size": 10,
              "solidity": 0.2
             }
            },
            "type": "barpolar"
           }
          ],
          "carpet": [
           {
            "aaxis": {
             "endlinecolor": "#2a3f5f",
             "gridcolor": "white",
             "linecolor": "white",
             "minorgridcolor": "white",
             "startlinecolor": "#2a3f5f"
            },
            "baxis": {
             "endlinecolor": "#2a3f5f",
             "gridcolor": "white",
             "linecolor": "white",
             "minorgridcolor": "white",
             "startlinecolor": "#2a3f5f"
            },
            "type": "carpet"
           }
          ],
          "choropleth": [
           {
            "colorbar": {
             "outlinewidth": 0,
             "ticks": ""
            },
            "type": "choropleth"
           }
          ],
          "contour": [
           {
            "colorbar": {
             "outlinewidth": 0,
             "ticks": ""
            },
            "colorscale": [
             [
              0,
              "#0d0887"
             ],
             [
              0.1111111111111111,
              "#46039f"
             ],
             [
              0.2222222222222222,
              "#7201a8"
             ],
             [
              0.3333333333333333,
              "#9c179e"
             ],
             [
              0.4444444444444444,
              "#bd3786"
             ],
             [
              0.5555555555555556,
              "#d8576b"
             ],
             [
              0.6666666666666666,
              "#ed7953"
             ],
             [
              0.7777777777777778,
              "#fb9f3a"
             ],
             [
              0.8888888888888888,
              "#fdca26"
             ],
             [
              1,
              "#f0f921"
             ]
            ],
            "type": "contour"
           }
          ],
          "contourcarpet": [
           {
            "colorbar": {
             "outlinewidth": 0,
             "ticks": ""
            },
            "type": "contourcarpet"
           }
          ],
          "heatmap": [
           {
            "colorbar": {
             "outlinewidth": 0,
             "ticks": ""
            },
            "colorscale": [
             [
              0,
              "#0d0887"
             ],
             [
              0.1111111111111111,
              "#46039f"
             ],
             [
              0.2222222222222222,
              "#7201a8"
             ],
             [
              0.3333333333333333,
              "#9c179e"
             ],
             [
              0.4444444444444444,
              "#bd3786"
             ],
             [
              0.5555555555555556,
              "#d8576b"
             ],
             [
              0.6666666666666666,
              "#ed7953"
             ],
             [
              0.7777777777777778,
              "#fb9f3a"
             ],
             [
              0.8888888888888888,
              "#fdca26"
             ],
             [
              1,
              "#f0f921"
             ]
            ],
            "type": "heatmap"
           }
          ],
          "heatmapgl": [
           {
            "colorbar": {
             "outlinewidth": 0,
             "ticks": ""
            },
            "colorscale": [
             [
              0,
              "#0d0887"
             ],
             [
              0.1111111111111111,
              "#46039f"
             ],
             [
              0.2222222222222222,
              "#7201a8"
             ],
             [
              0.3333333333333333,
              "#9c179e"
             ],
             [
              0.4444444444444444,
              "#bd3786"
             ],
             [
              0.5555555555555556,
              "#d8576b"
             ],
             [
              0.6666666666666666,
              "#ed7953"
             ],
             [
              0.7777777777777778,
              "#fb9f3a"
             ],
             [
              0.8888888888888888,
              "#fdca26"
             ],
             [
              1,
              "#f0f921"
             ]
            ],
            "type": "heatmapgl"
           }
          ],
          "histogram": [
           {
            "marker": {
             "pattern": {
              "fillmode": "overlay",
              "size": 10,
              "solidity": 0.2
             }
            },
            "type": "histogram"
           }
          ],
          "histogram2d": [
           {
            "colorbar": {
             "outlinewidth": 0,
             "ticks": ""
            },
            "colorscale": [
             [
              0,
              "#0d0887"
             ],
             [
              0.1111111111111111,
              "#46039f"
             ],
             [
              0.2222222222222222,
              "#7201a8"
             ],
             [
              0.3333333333333333,
              "#9c179e"
             ],
             [
              0.4444444444444444,
              "#bd3786"
             ],
             [
              0.5555555555555556,
              "#d8576b"
             ],
             [
              0.6666666666666666,
              "#ed7953"
             ],
             [
              0.7777777777777778,
              "#fb9f3a"
             ],
             [
              0.8888888888888888,
              "#fdca26"
             ],
             [
              1,
              "#f0f921"
             ]
            ],
            "type": "histogram2d"
           }
          ],
          "histogram2dcontour": [
           {
            "colorbar": {
             "outlinewidth": 0,
             "ticks": ""
            },
            "colorscale": [
             [
              0,
              "#0d0887"
             ],
             [
              0.1111111111111111,
              "#46039f"
             ],
             [
              0.2222222222222222,
              "#7201a8"
             ],
             [
              0.3333333333333333,
              "#9c179e"
             ],
             [
              0.4444444444444444,
              "#bd3786"
             ],
             [
              0.5555555555555556,
              "#d8576b"
             ],
             [
              0.6666666666666666,
              "#ed7953"
             ],
             [
              0.7777777777777778,
              "#fb9f3a"
             ],
             [
              0.8888888888888888,
              "#fdca26"
             ],
             [
              1,
              "#f0f921"
             ]
            ],
            "type": "histogram2dcontour"
           }
          ],
          "mesh3d": [
           {
            "colorbar": {
             "outlinewidth": 0,
             "ticks": ""
            },
            "type": "mesh3d"
           }
          ],
          "parcoords": [
           {
            "line": {
             "colorbar": {
              "outlinewidth": 0,
              "ticks": ""
             }
            },
            "type": "parcoords"
           }
          ],
          "pie": [
           {
            "automargin": true,
            "type": "pie"
           }
          ],
          "scatter": [
           {
            "fillpattern": {
             "fillmode": "overlay",
             "size": 10,
             "solidity": 0.2
            },
            "type": "scatter"
           }
          ],
          "scatter3d": [
           {
            "line": {
             "colorbar": {
              "outlinewidth": 0,
              "ticks": ""
             }
            },
            "marker": {
             "colorbar": {
              "outlinewidth": 0,
              "ticks": ""
             }
            },
            "type": "scatter3d"
           }
          ],
          "scattercarpet": [
           {
            "marker": {
             "colorbar": {
              "outlinewidth": 0,
              "ticks": ""
             }
            },
            "type": "scattercarpet"
           }
          ],
          "scattergeo": [
           {
            "marker": {
             "colorbar": {
              "outlinewidth": 0,
              "ticks": ""
             }
            },
            "type": "scattergeo"
           }
          ],
          "scattergl": [
           {
            "marker": {
             "colorbar": {
              "outlinewidth": 0,
              "ticks": ""
             }
            },
            "type": "scattergl"
           }
          ],
          "scattermapbox": [
           {
            "marker": {
             "colorbar": {
              "outlinewidth": 0,
              "ticks": ""
             }
            },
            "type": "scattermapbox"
           }
          ],
          "scatterpolar": [
           {
            "marker": {
             "colorbar": {
              "outlinewidth": 0,
              "ticks": ""
             }
            },
            "type": "scatterpolar"
           }
          ],
          "scatterpolargl": [
           {
            "marker": {
             "colorbar": {
              "outlinewidth": 0,
              "ticks": ""
             }
            },
            "type": "scatterpolargl"
           }
          ],
          "scatterternary": [
           {
            "marker": {
             "colorbar": {
              "outlinewidth": 0,
              "ticks": ""
             }
            },
            "type": "scatterternary"
           }
          ],
          "surface": [
           {
            "colorbar": {
             "outlinewidth": 0,
             "ticks": ""
            },
            "colorscale": [
             [
              0,
              "#0d0887"
             ],
             [
              0.1111111111111111,
              "#46039f"
             ],
             [
              0.2222222222222222,
              "#7201a8"
             ],
             [
              0.3333333333333333,
              "#9c179e"
             ],
             [
              0.4444444444444444,
              "#bd3786"
             ],
             [
              0.5555555555555556,
              "#d8576b"
             ],
             [
              0.6666666666666666,
              "#ed7953"
             ],
             [
              0.7777777777777778,
              "#fb9f3a"
             ],
             [
              0.8888888888888888,
              "#fdca26"
             ],
             [
              1,
              "#f0f921"
             ]
            ],
            "type": "surface"
           }
          ],
          "table": [
           {
            "cells": {
             "fill": {
              "color": "#EBF0F8"
             },
             "line": {
              "color": "white"
             }
            },
            "header": {
             "fill": {
              "color": "#C8D4E3"
             },
             "line": {
              "color": "white"
             }
            },
            "type": "table"
           }
          ]
         },
         "layout": {
          "annotationdefaults": {
           "arrowcolor": "#2a3f5f",
           "arrowhead": 0,
           "arrowwidth": 1
          },
          "autotypenumbers": "strict",
          "coloraxis": {
           "colorbar": {
            "outlinewidth": 0,
            "ticks": ""
           }
          },
          "colorscale": {
           "diverging": [
            [
             0,
             "#8e0152"
            ],
            [
             0.1,
             "#c51b7d"
            ],
            [
             0.2,
             "#de77ae"
            ],
            [
             0.3,
             "#f1b6da"
            ],
            [
             0.4,
             "#fde0ef"
            ],
            [
             0.5,
             "#f7f7f7"
            ],
            [
             0.6,
             "#e6f5d0"
            ],
            [
             0.7,
             "#b8e186"
            ],
            [
             0.8,
             "#7fbc41"
            ],
            [
             0.9,
             "#4d9221"
            ],
            [
             1,
             "#276419"
            ]
           ],
           "sequential": [
            [
             0,
             "#0d0887"
            ],
            [
             0.1111111111111111,
             "#46039f"
            ],
            [
             0.2222222222222222,
             "#7201a8"
            ],
            [
             0.3333333333333333,
             "#9c179e"
            ],
            [
             0.4444444444444444,
             "#bd3786"
            ],
            [
             0.5555555555555556,
             "#d8576b"
            ],
            [
             0.6666666666666666,
             "#ed7953"
            ],
            [
             0.7777777777777778,
             "#fb9f3a"
            ],
            [
             0.8888888888888888,
             "#fdca26"
            ],
            [
             1,
             "#f0f921"
            ]
           ],
           "sequentialminus": [
            [
             0,
             "#0d0887"
            ],
            [
             0.1111111111111111,
             "#46039f"
            ],
            [
             0.2222222222222222,
             "#7201a8"
            ],
            [
             0.3333333333333333,
             "#9c179e"
            ],
            [
             0.4444444444444444,
             "#bd3786"
            ],
            [
             0.5555555555555556,
             "#d8576b"
            ],
            [
             0.6666666666666666,
             "#ed7953"
            ],
            [
             0.7777777777777778,
             "#fb9f3a"
            ],
            [
             0.8888888888888888,
             "#fdca26"
            ],
            [
             1,
             "#f0f921"
            ]
           ]
          },
          "colorway": [
           "#636efa",
           "#EF553B",
           "#00cc96",
           "#ab63fa",
           "#FFA15A",
           "#19d3f3",
           "#FF6692",
           "#B6E880",
           "#FF97FF",
           "#FECB52"
          ],
          "font": {
           "color": "#2a3f5f"
          },
          "geo": {
           "bgcolor": "white",
           "lakecolor": "white",
           "landcolor": "#E5ECF6",
           "showlakes": true,
           "showland": true,
           "subunitcolor": "white"
          },
          "hoverlabel": {
           "align": "left"
          },
          "hovermode": "closest",
          "mapbox": {
           "style": "light"
          },
          "paper_bgcolor": "white",
          "plot_bgcolor": "#E5ECF6",
          "polar": {
           "angularaxis": {
            "gridcolor": "white",
            "linecolor": "white",
            "ticks": ""
           },
           "bgcolor": "#E5ECF6",
           "radialaxis": {
            "gridcolor": "white",
            "linecolor": "white",
            "ticks": ""
           }
          },
          "scene": {
           "xaxis": {
            "backgroundcolor": "#E5ECF6",
            "gridcolor": "white",
            "gridwidth": 2,
            "linecolor": "white",
            "showbackground": true,
            "ticks": "",
            "zerolinecolor": "white"
           },
           "yaxis": {
            "backgroundcolor": "#E5ECF6",
            "gridcolor": "white",
            "gridwidth": 2,
            "linecolor": "white",
            "showbackground": true,
            "ticks": "",
            "zerolinecolor": "white"
           },
           "zaxis": {
            "backgroundcolor": "#E5ECF6",
            "gridcolor": "white",
            "gridwidth": 2,
            "linecolor": "white",
            "showbackground": true,
            "ticks": "",
            "zerolinecolor": "white"
           }
          },
          "shapedefaults": {
           "line": {
            "color": "#2a3f5f"
           }
          },
          "ternary": {
           "aaxis": {
            "gridcolor": "white",
            "linecolor": "white",
            "ticks": ""
           },
           "baxis": {
            "gridcolor": "white",
            "linecolor": "white",
            "ticks": ""
           },
           "bgcolor": "#E5ECF6",
           "caxis": {
            "gridcolor": "white",
            "linecolor": "white",
            "ticks": ""
           }
          },
          "title": {
           "x": 0.05
          },
          "xaxis": {
           "automargin": true,
           "gridcolor": "white",
           "linecolor": "white",
           "ticks": "",
           "title": {
            "standoff": 15
           },
           "zerolinecolor": "white",
           "zerolinewidth": 2
          },
          "yaxis": {
           "automargin": true,
           "gridcolor": "white",
           "linecolor": "white",
           "ticks": "",
           "title": {
            "standoff": 15
           },
           "zerolinecolor": "white",
           "zerolinewidth": 2
          }
         }
        },
        "width": 500,
        "xaxis": {
         "anchor": "y",
         "domain": [
          0,
          1
         ],
         "title": {
          "text": "Длина труб"
         }
        },
        "yaxis": {
         "anchor": "x",
         "autorange": "reversed",
         "domain": [
          0,
          1
         ],
         "title": {
          "text": "Хараеткристики теплообменника"
         }
        }
       }
      }
     },
     "metadata": {},
     "output_type": "display_data"
    }
   ],
   "source": [
    "heaters = eq.calculate_equipment(\n",
    "        heaters_table,\n",
    "        aqua_vapor_saturation_by_pressure,\n",
    "        aqua_liquid_saturation,\n",
    "        aqua_vapor_saturation,\n",
    "        balance,\n",
    "        properties,\n",
    "        FEED_TEMPERATURE,\n",
    "        thermal_balance,\n",
    "        Ropt,\n",
    "        EQ_NAME = 'холодильник',\n",
    "        COOLER_NAME = 'куба',\n",
    "        pipes = 'продукт',\n",
    "        aq_t = 20,\n",
    "        tk = 30\n",
    "        )\n",
    "\n",
    "fig = px.imshow(\n",
    "    round(heaters),\n",
    "    labels=dict(x=\"Длина труб\", y=\"Хараеткристики теплообменника\", color=\"Запас поверхности, %\"),\n",
    "    range_color=[-40,80],\n",
    "    color_continuous_scale=[\"rgb(178, 50, 34)\", \"rgb(34, 149, 34)\", \"rgb(25, 65, 225)\"],\n",
    "    x=heaters.columns,\n",
    "    y=heaters.index,\n",
    "    text_auto=True, aspect=\"auto\",\n",
    "    width=500,\n",
    "    height=1000\n",
    "    )\n",
    "fig.show()"
   ]
  },
  {
   "cell_type": "code",
   "execution_count": 25,
   "metadata": {},
   "outputs": [
    {
     "data": {
      "text/plain": [
       "тепловой поток в холодильнике                   523515.557649\n",
       "расход воды                                         11.381095\n",
       "cредняя движущая сила теплопередачи                 34.708284\n",
       "площадь сечения межтруб                              0.180956\n",
       "критерий Рейнольдса межтруб                       1568.281382\n",
       "критерий Прандтля межтруб                            7.007475\n",
       "коэффициент теплопередачи в межтрубном             641.848352\n",
       "критерий Рейнольдса в трубах                       733.313025\n",
       "критерий Прандтля в трубах                           4.473878\n",
       "коэффициент теплопередачи в трубах                  30.806617\n",
       "сумма термических сопротивлений                      0.000459\n",
       "коэффициент теплоотдачи                             29.004278\n",
       "требуемая поверхность теплообмена                  520.037177\n",
       "запас поверхности, %                      [32.02128410537737]\n",
       "dtype: object"
      ]
     },
     "execution_count": 25,
     "metadata": {},
     "output_type": "execute_result"
    }
   ],
   "source": [
    "row = heaters_table.loc[40]\n",
    "name = '9'\n",
    "eq.get_cooler(\n",
    "    row,\n",
    "    name,\n",
    "    aqua_liquid_saturation,\n",
    "    aqua_vapor_saturation,\n",
    "    properties,\n",
    "    balance,\n",
    "    COOLER_NAME = 'куба',\n",
    "    pipes = 'продукт',\n",
    "    aq_t = 20,\n",
    "    tk = 30,\n",
    "    call = 'direct')"
   ]
  }
 ],
 "metadata": {
  "kernelspec": {
   "display_name": "Python 3.10.4 64-bit",
   "language": "python",
   "name": "python3"
  },
  "language_info": {
   "codemirror_mode": {
    "name": "ipython",
    "version": 3
   },
   "file_extension": ".py",
   "mimetype": "text/x-python",
   "name": "python",
   "nbconvert_exporter": "python",
   "pygments_lexer": "ipython3",
   "version": "3.10.4"
  },
  "orig_nbformat": 4,
  "vscode": {
   "interpreter": {
    "hash": "dacbaecb06468868279e470aadb77148d1041af97fd301b2102547f31dc8bcf1"
   }
  }
 },
 "nbformat": 4,
 "nbformat_minor": 2
}
