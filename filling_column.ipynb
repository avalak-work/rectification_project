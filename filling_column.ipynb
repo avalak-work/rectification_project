{
 "cells": [
  {
   "cell_type": "code",
   "execution_count": 30,
   "metadata": {},
   "outputs": [],
   "source": [
    "import pandas as pd\n",
    "pd.options.mode.chained_assignment = None  # default='warn'\n",
    "import numpy as np\n",
    "from matplotlib import pyplot as plt\n",
    "import plotly.express as px\n",
    "\n",
    "from column_functions import Calculations as clc\n",
    "from data_functions import DataFunctions as dfс\n",
    "from equipment_functions import Calculations as eq"
   ]
  },
  {
   "cell_type": "code",
   "execution_count": 31,
   "metadata": {},
   "outputs": [],
   "source": [
    "am = pd.read_excel('data/atomic_mass.xlsx')\n",
    "aqua_liquid_saturation = pd.read_excel('data/ph_H2O_saturation_liquid.xlsx')\n",
    "aqua_vapor_saturation = pd.read_excel('data/ph_H2O_saturation_gas.xlsx')\n",
    "aqua_vapor_saturation_by_pressure = pd.read_excel('data/ph_H2O_saturation_gas_by_pressure.xlsx')\n",
    "mass_concentration_solution = pd.read_excel('data/mass_concentration_solution.xlsx')\n",
    "boiling_point_solution = pd.read_excel('data/boiling_point_solution.xlsx')\n",
    "density_solution = pd.read_excel('data/density_solution.xlsx')\n",
    "vicosity_solution = pd.read_excel('data/vicosity_solution.xlsx')\n",
    "specific_heat_capacity_solution = pd.read_excel('data/heat_capacity_solution.xlsx')\n",
    "thermal_conductivity_solutions = pd.read_excel('data/thermal_conductivity_solutions.xlsx')\n",
    "ph_gases = pd.read_excel('data/ph_gases.xlsx')\n",
    "ph_organic = pd.read_excel('data/ph_organic.xlsx')\n",
    "density_organic_liquid = pd.read_excel('data/density_organic_liquid.xlsx')\n",
    "vicosity_organic_liquid = pd.read_excel('data/vicosity_organic_liquid.xlsx')\n",
    "interfactial_tension_organic_liquid = pd.read_excel('data/interfacial_tension_organic_liquid.xlsx')\n",
    "thermal_expansion_organic_liquid = pd.read_excel('data/thermal_expansion_organic_liquid.xlsx')\n",
    "heat_capacity_organic_liquid = pd.read_excel('data/heat_capacity_organic_liquid.xlsx')\n",
    "thermal_conductivity_organic_liquid = pd.read_excel('data/thermal_conductivity_organic_liquid.xlsx')\n",
    "heat_vaporization_organic_liquid = pd.read_excel('data/heat_vaporization_organic_liquid.xlsx')\n",
    "vapor_pressure_organic_liquid = pd.read_excel('data/vapor_pressure_organic_liquid.xlsx')\n",
    "vicosity_organic_vapor = pd.read_excel('data/vicosity_organic_vapor.xlsx')"
   ]
  },
  {
   "cell_type": "code",
   "execution_count": 32,
   "metadata": {},
   "outputs": [],
   "source": [
    "exclude_list =['salts','name','formula','salt']\n",
    "#Поверхностное натяжение органических жидкостей [мДж/м^2]\n",
    "interfactial_tension_organic_liquid = dfс.delete_hyphens(interfactial_tension_organic_liquid,exclude_list)\n",
    "\n",
    "#Теплопроводность органических жидкостей [Вт/(м*K)]\n",
    "thermal_conductivity_organic_liquid = dfс.delete_hyphens(thermal_conductivity_organic_liquid,exclude_list)\n",
    "\n",
    "#Свойства водяного пара в состянии насыщения в зависимости от давления\n",
    "aqua_vapor_saturation_by_pressure = dfс.delete_hyphens(aqua_vapor_saturation_by_pressure,exclude_list)\n",
    "\n",
    "#Коэффициенты объемного теплового расширения органических жидкостей b*10^3, K^-1\n",
    "thermal_expansion_organic_liquid = dfс.delete_hyphens(thermal_expansion_organic_liquid,exclude_list)\n",
    "\n",
    "#Теплота парообразования органических жидкостей [кДж/кг]\n",
    "heat_vaporization_organic_liquid = dfс.delete_hyphens(heat_vaporization_organic_liquid,exclude_list)\n",
    "\n",
    "#Удельная  теплоемкость водных р-ров cp = cpAQ - w * (d1 - d2*w -d3e-3 *t^2)\n",
    "specific_heat_capacity_solution = dfс.delete_hyphens(specific_heat_capacity_solution,exclude_list)\n",
    "\n",
    "#Теплопроводность водных р-ров неорганических соединений lya = lyaAQ * (1 - f*w)\n",
    "thermal_conductivity_solutions = dfс.delete_hyphens(thermal_conductivity_solutions,exclude_list)\n",
    "\n",
    "#Давление насыщенного пара [мм.рт.ст.] над органической жидкостью\n",
    "vapor_pressure_organic_liquid = dfс.delete_hyphens(vapor_pressure_organic_liquid,exclude_list)\n",
    "\n",
    "#Удельная теплоемкость [Дж/(кг*K)] органических жидкостей\n",
    "heat_capacity_organic_liquid = dfс.delete_hyphens(heat_capacity_organic_liquid,exclude_list)\n",
    "\n",
    "#Концентрации насыщенных водных растворов неорганических веществ кг/кг при °С\n",
    "mass_concentration_solution = dfс.delete_hyphens(mass_concentration_solution,exclude_list)\n",
    "\n",
    "#Динамическая вязкость органических жидкостей [мПа*с]\n",
    "vicosity_organic_liquid = dfс.delete_hyphens(vicosity_organic_liquid,exclude_list)\n",
    "\n",
    "#Плотность органических жидкостей [кг/м^3]\n",
    "density_organic_liquid = dfс.delete_hyphens(density_organic_liquid,exclude_list)\n",
    "\n",
    "#Температуры кипения водных растворов неорганических веществ при н.у.\n",
    "boiling_point_solution = dfс.delete_hyphens(boiling_point_solution,exclude_list)\n",
    "\n",
    "#Физические свойства воды на линии насыщения\n",
    "aqua_liquid_saturation = dfс.delete_hyphens(aqua_liquid_saturation,exclude_list)\n",
    "\n",
    "#Вязкость паров органических веществ [мкПа*с]\n",
    "vicosity_organic_vapor = dfс.delete_hyphens(vicosity_organic_vapor,exclude_list)\n",
    "\n",
    "#Свойства водяного пара в состянии насыщения в зависимости от температуры\n",
    "aqua_vapor_saturation = dfс.delete_hyphens(aqua_vapor_saturation,exclude_list)\n",
    "\n",
    "#Вязкость водных растворов неорганических веществ u = uaq*exp^[w(b1 + b2e-2 * t - b3e-7 * t^2)]\n",
    "vicosity_solution = dfс.delete_hyphens(vicosity_solution,exclude_list)\n",
    "\n",
    "#Плотность водных растворов p = paq*exp^[w*(a1 + a2e-4 * t - a3e-6 * t^2)], w[кг/кг], t[°C], p[кг/м^3], u[Па*c]\n",
    "density_solution = dfс.delete_hyphens(density_solution,exclude_list)\n",
    "\n",
    "#Основные характеристики органических веществ\n",
    "ph_organic = dfс.delete_hyphens(ph_organic,exclude_list)\n",
    "\n",
    "#Свойства газов при н.у.\n",
    "ph_gases = dfс.delete_hyphens(ph_gases,exclude_list)\n",
    "#am = delete_hyphens(am)"
   ]
  },
  {
   "cell_type": "code",
   "execution_count": 33,
   "metadata": {},
   "outputs": [],
   "source": [
    "class Сomponent():\n",
    "                \n",
    "    def __init__(self, name):        \n",
    "        self.interfactial_tension_organic_liquid = interfactial_tension_organic_liquid[interfactial_tension_organic_liquid['name'] == name].drop('name', axis=1)\n",
    "        self.thermal_conductivity_organic_liquid = thermal_conductivity_organic_liquid[thermal_conductivity_organic_liquid['name'] == name].drop('name', axis=1)\n",
    "        self.thermal_expansion_organic_liquid = thermal_expansion_organic_liquid[thermal_expansion_organic_liquid['name'] == name].drop('name', axis=1)\n",
    "        self.heat_vaporization_organic_liquid = heat_vaporization_organic_liquid[heat_vaporization_organic_liquid['name'] == name].drop('name', axis=1)        \n",
    "        self.vapor_pressure_organic_liquid = vapor_pressure_organic_liquid[vapor_pressure_organic_liquid['name'] == name].drop('name', axis=1)\n",
    "        self.heat_capacity_organic_liquid = heat_capacity_organic_liquid[heat_capacity_organic_liquid['name'] == name].drop('name', axis=1)\n",
    "        self.vicosity_organic_liquid = vicosity_organic_liquid[vicosity_organic_liquid['name'] == name].drop('name', axis=1)\n",
    "        self.vicosity_organic_liquid = vicosity_organic_liquid[vicosity_organic_liquid['name'] == name].drop('name', axis=1)\n",
    "        self.density_organic_liquid = density_organic_liquid[density_organic_liquid['name'] == name].drop('name', axis=1)\n",
    "        self.vicosity_organic_vapor = vicosity_organic_vapor[vicosity_organic_vapor['name'] == name].drop('name', axis=1)\n",
    "        self.ph_organic = ph_organic[ph_organic['name'] == name]"
   ]
  },
  {
   "cell_type": "markdown",
   "metadata": {},
   "source": [
    "Ниже в поле Substance присвойте компонентам 'А' и 'В' имена веществ, смесь которых необходимо разделить. Например 'Толуол', 'Бензол', 'Этанол', 'Тетрахлорметан' и др. Полный список веществ в базе можно узнать ниже.\n",
    "\n",
    "Из этой пары компонент 'A' должен иметь меньшую темперутуру плавления 'melting_point'. \n",
    " \n",
    "Для пар веществ должна быть таблица с экспериментальными даннымив папке 'l_v' заполненная как в образцах. Найти интересующую смесь можно в справочном пособии Коган, Фридман, Кафаров \"Равновесие между жидкостью и паром\" источник указан в файле README. Некоторые смеси находятся в примерах. \n",
    "\n",
    "Соотнесите 'formula' из базы данных с названием файла в папке 'l_v'. Например:\n",
    "\n",
    "этанол-бутанол(C2H5OH-C4H9OH); толуол-тетрахлорметан; бензол-толуол; метанол-этанол;метилацетат-бензол; метанол-изопропанол(CH3OH-C3H7OH); гексан-толуол(C6H14-C6H5CH3); ацетон-уксусная кислота; хлороформ-тетрахлорметан\n"
   ]
  },
  {
   "cell_type": "code",
   "execution_count": 34,
   "metadata": {},
   "outputs": [
    {
     "data": {
      "text/html": [
       "<div>\n",
       "<style scoped>\n",
       "    .dataframe tbody tr th:only-of-type {\n",
       "        vertical-align: middle;\n",
       "    }\n",
       "\n",
       "    .dataframe tbody tr th {\n",
       "        vertical-align: top;\n",
       "    }\n",
       "\n",
       "    .dataframe thead th {\n",
       "        text-align: right;\n",
       "    }\n",
       "</style>\n",
       "<table border=\"1\" class=\"dataframe\">\n",
       "  <thead>\n",
       "    <tr style=\"text-align: right;\">\n",
       "      <th></th>\n",
       "      <th>name</th>\n",
       "      <th>formula</th>\n",
       "      <th>molar_mass</th>\n",
       "      <th>melting_point</th>\n",
       "      <th>boiling_point</th>\n",
       "      <th>critical_point</th>\n",
       "      <th>critical_pressure</th>\n",
       "    </tr>\n",
       "  </thead>\n",
       "  <tbody>\n",
       "    <tr>\n",
       "      <th>0</th>\n",
       "      <td>Анилин</td>\n",
       "      <td>C6H5NH2</td>\n",
       "      <td>93.128</td>\n",
       "      <td>-5.9</td>\n",
       "      <td>184.4</td>\n",
       "      <td>426.0</td>\n",
       "      <td>5.309</td>\n",
       "    </tr>\n",
       "    <tr>\n",
       "      <th>1</th>\n",
       "      <td>Ацетон</td>\n",
       "      <td>CH3COCH3</td>\n",
       "      <td>58.080</td>\n",
       "      <td>-95.4</td>\n",
       "      <td>56.2</td>\n",
       "      <td>235.5</td>\n",
       "      <td>4.701</td>\n",
       "    </tr>\n",
       "    <tr>\n",
       "      <th>2</th>\n",
       "      <td>Бензол</td>\n",
       "      <td>C6H6</td>\n",
       "      <td>78.114</td>\n",
       "      <td>5.5</td>\n",
       "      <td>80.1</td>\n",
       "      <td>289.4</td>\n",
       "      <td>4.894</td>\n",
       "    </tr>\n",
       "    <tr>\n",
       "      <th>3</th>\n",
       "      <td>Бромбензол</td>\n",
       "      <td>C6H5Br</td>\n",
       "      <td>157.010</td>\n",
       "      <td>-30.8</td>\n",
       "      <td>156.0</td>\n",
       "      <td>397.0</td>\n",
       "      <td>4.519</td>\n",
       "    </tr>\n",
       "    <tr>\n",
       "      <th>4</th>\n",
       "      <td>Бутанол</td>\n",
       "      <td>CH3(CH2)2CH2OH</td>\n",
       "      <td>74.123</td>\n",
       "      <td>-89.5</td>\n",
       "      <td>117.3</td>\n",
       "      <td>288.6</td>\n",
       "      <td>4.418</td>\n",
       "    </tr>\n",
       "    <tr>\n",
       "      <th>5</th>\n",
       "      <td>Гексан</td>\n",
       "      <td>CH3(CH2)4CH3</td>\n",
       "      <td>86.177</td>\n",
       "      <td>-95.3</td>\n",
       "      <td>68.7</td>\n",
       "      <td>234.7</td>\n",
       "      <td>2.969</td>\n",
       "    </tr>\n",
       "    <tr>\n",
       "      <th>6</th>\n",
       "      <td>Гептан</td>\n",
       "      <td>CH3(CH2)5CH3</td>\n",
       "      <td>100.204</td>\n",
       "      <td>-90.6</td>\n",
       "      <td>98.4</td>\n",
       "      <td>267.0</td>\n",
       "      <td>2.736</td>\n",
       "    </tr>\n",
       "    <tr>\n",
       "      <th>7</th>\n",
       "      <td>Дихлорэтан</td>\n",
       "      <td>ClCH2CH2Cl</td>\n",
       "      <td>98.959</td>\n",
       "      <td>-35.9</td>\n",
       "      <td>83.5</td>\n",
       "      <td>288.0</td>\n",
       "      <td>5.369</td>\n",
       "    </tr>\n",
       "    <tr>\n",
       "      <th>8</th>\n",
       "      <td>Изопропанол</td>\n",
       "      <td>(CH3)2CHOH</td>\n",
       "      <td>60.096</td>\n",
       "      <td>-89.5</td>\n",
       "      <td>82.4</td>\n",
       "      <td>235.6</td>\n",
       "      <td>4.762</td>\n",
       "    </tr>\n",
       "    <tr>\n",
       "      <th>9</th>\n",
       "      <td>о-Ксилол</td>\n",
       "      <td>C6H4(CH3)2</td>\n",
       "      <td>106.167</td>\n",
       "      <td>-25.2</td>\n",
       "      <td>144.4</td>\n",
       "      <td>358.4</td>\n",
       "      <td>3.729</td>\n",
       "    </tr>\n",
       "    <tr>\n",
       "      <th>10</th>\n",
       "      <td>п-Ксилол</td>\n",
       "      <td>C6H4(CH3)2</td>\n",
       "      <td>106.167</td>\n",
       "      <td>13.3</td>\n",
       "      <td>138.4</td>\n",
       "      <td>342.8</td>\n",
       "      <td>3.516</td>\n",
       "    </tr>\n",
       "    <tr>\n",
       "      <th>11</th>\n",
       "      <td>Метанол</td>\n",
       "      <td>CH3OH</td>\n",
       "      <td>32.042</td>\n",
       "      <td>-97.9</td>\n",
       "      <td>64.7</td>\n",
       "      <td>239.5</td>\n",
       "      <td>8.096</td>\n",
       "    </tr>\n",
       "    <tr>\n",
       "      <th>12</th>\n",
       "      <td>Метилацетат</td>\n",
       "      <td>CH3COOCH3</td>\n",
       "      <td>74.079</td>\n",
       "      <td>-98.1</td>\n",
       "      <td>56.9</td>\n",
       "      <td>233.7</td>\n",
       "      <td>4.691</td>\n",
       "    </tr>\n",
       "    <tr>\n",
       "      <th>13</th>\n",
       "      <td>Муравьиная кислота</td>\n",
       "      <td>HCOOH</td>\n",
       "      <td>46.026</td>\n",
       "      <td>8.3</td>\n",
       "      <td>100.7</td>\n",
       "      <td>306.8</td>\n",
       "      <td>NaN</td>\n",
       "    </tr>\n",
       "    <tr>\n",
       "      <th>14</th>\n",
       "      <td>Нитробензол</td>\n",
       "      <td>C6H5NO2</td>\n",
       "      <td>123.111</td>\n",
       "      <td>5.8</td>\n",
       "      <td>210.9</td>\n",
       "      <td>459.0</td>\n",
       "      <td>NaN</td>\n",
       "    </tr>\n",
       "    <tr>\n",
       "      <th>15</th>\n",
       "      <td>Октан</td>\n",
       "      <td>CH3(CH2)6CH3</td>\n",
       "      <td>114.231</td>\n",
       "      <td>-56.8</td>\n",
       "      <td>125.7</td>\n",
       "      <td>296.2</td>\n",
       "      <td>2.482</td>\n",
       "    </tr>\n",
       "    <tr>\n",
       "      <th>16</th>\n",
       "      <td>Пропанол</td>\n",
       "      <td>CH3CH2CH2OH</td>\n",
       "      <td>60.096</td>\n",
       "      <td>-126.2</td>\n",
       "      <td>97.2</td>\n",
       "      <td>263.7</td>\n",
       "      <td>5.168</td>\n",
       "    </tr>\n",
       "    <tr>\n",
       "      <th>17</th>\n",
       "      <td>Сероуглерод</td>\n",
       "      <td>CS2</td>\n",
       "      <td>76.143</td>\n",
       "      <td>-111.9</td>\n",
       "      <td>46.2</td>\n",
       "      <td>279.0</td>\n",
       "      <td>7.903</td>\n",
       "    </tr>\n",
       "    <tr>\n",
       "      <th>18</th>\n",
       "      <td>Тетрахлорметан</td>\n",
       "      <td>CCl4</td>\n",
       "      <td>153.822</td>\n",
       "      <td>-22.9</td>\n",
       "      <td>76.8</td>\n",
       "      <td>283.2</td>\n",
       "      <td>4.560</td>\n",
       "    </tr>\n",
       "    <tr>\n",
       "      <th>19</th>\n",
       "      <td>Толуол</td>\n",
       "      <td>C6H5CH3</td>\n",
       "      <td>92.141</td>\n",
       "      <td>-95.0</td>\n",
       "      <td>110.6</td>\n",
       "      <td>320.4</td>\n",
       "      <td>4.114</td>\n",
       "    </tr>\n",
       "    <tr>\n",
       "      <th>20</th>\n",
       "      <td>Уксусная кислота</td>\n",
       "      <td>CH3COOH</td>\n",
       "      <td>60.053</td>\n",
       "      <td>16.8</td>\n",
       "      <td>118.1</td>\n",
       "      <td>321.6</td>\n",
       "      <td>5.786</td>\n",
       "    </tr>\n",
       "    <tr>\n",
       "      <th>21</th>\n",
       "      <td>Хлорбензол</td>\n",
       "      <td>C6H5Cl</td>\n",
       "      <td>112.558</td>\n",
       "      <td>-45.6</td>\n",
       "      <td>131.7</td>\n",
       "      <td>359.2</td>\n",
       "      <td>4.519</td>\n",
       "    </tr>\n",
       "    <tr>\n",
       "      <th>22</th>\n",
       "      <td>Хлороформ</td>\n",
       "      <td>CHCl3</td>\n",
       "      <td>119.377</td>\n",
       "      <td>-63.5</td>\n",
       "      <td>61.2</td>\n",
       "      <td>263.4</td>\n",
       "      <td>5.472</td>\n",
       "    </tr>\n",
       "    <tr>\n",
       "      <th>23</th>\n",
       "      <td>Циклогексан</td>\n",
       "      <td>C6H12</td>\n",
       "      <td>84.161</td>\n",
       "      <td>6.6</td>\n",
       "      <td>80.7</td>\n",
       "      <td>280.4</td>\n",
       "      <td>4.073</td>\n",
       "    </tr>\n",
       "    <tr>\n",
       "      <th>24</th>\n",
       "      <td>Этанол</td>\n",
       "      <td>CH3CH2OH</td>\n",
       "      <td>46.069</td>\n",
       "      <td>-114.2</td>\n",
       "      <td>78.3</td>\n",
       "      <td>243.0</td>\n",
       "      <td>6.383</td>\n",
       "    </tr>\n",
       "    <tr>\n",
       "      <th>25</th>\n",
       "      <td>Этилацетат</td>\n",
       "      <td>CH3COOC2H5</td>\n",
       "      <td>88.106</td>\n",
       "      <td>-83.6</td>\n",
       "      <td>77.1</td>\n",
       "      <td>250.2</td>\n",
       "      <td>3.830</td>\n",
       "    </tr>\n",
       "    <tr>\n",
       "      <th>26</th>\n",
       "      <td>Этилбензол</td>\n",
       "      <td>C6H5C2H5</td>\n",
       "      <td>106.167</td>\n",
       "      <td>-95.0</td>\n",
       "      <td>136.2</td>\n",
       "      <td>346.4</td>\n",
       "      <td>3.607</td>\n",
       "    </tr>\n",
       "    <tr>\n",
       "      <th>27</th>\n",
       "      <td>Этиловый эфир</td>\n",
       "      <td>(C2H5)2O</td>\n",
       "      <td>74.123</td>\n",
       "      <td>-116.3</td>\n",
       "      <td>34.6</td>\n",
       "      <td>193.4</td>\n",
       "      <td>3.638</td>\n",
       "    </tr>\n",
       "  </tbody>\n",
       "</table>\n",
       "</div>"
      ],
      "text/plain": [
       "                  name         formula  molar_mass  melting_point  \\\n",
       "0               Анилин         C6H5NH2      93.128           -5.9   \n",
       "1               Ацетон        CH3COCH3      58.080          -95.4   \n",
       "2               Бензол            C6H6      78.114            5.5   \n",
       "3           Бромбензол          C6H5Br     157.010          -30.8   \n",
       "4              Бутанол  CH3(CH2)2CH2OH      74.123          -89.5   \n",
       "5               Гексан    CH3(CH2)4CH3      86.177          -95.3   \n",
       "6               Гептан    CH3(CH2)5CH3     100.204          -90.6   \n",
       "7           Дихлорэтан      ClCH2CH2Cl      98.959          -35.9   \n",
       "8          Изопропанол      (CH3)2CHOH      60.096          -89.5   \n",
       "9             о-Ксилол      C6H4(CH3)2     106.167          -25.2   \n",
       "10            п-Ксилол      C6H4(CH3)2     106.167           13.3   \n",
       "11             Метанол           CH3OH      32.042          -97.9   \n",
       "12         Метилацетат       CH3COOCH3      74.079          -98.1   \n",
       "13  Муравьиная кислота           HCOOH      46.026            8.3   \n",
       "14         Нитробензол         C6H5NO2     123.111            5.8   \n",
       "15               Октан    CH3(CH2)6CH3     114.231          -56.8   \n",
       "16            Пропанол     CH3CH2CH2OH      60.096         -126.2   \n",
       "17         Сероуглерод             CS2      76.143         -111.9   \n",
       "18      Тетрахлорметан            CCl4     153.822          -22.9   \n",
       "19              Толуол         C6H5CH3      92.141          -95.0   \n",
       "20    Уксусная кислота         CH3COOH      60.053           16.8   \n",
       "21          Хлорбензол          C6H5Cl     112.558          -45.6   \n",
       "22           Хлороформ           CHCl3     119.377          -63.5   \n",
       "23         Циклогексан           C6H12      84.161            6.6   \n",
       "24              Этанол        CH3CH2OH      46.069         -114.2   \n",
       "25          Этилацетат      CH3COOC2H5      88.106          -83.6   \n",
       "26          Этилбензол        C6H5C2H5     106.167          -95.0   \n",
       "27       Этиловый эфир        (C2H5)2O      74.123         -116.3   \n",
       "\n",
       "    boiling_point  critical_point  critical_pressure  \n",
       "0           184.4           426.0              5.309  \n",
       "1            56.2           235.5              4.701  \n",
       "2            80.1           289.4              4.894  \n",
       "3           156.0           397.0              4.519  \n",
       "4           117.3           288.6              4.418  \n",
       "5            68.7           234.7              2.969  \n",
       "6            98.4           267.0              2.736  \n",
       "7            83.5           288.0              5.369  \n",
       "8            82.4           235.6              4.762  \n",
       "9           144.4           358.4              3.729  \n",
       "10          138.4           342.8              3.516  \n",
       "11           64.7           239.5              8.096  \n",
       "12           56.9           233.7              4.691  \n",
       "13          100.7           306.8                NaN  \n",
       "14          210.9           459.0                NaN  \n",
       "15          125.7           296.2              2.482  \n",
       "16           97.2           263.7              5.168  \n",
       "17           46.2           279.0              7.903  \n",
       "18           76.8           283.2              4.560  \n",
       "19          110.6           320.4              4.114  \n",
       "20          118.1           321.6              5.786  \n",
       "21          131.7           359.2              4.519  \n",
       "22           61.2           263.4              5.472  \n",
       "23           80.7           280.4              4.073  \n",
       "24           78.3           243.0              6.383  \n",
       "25           77.1           250.2              3.830  \n",
       "26          136.2           346.4              3.607  \n",
       "27           34.6           193.4              3.638  "
      ]
     },
     "execution_count": 34,
     "metadata": {},
     "output_type": "execute_result"
    }
   ],
   "source": [
    "Substance = {'A':Сomponent(name='Метанол'), 'B':Сomponent(name='Этанол')}\n",
    "A_name = Substance['A'].ph_organic['formula'].values\n",
    "B_name = Substance['B'].ph_organic['formula'].values\n",
    "\n",
    "ph_organic"
   ]
  },
  {
   "cell_type": "markdown",
   "metadata": {},
   "source": [
    "В переменную diagram загружаем таблицу с данными о равновесии жидкость-пар для смеси выбранных веществ. В примере выбраны бензол и толуол, согласно базе ph_organic их формулы соответственно C6H6 и C6H5CH3.\n",
    "\n",
    "ВАЖНО! в столбцах 'x' и 'y' значения должны быть в долях от единицы, а не в процентах. Если вдруг попалась таблица с процентами, то раскомментируем деление на 100 для каждого из столбцов."
   ]
  },
  {
   "cell_type": "code",
   "execution_count": 56,
   "metadata": {},
   "outputs": [
    {
     "data": {
      "text/html": [
       "<div>\n",
       "<style scoped>\n",
       "    .dataframe tbody tr th:only-of-type {\n",
       "        vertical-align: middle;\n",
       "    }\n",
       "\n",
       "    .dataframe tbody tr th {\n",
       "        vertical-align: top;\n",
       "    }\n",
       "\n",
       "    .dataframe thead th {\n",
       "        text-align: right;\n",
       "    }\n",
       "</style>\n",
       "<table border=\"1\" class=\"dataframe\">\n",
       "  <thead>\n",
       "    <tr style=\"text-align: right;\">\n",
       "      <th></th>\n",
       "      <th>x</th>\n",
       "      <th>y</th>\n",
       "      <th>t</th>\n",
       "    </tr>\n",
       "  </thead>\n",
       "  <tbody>\n",
       "    <tr>\n",
       "      <th>0</th>\n",
       "      <td>0.000</td>\n",
       "      <td>0.000</td>\n",
       "      <td>78.3</td>\n",
       "    </tr>\n",
       "    <tr>\n",
       "      <th>1</th>\n",
       "      <td>0.134</td>\n",
       "      <td>0.183</td>\n",
       "      <td>76.6</td>\n",
       "    </tr>\n",
       "    <tr>\n",
       "      <th>2</th>\n",
       "      <td>0.242</td>\n",
       "      <td>0.326</td>\n",
       "      <td>75.0</td>\n",
       "    </tr>\n",
       "    <tr>\n",
       "      <th>3</th>\n",
       "      <td>0.320</td>\n",
       "      <td>0.428</td>\n",
       "      <td>73.6</td>\n",
       "    </tr>\n",
       "    <tr>\n",
       "      <th>4</th>\n",
       "      <td>0.401</td>\n",
       "      <td>0.529</td>\n",
       "      <td>72.3</td>\n",
       "    </tr>\n",
       "    <tr>\n",
       "      <th>5</th>\n",
       "      <td>0.435</td>\n",
       "      <td>0.566</td>\n",
       "      <td>71.7</td>\n",
       "    </tr>\n",
       "    <tr>\n",
       "      <th>6</th>\n",
       "      <td>0.542</td>\n",
       "      <td>0.676</td>\n",
       "      <td>70.0</td>\n",
       "    </tr>\n",
       "    <tr>\n",
       "      <th>7</th>\n",
       "      <td>0.652</td>\n",
       "      <td>0.759</td>\n",
       "      <td>68.6</td>\n",
       "    </tr>\n",
       "    <tr>\n",
       "      <th>8</th>\n",
       "      <td>0.728</td>\n",
       "      <td>0.813</td>\n",
       "      <td>67.7</td>\n",
       "    </tr>\n",
       "    <tr>\n",
       "      <th>9</th>\n",
       "      <td>0.790</td>\n",
       "      <td>0.858</td>\n",
       "      <td>66.9</td>\n",
       "    </tr>\n",
       "    <tr>\n",
       "      <th>10</th>\n",
       "      <td>0.814</td>\n",
       "      <td>0.875</td>\n",
       "      <td>66.6</td>\n",
       "    </tr>\n",
       "    <tr>\n",
       "      <th>11</th>\n",
       "      <td>0.873</td>\n",
       "      <td>0.919</td>\n",
       "      <td>65.8</td>\n",
       "    </tr>\n",
       "    <tr>\n",
       "      <th>12</th>\n",
       "      <td>0.910</td>\n",
       "      <td>0.937</td>\n",
       "      <td>65.6</td>\n",
       "    </tr>\n",
       "    <tr>\n",
       "      <th>13</th>\n",
       "      <td>1.000</td>\n",
       "      <td>1.000</td>\n",
       "      <td>64.6</td>\n",
       "    </tr>\n",
       "  </tbody>\n",
       "</table>\n",
       "</div>"
      ],
      "text/plain": [
       "        x      y     t\n",
       "0   0.000  0.000  78.3\n",
       "1   0.134  0.183  76.6\n",
       "2   0.242  0.326  75.0\n",
       "3   0.320  0.428  73.6\n",
       "4   0.401  0.529  72.3\n",
       "5   0.435  0.566  71.7\n",
       "6   0.542  0.676  70.0\n",
       "7   0.652  0.759  68.6\n",
       "8   0.728  0.813  67.7\n",
       "9   0.790  0.858  66.9\n",
       "10  0.814  0.875  66.6\n",
       "11  0.873  0.919  65.8\n",
       "12  0.910  0.937  65.6\n",
       "13  1.000  1.000  64.6"
      ]
     },
     "execution_count": 56,
     "metadata": {},
     "output_type": "execute_result"
    }
   ],
   "source": [
    "diagram = pd.read_excel('l_v/CH3OH-CH3CH2OH.xlsx')\n",
    "\n",
    "if diagram['x'].values.max() > 1:\n",
    "    diagram['x'] = diagram['x']/100\n",
    "    \n",
    "if diagram['y'].values.max() > 1:\n",
    "    diagram['y'] = diagram['y']/100\n",
    "    \n",
    "diagram.sort_values(by = ['t'], ascending=False,ignore_index=True, inplace=True)\n",
    "xy_diagram = dfс.get_coeffs(diagram['x'], diagram['y'])\n",
    "diagram"
   ]
  },
  {
   "cell_type": "markdown",
   "metadata": {},
   "source": [
    "Ниже представлена диаграма жидкость-пар выбранной смеси компонентов. Правая диаграма показывает как сильно состав жидкой фазы отличается от состава паровой. Серой прямой показана линия, в которой составы жидкости и пара были бы равны.\n",
    "\n",
    "На диаграмы так же наложены линии аппроксимации данных. Если автомтически подобранные функции не пересекаются в неожиданных местах, не создают странных выбросов и вообще просто лежат на данных, полностью повторяя кривую эксперимента, то расчет будет точным и без проблем. Как правило, трудности случаются со смесями с азеотропной точкой. Если же такое встретится, то самым простым способом было бы добавить данных экспериментов в исходную таблицу. Так же можно в ручную искать полином, добавляя в функции dfc.get_fit(n='нужная размерность полинома')"
   ]
  },
  {
   "cell_type": "code",
   "execution_count": 36,
   "metadata": {},
   "outputs": [
    {
     "data": {
      "text/plain": [
       "Text(0.5, 0, \"Мольная доля ['CH3OH'] в жидкости\")"
      ]
     },
     "execution_count": 36,
     "metadata": {},
     "output_type": "execute_result"
    },
    {
     "data": {
      "image/png": "[encoded data removed]",
      "text/plain": [
       "<Figure size 1440x720 with 2 Axes>"
      ]
     },
     "metadata": {
      "needs_background": "light"
     },
     "output_type": "display_data"
    }
   ],
   "source": [
    "plt.style.use(['science', 'no-latex', 'notebook', 'grid'])\n",
    "\n",
    "\n",
    "fig = plt.figure(figsize=(20,10))\n",
    "axes = fig.add_subplot(1,2,1)\n",
    "axes2 = fig.add_subplot(1,2,2)\n",
    "\n",
    "axes.plot(diagram['x'], diagram['t'], label='состав жидкости')\n",
    "axes.plot(diagram['y'], diagram['t'], label='состав пара')\n",
    "axes.set_ylabel('Температура, °С', fontsize=15)\n",
    "axes.set_xlabel(f'Мольная доля {A_name}', fontsize=15)\n",
    "\n",
    "p_x = dfс.get_fit(diagram['x'], diagram['t'])\n",
    "p_y = dfс.get_fit(diagram['y'], diagram['t'])\n",
    "axes.plot(diagram['x'], p_x, 'o--', color='red', lw=0.5, ms=2)\n",
    "axes.plot(diagram['y'], p_y, 'o--', color='blue', lw=0.5, ms=2)\n",
    "axes.legend(loc='upper right')\n",
    "\n",
    "axes2.plot(diagram['x'], diagram['y'])\n",
    "x_y = dfс.get_fit(diagram['x'], diagram['y'])\n",
    "axes2.plot(diagram['x'], x_y, 'o--', color='red', lw=1, ms=2)\n",
    "_ = [0, 1]\n",
    "axes2.plot(_, _, color='black', lw=0.5)\n",
    "axes2.set_ylabel(f'Мольная доля {A_name} в паре', fontsize=15)\n",
    "axes2.set_xlabel(f'Мольная доля {A_name} в жидкости', fontsize=15)\n"
   ]
  },
  {
   "cell_type": "markdown",
   "metadata": {},
   "source": [
    "Задаемся исходными данными на проектирование. \n",
    "1. Какой производительностью должна обладать наша колонна(поле F); Верхний предел производительности ~10кг/с. При таких объемах установка требует экстремальные требования к диаметру и высоте из каталогов ГОСТа. \n",
    "2. Какой температуры раствор подается в колонну(поле FEED_TEMPERATURE, °С);\n",
    "3. Сколько в исходной смеси содержится легколетучего компонента(поле FEED, %масс);\n",
    "4. Какой чистоты нужно получить дистиллят (поле DISTILLATE, в долях от единицы);\n",
    "5. Какой чистоты нужно получить кубовый остаток (поле BOTTOM, в долях от единицы);\n",
    "6. При каком давлении проводить процесс(PRESSURE); важно помнить, что при изменении давления внтри колонны, диаграмма равновесия жидкость-пар тоже может изменяться. Некоторые закономерности показаны в файле processing_frames"
   ]
  },
  {
   "cell_type": "code",
   "execution_count": 37,
   "metadata": {},
   "outputs": [
    {
     "data": {
      "text/plain": [
       "Ma                                                 [32.042]\n",
       "Mb                                                 [46.069]\n",
       "массовый расход в питателе                              5.0\n",
       "массовый расход в кубовом остатке                  3.271028\n",
       "массовый расход в дефлегматоре                     1.728972\n",
       "xf                                     [0.4363604134614473]\n",
       "xp                                     [0.9860043338430687]\n",
       "xw                                   [0.024261519949267146]\n",
       "yf                                      [0.568288326074045]\n",
       "Rmin                                    [3.166244348878877]\n",
       "dtype: object"
      ]
     },
     "execution_count": 37,
     "metadata": {},
     "output_type": "execute_result"
    }
   ],
   "source": [
    "F = np.double(5)                  #Производительность по исходной смеси кг/с\n",
    "FEED_TEMPERATURE = np.double(20)  #Начальная температура\n",
    "FEED = np.double(0.35)            #В исходной смеси %масс Ллт \n",
    "DISTILLATE = np.double(0.98)      #В дистилляте(ректификате) %масс \n",
    "BOTTOM = np.double(0.017)         #В кубовом остатке %масс ллт\n",
    "PRESSURE = np.double(10**5)       #Давление в колонне в Па. Влияет на коэфф. диффузии пара в колонне\n",
    "\n",
    "balance = clc.material_balance(F, FEED, DISTILLATE, BOTTOM, xy_diagram, Substance)\n",
    "balance"
   ]
  },
  {
   "cell_type": "markdown",
   "metadata": {},
   "source": [
    "Нагрузки по пару и жидкости определяются рабочим флегмовым числом 'R'; его оптимальное значение 'Ropt' можно найти путем технико-экономического расчета. Ввиду отсутствия надежной методики оцени 'Ropt' используют приближенные вычисления, основанные на определении коэффициента избытка флегмы (орошения). Задавшись различными значениями коэффициентов избытка флегмы β, находим соответствующие флегмовые числа. Графическим построением ступеней изменения концентраций между равновесной и рабочими линиями на диаграмме у – х найдем необходимое количество при каждом значении избытка флегмы\n",
    "\n",
    "В функции ниже можно задать кол-во значений коэффициента избытка флегмы 'Bt_range', на основании которых будем искать оптимальное флегмовое число. "
   ]
  },
  {
   "cell_type": "code",
   "execution_count": 38,
   "metadata": {},
   "outputs": [
    {
     "data": {
      "image/png": "[encoded data removed]",
      "text/plain": [
       "<Figure size 1080x3240 with 20 Axes>"
      ]
     },
     "metadata": {
      "needs_background": "light"
     },
     "output_type": "display_data"
    }
   ],
   "source": [
    "SMALL_SIZE = 6\n",
    "MEDIUM_SIZE = 10\n",
    "BIGGER_SIZE = 12\n",
    "\n",
    "plt.rc('font', size=SMALL_SIZE)          # controls default text sizes\n",
    "plt.rc('axes', titlesize=MEDIUM_SIZE)    # fontsize of the axes title\n",
    "plt.rc('axes', labelsize=SMALL_SIZE)     # fontsize of the x and y labels\n",
    "plt.rc('xtick', labelsize=SMALL_SIZE)    # fontsize of the tick labels\n",
    "plt.rc('ytick', labelsize=SMALL_SIZE)    # fontsize of the tick labels\n",
    "plt.rc('legend', fontsize=SMALL_SIZE)    # legend fontsize\n",
    "plt.rc('figure', titlesize=BIGGER_SIZE)  # fontsize of the figure title\n",
    "\n",
    "R,Ngraf = clc.get_range_phlegm_number(\n",
    "    balance['yf'],\n",
    "    balance['xw'],\n",
    "    balance['xf'],\n",
    "    balance['xp'],\n",
    "    balance['Rmin'],\n",
    "    xy_diagram,\n",
    "    diagram,\n",
    "    Bt_range=20,#изменяемый параметр\n",
    "    plot_lines='True')\n",
    "\n"
   ]
  },
  {
   "cell_type": "markdown",
   "metadata": {},
   "source": [
    "На рисунке выше: \n",
    "\n",
    "в каждой точке коэффициента избытка флегмы находится рабочее флегмовое число 'R', по которому строится рабочая линия с координатой 'Yf'. Графическим построением ступеней 'N' изменения концентраций между равновесной и рабочими линиями на диаграмме у – х находят необходимое количество при каждом значении избытка флегмы.\n",
    "\n",
    "На рисунке ниже:\n",
    "\n",
    "строится график зависимости N(R + 1) = f(R). Оптимальное флегмовое число соответствует минимальному произведению N(R + 1)\n"
   ]
  },
  {
   "cell_type": "code",
   "execution_count": 39,
   "metadata": {},
   "outputs": [
    {
     "name": "stdout",
     "output_type": "stream",
     "text": [
      "Оптимальное флегмовое число = [4.62]\n"
     ]
    },
    {
     "data": {
      "image/png": "[encoded data removed]",
      "text/plain": [
       "<Figure size 504x504 with 1 Axes>"
      ]
     },
     "metadata": {
      "needs_background": "light"
     },
     "output_type": "display_data"
    }
   ],
   "source": [
    "plt.style.use(['science', 'no-latex', 'notebook', 'grid'])\n",
    "Ropt = clc.get_optimal_phlegm_number(R, Ngraf)\n",
    "#Ropt = 2.1\n",
    "#Здесь можно задать любое флегмовое число, раскомментировав строку выше, и посомтреть как оно влияет на конструкцию колонны"
   ]
  },
  {
   "cell_type": "markdown",
   "metadata": {},
   "source": [
    "Найдем физико-химические свойства раствора при концентрациях:\n",
    "\n",
    "1. куба (внизу колонны, где будет собираться тяжелолетучий компонент)\n",
    "2. дистиллята (вверху колонны, где будет собираться легколетучий компонент)\n",
    "3. питания (в точке колонны, куда будет подаваться исходный раствор)\n",
    "4. верха (среднее значение между питанием и дистиллятом)\n",
    "5. низа (среднее значение между питанием и кубом)"
   ]
  },
  {
   "cell_type": "code",
   "execution_count": 40,
   "metadata": {},
   "outputs": [
    {
     "data": {
      "text/html": [
       "<div>\n",
       "<style scoped>\n",
       "    .dataframe tbody tr th:only-of-type {\n",
       "        vertical-align: middle;\n",
       "    }\n",
       "\n",
       "    .dataframe tbody tr th {\n",
       "        vertical-align: top;\n",
       "    }\n",
       "\n",
       "    .dataframe thead th {\n",
       "        text-align: right;\n",
       "    }\n",
       "</style>\n",
       "<table border=\"1\" class=\"dataframe\">\n",
       "  <thead>\n",
       "    <tr style=\"text-align: right;\">\n",
       "      <th></th>\n",
       "      <th>температура</th>\n",
       "      <th>содержание легколетучего в жидкости</th>\n",
       "      <th>содержание легколетучего в паре</th>\n",
       "      <th>плотность жидкости</th>\n",
       "      <th>теплопроводность жидкости</th>\n",
       "      <th>теплота парообразования жидкости</th>\n",
       "      <th>удельная теплоемкость жидкости</th>\n",
       "      <th>поверхностное натяжение жидкости</th>\n",
       "      <th>давление насыщенного пара жидкости</th>\n",
       "      <th>коэффициент объемного расширения жидкости</th>\n",
       "      <th>молярный объем газа</th>\n",
       "      <th>молярная масса жидкости</th>\n",
       "      <th>молярная масса газа</th>\n",
       "      <th>плотность пара</th>\n",
       "      <th>вязкость пара</th>\n",
       "      <th>вязкость жидкости</th>\n",
       "      <th>молярный объем жидкости</th>\n",
       "    </tr>\n",
       "  </thead>\n",
       "  <tbody>\n",
       "    <tr>\n",
       "      <th>куба</th>\n",
       "      <td>78.004249</td>\n",
       "      <td>0.024262</td>\n",
       "      <td>0.04</td>\n",
       "      <td>736.889583</td>\n",
       "      <td>0.153254</td>\n",
       "      <td>847.008611</td>\n",
       "      <td>3000.728998</td>\n",
       "      <td>17.573839</td>\n",
       "      <td>761.268151</td>\n",
       "      <td>1.333551</td>\n",
       "      <td>28.796834</td>\n",
       "      <td>45.728684</td>\n",
       "      <td>45.50792</td>\n",
       "      <td>1.580310</td>\n",
       "      <td>0.010195</td>\n",
       "      <td>0.440877</td>\n",
       "      <td>62.056358</td>\n",
       "    </tr>\n",
       "    <tr>\n",
       "      <th>низа</th>\n",
       "      <td>75.157032</td>\n",
       "      <td>0.230311</td>\n",
       "      <td>0.31</td>\n",
       "      <td>739.721070</td>\n",
       "      <td>0.161214</td>\n",
       "      <td>899.989593</td>\n",
       "      <td>2954.852609</td>\n",
       "      <td>17.860627</td>\n",
       "      <td>776.400141</td>\n",
       "      <td>1.335670</td>\n",
       "      <td>28.563344</td>\n",
       "      <td>42.838428</td>\n",
       "      <td>41.72063</td>\n",
       "      <td>1.460635</td>\n",
       "      <td>0.010352</td>\n",
       "      <td>0.416794</td>\n",
       "      <td>57.911596</td>\n",
       "    </tr>\n",
       "    <tr>\n",
       "      <th>питания</th>\n",
       "      <td>71.674046</td>\n",
       "      <td>0.436360</td>\n",
       "      <td>0.57</td>\n",
       "      <td>743.132642</td>\n",
       "      <td>0.169383</td>\n",
       "      <td>954.460233</td>\n",
       "      <td>2905.508723</td>\n",
       "      <td>18.199339</td>\n",
       "      <td>762.338574</td>\n",
       "      <td>1.332597</td>\n",
       "      <td>28.277718</td>\n",
       "      <td>39.948172</td>\n",
       "      <td>38.07361</td>\n",
       "      <td>1.346417</td>\n",
       "      <td>0.010535</td>\n",
       "      <td>0.396255</td>\n",
       "      <td>53.756450</td>\n",
       "    </tr>\n",
       "    <tr>\n",
       "      <th>верха</th>\n",
       "      <td>67.851755</td>\n",
       "      <td>0.711182</td>\n",
       "      <td>0.80</td>\n",
       "      <td>746.819101</td>\n",
       "      <td>0.180158</td>\n",
       "      <td>1026.150737</td>\n",
       "      <td>2855.711073</td>\n",
       "      <td>18.567837</td>\n",
       "      <td>755.279546</td>\n",
       "      <td>1.334350</td>\n",
       "      <td>27.964266</td>\n",
       "      <td>36.093245</td>\n",
       "      <td>34.84740</td>\n",
       "      <td>1.246140</td>\n",
       "      <td>0.010732</td>\n",
       "      <td>0.363798</td>\n",
       "      <td>48.329301</td>\n",
       "    </tr>\n",
       "    <tr>\n",
       "      <th>дистиллята</th>\n",
       "      <td>64.721837</td>\n",
       "      <td>0.986004</td>\n",
       "      <td>0.99</td>\n",
       "      <td>749.749470</td>\n",
       "      <td>0.190813</td>\n",
       "      <td>1097.130679</td>\n",
       "      <td>2819.001323</td>\n",
       "      <td>18.865600</td>\n",
       "      <td>756.862224</td>\n",
       "      <td>1.341153</td>\n",
       "      <td>27.707593</td>\n",
       "      <td>32.238317</td>\n",
       "      <td>32.18227</td>\n",
       "      <td>1.161496</td>\n",
       "      <td>0.010955</td>\n",
       "      <td>0.328657</td>\n",
       "      <td>42.998786</td>\n",
       "    </tr>\n",
       "  </tbody>\n",
       "</table>\n",
       "</div>"
      ],
      "text/plain": [
       "            температура  содержание легколетучего в жидкости  \\\n",
       "куба          78.004249                             0.024262   \n",
       "низа          75.157032                             0.230311   \n",
       "питания       71.674046                             0.436360   \n",
       "верха         67.851755                             0.711182   \n",
       "дистиллята    64.721837                             0.986004   \n",
       "\n",
       "            содержание легколетучего в паре  плотность жидкости  \\\n",
       "куба                                   0.04          736.889583   \n",
       "низа                                   0.31          739.721070   \n",
       "питания                                0.57          743.132642   \n",
       "верха                                  0.80          746.819101   \n",
       "дистиллята                             0.99          749.749470   \n",
       "\n",
       "            теплопроводность жидкости  теплота парообразования жидкости  \\\n",
       "куба                         0.153254                        847.008611   \n",
       "низа                         0.161214                        899.989593   \n",
       "питания                      0.169383                        954.460233   \n",
       "верха                        0.180158                       1026.150737   \n",
       "дистиллята                   0.190813                       1097.130679   \n",
       "\n",
       "            удельная теплоемкость жидкости  поверхностное натяжение жидкости  \\\n",
       "куба                           3000.728998                         17.573839   \n",
       "низа                           2954.852609                         17.860627   \n",
       "питания                        2905.508723                         18.199339   \n",
       "верха                          2855.711073                         18.567837   \n",
       "дистиллята                     2819.001323                         18.865600   \n",
       "\n",
       "            давление насыщенного пара жидкости  \\\n",
       "куба                                761.268151   \n",
       "низа                                776.400141   \n",
       "питания                             762.338574   \n",
       "верха                               755.279546   \n",
       "дистиллята                          756.862224   \n",
       "\n",
       "            коэффициент объемного расширения жидкости  молярный объем газа  \\\n",
       "куба                                         1.333551            28.796834   \n",
       "низа                                         1.335670            28.563344   \n",
       "питания                                      1.332597            28.277718   \n",
       "верха                                        1.334350            27.964266   \n",
       "дистиллята                                   1.341153            27.707593   \n",
       "\n",
       "            молярная масса жидкости  молярная масса газа  плотность пара  \\\n",
       "куба                      45.728684             45.50792        1.580310   \n",
       "низа                      42.838428             41.72063        1.460635   \n",
       "питания                   39.948172             38.07361        1.346417   \n",
       "верха                     36.093245             34.84740        1.246140   \n",
       "дистиллята                32.238317             32.18227        1.161496   \n",
       "\n",
       "            вязкость пара  вязкость жидкости  молярный объем жидкости  \n",
       "куба             0.010195           0.440877                62.056358  \n",
       "низа             0.010352           0.416794                57.911596  \n",
       "питания          0.010535           0.396255                53.756450  \n",
       "верха            0.010732           0.363798                48.329301  \n",
       "дистиллята       0.010955           0.328657                42.998786  "
      ]
     },
     "execution_count": 40,
     "metadata": {},
     "output_type": "execute_result"
    }
   ],
   "source": [
    "properties = clc.calculate_properties(diagram, balance, Substance)\n",
    "properties"
   ]
  },
  {
   "cell_type": "markdown",
   "metadata": {},
   "source": [
    "Высоту насадки в колонне рассчитывают по модифицированному уравнению массопередачи, для которого необходимо найти общее число единиц переноса и общую высоту единицы переноса. Число единиц переноса найдем численными методом для верхней и нижней частей колонны. Общее число единиц переноса вычисляют по уравнению:\n",
    "$$ n_{oy} = \\int_{yw}^{yp} \\frac{dy}{y^{*}-y} $$"
   ]
  },
  {
   "cell_type": "code",
   "execution_count": 41,
   "metadata": {},
   "outputs": [
    {
     "data": {
      "image/png": "[encoded data removed]",
      "text/plain": [
       "<Figure size 864x360 with 2 Axes>"
      ]
     },
     "metadata": {
      "needs_background": "light"
     },
     "output_type": "display_data"
    }
   ],
   "source": [
    "bottom, top = clc.get_transfer_numbers(balance, Ropt, xy_diagram)"
   ]
  },
  {
   "cell_type": "markdown",
   "metadata": {},
   "source": [
    "Расчет ректиификационной колоны сводится к определению ее основных геометрических размеров - диаметра и высоты. Оба параметра в значительной мере определяются гидродинамическим режимом работы колоны, который, в свою очередь, зависит от скоростей и физических свойств фаз, а также от типа и размера насадки.\n",
    "При расчете ректификационной установки приняты следующие допущения:\n",
    "1. молярные теплоты испарения компонентов при одной и той же температуре приблизительно одинаковы (правило Трутона), поэтому каждый кМоль пара при конденсации испаряет 1 кМоль жидкости. Поэтому мольные потоки пара в любом сечении колонны постоянны;\n",
    "2. в дефлегматоре не происходит изменения состава пара;\n",
    "3. при испарении жидкости в кипятильнике не происходит изменения ее состава;\n",
    "4. теплоты смешения компонентов разделяемой смеси равны нулю\n",
    "\n",
    "В качестве насадки выбраны неупорядоченные кольца Рашига трех размеров по каталогу.\n",
    "\n",
    "Диаметр колонны в графе 'стандартный размер обечайки' в метрах"
   ]
  },
  {
   "cell_type": "code",
   "execution_count": 42,
   "metadata": {},
   "outputs": [
    {
     "data": {
      "text/plain": [
       "массовая нагрузка жидкости верха          [8.943005332091285]\n",
       "массовая нагрузка жидкости низа           [15.97604406769291]\n",
       "массовый поток пара верха                [10.521507586131282]\n",
       "массовый поток пара низа                 [12.596748252184563]\n",
       "предельная скорость пара верха           [2.8544432103817394]\n",
       "предельная скорость пара низа            [2.3225662031857945]\n",
       "рабочая скорость пара верха              [1.9981102472672174]\n",
       "рабочая скорость пара низа                [1.625796342230056]\n",
       "диаметр верха                             [2.319534548057392]\n",
       "диаметр низа                             [2.5988446071645317]\n",
       "стандартный размер обечайки                               2.6\n",
       "действительная рабочая скорость верха    [1.5902830939406236]\n",
       "действительная рабочая скорость низа     [1.6243517144801565]\n",
       "% от предельной скорости верха            [55.71254975950097]\n",
       "% от предельной скорости низа             [69.93780036289523]\n",
       "dtype: object"
      ]
     },
     "execution_count": 42,
     "metadata": {},
     "output_type": "execute_result"
    }
   ],
   "source": [
    "diameter = clc.calculate_diameter(balance, Ropt, properties, filling_name='50x50x5')# насадки могут быть трех размеров '25x25x3' '35x35x4' '50x50x5'\n",
    "diameter"
   ]
  },
  {
   "cell_type": "markdown",
   "metadata": {},
   "source": [
    "ниже 'общая высота колонны' в метрах"
   ]
  },
  {
   "cell_type": "code",
   "execution_count": 43,
   "metadata": {},
   "outputs": [
    {
     "data": {
      "text/plain": [
       "отношение нагрузок пар/жидкость верха              [1.2164502164502164]\n",
       "отношение нагрузок пар/жидкость низа               [0.8081950358192826]\n",
       "коэффициент диффузии жидкости верха при 20°С    [4.713544508560524e-09]\n",
       "коэффициент диффузии жидкости низа при 20°С     [4.006799675489538e-09]\n",
       "температурный коэффициент верха                                0.018946\n",
       "температурный коэффициент низа                                 0.022299\n",
       "коэффициент диффузии жидкости низа              [8.934914470635338e-09]\n",
       "коэффициент диффузии жидкости верха             [8.986948246491954e-09]\n",
       "коэффициент диффузии пара верха                                0.000011\n",
       "коэффициент диффузии пара низа                                 0.000011\n",
       "средний коэффициент распределения верха                        1.140754\n",
       "средний коэффициент распределения низа                         1.353691\n",
       "критерий Прандтля жидости верха                    [54.204121903049085]\n",
       "критерий Прандтля жидкости низа                     [63.06125344004032]\n",
       "высота единицы переноса жидкости верха            [0.06502760246183827]\n",
       "высота единицы переноса жидкости низа              [0.0608374979604205]\n",
       "критерий Прандтля пара верха                                   0.785322\n",
       "критерий Прандтля пара низа                                    0.626052\n",
       "массовая плотность орошения верха                  [1.6852608698773763]\n",
       "массовая плотность орошения низа                   [3.0105988896266744]\n",
       "высота единицы переноса пара верха                  [4.521058383953523]\n",
       "высота единицы переноса пара низа                   [2.468571052104899]\n",
       "общая высота единицы переноса верха                 [4.611295273071575]\n",
       "общая высота единицы переноса низа                  [2.535130089033632]\n",
       "высота насадки верха                                [65.38816697215493]\n",
       "высота насадки низа                                 [52.62930064833821]\n",
       "общая высота насадки в колонне                     [118.01746762049314]\n",
       "общая высота колонны                                            [143.4]\n",
       "dtype: object"
      ]
     },
     "execution_count": 43,
     "metadata": {},
     "output_type": "execute_result"
    }
   ],
   "source": [
    "hight = clc.calculate_hight(\n",
    "    balance,\n",
    "    properties,\n",
    "    diameter,\n",
    "    xy_diagram,\n",
    "    bottom,\n",
    "    top,\n",
    "    Substance,\n",
    "    Ropt,\n",
    "    PRESSURE,\n",
    "    filling_name='50x50x5')\n",
    "hight"
   ]
  },
  {
   "cell_type": "code",
   "execution_count": 44,
   "metadata": {},
   "outputs": [
    {
     "data": {
      "text/plain": [
       "теплота забираемая водой в дефлегматоре     [10660.623985599621]\n",
       "теплота передаваемая паром от испарителя             4772.301167\n",
       "теплота исходной смеси                               1041.247835\n",
       "теплота кубовой жидкости                              765.648266\n",
       "теплота дистиллята                                    315.452567\n",
       "теплота получаемая кипящей жидкостью         [10700.47698411418]\n",
       "dtype: object"
      ]
     },
     "execution_count": 44,
     "metadata": {},
     "output_type": "execute_result"
    }
   ],
   "source": [
    "thermal_balance = clc.calculate_thermal_balance(balance, properties, Ropt)\n",
    "thermal_balance"
   ]
  },
  {
   "cell_type": "markdown",
   "metadata": {},
   "source": [
    "Для работы колонны необходимо правильно подобрать теплообменники, которые обеспечивают ток вещества. В подогревателе исходной смеси осуществляется нагрев смеси от FEED_TEMPERATURE до температуры кипения исходной смеси. Нагрев исходной смеси осуществляется за счет конденсации насыщенного водяного пара, давление пара 3 ата. Температура пара при таком давлении 132.9 ºС. Изменить давление и в след за ним все свойства теплоносителя можно в поле AQ_PRESSURE.\n",
    "\n",
    "На тепловой карте зеленым цветом будет выделен теплообменник, характеристики которого позволяют в выбранных условиях обеспечивать запас поверхности теплообмена 5-20%.\n",
    "\n",
    "По оси абсцисс отложена длинна трубы аппарата\n",
    "\n",
    "По оси ординат:[диаметр внешнего кожуха; диаметр труб внутри кожуха; число ходов, число труб]\n",
    "\n",
    "Подогреватель может располагаться вертикально и горизонтально. от выбора ориентации зависят некоторые коэффициенты теплообмена."
   ]
  },
  {
   "cell_type": "code",
   "execution_count": 45,
   "metadata": {},
   "outputs": [
    {
     "data": {
      "application/vnd.plotly.v1+json": {
       "config": {
        "plotlyServerURL": "https://plot.ly"
       },
       "data": [
        {
         "coloraxis": "coloraxis",
         "hovertemplate": "Длина труб: %{x}<br>Хараеткристики теплообменника: %{y}<br>Запас поверхности, %: %{z}<extra></extra>",
         "name": "0",
         "texttemplate": "%{z}",
         "type": "heatmap",
         "x": [
          "1",
          "1.5",
          "2",
          "3",
          "4",
          "6",
          "9"
         ],
         "xaxis": "x",
         "y": [
          "159 0.02 1 19",
          "159 0.025 1 13",
          "273 0.02 1 61",
          "273 0.025 1 37",
          "325 0.02 1 100",
          "325 0.02 2 90",
          "325 0.025 1 62",
          "325 0.025 2 56",
          "400 0.02 1 181",
          "400 0.02 2 166",
          "400 0.025 1 111",
          "400 0.025 2 100",
          "600 0.02 1 389",
          "600 0.02 2 370",
          "600 0.02 4 334",
          "600 0.02 6 316",
          "600 0.025 1 257",
          "600 0.025 2 240",
          "600 0.025 4 206",
          "600 0.025 6 196",
          "800 0.02 1 717",
          "800 0.02 2 690",
          "800 0.02 4 638",
          "800 0.02 6 618",
          "800 0.025 1 465",
          "800 0.025 2 442",
          "800 0.025 4 404",
          "800 0.025 6 384",
          "1000 0.02 1 1173",
          "1000 0.02 2 1138",
          "1000 0.02 4 1072",
          "1000 0.02 6 1044",
          "1000 0.025 1 747",
          "1000 0.025 2 718",
          "1000 0.025 4 666",
          "1000 0.025 6 642",
          "1200 0.02 1 1701",
          "1200 0.02 2 1658",
          "1200 0.02 4 1580",
          "1200 0.02 6 1544",
          "1200 0.025 1 1083",
          "1200 0.025 2 1048",
          "1200 0.025 4 986",
          "1200 0.025 6 958"
         ],
         "yaxis": "y",
         "z": [
          [
           -2517,
           -1209,
           -947,
           -648,
           null,
           null,
           null
          ],
          [
           -2648,
           -1732,
           -1274,
           -816,
           null,
           null,
           null
          ],
          [
           -425,
           -250,
           -180,
           -83,
           null,
           null,
           null
          ],
          [
           -652,
           -401,
           -276,
           -151,
           null,
           null,
           null
          ],
          [
           null,
           -113,
           -62,
           -6,
           19,
           null,
           null
          ],
          [
           null,
           -119,
           -69,
           -10,
           17,
           null,
           null
          ],
          [
           null,
           -189,
           -117,
           -49,
           -11,
           null,
           null
          ],
          [
           null,
           -206,
           -121,
           -53,
           -14,
           null,
           null
          ],
          [
           null,
           null,
           -46,
           1,
           27,
           51,
           null
          ],
          [
           null,
           null,
           16,
           43,
           58,
           72,
           null
          ],
          [
           null,
           null,
           -112,
           -39,
           -3,
           31,
           null
          ],
          [
           null,
           null,
           -18,
           21,
           39,
           60,
           null
          ],
          [
           null,
           null,
           -3,
           31,
           48,
           66,
           null
          ],
          [
           null,
           null,
           32,
           55,
           66,
           77,
           null
          ],
          [
           null,
           null,
           63,
           75,
           81,
           88,
           null
          ],
          [
           null,
           null,
           63,
           76,
           82,
           88,
           null
          ],
          [
           null,
           null,
           -43,
           6,
           29,
           53,
           null
          ],
          [
           null,
           null,
           8,
           38,
           53,
           69,
           null
          ],
          [
           null,
           null,
           48,
           66,
           74,
           83,
           null
          ],
          [
           null,
           null,
           50,
           66,
           75,
           83,
           83
          ],
          [
           null,
           null,
           14,
           42,
           57,
           71,
           81
          ],
          [
           null,
           null,
           48,
           65,
           74,
           83,
           88
          ],
          [
           null,
           null,
           65,
           77,
           82,
           88,
           92
          ],
          [
           null,
           null,
           71,
           81,
           86,
           90,
           94
          ],
          [
           null,
           null,
           -20,
           20,
           40,
           60,
           73
          ],
          [
           null,
           null,
           27,
           52,
           64,
           76,
           84
          ],
          [
           null,
           null,
           52,
           68,
           76,
           84,
           89
          ],
          [
           null,
           null,
           74,
           83,
           87,
           91,
           94
          ],
          [
           null,
           null,
           null,
           48,
           61,
           74,
           83
          ],
          [
           null,
           null,
           null,
           70,
           78,
           85,
           90
          ],
          [
           null,
           null,
           null,
           82,
           86,
           91,
           94
          ],
          [
           null,
           null,
           null,
           86,
           89,
           93,
           95
          ],
          [
           null,
           null,
           null,
           28,
           46,
           64,
           76
          ],
          [
           null,
           null,
           null,
           58,
           69,
           79,
           86
          ],
          [
           null,
           null,
           null,
           74,
           81,
           87,
           91
          ],
          [
           null,
           null,
           null,
           80,
           85,
           90,
           93
          ],
          [
           null,
           null,
           null,
           null,
           64,
           76,
           84
          ],
          [
           null,
           null,
           null,
           null,
           79,
           86,
           91
          ],
          [
           null,
           null,
           null,
           null,
           88,
           92,
           95
          ],
          [
           null,
           null,
           null,
           null,
           91,
           94,
           96
          ],
          [
           null,
           null,
           null,
           null,
           49,
           66,
           77
          ],
          [
           null,
           null,
           null,
           null,
           71,
           81,
           87
          ],
          [
           null,
           null,
           null,
           null,
           83,
           89,
           92
          ],
          [
           null,
           null,
           null,
           null,
           87,
           91,
           94
          ]
         ]
        }
       ],
       "layout": {
        "coloraxis": {
         "cmax": 80,
         "cmin": -40,
         "colorbar": {
          "title": {
           "text": "Запас поверхности, %"
          }
         },
         "colorscale": [
          [
           0,
           "rgb(178, 50, 34)"
          ],
          [
           0.5,
           "rgb(34, 149, 34)"
          ],
          [
           1,
           "rgb(25, 65, 225)"
          ]
         ]
        },
        "height": 1000,
        "margin": {
         "t": 60
        },
        "template": {
         "data": {
          "bar": [
           {
            "error_x": {
             "color": "#2a3f5f"
            },
            "error_y": {
             "color": "#2a3f5f"
            },
            "marker": {
             "line": {
              "color": "#E5ECF6",
              "width": 0.5
             },
             "pattern": {
              "fillmode": "overlay",
              "size": 10,
              "solidity": 0.2
             }
            },
            "type": "bar"
           }
          ],
          "barpolar": [
           {
            "marker": {
             "line": {
              "color": "#E5ECF6",
              "width": 0.5
             },
             "pattern": {
              "fillmode": "overlay",
              "size": 10,
              "solidity": 0.2
             }
            },
            "type": "barpolar"
           }
          ],
          "carpet": [
           {
            "aaxis": {
             "endlinecolor": "#2a3f5f",
             "gridcolor": "white",
             "linecolor": "white",
             "minorgridcolor": "white",
             "startlinecolor": "#2a3f5f"
            },
            "baxis": {
             "endlinecolor": "#2a3f5f",
             "gridcolor": "white",
             "linecolor": "white",
             "minorgridcolor": "white",
             "startlinecolor": "#2a3f5f"
            },
            "type": "carpet"
           }
          ],
          "choropleth": [
           {
            "colorbar": {
             "outlinewidth": 0,
             "ticks": ""
            },
            "type": "choropleth"
           }
          ],
          "contour": [
           {
            "colorbar": {
             "outlinewidth": 0,
             "ticks": ""
            },
            "colorscale": [
             [
              0,
              "#0d0887"
             ],
             [
              0.1111111111111111,
              "#46039f"
             ],
             [
              0.2222222222222222,
              "#7201a8"
             ],
             [
              0.3333333333333333,
              "#9c179e"
             ],
             [
              0.4444444444444444,
              "#bd3786"
             ],
             [
              0.5555555555555556,
              "#d8576b"
             ],
             [
              0.6666666666666666,
              "#ed7953"
             ],
             [
              0.7777777777777778,
              "#fb9f3a"
             ],
             [
              0.8888888888888888,
              "#fdca26"
             ],
             [
              1,
              "#f0f921"
             ]
            ],
            "type": "contour"
           }
          ],
          "contourcarpet": [
           {
            "colorbar": {
             "outlinewidth": 0,
             "ticks": ""
            },
            "type": "contourcarpet"
           }
          ],
          "heatmap": [
           {
            "colorbar": {
             "outlinewidth": 0,
             "ticks": ""
            },
            "colorscale": [
             [
              0,
              "#0d0887"
             ],
             [
              0.1111111111111111,
              "#46039f"
             ],
             [
              0.2222222222222222,
              "#7201a8"
             ],
             [
              0.3333333333333333,
              "#9c179e"
             ],
             [
              0.4444444444444444,
              "#bd3786"
             ],
             [
              0.5555555555555556,
              "#d8576b"
             ],
             [
              0.6666666666666666,
              "#ed7953"
             ],
             [
              0.7777777777777778,
              "#fb9f3a"
             ],
             [
              0.8888888888888888,
              "#fdca26"
             ],
             [
              1,
              "#f0f921"
             ]
            ],
            "type": "heatmap"
           }
          ],
          "heatmapgl": [
           {
            "colorbar": {
             "outlinewidth": 0,
             "ticks": ""
            },
            "colorscale": [
             [
              0,
              "#0d0887"
             ],
             [
              0.1111111111111111,
              "#46039f"
             ],
             [
              0.2222222222222222,
              "#7201a8"
             ],
             [
              0.3333333333333333,
              "#9c179e"
             ],
             [
              0.4444444444444444,
              "#bd3786"
             ],
             [
              0.5555555555555556,
              "#d8576b"
             ],
             [
              0.6666666666666666,
              "#ed7953"
             ],
             [
              0.7777777777777778,
              "#fb9f3a"
             ],
             [
              0.8888888888888888,
              "#fdca26"
             ],
             [
              1,
              "#f0f921"
             ]
            ],
            "type": "heatmapgl"
           }
          ],
          "histogram": [
           {
            "marker": {
             "pattern": {
              "fillmode": "overlay",
              "size": 10,
              "solidity": 0.2
             }
            },
            "type": "histogram"
           }
          ],
          "histogram2d": [
           {
            "colorbar": {
             "outlinewidth": 0,
             "ticks": ""
            },
            "colorscale": [
             [
              0,
              "#0d0887"
             ],
             [
              0.1111111111111111,
              "#46039f"
             ],
             [
              0.2222222222222222,
              "#7201a8"
             ],
             [
              0.3333333333333333,
              "#9c179e"
             ],
             [
              0.4444444444444444,
              "#bd3786"
             ],
             [
              0.5555555555555556,
              "#d8576b"
             ],
             [
              0.6666666666666666,
              "#ed7953"
             ],
             [
              0.7777777777777778,
              "#fb9f3a"
             ],
             [
              0.8888888888888888,
              "#fdca26"
             ],
             [
              1,
              "#f0f921"
             ]
            ],
            "type": "histogram2d"
           }
          ],
          "histogram2dcontour": [
           {
            "colorbar": {
             "outlinewidth": 0,
             "ticks": ""
            },
            "colorscale": [
             [
              0,
              "#0d0887"
             ],
             [
              0.1111111111111111,
              "#46039f"
             ],
             [
              0.2222222222222222,
              "#7201a8"
             ],
             [
              0.3333333333333333,
              "#9c179e"
             ],
             [
              0.4444444444444444,
              "#bd3786"
             ],
             [
              0.5555555555555556,
              "#d8576b"
             ],
             [
              0.6666666666666666,
              "#ed7953"
             ],
             [
              0.7777777777777778,
              "#fb9f3a"
             ],
             [
              0.8888888888888888,
              "#fdca26"
             ],
             [
              1,
              "#f0f921"
             ]
            ],
            "type": "histogram2dcontour"
           }
          ],
          "mesh3d": [
           {
            "colorbar": {
             "outlinewidth": 0,
             "ticks": ""
            },
            "type": "mesh3d"
           }
          ],
          "parcoords": [
           {
            "line": {
             "colorbar": {
              "outlinewidth": 0,
              "ticks": ""
             }
            },
            "type": "parcoords"
           }
          ],
          "pie": [
           {
            "automargin": true,
            "type": "pie"
           }
          ],
          "scatter": [
           {
            "fillpattern": {
             "fillmode": "overlay",
             "size": 10,
             "solidity": 0.2
            },
            "type": "scatter"
           }
          ],
          "scatter3d": [
           {
            "line": {
             "colorbar": {
              "outlinewidth": 0,
              "ticks": ""
             }
            },
            "marker": {
             "colorbar": {
              "outlinewidth": 0,
              "ticks": ""
             }
            },
            "type": "scatter3d"
           }
          ],
          "scattercarpet": [
           {
            "marker": {
             "colorbar": {
              "outlinewidth": 0,
              "ticks": ""
             }
            },
            "type": "scattercarpet"
           }
          ],
          "scattergeo": [
           {
            "marker": {
             "colorbar": {
              "outlinewidth": 0,
              "ticks": ""
             }
            },
            "type": "scattergeo"
           }
          ],
          "scattergl": [
           {
            "marker": {
             "colorbar": {
              "outlinewidth": 0,
              "ticks": ""
             }
            },
            "type": "scattergl"
           }
          ],
          "scattermapbox": [
           {
            "marker": {
             "colorbar": {
              "outlinewidth": 0,
              "ticks": ""
             }
            },
            "type": "scattermapbox"
           }
          ],
          "scatterpolar": [
           {
            "marker": {
             "colorbar": {
              "outlinewidth": 0,
              "ticks": ""
             }
            },
            "type": "scatterpolar"
           }
          ],
          "scatterpolargl": [
           {
            "marker": {
             "colorbar": {
              "outlinewidth": 0,
              "ticks": ""
             }
            },
            "type": "scatterpolargl"
           }
          ],
          "scatterternary": [
           {
            "marker": {
             "colorbar": {
              "outlinewidth": 0,
              "ticks": ""
             }
            },
            "type": "scatterternary"
           }
          ],
          "surface": [
           {
            "colorbar": {
             "outlinewidth": 0,
             "ticks": ""
            },
            "colorscale": [
             [
              0,
              "#0d0887"
             ],
             [
              0.1111111111111111,
              "#46039f"
             ],
             [
              0.2222222222222222,
              "#7201a8"
             ],
             [
              0.3333333333333333,
              "#9c179e"
             ],
             [
              0.4444444444444444,
              "#bd3786"
             ],
             [
              0.5555555555555556,
              "#d8576b"
             ],
             [
              0.6666666666666666,
              "#ed7953"
             ],
             [
              0.7777777777777778,
              "#fb9f3a"
             ],
             [
              0.8888888888888888,
              "#fdca26"
             ],
             [
              1,
              "#f0f921"
             ]
            ],
            "type": "surface"
           }
          ],
          "table": [
           {
            "cells": {
             "fill": {
              "color": "#EBF0F8"
             },
             "line": {
              "color": "white"
             }
            },
            "header": {
             "fill": {
              "color": "#C8D4E3"
             },
             "line": {
              "color": "white"
             }
            },
            "type": "table"
           }
          ]
         },
         "layout": {
          "annotationdefaults": {
           "arrowcolor": "#2a3f5f",
           "arrowhead": 0,
           "arrowwidth": 1
          },
          "autotypenumbers": "strict",
          "coloraxis": {
           "colorbar": {
            "outlinewidth": 0,
            "ticks": ""
           }
          },
          "colorscale": {
           "diverging": [
            [
             0,
             "#8e0152"
            ],
            [
             0.1,
             "#c51b7d"
            ],
            [
             0.2,
             "#de77ae"
            ],
            [
             0.3,
             "#f1b6da"
            ],
            [
             0.4,
             "#fde0ef"
            ],
            [
             0.5,
             "#f7f7f7"
            ],
            [
             0.6,
             "#e6f5d0"
            ],
            [
             0.7,
             "#b8e186"
            ],
            [
             0.8,
             "#7fbc41"
            ],
            [
             0.9,
             "#4d9221"
            ],
            [
             1,
             "#276419"
            ]
           ],
           "sequential": [
            [
             0,
             "#0d0887"
            ],
            [
             0.1111111111111111,
             "#46039f"
            ],
            [
             0.2222222222222222,
             "#7201a8"
            ],
            [
             0.3333333333333333,
             "#9c179e"
            ],
            [
             0.4444444444444444,
             "#bd3786"
            ],
            [
             0.5555555555555556,
             "#d8576b"
            ],
            [
             0.6666666666666666,
             "#ed7953"
            ],
            [
             0.7777777777777778,
             "#fb9f3a"
            ],
            [
             0.8888888888888888,
             "#fdca26"
            ],
            [
             1,
             "#f0f921"
            ]
           ],
           "sequentialminus": [
            [
             0,
             "#0d0887"
            ],
            [
             0.1111111111111111,
             "#46039f"
            ],
            [
             0.2222222222222222,
             "#7201a8"
            ],
            [
             0.3333333333333333,
             "#9c179e"
            ],
            [
             0.4444444444444444,
             "#bd3786"
            ],
            [
             0.5555555555555556,
             "#d8576b"
            ],
            [
             0.6666666666666666,
             "#ed7953"
            ],
            [
             0.7777777777777778,
             "#fb9f3a"
            ],
            [
             0.8888888888888888,
             "#fdca26"
            ],
            [
             1,
             "#f0f921"
            ]
           ]
          },
          "colorway": [
           "#636efa",
           "#EF553B",
           "#00cc96",
           "#ab63fa",
           "#FFA15A",
           "#19d3f3",
           "#FF6692",
           "#B6E880",
           "#FF97FF",
           "#FECB52"
          ],
          "font": {
           "color": "#2a3f5f"
          },
          "geo": {
           "bgcolor": "white",
           "lakecolor": "white",
           "landcolor": "#E5ECF6",
           "showlakes": true,
           "showland": true,
           "subunitcolor": "white"
          },
          "hoverlabel": {
           "align": "left"
          },
          "hovermode": "closest",
          "mapbox": {
           "style": "light"
          },
          "paper_bgcolor": "white",
          "plot_bgcolor": "#E5ECF6",
          "polar": {
           "angularaxis": {
            "gridcolor": "white",
            "linecolor": "white",
            "ticks": ""
           },
           "bgcolor": "#E5ECF6",
           "radialaxis": {
            "gridcolor": "white",
            "linecolor": "white",
            "ticks": ""
           }
          },
          "scene": {
           "xaxis": {
            "backgroundcolor": "#E5ECF6",
            "gridcolor": "white",
            "gridwidth": 2,
            "linecolor": "white",
            "showbackground": true,
            "ticks": "",
            "zerolinecolor": "white"
           },
           "yaxis": {
            "backgroundcolor": "#E5ECF6",
            "gridcolor": "white",
            "gridwidth": 2,
            "linecolor": "white",
            "showbackground": true,
            "ticks": "",
            "zerolinecolor": "white"
           },
           "zaxis": {
            "backgroundcolor": "#E5ECF6",
            "gridcolor": "white",
            "gridwidth": 2,
            "linecolor": "white",
            "showbackground": true,
            "ticks": "",
            "zerolinecolor": "white"
           }
          },
          "shapedefaults": {
           "line": {
            "color": "#2a3f5f"
           }
          },
          "ternary": {
           "aaxis": {
            "gridcolor": "white",
            "linecolor": "white",
            "ticks": ""
           },
           "baxis": {
            "gridcolor": "white",
            "linecolor": "white",
            "ticks": ""
           },
           "bgcolor": "#E5ECF6",
           "caxis": {
            "gridcolor": "white",
            "linecolor": "white",
            "ticks": ""
           }
          },
          "title": {
           "x": 0.05
          },
          "xaxis": {
           "automargin": true,
           "gridcolor": "white",
           "linecolor": "white",
           "ticks": "",
           "title": {
            "standoff": 15
           },
           "zerolinecolor": "white",
           "zerolinewidth": 2
          },
          "yaxis": {
           "automargin": true,
           "gridcolor": "white",
           "linecolor": "white",
           "ticks": "",
           "title": {
            "standoff": 15
           },
           "zerolinecolor": "white",
           "zerolinewidth": 2
          }
         }
        },
        "width": 500,
        "xaxis": {
         "anchor": "y",
         "domain": [
          0,
          1
         ],
         "title": {
          "text": "Длина труб"
         }
        },
        "yaxis": {
         "anchor": "x",
         "autorange": "reversed",
         "domain": [
          0,
          1
         ],
         "title": {
          "text": "Хараеткристики теплообменника"
         }
        }
       }
      }
     },
     "metadata": {},
     "output_type": "display_data"
    }
   ],
   "source": [
    "heaters_table = pd.read_excel('tables/Параметры кожухотрубчатых теплообменников и холодильников.xlsx',\n",
    "                   header=[2])\n",
    "\n",
    "exclude_list = ['d труб, мм']\n",
    "heaters_table[exclude_list] = heaters_table[exclude_list].apply(eq.get_diameter)\n",
    "heaters = eq.calculate_equipment(\n",
    "    heaters_table,\n",
    "    aqua_vapor_saturation_by_pressure,\n",
    "    aqua_liquid_saturation,\n",
    "    aqua_vapor_saturation,\n",
    "    balance,\n",
    "    properties,\n",
    "    FEED_TEMPERATURE,\n",
    "    thermal_balance,\n",
    "    Ropt,\n",
    "    EQ_NAME = 'подогреватель',\n",
    "    ORIENTACION = 'вертикальный', #может быть 'горизонтальный'\n",
    "    AQ_PRESSURE = 3) #можно поменять\n",
    "\n",
    "fig = px.imshow(\n",
    "    round(heaters),\n",
    "    labels=dict(x=\"Длина труб\", y=\"Хараеткристики теплообменника\", color=\"Запас поверхности, %\"),\n",
    "    range_color=[-40,80],\n",
    "    color_continuous_scale=[\"rgb(178, 50, 34)\", \"rgb(34, 149, 34)\", \"rgb(25, 65, 225)\"],\n",
    "    x=heaters.columns,\n",
    "    y=heaters.index,\n",
    "    text_auto=True, aspect=\"auto\",\n",
    "    width=500,\n",
    "    height=1000\n",
    "            )\n",
    "fig.show()"
   ]
  },
  {
   "cell_type": "markdown",
   "metadata": {},
   "source": [
    "После того как аппарат выбран, можно получить его более развернутый рачсет вписав в поле 'row' номер ряда (сверху вниз начиная с 0), в поле 'name' длинну труб при выбранном AQ_PRESSURE"
   ]
  },
  {
   "cell_type": "code",
   "execution_count": 46,
   "metadata": {},
   "outputs": [
    {
     "data": {
      "text/plain": [
       "cредняя движущая сила теплопередачи                  85.10426\n",
       "тепловой поток в подогревателе                  750696.962196\n",
       "расход пара на подогрев                            387.156762\n",
       "критерий Рейнольдса                               6375.364209\n",
       "критерий Прандтля                                    6.797132\n",
       "коэффициент теплоотдачи в трубах                   390.567693\n",
       "коэффициент теплопередачи в межтрубном            1042.221251\n",
       "сумма термических сопротивлений                      0.000459\n",
       "коэффициент теплопередачи                          251.320811\n",
       "требуемая поверхность теплообмена                   35.098205\n",
       "запас поверхности, %                      [38.42420171902391]\n",
       "dtype: object"
      ]
     },
     "execution_count": 46,
     "metadata": {},
     "output_type": "execute_result"
    }
   ],
   "source": [
    "row = heaters_table.loc[17]\n",
    "name = '3'\n",
    "\n",
    "heater = eq.get_heater(row,\n",
    "        name,\n",
    "        aqua_vapor_saturation_by_pressure,\n",
    "        aqua_liquid_saturation,\n",
    "        aqua_vapor_saturation,\n",
    "        balance, properties,\n",
    "        FEED_TEMPERATURE,\n",
    "        Ropt,\n",
    "        ORIENTACION='вертикальный',\n",
    "        AQ_PRESSURE=3, call='direct')\n",
    "\n",
    "heater\n",
    "\n"
   ]
  },
  {
   "cell_type": "markdown",
   "metadata": {},
   "source": [
    "В испарителе испаряется жидкость из нижней части колонны (мольный состав паров аналогичен составу кубового остатка). В коржухотрубчатых испарителях в трубном пространстве кипит жидкость, а в межтрубном пространстве может быть жидкий, газообразный, парообразный, парогазовый или парожидкостной теплоноситель. Согласно ГОСТ 15119-79 эти теплообменники могут быть только ВЕРТИКАЛЬНЫМИ и ОДНОХОДОВЫМИ с трубками диаметром 25х2 мм."
   ]
  },
  {
   "cell_type": "code",
   "execution_count": 47,
   "metadata": {},
   "outputs": [
    {
     "data": {
      "application/vnd.plotly.v1+json": {
       "config": {
        "plotlyServerURL": "https://plot.ly"
       },
       "data": [
        {
         "coloraxis": "coloraxis",
         "hovertemplate": "Длина труб: %{x}<br>Хараеткристики теплообменника: %{y}<br>Запас поверхности, %: %{z}<extra></extra>",
         "name": "0",
         "texttemplate": "%{z}",
         "type": "heatmap",
         "x": [
          2,
          3,
          4,
          6
         ],
         "xaxis": "x",
         "y": [
          "600 0.02 2 370",
          "600 0.02 4 334",
          "600 0.02 6 316",
          "600 0.025 1 257",
          "600 0.025 2 240",
          "600 0.025 4 206",
          "600 0.025 6 196",
          "800 0.02 2 690",
          "800 0.02 4 638",
          "800 0.02 6 618",
          "800 0.025 1 465",
          "800 0.025 2 442",
          "800 0.025 4 404",
          "800 0.025 6 384",
          "1000 0.02 2 1138",
          "1000 0.02 4 1072",
          "1000 0.02 6 1044",
          "1000 0.025 1 747",
          "1000 0.025 2 718",
          "1000 0.025 4 666",
          "1000 0.025 6 642",
          "1200 0.02 2 1658",
          "1200 0.02 4 1580",
          "1200 0.02 6 1544",
          "1200 0.025 1 1083",
          "1200 0.025 2 1048",
          "1200 0.025 4 986",
          "1200 0.025 6 958",
          "1400 0.02 2 2298",
          "1400 0.02 4 2204",
          "1400 0.02 6 2162",
          "1400 0.025 1 1545",
          "1400 0.025 2 1504",
          "1400 0.025 4 1430",
          "1400 0.025 6 1396"
         ],
         "yaxis": "y",
         "z": [
          [
           null,
           -154,
           -95,
           -34
          ],
          [
           null,
           -182,
           -116,
           -48
          ],
          [
           null,
           -196,
           -129,
           -57
          ],
          [
           -333,
           -191,
           -124,
           null
          ],
          [
           null,
           -212,
           -141,
           -65
          ],
          [
           null,
           -262,
           -179,
           -92
          ],
          [
           null,
           -286,
           -197,
           -105
          ],
          [
           null,
           -37,
           -5,
           28
          ],
          [
           null,
           -48,
           -13,
           22
          ],
          [
           null,
           -53,
           -17,
           20
          ],
          [
           -137,
           -63,
           -24,
           null
          ],
          [
           null,
           -71,
           -30,
           10
          ],
          [
           null,
           -87,
           -43,
           2
          ],
          [
           null,
           -97,
           -50,
           -3
          ],
          [
           null,
           17,
           37,
           57
          ],
          [
           null,
           12,
           33,
           54
          ],
          [
           null,
           10,
           31,
           53
          ],
          [
           -48,
           -1,
           23,
           null
          ],
          [
           null,
           -5,
           20,
           45
          ],
          [
           null,
           -13,
           13,
           41
          ],
          [
           null,
           -18,
           10,
           38
          ],
          [
           null,
           null,
           57,
           70
          ],
          [
           null,
           null,
           54,
           69
          ],
          [
           null,
           null,
           53,
           68
          ],
          [
           null,
           31,
           47,
           null
          ],
          [
           null,
           null,
           45,
           62
          ],
          [
           null,
           null,
           42,
           60
          ],
          [
           null,
           null,
           40,
           59
          ],
          [
           null,
           null,
           null,
           78
          ],
          [
           null,
           null,
           null,
           78
          ],
          [
           null,
           null,
           null,
           77
          ],
          [
           null,
           52,
           63,
           null
          ],
          [
           null,
           null,
           null,
           74
          ],
          [
           null,
           null,
           null,
           72
          ],
          [
           null,
           null,
           null,
           72
          ]
         ]
        }
       ],
       "layout": {
        "coloraxis": {
         "cmax": 80,
         "cmin": -40,
         "colorbar": {
          "title": {
           "text": "Запас поверхности, %"
          }
         },
         "colorscale": [
          [
           0,
           "rgb(178, 50, 34)"
          ],
          [
           0.5,
           "rgb(34, 149, 34)"
          ],
          [
           1,
           "rgb(25, 65, 225)"
          ]
         ]
        },
        "height": 1000,
        "margin": {
         "t": 60
        },
        "template": {
         "data": {
          "bar": [
           {
            "error_x": {
             "color": "#2a3f5f"
            },
            "error_y": {
             "color": "#2a3f5f"
            },
            "marker": {
             "line": {
              "color": "#E5ECF6",
              "width": 0.5
             },
             "pattern": {
              "fillmode": "overlay",
              "size": 10,
              "solidity": 0.2
             }
            },
            "type": "bar"
           }
          ],
          "barpolar": [
           {
            "marker": {
             "line": {
              "color": "#E5ECF6",
              "width": 0.5
             },
             "pattern": {
              "fillmode": "overlay",
              "size": 10,
              "solidity": 0.2
             }
            },
            "type": "barpolar"
           }
          ],
          "carpet": [
           {
            "aaxis": {
             "endlinecolor": "#2a3f5f",
             "gridcolor": "white",
             "linecolor": "white",
             "minorgridcolor": "white",
             "startlinecolor": "#2a3f5f"
            },
            "baxis": {
             "endlinecolor": "#2a3f5f",
             "gridcolor": "white",
             "linecolor": "white",
             "minorgridcolor": "white",
             "startlinecolor": "#2a3f5f"
            },
            "type": "carpet"
           }
          ],
          "choropleth": [
           {
            "colorbar": {
             "outlinewidth": 0,
             "ticks": ""
            },
            "type": "choropleth"
           }
          ],
          "contour": [
           {
            "colorbar": {
             "outlinewidth": 0,
             "ticks": ""
            },
            "colorscale": [
             [
              0,
              "#0d0887"
             ],
             [
              0.1111111111111111,
              "#46039f"
             ],
             [
              0.2222222222222222,
              "#7201a8"
             ],
             [
              0.3333333333333333,
              "#9c179e"
             ],
             [
              0.4444444444444444,
              "#bd3786"
             ],
             [
              0.5555555555555556,
              "#d8576b"
             ],
             [
              0.6666666666666666,
              "#ed7953"
             ],
             [
              0.7777777777777778,
              "#fb9f3a"
             ],
             [
              0.8888888888888888,
              "#fdca26"
             ],
             [
              1,
              "#f0f921"
             ]
            ],
            "type": "contour"
           }
          ],
          "contourcarpet": [
           {
            "colorbar": {
             "outlinewidth": 0,
             "ticks": ""
            },
            "type": "contourcarpet"
           }
          ],
          "heatmap": [
           {
            "colorbar": {
             "outlinewidth": 0,
             "ticks": ""
            },
            "colorscale": [
             [
              0,
              "#0d0887"
             ],
             [
              0.1111111111111111,
              "#46039f"
             ],
             [
              0.2222222222222222,
              "#7201a8"
             ],
             [
              0.3333333333333333,
              "#9c179e"
             ],
             [
              0.4444444444444444,
              "#bd3786"
             ],
             [
              0.5555555555555556,
              "#d8576b"
             ],
             [
              0.6666666666666666,
              "#ed7953"
             ],
             [
              0.7777777777777778,
              "#fb9f3a"
             ],
             [
              0.8888888888888888,
              "#fdca26"
             ],
             [
              1,
              "#f0f921"
             ]
            ],
            "type": "heatmap"
           }
          ],
          "heatmapgl": [
           {
            "colorbar": {
             "outlinewidth": 0,
             "ticks": ""
            },
            "colorscale": [
             [
              0,
              "#0d0887"
             ],
             [
              0.1111111111111111,
              "#46039f"
             ],
             [
              0.2222222222222222,
              "#7201a8"
             ],
             [
              0.3333333333333333,
              "#9c179e"
             ],
             [
              0.4444444444444444,
              "#bd3786"
             ],
             [
              0.5555555555555556,
              "#d8576b"
             ],
             [
              0.6666666666666666,
              "#ed7953"
             ],
             [
              0.7777777777777778,
              "#fb9f3a"
             ],
             [
              0.8888888888888888,
              "#fdca26"
             ],
             [
              1,
              "#f0f921"
             ]
            ],
            "type": "heatmapgl"
           }
          ],
          "histogram": [
           {
            "marker": {
             "pattern": {
              "fillmode": "overlay",
              "size": 10,
              "solidity": 0.2
             }
            },
            "type": "histogram"
           }
          ],
          "histogram2d": [
           {
            "colorbar": {
             "outlinewidth": 0,
             "ticks": ""
            },
            "colorscale": [
             [
              0,
              "#0d0887"
             ],
             [
              0.1111111111111111,
              "#46039f"
             ],
             [
              0.2222222222222222,
              "#7201a8"
             ],
             [
              0.3333333333333333,
              "#9c179e"
             ],
             [
              0.4444444444444444,
              "#bd3786"
             ],
             [
              0.5555555555555556,
              "#d8576b"
             ],
             [
              0.6666666666666666,
              "#ed7953"
             ],
             [
              0.7777777777777778,
              "#fb9f3a"
             ],
             [
              0.8888888888888888,
              "#fdca26"
             ],
             [
              1,
              "#f0f921"
             ]
            ],
            "type": "histogram2d"
           }
          ],
          "histogram2dcontour": [
           {
            "colorbar": {
             "outlinewidth": 0,
             "ticks": ""
            },
            "colorscale": [
             [
              0,
              "#0d0887"
             ],
             [
              0.1111111111111111,
              "#46039f"
             ],
             [
              0.2222222222222222,
              "#7201a8"
             ],
             [
              0.3333333333333333,
              "#9c179e"
             ],
             [
              0.4444444444444444,
              "#bd3786"
             ],
             [
              0.5555555555555556,
              "#d8576b"
             ],
             [
              0.6666666666666666,
              "#ed7953"
             ],
             [
              0.7777777777777778,
              "#fb9f3a"
             ],
             [
              0.8888888888888888,
              "#fdca26"
             ],
             [
              1,
              "#f0f921"
             ]
            ],
            "type": "histogram2dcontour"
           }
          ],
          "mesh3d": [
           {
            "colorbar": {
             "outlinewidth": 0,
             "ticks": ""
            },
            "type": "mesh3d"
           }
          ],
          "parcoords": [
           {
            "line": {
             "colorbar": {
              "outlinewidth": 0,
              "ticks": ""
             }
            },
            "type": "parcoords"
           }
          ],
          "pie": [
           {
            "automargin": true,
            "type": "pie"
           }
          ],
          "scatter": [
           {
            "fillpattern": {
             "fillmode": "overlay",
             "size": 10,
             "solidity": 0.2
            },
            "type": "scatter"
           }
          ],
          "scatter3d": [
           {
            "line": {
             "colorbar": {
              "outlinewidth": 0,
              "ticks": ""
             }
            },
            "marker": {
             "colorbar": {
              "outlinewidth": 0,
              "ticks": ""
             }
            },
            "type": "scatter3d"
           }
          ],
          "scattercarpet": [
           {
            "marker": {
             "colorbar": {
              "outlinewidth": 0,
              "ticks": ""
             }
            },
            "type": "scattercarpet"
           }
          ],
          "scattergeo": [
           {
            "marker": {
             "colorbar": {
              "outlinewidth": 0,
              "ticks": ""
             }
            },
            "type": "scattergeo"
           }
          ],
          "scattergl": [
           {
            "marker": {
             "colorbar": {
              "outlinewidth": 0,
              "ticks": ""
             }
            },
            "type": "scattergl"
           }
          ],
          "scattermapbox": [
           {
            "marker": {
             "colorbar": {
              "outlinewidth": 0,
              "ticks": ""
             }
            },
            "type": "scattermapbox"
           }
          ],
          "scatterpolar": [
           {
            "marker": {
             "colorbar": {
              "outlinewidth": 0,
              "ticks": ""
             }
            },
            "type": "scatterpolar"
           }
          ],
          "scatterpolargl": [
           {
            "marker": {
             "colorbar": {
              "outlinewidth": 0,
              "ticks": ""
             }
            },
            "type": "scatterpolargl"
           }
          ],
          "scatterternary": [
           {
            "marker": {
             "colorbar": {
              "outlinewidth": 0,
              "ticks": ""
             }
            },
            "type": "scatterternary"
           }
          ],
          "surface": [
           {
            "colorbar": {
             "outlinewidth": 0,
             "ticks": ""
            },
            "colorscale": [
             [
              0,
              "#0d0887"
             ],
             [
              0.1111111111111111,
              "#46039f"
             ],
             [
              0.2222222222222222,
              "#7201a8"
             ],
             [
              0.3333333333333333,
              "#9c179e"
             ],
             [
              0.4444444444444444,
              "#bd3786"
             ],
             [
              0.5555555555555556,
              "#d8576b"
             ],
             [
              0.6666666666666666,
              "#ed7953"
             ],
             [
              0.7777777777777778,
              "#fb9f3a"
             ],
             [
              0.8888888888888888,
              "#fdca26"
             ],
             [
              1,
              "#f0f921"
             ]
            ],
            "type": "surface"
           }
          ],
          "table": [
           {
            "cells": {
             "fill": {
              "color": "#EBF0F8"
             },
             "line": {
              "color": "white"
             }
            },
            "header": {
             "fill": {
              "color": "#C8D4E3"
             },
             "line": {
              "color": "white"
             }
            },
            "type": "table"
           }
          ]
         },
         "layout": {
          "annotationdefaults": {
           "arrowcolor": "#2a3f5f",
           "arrowhead": 0,
           "arrowwidth": 1
          },
          "autotypenumbers": "strict",
          "coloraxis": {
           "colorbar": {
            "outlinewidth": 0,
            "ticks": ""
           }
          },
          "colorscale": {
           "diverging": [
            [
             0,
             "#8e0152"
            ],
            [
             0.1,
             "#c51b7d"
            ],
            [
             0.2,
             "#de77ae"
            ],
            [
             0.3,
             "#f1b6da"
            ],
            [
             0.4,
             "#fde0ef"
            ],
            [
             0.5,
             "#f7f7f7"
            ],
            [
             0.6,
             "#e6f5d0"
            ],
            [
             0.7,
             "#b8e186"
            ],
            [
             0.8,
             "#7fbc41"
            ],
            [
             0.9,
             "#4d9221"
            ],
            [
             1,
             "#276419"
            ]
           ],
           "sequential": [
            [
             0,
             "#0d0887"
            ],
            [
             0.1111111111111111,
             "#46039f"
            ],
            [
             0.2222222222222222,
             "#7201a8"
            ],
            [
             0.3333333333333333,
             "#9c179e"
            ],
            [
             0.4444444444444444,
             "#bd3786"
            ],
            [
             0.5555555555555556,
             "#d8576b"
            ],
            [
             0.6666666666666666,
             "#ed7953"
            ],
            [
             0.7777777777777778,
             "#fb9f3a"
            ],
            [
             0.8888888888888888,
             "#fdca26"
            ],
            [
             1,
             "#f0f921"
            ]
           ],
           "sequentialminus": [
            [
             0,
             "#0d0887"
            ],
            [
             0.1111111111111111,
             "#46039f"
            ],
            [
             0.2222222222222222,
             "#7201a8"
            ],
            [
             0.3333333333333333,
             "#9c179e"
            ],
            [
             0.4444444444444444,
             "#bd3786"
            ],
            [
             0.5555555555555556,
             "#d8576b"
            ],
            [
             0.6666666666666666,
             "#ed7953"
            ],
            [
             0.7777777777777778,
             "#fb9f3a"
            ],
            [
             0.8888888888888888,
             "#fdca26"
            ],
            [
             1,
             "#f0f921"
            ]
           ]
          },
          "colorway": [
           "#636efa",
           "#EF553B",
           "#00cc96",
           "#ab63fa",
           "#FFA15A",
           "#19d3f3",
           "#FF6692",
           "#B6E880",
           "#FF97FF",
           "#FECB52"
          ],
          "font": {
           "color": "#2a3f5f"
          },
          "geo": {
           "bgcolor": "white",
           "lakecolor": "white",
           "landcolor": "#E5ECF6",
           "showlakes": true,
           "showland": true,
           "subunitcolor": "white"
          },
          "hoverlabel": {
           "align": "left"
          },
          "hovermode": "closest",
          "mapbox": {
           "style": "light"
          },
          "paper_bgcolor": "white",
          "plot_bgcolor": "#E5ECF6",
          "polar": {
           "angularaxis": {
            "gridcolor": "white",
            "linecolor": "white",
            "ticks": ""
           },
           "bgcolor": "#E5ECF6",
           "radialaxis": {
            "gridcolor": "white",
            "linecolor": "white",
            "ticks": ""
           }
          },
          "scene": {
           "xaxis": {
            "backgroundcolor": "#E5ECF6",
            "gridcolor": "white",
            "gridwidth": 2,
            "linecolor": "white",
            "showbackground": true,
            "ticks": "",
            "zerolinecolor": "white"
           },
           "yaxis": {
            "backgroundcolor": "#E5ECF6",
            "gridcolor": "white",
            "gridwidth": 2,
            "linecolor": "white",
            "showbackground": true,
            "ticks": "",
            "zerolinecolor": "white"
           },
           "zaxis": {
            "backgroundcolor": "#E5ECF6",
            "gridcolor": "white",
            "gridwidth": 2,
            "linecolor": "white",
            "showbackground": true,
            "ticks": "",
            "zerolinecolor": "white"
           }
          },
          "shapedefaults": {
           "line": {
            "color": "#2a3f5f"
           }
          },
          "ternary": {
           "aaxis": {
            "gridcolor": "white",
            "linecolor": "white",
            "ticks": ""
           },
           "baxis": {
            "gridcolor": "white",
            "linecolor": "white",
            "ticks": ""
           },
           "bgcolor": "#E5ECF6",
           "caxis": {
            "gridcolor": "white",
            "linecolor": "white",
            "ticks": ""
           }
          },
          "title": {
           "x": 0.05
          },
          "xaxis": {
           "automargin": true,
           "gridcolor": "white",
           "linecolor": "white",
           "ticks": "",
           "title": {
            "standoff": 15
           },
           "zerolinecolor": "white",
           "zerolinewidth": 2
          },
          "yaxis": {
           "automargin": true,
           "gridcolor": "white",
           "linecolor": "white",
           "ticks": "",
           "title": {
            "standoff": 15
           },
           "zerolinecolor": "white",
           "zerolinewidth": 2
          }
         }
        },
        "width": 500,
        "xaxis": {
         "anchor": "y",
         "domain": [
          0,
          1
         ],
         "title": {
          "text": "Длина труб"
         }
        },
        "yaxis": {
         "anchor": "x",
         "autorange": "reversed",
         "domain": [
          0,
          1
         ],
         "title": {
          "text": "Хараеткристики теплообменника"
         }
        }
       }
      }
     },
     "metadata": {},
     "output_type": "display_data"
    }
   ],
   "source": [
    "evaporator_table = pd.read_excel('tables/Параметры кожухотрубчатых испарителей и конденсаторов по ГОСТ15119-79 и ГОСТ 5121-79.xlsx',\n",
    "                   header=[2])\n",
    "\n",
    "exclude_list = ['d труб, мм']\n",
    "evaporator_table[exclude_list] = evaporator_table[exclude_list].apply(eq.get_diameter)\n",
    "heaters = eq.calculate_equipment(\n",
    "        evaporator_table,\n",
    "        aqua_vapor_saturation_by_pressure,\n",
    "        aqua_liquid_saturation,\n",
    "        aqua_vapor_saturation,\n",
    "        balance,\n",
    "        properties,\n",
    "        FEED_TEMPERATURE,\n",
    "        thermal_balance,\n",
    "        Ropt,\n",
    "        EQ_NAME = 'испаритель',\n",
    "        AQ_PRESSURE = 3)\n",
    "\n",
    "fig = px.imshow(\n",
    "    round(heaters),\n",
    "    labels=dict(x=\"Длина труб\", y=\"Хараеткристики теплообменника\", color=\"Запас поверхности, %\"),\n",
    "    range_color=[-40,80],\n",
    "    color_continuous_scale=[\"rgb(178, 50, 34)\", \"rgb(34, 149, 34)\", \"rgb(25, 65, 225)\"],\n",
    "    x=heaters.columns,\n",
    "    y=heaters.index,\n",
    "    text_auto=True, aspect=\"auto\",\n",
    "    width=500,\n",
    "    height=1000\n",
    "            )\n",
    "fig.show()"
   ]
  },
  {
   "cell_type": "code",
   "execution_count": 48,
   "metadata": {},
   "outputs": [
    {
     "data": {
      "text/plain": [
       "необходимый расход пара                                  [4.954612670331149]\n",
       "cредняя движущая сила теплопередачи                                61.865954\n",
       "коэффициент теплоотдачи от пара к трубам                       233256.009944\n",
       "коэффициент теплоотдачи от труб к жидкости в трубах                 2.703683\n",
       "сумма термических сопротивлений                                     0.000373\n",
       "удельная тепловая нагрузка                               [59086.36345453817]\n",
       "требуемая поверхность теплообмена                       [181.09892635967128]\n",
       "запас поверхности, %                                   [-123.57892143169293]\n",
       "dtype: object"
      ]
     },
     "execution_count": 48,
     "metadata": {},
     "output_type": "execute_result"
    }
   ],
   "source": [
    "row = evaporator_table.loc[3]\n",
    "name = 4\n",
    "\n",
    "evaporator = eq.get_evaporator(row,\n",
    "            name,                  \n",
    "            aqua_vapor_saturation_by_pressure, \n",
    "            aqua_liquid_saturation,\n",
    "            aqua_vapor_saturation,\n",
    "            properties,\n",
    "            thermal_balance,\n",
    "            AQ_PRESSURE = 3,\n",
    "            call = 'direct')\n",
    "\n",
    "evaporator"
   ]
  },
  {
   "cell_type": "markdown",
   "metadata": {},
   "source": [
    "В дефлегматоре конденсируются пары из верхней части колонны (мольный состав паров аналогичен составу дистилляту)."
   ]
  },
  {
   "cell_type": "code",
   "execution_count": 49,
   "metadata": {},
   "outputs": [
    {
     "data": {
      "application/vnd.plotly.v1+json": {
       "config": {
        "plotlyServerURL": "https://plot.ly"
       },
       "data": [
        {
         "coloraxis": "coloraxis",
         "hovertemplate": "Длина труб: %{x}<br>Хараеткристики теплообменника: %{y}<br>Запас поверхности, %: %{z}<extra></extra>",
         "name": "0",
         "texttemplate": "%{z}",
         "type": "heatmap",
         "x": [
          "1",
          "1.5",
          "2",
          "3",
          "4",
          "6",
          "9"
         ],
         "xaxis": "x",
         "y": [
          "159 0.02 1 19",
          "159 0.025 1 13",
          "273 0.02 1 61",
          "273 0.025 1 37",
          "325 0.02 1 100",
          "325 0.02 2 90",
          "325 0.025 1 62",
          "325 0.025 2 56",
          "400 0.02 1 181",
          "400 0.02 2 166",
          "400 0.025 1 111",
          "400 0.025 2 100",
          "600 0.02 1 389",
          "600 0.02 2 370",
          "600 0.02 4 334",
          "600 0.02 6 316",
          "600 0.025 1 257",
          "600 0.025 2 240",
          "600 0.025 4 206",
          "600 0.025 6 196",
          "800 0.02 1 717",
          "800 0.02 2 690",
          "800 0.02 4 638",
          "800 0.02 6 618",
          "800 0.025 1 465",
          "800 0.025 2 442",
          "800 0.025 4 404",
          "800 0.025 6 384",
          "1000 0.02 1 1173",
          "1000 0.02 2 1138",
          "1000 0.02 4 1072",
          "1000 0.02 6 1044",
          "1000 0.025 1 747",
          "1000 0.025 2 718",
          "1000 0.025 4 666",
          "1000 0.025 6 642",
          "1200 0.02 1 1701",
          "1200 0.02 2 1658",
          "1200 0.02 4 1580",
          "1200 0.02 6 1544",
          "1200 0.025 1 1083",
          "1200 0.025 2 1048",
          "1200 0.025 4 986",
          "1200 0.025 6 958"
         ],
         "yaxis": "y",
         "z": [
          [
           -4482,
           -2191,
           -1733,
           -1209,
           null,
           null,
           null
          ],
          [
           -4703,
           -3102,
           -2301,
           -1501,
           null,
           null,
           null
          ],
          [
           -763,
           -476,
           -360,
           -200,
           null,
           null,
           null
          ],
          [
           -1140,
           -727,
           -520,
           -313,
           null,
           null,
           null
          ],
          [
           null,
           -233,
           -153,
           -66,
           -26,
           null,
           null
          ],
          [
           null,
           -263,
           -181,
           -82,
           -37,
           null,
           null
          ],
          [
           null,
           -351,
           -238,
           -133,
           -74,
           null,
           null
          ],
          [
           null,
           -408,
           -267,
           -154,
           -89,
           null,
           null
          ],
          [
           null,
           null,
           -29,
           13,
           36,
           56,
           null
          ],
          [
           null,
           null,
           -32,
           11,
           34,
           56,
           null
          ],
          [
           null,
           null,
           -87,
           -22,
           9,
           39,
           null
          ],
          [
           null,
           null,
           -86,
           -24,
           4,
           37,
           null
          ],
          [
           null,
           null,
           -1,
           32,
           50,
           66,
           null
          ],
          [
           null,
           null,
           45,
           63,
           72,
           81,
           null
          ],
          [
           null,
           null,
           43,
           62,
           72,
           81,
           null
          ],
          [
           null,
           null,
           42,
           61,
           71,
           81,
           null
          ],
          [
           null,
           null,
           -37,
           10,
           33,
           55,
           null
          ],
          [
           null,
           null,
           27,
           52,
           63,
           76,
           null
          ],
          [
           null,
           null,
           21,
           48,
           61,
           74,
           null
          ],
          [
           null,
           null,
           20,
           46,
           60,
           73,
           73
          ],
          [
           null,
           null,
           25,
           50,
           62,
           75,
           83
          ],
          [
           null,
           null,
           50,
           66,
           75,
           83,
           89
          ],
          [
           null,
           null,
           71,
           81,
           86,
           90,
           94
          ],
          [
           null,
           null,
           72,
           81,
           86,
           91,
           94
          ],
          [
           null,
           null,
           -3,
           31,
           48,
           66,
           77
          ],
          [
           null,
           null,
           31,
           54,
           66,
           77,
           85
          ],
          [
           null,
           null,
           61,
           74,
           81,
           87,
           91
          ],
          [
           null,
           null,
           62,
           75,
           81,
           87,
           92
          ],
          [
           null,
           null,
           null,
           58,
           68,
           79,
           86
          ],
          [
           null,
           null,
           null,
           73,
           80,
           87,
           91
          ],
          [
           null,
           null,
           null,
           82,
           86,
           91,
           94
          ],
          [
           null,
           null,
           null,
           89,
           92,
           95,
           96
          ],
          [
           null,
           null,
           null,
           41,
           56,
           71,
           80
          ],
          [
           null,
           null,
           null,
           63,
           73,
           82,
           88
          ],
          [
           null,
           null,
           null,
           84,
           88,
           92,
           95
          ],
          [
           null,
           null,
           null,
           85,
           89,
           92,
           95
          ],
          [
           null,
           null,
           null,
           null,
           71,
           81,
           87
          ],
          [
           null,
           null,
           null,
           null,
           83,
           88,
           92
          ],
          [
           null,
           null,
           null,
           null,
           89,
           93,
           95
          ],
          [
           null,
           null,
           null,
           null,
           91,
           94,
           96
          ],
          [
           null,
           null,
           null,
           null,
           60,
           73,
           82
          ],
          [
           null,
           null,
           null,
           null,
           76,
           84,
           89
          ],
          [
           null,
           null,
           null,
           null,
           85,
           90,
           93
          ],
          [
           null,
           null,
           null,
           null,
           92,
           95,
           97
          ]
         ]
        }
       ],
       "layout": {
        "coloraxis": {
         "cmax": 80,
         "cmin": -40,
         "colorbar": {
          "title": {
           "text": "Запас поверхности, %"
          }
         },
         "colorscale": [
          [
           0,
           "rgb(178, 50, 34)"
          ],
          [
           0.5,
           "rgb(34, 149, 34)"
          ],
          [
           1,
           "rgb(25, 65, 225)"
          ]
         ]
        },
        "height": 1000,
        "margin": {
         "t": 60
        },
        "template": {
         "data": {
          "bar": [
           {
            "error_x": {
             "color": "#2a3f5f"
            },
            "error_y": {
             "color": "#2a3f5f"
            },
            "marker": {
             "line": {
              "color": "#E5ECF6",
              "width": 0.5
             },
             "pattern": {
              "fillmode": "overlay",
              "size": 10,
              "solidity": 0.2
             }
            },
            "type": "bar"
           }
          ],
          "barpolar": [
           {
            "marker": {
             "line": {
              "color": "#E5ECF6",
              "width": 0.5
             },
             "pattern": {
              "fillmode": "overlay",
              "size": 10,
              "solidity": 0.2
             }
            },
            "type": "barpolar"
           }
          ],
          "carpet": [
           {
            "aaxis": {
             "endlinecolor": "#2a3f5f",
             "gridcolor": "white",
             "linecolor": "white",
             "minorgridcolor": "white",
             "startlinecolor": "#2a3f5f"
            },
            "baxis": {
             "endlinecolor": "#2a3f5f",
             "gridcolor": "white",
             "linecolor": "white",
             "minorgridcolor": "white",
             "startlinecolor": "#2a3f5f"
            },
            "type": "carpet"
           }
          ],
          "choropleth": [
           {
            "colorbar": {
             "outlinewidth": 0,
             "ticks": ""
            },
            "type": "choropleth"
           }
          ],
          "contour": [
           {
            "colorbar": {
             "outlinewidth": 0,
             "ticks": ""
            },
            "colorscale": [
             [
              0,
              "#0d0887"
             ],
             [
              0.1111111111111111,
              "#46039f"
             ],
             [
              0.2222222222222222,
              "#7201a8"
             ],
             [
              0.3333333333333333,
              "#9c179e"
             ],
             [
              0.4444444444444444,
              "#bd3786"
             ],
             [
              0.5555555555555556,
              "#d8576b"
             ],
             [
              0.6666666666666666,
              "#ed7953"
             ],
             [
              0.7777777777777778,
              "#fb9f3a"
             ],
             [
              0.8888888888888888,
              "#fdca26"
             ],
             [
              1,
              "#f0f921"
             ]
            ],
            "type": "contour"
           }
          ],
          "contourcarpet": [
           {
            "colorbar": {
             "outlinewidth": 0,
             "ticks": ""
            },
            "type": "contourcarpet"
           }
          ],
          "heatmap": [
           {
            "colorbar": {
             "outlinewidth": 0,
             "ticks": ""
            },
            "colorscale": [
             [
              0,
              "#0d0887"
             ],
             [
              0.1111111111111111,
              "#46039f"
             ],
             [
              0.2222222222222222,
              "#7201a8"
             ],
             [
              0.3333333333333333,
              "#9c179e"
             ],
             [
              0.4444444444444444,
              "#bd3786"
             ],
             [
              0.5555555555555556,
              "#d8576b"
             ],
             [
              0.6666666666666666,
              "#ed7953"
             ],
             [
              0.7777777777777778,
              "#fb9f3a"
             ],
             [
              0.8888888888888888,
              "#fdca26"
             ],
             [
              1,
              "#f0f921"
             ]
            ],
            "type": "heatmap"
           }
          ],
          "heatmapgl": [
           {
            "colorbar": {
             "outlinewidth": 0,
             "ticks": ""
            },
            "colorscale": [
             [
              0,
              "#0d0887"
             ],
             [
              0.1111111111111111,
              "#46039f"
             ],
             [
              0.2222222222222222,
              "#7201a8"
             ],
             [
              0.3333333333333333,
              "#9c179e"
             ],
             [
              0.4444444444444444,
              "#bd3786"
             ],
             [
              0.5555555555555556,
              "#d8576b"
             ],
             [
              0.6666666666666666,
              "#ed7953"
             ],
             [
              0.7777777777777778,
              "#fb9f3a"
             ],
             [
              0.8888888888888888,
              "#fdca26"
             ],
             [
              1,
              "#f0f921"
             ]
            ],
            "type": "heatmapgl"
           }
          ],
          "histogram": [
           {
            "marker": {
             "pattern": {
              "fillmode": "overlay",
              "size": 10,
              "solidity": 0.2
             }
            },
            "type": "histogram"
           }
          ],
          "histogram2d": [
           {
            "colorbar": {
             "outlinewidth": 0,
             "ticks": ""
            },
            "colorscale": [
             [
              0,
              "#0d0887"
             ],
             [
              0.1111111111111111,
              "#46039f"
             ],
             [
              0.2222222222222222,
              "#7201a8"
             ],
             [
              0.3333333333333333,
              "#9c179e"
             ],
             [
              0.4444444444444444,
              "#bd3786"
             ],
             [
              0.5555555555555556,
              "#d8576b"
             ],
             [
              0.6666666666666666,
              "#ed7953"
             ],
             [
              0.7777777777777778,
              "#fb9f3a"
             ],
             [
              0.8888888888888888,
              "#fdca26"
             ],
             [
              1,
              "#f0f921"
             ]
            ],
            "type": "histogram2d"
           }
          ],
          "histogram2dcontour": [
           {
            "colorbar": {
             "outlinewidth": 0,
             "ticks": ""
            },
            "colorscale": [
             [
              0,
              "#0d0887"
             ],
             [
              0.1111111111111111,
              "#46039f"
             ],
             [
              0.2222222222222222,
              "#7201a8"
             ],
             [
              0.3333333333333333,
              "#9c179e"
             ],
             [
              0.4444444444444444,
              "#bd3786"
             ],
             [
              0.5555555555555556,
              "#d8576b"
             ],
             [
              0.6666666666666666,
              "#ed7953"
             ],
             [
              0.7777777777777778,
              "#fb9f3a"
             ],
             [
              0.8888888888888888,
              "#fdca26"
             ],
             [
              1,
              "#f0f921"
             ]
            ],
            "type": "histogram2dcontour"
           }
          ],
          "mesh3d": [
           {
            "colorbar": {
             "outlinewidth": 0,
             "ticks": ""
            },
            "type": "mesh3d"
           }
          ],
          "parcoords": [
           {
            "line": {
             "colorbar": {
              "outlinewidth": 0,
              "ticks": ""
             }
            },
            "type": "parcoords"
           }
          ],
          "pie": [
           {
            "automargin": true,
            "type": "pie"
           }
          ],
          "scatter": [
           {
            "fillpattern": {
             "fillmode": "overlay",
             "size": 10,
             "solidity": 0.2
            },
            "type": "scatter"
           }
          ],
          "scatter3d": [
           {
            "line": {
             "colorbar": {
              "outlinewidth": 0,
              "ticks": ""
             }
            },
            "marker": {
             "colorbar": {
              "outlinewidth": 0,
              "ticks": ""
             }
            },
            "type": "scatter3d"
           }
          ],
          "scattercarpet": [
           {
            "marker": {
             "colorbar": {
              "outlinewidth": 0,
              "ticks": ""
             }
            },
            "type": "scattercarpet"
           }
          ],
          "scattergeo": [
           {
            "marker": {
             "colorbar": {
              "outlinewidth": 0,
              "ticks": ""
             }
            },
            "type": "scattergeo"
           }
          ],
          "scattergl": [
           {
            "marker": {
             "colorbar": {
              "outlinewidth": 0,
              "ticks": ""
             }
            },
            "type": "scattergl"
           }
          ],
          "scattermapbox": [
           {
            "marker": {
             "colorbar": {
              "outlinewidth": 0,
              "ticks": ""
             }
            },
            "type": "scattermapbox"
           }
          ],
          "scatterpolar": [
           {
            "marker": {
             "colorbar": {
              "outlinewidth": 0,
              "ticks": ""
             }
            },
            "type": "scatterpolar"
           }
          ],
          "scatterpolargl": [
           {
            "marker": {
             "colorbar": {
              "outlinewidth": 0,
              "ticks": ""
             }
            },
            "type": "scatterpolargl"
           }
          ],
          "scatterternary": [
           {
            "marker": {
             "colorbar": {
              "outlinewidth": 0,
              "ticks": ""
             }
            },
            "type": "scatterternary"
           }
          ],
          "surface": [
           {
            "colorbar": {
             "outlinewidth": 0,
             "ticks": ""
            },
            "colorscale": [
             [
              0,
              "#0d0887"
             ],
             [
              0.1111111111111111,
              "#46039f"
             ],
             [
              0.2222222222222222,
              "#7201a8"
             ],
             [
              0.3333333333333333,
              "#9c179e"
             ],
             [
              0.4444444444444444,
              "#bd3786"
             ],
             [
              0.5555555555555556,
              "#d8576b"
             ],
             [
              0.6666666666666666,
              "#ed7953"
             ],
             [
              0.7777777777777778,
              "#fb9f3a"
             ],
             [
              0.8888888888888888,
              "#fdca26"
             ],
             [
              1,
              "#f0f921"
             ]
            ],
            "type": "surface"
           }
          ],
          "table": [
           {
            "cells": {
             "fill": {
              "color": "#EBF0F8"
             },
             "line": {
              "color": "white"
             }
            },
            "header": {
             "fill": {
              "color": "#C8D4E3"
             },
             "line": {
              "color": "white"
             }
            },
            "type": "table"
           }
          ]
         },
         "layout": {
          "annotationdefaults": {
           "arrowcolor": "#2a3f5f",
           "arrowhead": 0,
           "arrowwidth": 1
          },
          "autotypenumbers": "strict",
          "coloraxis": {
           "colorbar": {
            "outlinewidth": 0,
            "ticks": ""
           }
          },
          "colorscale": {
           "diverging": [
            [
             0,
             "#8e0152"
            ],
            [
             0.1,
             "#c51b7d"
            ],
            [
             0.2,
             "#de77ae"
            ],
            [
             0.3,
             "#f1b6da"
            ],
            [
             0.4,
             "#fde0ef"
            ],
            [
             0.5,
             "#f7f7f7"
            ],
            [
             0.6,
             "#e6f5d0"
            ],
            [
             0.7,
             "#b8e186"
            ],
            [
             0.8,
             "#7fbc41"
            ],
            [
             0.9,
             "#4d9221"
            ],
            [
             1,
             "#276419"
            ]
           ],
           "sequential": [
            [
             0,
             "#0d0887"
            ],
            [
             0.1111111111111111,
             "#46039f"
            ],
            [
             0.2222222222222222,
             "#7201a8"
            ],
            [
             0.3333333333333333,
             "#9c179e"
            ],
            [
             0.4444444444444444,
             "#bd3786"
            ],
            [
             0.5555555555555556,
             "#d8576b"
            ],
            [
             0.6666666666666666,
             "#ed7953"
            ],
            [
             0.7777777777777778,
             "#fb9f3a"
            ],
            [
             0.8888888888888888,
             "#fdca26"
            ],
            [
             1,
             "#f0f921"
            ]
           ],
           "sequentialminus": [
            [
             0,
             "#0d0887"
            ],
            [
             0.1111111111111111,
             "#46039f"
            ],
            [
             0.2222222222222222,
             "#7201a8"
            ],
            [
             0.3333333333333333,
             "#9c179e"
            ],
            [
             0.4444444444444444,
             "#bd3786"
            ],
            [
             0.5555555555555556,
             "#d8576b"
            ],
            [
             0.6666666666666666,
             "#ed7953"
            ],
            [
             0.7777777777777778,
             "#fb9f3a"
            ],
            [
             0.8888888888888888,
             "#fdca26"
            ],
            [
             1,
             "#f0f921"
            ]
           ]
          },
          "colorway": [
           "#636efa",
           "#EF553B",
           "#00cc96",
           "#ab63fa",
           "#FFA15A",
           "#19d3f3",
           "#FF6692",
           "#B6E880",
           "#FF97FF",
           "#FECB52"
          ],
          "font": {
           "color": "#2a3f5f"
          },
          "geo": {
           "bgcolor": "white",
           "lakecolor": "white",
           "landcolor": "#E5ECF6",
           "showlakes": true,
           "showland": true,
           "subunitcolor": "white"
          },
          "hoverlabel": {
           "align": "left"
          },
          "hovermode": "closest",
          "mapbox": {
           "style": "light"
          },
          "paper_bgcolor": "white",
          "plot_bgcolor": "#E5ECF6",
          "polar": {
           "angularaxis": {
            "gridcolor": "white",
            "linecolor": "white",
            "ticks": ""
           },
           "bgcolor": "#E5ECF6",
           "radialaxis": {
            "gridcolor": "white",
            "linecolor": "white",
            "ticks": ""
           }
          },
          "scene": {
           "xaxis": {
            "backgroundcolor": "#E5ECF6",
            "gridcolor": "white",
            "gridwidth": 2,
            "linecolor": "white",
            "showbackground": true,
            "ticks": "",
            "zerolinecolor": "white"
           },
           "yaxis": {
            "backgroundcolor": "#E5ECF6",
            "gridcolor": "white",
            "gridwidth": 2,
            "linecolor": "white",
            "showbackground": true,
            "ticks": "",
            "zerolinecolor": "white"
           },
           "zaxis": {
            "backgroundcolor": "#E5ECF6",
            "gridcolor": "white",
            "gridwidth": 2,
            "linecolor": "white",
            "showbackground": true,
            "ticks": "",
            "zerolinecolor": "white"
           }
          },
          "shapedefaults": {
           "line": {
            "color": "#2a3f5f"
           }
          },
          "ternary": {
           "aaxis": {
            "gridcolor": "white",
            "linecolor": "white",
            "ticks": ""
           },
           "baxis": {
            "gridcolor": "white",
            "linecolor": "white",
            "ticks": ""
           },
           "bgcolor": "#E5ECF6",
           "caxis": {
            "gridcolor": "white",
            "linecolor": "white",
            "ticks": ""
           }
          },
          "title": {
           "x": 0.05
          },
          "xaxis": {
           "automargin": true,
           "gridcolor": "white",
           "linecolor": "white",
           "ticks": "",
           "title": {
            "standoff": 15
           },
           "zerolinecolor": "white",
           "zerolinewidth": 2
          },
          "yaxis": {
           "automargin": true,
           "gridcolor": "white",
           "linecolor": "white",
           "ticks": "",
           "title": {
            "standoff": 15
           },
           "zerolinecolor": "white",
           "zerolinewidth": 2
          }
         }
        },
        "width": 500,
        "xaxis": {
         "anchor": "y",
         "domain": [
          0,
          1
         ],
         "title": {
          "text": "Длина труб"
         }
        },
        "yaxis": {
         "anchor": "x",
         "autorange": "reversed",
         "domain": [
          0,
          1
         ],
         "title": {
          "text": "Хараеткристики теплообменника"
         }
        }
       }
      }
     },
     "metadata": {},
     "output_type": "display_data"
    }
   ],
   "source": [
    "heaters = eq.calculate_equipment(\n",
    "        heaters_table,\n",
    "        aqua_vapor_saturation_by_pressure,\n",
    "        aqua_liquid_saturation,\n",
    "        aqua_vapor_saturation,\n",
    "        balance,\n",
    "        properties,\n",
    "        FEED_TEMPERATURE,\n",
    "        thermal_balance,\n",
    "        Ropt,\n",
    "        EQ_NAME = 'дефлегматор',\n",
    "        ORIENTACION = 'вертикальный', #Можно посчитать как 'горизониальный'\n",
    "        AQ_PRESSURE = 3) #изменяемый параметр\n",
    "\n",
    "fig = px.imshow(\n",
    "    round(heaters),\n",
    "    labels=dict(x=\"Длина труб\", y=\"Хараеткристики теплообменника\", color=\"Запас поверхности, %\"),\n",
    "    range_color=[-40,80],\n",
    "    color_continuous_scale=[\"rgb(178, 50, 34)\", \"rgb(34, 149, 34)\", \"rgb(25, 65, 225)\"],\n",
    "    x=heaters.columns,\n",
    "    y=heaters.index,\n",
    "    text_auto=True, aspect=\"auto\",\n",
    "    width=500,\n",
    "    height=1000\n",
    "    )\n",
    "fig.show()"
   ]
  },
  {
   "cell_type": "code",
   "execution_count": 50,
   "metadata": {},
   "outputs": [
    {
     "data": {
      "text/plain": [
       "cредняя движущая сила теплопередачи                  89.320859\n",
       "тепловой поток в подогревателе                  1225008.721394\n",
       "расход пара на подогрев                             631.773451\n",
       "критерий Рейнольдса                               14937.953288\n",
       "критерий Прандтля                                     4.855444\n",
       "коэффициент теплоотдачи в трубах                   2355.364153\n",
       "коэффициент теплопередачи в межтрубном              885.255058\n",
       "сумма термических сопротивлений                       0.000459\n",
       "коэффициент теплопередачи                           496.698434\n",
       "требуемая поверхность теплообмена                    27.611722\n",
       "запас поверхности, %                      [27.337572952165207]\n",
       "dtype: object"
      ]
     },
     "execution_count": 50,
     "metadata": {},
     "output_type": "execute_result"
    }
   ],
   "source": [
    "row = heaters_table.loc[17]\n",
    "name = '2'\n",
    "\n",
    "heater = eq.get_heater(row,\n",
    "        name,\n",
    "        aqua_vapor_saturation_by_pressure,\n",
    "        aqua_liquid_saturation,\n",
    "        aqua_vapor_saturation,\n",
    "        balance, properties,\n",
    "        FEED_TEMPERATURE,\n",
    "        Ropt,\n",
    "        HEATER_NAME = 'дефлегматор',\n",
    "        ORIENTACION='вертикальный',\n",
    "        AQ_PRESSURE=3, call='direct')\n",
    "\n",
    "heater"
   ]
  },
  {
   "cell_type": "markdown",
   "metadata": {},
   "source": [
    "В холодильнике дистиллята осуществляется охлаждение дистиллята до конечной температуры 'tk'. Температура технической воды на охлаждение 'aq_t' в разное время года может меняться от ~5 до ~20 °С. В переменную 'pipes' вводится выбор что пустить трубы, а что в межтрубное пространство. Как правило руководствуются корозионной активностью смеси и теплоносителя"
   ]
  },
  {
   "cell_type": "code",
   "execution_count": 51,
   "metadata": {},
   "outputs": [
    {
     "data": {
      "application/vnd.plotly.v1+json": {
       "config": {
        "plotlyServerURL": "https://plot.ly"
       },
       "data": [
        {
         "coloraxis": "coloraxis",
         "hovertemplate": "Длина труб: %{x}<br>Хараеткристики теплообменника: %{y}<br>Запас поверхности, %: %{z}<extra></extra>",
         "name": "0",
         "texttemplate": "%{z}",
         "type": "heatmap",
         "x": [
          "1",
          "1.5",
          "2",
          "3",
          "4",
          "6",
          "9"
         ],
         "xaxis": "x",
         "y": [
          "159 0.02 1 19",
          "159 0.025 1 13",
          "273 0.02 1 61",
          "273 0.025 1 37",
          "325 0.02 1 100",
          "325 0.02 2 90",
          "325 0.025 1 62",
          "325 0.025 2 56",
          "400 0.02 1 181",
          "400 0.02 2 166",
          "400 0.025 1 111",
          "400 0.025 2 100",
          "600 0.02 1 389",
          "600 0.02 2 370",
          "600 0.02 4 334",
          "600 0.02 6 316",
          "600 0.025 1 257",
          "600 0.025 2 240",
          "600 0.025 4 206",
          "600 0.025 6 196",
          "800 0.02 1 717",
          "800 0.02 2 690",
          "800 0.02 4 638",
          "800 0.02 6 618",
          "800 0.025 1 465",
          "800 0.025 2 442",
          "800 0.025 4 404",
          "800 0.025 6 384",
          "1000 0.02 1 1173",
          "1000 0.02 2 1138",
          "1000 0.02 4 1072",
          "1000 0.02 6 1044",
          "1000 0.025 1 747",
          "1000 0.025 2 718",
          "1000 0.025 4 666",
          "1000 0.025 6 642",
          "1200 0.02 1 1701",
          "1200 0.02 2 1658",
          "1200 0.02 4 1580",
          "1200 0.02 6 1544",
          "1200 0.025 1 1083",
          "1200 0.025 2 1048",
          "1200 0.025 4 986",
          "1200 0.025 6 958"
         ],
         "yaxis": "y",
         "z": [
          [
           -828,
           -364,
           -271,
           -165,
           null,
           null,
           null
          ],
          [
           -907,
           -571,
           -403,
           -236,
           null,
           null,
           null
          ],
          [
           -535,
           -323,
           -238,
           -121,
           null,
           null,
           null
          ],
          [
           -806,
           -504,
           -353,
           -202,
           null,
           null,
           null
          ],
          [
           null,
           -249,
           -165,
           -75,
           -33,
           null,
           null
          ],
          [
           null,
           -146,
           -90,
           -23,
           7,
           null,
           null
          ],
          [
           null,
           -380,
           -260,
           -148,
           -84,
           null,
           null
          ],
          [
           null,
           -120,
           -59,
           -10,
           18,
           null,
           null
          ],
          [
           null,
           null,
           -123,
           -51,
           -12,
           25,
           null
          ],
          [
           null,
           null,
           -46,
           1,
           27,
           51,
           null
          ],
          [
           null,
           null,
           -226,
           -113,
           -58,
           -7,
           null
          ],
          [
           null,
           null,
           -105,
           -37,
           -6,
           30,
           null
          ],
          [
           null,
           null,
           -94,
           -30,
           3,
           35,
           null
          ],
          [
           null,
           null,
           -18,
           21,
           40,
           60,
           null
          ],
          [
           null,
           null,
           19,
           46,
           59,
           73,
           null
          ],
          [
           null,
           null,
           32,
           55,
           65,
           77,
           null
          ],
          [
           null,
           null,
           -172,
           -79,
           -34,
           10,
           null
          ],
          [
           null,
           null,
           -64,
           -9,
           17,
           45,
           null
          ],
          [
           null,
           null,
           -16,
           24,
           43,
           62,
           null
          ],
          [
           null,
           null,
           4,
           35,
           51,
           67,
           67
          ],
          [
           null,
           null,
           -71,
           -14,
           14,
           43,
           62
          ],
          [
           null,
           null,
           1,
           34,
           50,
           67,
           78
          ],
          [
           null,
           null,
           38,
           59,
           69,
           79,
           86
          ],
          [
           null,
           null,
           51,
           67,
           76,
           84,
           89
          ],
          [
           null,
           null,
           -145,
           -64,
           -23,
           18,
           46
          ],
          [
           null,
           null,
           -46,
           3,
           28,
           52,
           68
          ],
          [
           null,
           null,
           6,
           38,
           53,
           69,
           79
          ],
          [
           null,
           null,
           24,
           49,
           62,
           75,
           83
          ],
          [
           null,
           null,
           null,
           -7,
           20,
           47,
           64
          ],
          [
           null,
           null,
           null,
           39,
           54,
           70,
           80
          ],
          [
           null,
           null,
           null,
           63,
           72,
           82,
           88
          ],
          [
           null,
           null,
           null,
           72,
           79,
           86,
           91
          ],
          [
           null,
           null,
           null,
           -49,
           -12,
           25,
           50
          ],
          [
           null,
           null,
           null,
           15,
           36,
           57,
           72
          ],
          [
           null,
           null,
           null,
           48,
           61,
           74,
           83
          ],
          [
           null,
           null,
           null,
           60,
           70,
           80,
           87
          ],
          [
           null,
           null,
           null,
           null,
           24,
           49,
           66
          ],
          [
           null,
           null,
           null,
           null,
           57,
           71,
           81
          ],
          [
           null,
           null,
           null,
           null,
           74,
           83,
           89
          ],
          [
           null,
           null,
           null,
           null,
           81,
           87,
           91
          ],
          [
           null,
           null,
           null,
           null,
           -7,
           29,
           52
          ],
          [
           null,
           null,
           null,
           null,
           40,
           60,
           73
          ],
          [
           null,
           null,
           null,
           null,
           64,
           76,
           84
          ],
          [
           null,
           null,
           null,
           null,
           73,
           82,
           88
          ]
         ]
        }
       ],
       "layout": {
        "coloraxis": {
         "cmax": 80,
         "cmin": -40,
         "colorbar": {
          "title": {
           "text": "Запас поверхности, %"
          }
         },
         "colorscale": [
          [
           0,
           "rgb(178, 50, 34)"
          ],
          [
           0.5,
           "rgb(34, 149, 34)"
          ],
          [
           1,
           "rgb(25, 65, 225)"
          ]
         ]
        },
        "height": 1000,
        "margin": {
         "t": 60
        },
        "template": {
         "data": {
          "bar": [
           {
            "error_x": {
             "color": "#2a3f5f"
            },
            "error_y": {
             "color": "#2a3f5f"
            },
            "marker": {
             "line": {
              "color": "#E5ECF6",
              "width": 0.5
             },
             "pattern": {
              "fillmode": "overlay",
              "size": 10,
              "solidity": 0.2
             }
            },
            "type": "bar"
           }
          ],
          "barpolar": [
           {
            "marker": {
             "line": {
              "color": "#E5ECF6",
              "width": 0.5
             },
             "pattern": {
              "fillmode": "overlay",
              "size": 10,
              "solidity": 0.2
             }
            },
            "type": "barpolar"
           }
          ],
          "carpet": [
           {
            "aaxis": {
             "endlinecolor": "#2a3f5f",
             "gridcolor": "white",
             "linecolor": "white",
             "minorgridcolor": "white",
             "startlinecolor": "#2a3f5f"
            },
            "baxis": {
             "endlinecolor": "#2a3f5f",
             "gridcolor": "white",
             "linecolor": "white",
             "minorgridcolor": "white",
             "startlinecolor": "#2a3f5f"
            },
            "type": "carpet"
           }
          ],
          "choropleth": [
           {
            "colorbar": {
             "outlinewidth": 0,
             "ticks": ""
            },
            "type": "choropleth"
           }
          ],
          "contour": [
           {
            "colorbar": {
             "outlinewidth": 0,
             "ticks": ""
            },
            "colorscale": [
             [
              0,
              "#0d0887"
             ],
             [
              0.1111111111111111,
              "#46039f"
             ],
             [
              0.2222222222222222,
              "#7201a8"
             ],
             [
              0.3333333333333333,
              "#9c179e"
             ],
             [
              0.4444444444444444,
              "#bd3786"
             ],
             [
              0.5555555555555556,
              "#d8576b"
             ],
             [
              0.6666666666666666,
              "#ed7953"
             ],
             [
              0.7777777777777778,
              "#fb9f3a"
             ],
             [
              0.8888888888888888,
              "#fdca26"
             ],
             [
              1,
              "#f0f921"
             ]
            ],
            "type": "contour"
           }
          ],
          "contourcarpet": [
           {
            "colorbar": {
             "outlinewidth": 0,
             "ticks": ""
            },
            "type": "contourcarpet"
           }
          ],
          "heatmap": [
           {
            "colorbar": {
             "outlinewidth": 0,
             "ticks": ""
            },
            "colorscale": [
             [
              0,
              "#0d0887"
             ],
             [
              0.1111111111111111,
              "#46039f"
             ],
             [
              0.2222222222222222,
              "#7201a8"
             ],
             [
              0.3333333333333333,
              "#9c179e"
             ],
             [
              0.4444444444444444,
              "#bd3786"
             ],
             [
              0.5555555555555556,
              "#d8576b"
             ],
             [
              0.6666666666666666,
              "#ed7953"
             ],
             [
              0.7777777777777778,
              "#fb9f3a"
             ],
             [
              0.8888888888888888,
              "#fdca26"
             ],
             [
              1,
              "#f0f921"
             ]
            ],
            "type": "heatmap"
           }
          ],
          "heatmapgl": [
           {
            "colorbar": {
             "outlinewidth": 0,
             "ticks": ""
            },
            "colorscale": [
             [
              0,
              "#0d0887"
             ],
             [
              0.1111111111111111,
              "#46039f"
             ],
             [
              0.2222222222222222,
              "#7201a8"
             ],
             [
              0.3333333333333333,
              "#9c179e"
             ],
             [
              0.4444444444444444,
              "#bd3786"
             ],
             [
              0.5555555555555556,
              "#d8576b"
             ],
             [
              0.6666666666666666,
              "#ed7953"
             ],
             [
              0.7777777777777778,
              "#fb9f3a"
             ],
             [
              0.8888888888888888,
              "#fdca26"
             ],
             [
              1,
              "#f0f921"
             ]
            ],
            "type": "heatmapgl"
           }
          ],
          "histogram": [
           {
            "marker": {
             "pattern": {
              "fillmode": "overlay",
              "size": 10,
              "solidity": 0.2
             }
            },
            "type": "histogram"
           }
          ],
          "histogram2d": [
           {
            "colorbar": {
             "outlinewidth": 0,
             "ticks": ""
            },
            "colorscale": [
             [
              0,
              "#0d0887"
             ],
             [
              0.1111111111111111,
              "#46039f"
             ],
             [
              0.2222222222222222,
              "#7201a8"
             ],
             [
              0.3333333333333333,
              "#9c179e"
             ],
             [
              0.4444444444444444,
              "#bd3786"
             ],
             [
              0.5555555555555556,
              "#d8576b"
             ],
             [
              0.6666666666666666,
              "#ed7953"
             ],
             [
              0.7777777777777778,
              "#fb9f3a"
             ],
             [
              0.8888888888888888,
              "#fdca26"
             ],
             [
              1,
              "#f0f921"
             ]
            ],
            "type": "histogram2d"
           }
          ],
          "histogram2dcontour": [
           {
            "colorbar": {
             "outlinewidth": 0,
             "ticks": ""
            },
            "colorscale": [
             [
              0,
              "#0d0887"
             ],
             [
              0.1111111111111111,
              "#46039f"
             ],
             [
              0.2222222222222222,
              "#7201a8"
             ],
             [
              0.3333333333333333,
              "#9c179e"
             ],
             [
              0.4444444444444444,
              "#bd3786"
             ],
             [
              0.5555555555555556,
              "#d8576b"
             ],
             [
              0.6666666666666666,
              "#ed7953"
             ],
             [
              0.7777777777777778,
              "#fb9f3a"
             ],
             [
              0.8888888888888888,
              "#fdca26"
             ],
             [
              1,
              "#f0f921"
             ]
            ],
            "type": "histogram2dcontour"
           }
          ],
          "mesh3d": [
           {
            "colorbar": {
             "outlinewidth": 0,
             "ticks": ""
            },
            "type": "mesh3d"
           }
          ],
          "parcoords": [
           {
            "line": {
             "colorbar": {
              "outlinewidth": 0,
              "ticks": ""
             }
            },
            "type": "parcoords"
           }
          ],
          "pie": [
           {
            "automargin": true,
            "type": "pie"
           }
          ],
          "scatter": [
           {
            "fillpattern": {
             "fillmode": "overlay",
             "size": 10,
             "solidity": 0.2
            },
            "type": "scatter"
           }
          ],
          "scatter3d": [
           {
            "line": {
             "colorbar": {
              "outlinewidth": 0,
              "ticks": ""
             }
            },
            "marker": {
             "colorbar": {
              "outlinewidth": 0,
              "ticks": ""
             }
            },
            "type": "scatter3d"
           }
          ],
          "scattercarpet": [
           {
            "marker": {
             "colorbar": {
              "outlinewidth": 0,
              "ticks": ""
             }
            },
            "type": "scattercarpet"
           }
          ],
          "scattergeo": [
           {
            "marker": {
             "colorbar": {
              "outlinewidth": 0,
              "ticks": ""
             }
            },
            "type": "scattergeo"
           }
          ],
          "scattergl": [
           {
            "marker": {
             "colorbar": {
              "outlinewidth": 0,
              "ticks": ""
             }
            },
            "type": "scattergl"
           }
          ],
          "scattermapbox": [
           {
            "marker": {
             "colorbar": {
              "outlinewidth": 0,
              "ticks": ""
             }
            },
            "type": "scattermapbox"
           }
          ],
          "scatterpolar": [
           {
            "marker": {
             "colorbar": {
              "outlinewidth": 0,
              "ticks": ""
             }
            },
            "type": "scatterpolar"
           }
          ],
          "scatterpolargl": [
           {
            "marker": {
             "colorbar": {
              "outlinewidth": 0,
              "ticks": ""
             }
            },
            "type": "scatterpolargl"
           }
          ],
          "scatterternary": [
           {
            "marker": {
             "colorbar": {
              "outlinewidth": 0,
              "ticks": ""
             }
            },
            "type": "scatterternary"
           }
          ],
          "surface": [
           {
            "colorbar": {
             "outlinewidth": 0,
             "ticks": ""
            },
            "colorscale": [
             [
              0,
              "#0d0887"
             ],
             [
              0.1111111111111111,
              "#46039f"
             ],
             [
              0.2222222222222222,
              "#7201a8"
             ],
             [
              0.3333333333333333,
              "#9c179e"
             ],
             [
              0.4444444444444444,
              "#bd3786"
             ],
             [
              0.5555555555555556,
              "#d8576b"
             ],
             [
              0.6666666666666666,
              "#ed7953"
             ],
             [
              0.7777777777777778,
              "#fb9f3a"
             ],
             [
              0.8888888888888888,
              "#fdca26"
             ],
             [
              1,
              "#f0f921"
             ]
            ],
            "type": "surface"
           }
          ],
          "table": [
           {
            "cells": {
             "fill": {
              "color": "#EBF0F8"
             },
             "line": {
              "color": "white"
             }
            },
            "header": {
             "fill": {
              "color": "#C8D4E3"
             },
             "line": {
              "color": "white"
             }
            },
            "type": "table"
           }
          ]
         },
         "layout": {
          "annotationdefaults": {
           "arrowcolor": "#2a3f5f",
           "arrowhead": 0,
           "arrowwidth": 1
          },
          "autotypenumbers": "strict",
          "coloraxis": {
           "colorbar": {
            "outlinewidth": 0,
            "ticks": ""
           }
          },
          "colorscale": {
           "diverging": [
            [
             0,
             "#8e0152"
            ],
            [
             0.1,
             "#c51b7d"
            ],
            [
             0.2,
             "#de77ae"
            ],
            [
             0.3,
             "#f1b6da"
            ],
            [
             0.4,
             "#fde0ef"
            ],
            [
             0.5,
             "#f7f7f7"
            ],
            [
             0.6,
             "#e6f5d0"
            ],
            [
             0.7,
             "#b8e186"
            ],
            [
             0.8,
             "#7fbc41"
            ],
            [
             0.9,
             "#4d9221"
            ],
            [
             1,
             "#276419"
            ]
           ],
           "sequential": [
            [
             0,
             "#0d0887"
            ],
            [
             0.1111111111111111,
             "#46039f"
            ],
            [
             0.2222222222222222,
             "#7201a8"
            ],
            [
             0.3333333333333333,
             "#9c179e"
            ],
            [
             0.4444444444444444,
             "#bd3786"
            ],
            [
             0.5555555555555556,
             "#d8576b"
            ],
            [
             0.6666666666666666,
             "#ed7953"
            ],
            [
             0.7777777777777778,
             "#fb9f3a"
            ],
            [
             0.8888888888888888,
             "#fdca26"
            ],
            [
             1,
             "#f0f921"
            ]
           ],
           "sequentialminus": [
            [
             0,
             "#0d0887"
            ],
            [
             0.1111111111111111,
             "#46039f"
            ],
            [
             0.2222222222222222,
             "#7201a8"
            ],
            [
             0.3333333333333333,
             "#9c179e"
            ],
            [
             0.4444444444444444,
             "#bd3786"
            ],
            [
             0.5555555555555556,
             "#d8576b"
            ],
            [
             0.6666666666666666,
             "#ed7953"
            ],
            [
             0.7777777777777778,
             "#fb9f3a"
            ],
            [
             0.8888888888888888,
             "#fdca26"
            ],
            [
             1,
             "#f0f921"
            ]
           ]
          },
          "colorway": [
           "#636efa",
           "#EF553B",
           "#00cc96",
           "#ab63fa",
           "#FFA15A",
           "#19d3f3",
           "#FF6692",
           "#B6E880",
           "#FF97FF",
           "#FECB52"
          ],
          "font": {
           "color": "#2a3f5f"
          },
          "geo": {
           "bgcolor": "white",
           "lakecolor": "white",
           "landcolor": "#E5ECF6",
           "showlakes": true,
           "showland": true,
           "subunitcolor": "white"
          },
          "hoverlabel": {
           "align": "left"
          },
          "hovermode": "closest",
          "mapbox": {
           "style": "light"
          },
          "paper_bgcolor": "white",
          "plot_bgcolor": "#E5ECF6",
          "polar": {
           "angularaxis": {
            "gridcolor": "white",
            "linecolor": "white",
            "ticks": ""
           },
           "bgcolor": "#E5ECF6",
           "radialaxis": {
            "gridcolor": "white",
            "linecolor": "white",
            "ticks": ""
           }
          },
          "scene": {
           "xaxis": {
            "backgroundcolor": "#E5ECF6",
            "gridcolor": "white",
            "gridwidth": 2,
            "linecolor": "white",
            "showbackground": true,
            "ticks": "",
            "zerolinecolor": "white"
           },
           "yaxis": {
            "backgroundcolor": "#E5ECF6",
            "gridcolor": "white",
            "gridwidth": 2,
            "linecolor": "white",
            "showbackground": true,
            "ticks": "",
            "zerolinecolor": "white"
           },
           "zaxis": {
            "backgroundcolor": "#E5ECF6",
            "gridcolor": "white",
            "gridwidth": 2,
            "linecolor": "white",
            "showbackground": true,
            "ticks": "",
            "zerolinecolor": "white"
           }
          },
          "shapedefaults": {
           "line": {
            "color": "#2a3f5f"
           }
          },
          "ternary": {
           "aaxis": {
            "gridcolor": "white",
            "linecolor": "white",
            "ticks": ""
           },
           "baxis": {
            "gridcolor": "white",
            "linecolor": "white",
            "ticks": ""
           },
           "bgcolor": "#E5ECF6",
           "caxis": {
            "gridcolor": "white",
            "linecolor": "white",
            "ticks": ""
           }
          },
          "title": {
           "x": 0.05
          },
          "xaxis": {
           "automargin": true,
           "gridcolor": "white",
           "linecolor": "white",
           "ticks": "",
           "title": {
            "standoff": 15
           },
           "zerolinecolor": "white",
           "zerolinewidth": 2
          },
          "yaxis": {
           "automargin": true,
           "gridcolor": "white",
           "linecolor": "white",
           "ticks": "",
           "title": {
            "standoff": 15
           },
           "zerolinecolor": "white",
           "zerolinewidth": 2
          }
         }
        },
        "width": 500,
        "xaxis": {
         "anchor": "y",
         "domain": [
          0,
          1
         ],
         "title": {
          "text": "Длина труб"
         }
        },
        "yaxis": {
         "anchor": "x",
         "autorange": "reversed",
         "domain": [
          0,
          1
         ],
         "title": {
          "text": "Хараеткристики теплообменника"
         }
        }
       }
      }
     },
     "metadata": {},
     "output_type": "display_data"
    }
   ],
   "source": [
    "heaters = eq.calculate_equipment(\n",
    "        heaters_table,\n",
    "        aqua_vapor_saturation_by_pressure,\n",
    "        aqua_liquid_saturation,\n",
    "        aqua_vapor_saturation,\n",
    "        balance,\n",
    "        properties,\n",
    "        FEED_TEMPERATURE,\n",
    "        thermal_balance,\n",
    "        Ropt,\n",
    "        EQ_NAME = 'холодильник',\n",
    "        COOLER_NAME = 'дистиллята',\n",
    "        pipes = 'продукт', #изменяемый параметр может быть 'вода'.\n",
    "        aq_t = 20, #изменяемый параметр\n",
    "        tk = 30 #изменяемый параметр\n",
    "        )\n",
    "\n",
    "fig = px.imshow(\n",
    "    round(heaters),\n",
    "    labels=dict(x=\"Длина труб\", y=\"Хараеткристики теплообменника\", color=\"Запас поверхности, %\"),\n",
    "    range_color=[-40,80],\n",
    "    color_continuous_scale=[\"rgb(178, 50, 34)\", \"rgb(34, 149, 34)\", \"rgb(25, 65, 225)\"],\n",
    "    x=heaters.columns,\n",
    "    y=heaters.index,\n",
    "    text_auto=True, aspect=\"auto\",\n",
    "    width=500,\n",
    "    height=1000\n",
    "    )\n",
    "fig.show()"
   ]
  },
  {
   "cell_type": "markdown",
   "metadata": {},
   "source": [
    "В переменную 'pipes' вводится выбор что пустить трубы, а что в межтрубное пространство. Как правило руководствуются корозионной активностью смеси и теплоносителя"
   ]
  },
  {
   "cell_type": "code",
   "execution_count": 52,
   "metadata": {},
   "outputs": [
    {
     "data": {
      "text/plain": [
       "тепловой поток в холодильнике                    169233.339599\n",
       "расход воды                                            3.67909\n",
       "cредняя движущая сила теплопередачи                  20.637132\n",
       "площадь сечения межтруб                               0.045239\n",
       "критерий Рейнольдса межтруб                        1622.296747\n",
       "критерий Прандтля межтруб                             7.007475\n",
       "коэффициент теплопередачи в межтрубном              816.010221\n",
       "критерий Рейнольдса в трубах                       2262.890875\n",
       "критерий Прандтля в трубах                            4.855444\n",
       "коэффициент теплопередачи в трубах                  196.722841\n",
       "сумма термических сопротивлений                       0.000459\n",
       "коэффициент теплоотдачи                             147.756714\n",
       "требуемая поверхность теплообмена                    55.499536\n",
       "запас поверхности, %                      [20.714947919579174]\n",
       "dtype: object"
      ]
     },
     "execution_count": 52,
     "metadata": {},
     "output_type": "execute_result"
    }
   ],
   "source": [
    "row = heaters_table.loc[13]\n",
    "name = '3'\n",
    "eq.get_cooler(\n",
    "    row,\n",
    "    name,\n",
    "    aqua_liquid_saturation,\n",
    "    aqua_vapor_saturation,\n",
    "    properties,\n",
    "    balance,\n",
    "    COOLER_NAME = 'дистиллята',\n",
    "    pipes = 'продукт', #изменяемый параметр может быть 'вода'. \n",
    "    aq_t = 20, #изменяемый параметр\n",
    "    tk = 30, #изменяемый параметр\n",
    "    call = 'direct')"
   ]
  },
  {
   "cell_type": "markdown",
   "metadata": {},
   "source": [
    "В холодильнике кубового остатка осуществляется охлаждение кубового остатка до конечной температуры 'tk'"
   ]
  },
  {
   "cell_type": "code",
   "execution_count": 53,
   "metadata": {},
   "outputs": [
    {
     "data": {
      "application/vnd.plotly.v1+json": {
       "config": {
        "plotlyServerURL": "https://plot.ly"
       },
       "data": [
        {
         "coloraxis": "coloraxis",
         "hovertemplate": "Длина труб: %{x}<br>Хараеткристики теплообменника: %{y}<br>Запас поверхности, %: %{z}<extra></extra>",
         "name": "0",
         "texttemplate": "%{z}",
         "type": "heatmap",
         "x": [
          "1",
          "1.5",
          "2",
          "3",
          "4",
          "6",
          "9"
         ],
         "xaxis": "x",
         "y": [
          "159 0.02 1 19",
          "159 0.025 1 13",
          "273 0.02 1 61",
          "273 0.025 1 37",
          "325 0.02 1 100",
          "325 0.02 2 90",
          "325 0.025 1 62",
          "325 0.025 2 56",
          "400 0.02 1 181",
          "400 0.02 2 166",
          "400 0.025 1 111",
          "400 0.025 2 100",
          "600 0.02 1 389",
          "600 0.02 2 370",
          "600 0.02 4 334",
          "600 0.02 6 316",
          "600 0.025 1 257",
          "600 0.025 2 240",
          "600 0.025 4 206",
          "600 0.025 6 196",
          "800 0.02 1 717",
          "800 0.02 2 690",
          "800 0.02 4 638",
          "800 0.02 6 618",
          "800 0.025 1 465",
          "800 0.025 2 442",
          "800 0.025 4 404",
          "800 0.025 6 384",
          "1000 0.02 1 1173",
          "1000 0.02 2 1138",
          "1000 0.02 4 1072",
          "1000 0.02 6 1044",
          "1000 0.025 1 747",
          "1000 0.025 2 718",
          "1000 0.025 4 666",
          "1000 0.025 6 642",
          "1200 0.02 1 1701",
          "1200 0.02 2 1658",
          "1200 0.02 4 1580",
          "1200 0.02 6 1544",
          "1200 0.025 1 1083",
          "1200 0.025 2 1048",
          "1200 0.025 4 986",
          "1200 0.025 6 958"
         ],
         "yaxis": "y",
         "z": [
          [
           -1566,
           -733,
           -567,
           -376,
           null,
           null,
           null
          ],
          [
           -1684,
           -1089,
           -792,
           -495,
           null,
           null,
           null
          ],
          [
           -957,
           -604,
           -464,
           -268,
           null,
           null,
           null
          ],
          [
           -818,
           -512,
           -359,
           -206,
           null,
           null,
           null
          ],
          [
           null,
           -481,
           -342,
           -190,
           -121,
           null,
           null
          ],
          [
           null,
           -167,
           -106,
           -34,
           -1,
           null,
           null
          ],
          [
           null,
           -695,
           -496,
           -311,
           -206,
           null,
           null
          ],
          [
           null,
           -272,
           -169,
           -86,
           -38,
           null,
           null
          ],
          [
           null,
           null,
           -267,
           -149,
           -84,
           -24,
           null
          ],
          [
           null,
           null,
           -142,
           -64,
           -21,
           19,
           null
          ],
          [
           null,
           null,
           -435,
           -250,
           -160,
           -75,
           null
          ],
          [
           null,
           null,
           -238,
           -125,
           -74,
           -15,
           null
          ],
          [
           null,
           null,
           -217,
           -113,
           -58,
           -6,
           null
          ],
          [
           null,
           null,
           -92,
           -29,
           3,
           35,
           null
          ],
          [
           null,
           null,
           -32,
           12,
           34,
           56,
           null
          ],
          [
           null,
           null,
           25,
           50,
           62,
           75,
           null
          ],
          [
           null,
           null,
           -343,
           -191,
           -119,
           -47,
           null
          ],
          [
           null,
           null,
           -167,
           -78,
           -35,
           10,
           null
          ],
          [
           null,
           null,
           -88,
           -23,
           8,
           38,
           null
          ],
          [
           null,
           null,
           -4,
           30,
           47,
           64,
           64
          ],
          [
           null,
           null,
           -186,
           -91,
           -43,
           5,
           36
          ],
          [
           null,
           null,
           -68,
           -12,
           15,
           44,
           63
          ],
          [
           null,
           null,
           -8,
           28,
           46,
           64,
           76
          ],
          [
           null,
           null,
           14,
           42,
           57,
           71,
           81
          ],
          [
           null,
           null,
           -298,
           -167,
           -99,
           -33,
           12
          ],
          [
           null,
           null,
           -136,
           -57,
           -17,
           22,
           48
          ],
          [
           null,
           null,
           -51,
           0,
           25,
           50,
           67
          ],
          [
           null,
           null,
           -22,
           19,
           40,
           60,
           73
          ],
          [
           null,
           null,
           null,
           -77,
           -32,
           12,
           41
          ],
          [
           null,
           null,
           null,
           -2,
           24,
           49,
           66
          ],
          [
           null,
           null,
           null,
           37,
           53,
           69,
           79
          ],
          [
           null,
           null,
           null,
           51,
           63,
           76,
           84
          ],
          [
           null,
           null,
           null,
           -147,
           -85,
           -24,
           18
          ],
          [
           null,
           null,
           null,
           -43,
           -7,
           29,
           52
          ],
          [
           null,
           null,
           null,
           12,
           34,
           56,
           71
          ],
          [
           null,
           null,
           null,
           31,
           49,
           66,
           77
          ],
          [
           null,
           null,
           null,
           null,
           -26,
           16,
           44
          ],
          [
           null,
           null,
           null,
           null,
           28,
           52,
           68
          ],
          [
           null,
           null,
           null,
           null,
           57,
           71,
           81
          ],
          [
           null,
           null,
           null,
           null,
           67,
           78,
           85
          ],
          [
           null,
           null,
           null,
           null,
           -76,
           -17,
           22
          ],
          [
           null,
           null,
           null,
           null,
           0,
           33,
           55
          ],
          [
           null,
           null,
           null,
           null,
           40,
           60,
           73
          ],
          [
           null,
           null,
           null,
           null,
           54,
           69,
           79
          ]
         ]
        }
       ],
       "layout": {
        "coloraxis": {
         "cmax": 80,
         "cmin": -40,
         "colorbar": {
          "title": {
           "text": "Запас поверхности, %"
          }
         },
         "colorscale": [
          [
           0,
           "rgb(178, 50, 34)"
          ],
          [
           0.5,
           "rgb(34, 149, 34)"
          ],
          [
           1,
           "rgb(25, 65, 225)"
          ]
         ]
        },
        "height": 1000,
        "margin": {
         "t": 60
        },
        "template": {
         "data": {
          "bar": [
           {
            "error_x": {
             "color": "#2a3f5f"
            },
            "error_y": {
             "color": "#2a3f5f"
            },
            "marker": {
             "line": {
              "color": "#E5ECF6",
              "width": 0.5
             },
             "pattern": {
              "fillmode": "overlay",
              "size": 10,
              "solidity": 0.2
             }
            },
            "type": "bar"
           }
          ],
          "barpolar": [
           {
            "marker": {
             "line": {
              "color": "#E5ECF6",
              "width": 0.5
             },
             "pattern": {
              "fillmode": "overlay",
              "size": 10,
              "solidity": 0.2
             }
            },
            "type": "barpolar"
           }
          ],
          "carpet": [
           {
            "aaxis": {
             "endlinecolor": "#2a3f5f",
             "gridcolor": "white",
             "linecolor": "white",
             "minorgridcolor": "white",
             "startlinecolor": "#2a3f5f"
            },
            "baxis": {
             "endlinecolor": "#2a3f5f",
             "gridcolor": "white",
             "linecolor": "white",
             "minorgridcolor": "white",
             "startlinecolor": "#2a3f5f"
            },
            "type": "carpet"
           }
          ],
          "choropleth": [
           {
            "colorbar": {
             "outlinewidth": 0,
             "ticks": ""
            },
            "type": "choropleth"
           }
          ],
          "contour": [
           {
            "colorbar": {
             "outlinewidth": 0,
             "ticks": ""
            },
            "colorscale": [
             [
              0,
              "#0d0887"
             ],
             [
              0.1111111111111111,
              "#46039f"
             ],
             [
              0.2222222222222222,
              "#7201a8"
             ],
             [
              0.3333333333333333,
              "#9c179e"
             ],
             [
              0.4444444444444444,
              "#bd3786"
             ],
             [
              0.5555555555555556,
              "#d8576b"
             ],
             [
              0.6666666666666666,
              "#ed7953"
             ],
             [
              0.7777777777777778,
              "#fb9f3a"
             ],
             [
              0.8888888888888888,
              "#fdca26"
             ],
             [
              1,
              "#f0f921"
             ]
            ],
            "type": "contour"
           }
          ],
          "contourcarpet": [
           {
            "colorbar": {
             "outlinewidth": 0,
             "ticks": ""
            },
            "type": "contourcarpet"
           }
          ],
          "heatmap": [
           {
            "colorbar": {
             "outlinewidth": 0,
             "ticks": ""
            },
            "colorscale": [
             [
              0,
              "#0d0887"
             ],
             [
              0.1111111111111111,
              "#46039f"
             ],
             [
              0.2222222222222222,
              "#7201a8"
             ],
             [
              0.3333333333333333,
              "#9c179e"
             ],
             [
              0.4444444444444444,
              "#bd3786"
             ],
             [
              0.5555555555555556,
              "#d8576b"
             ],
             [
              0.6666666666666666,
              "#ed7953"
             ],
             [
              0.7777777777777778,
              "#fb9f3a"
             ],
             [
              0.8888888888888888,
              "#fdca26"
             ],
             [
              1,
              "#f0f921"
             ]
            ],
            "type": "heatmap"
           }
          ],
          "heatmapgl": [
           {
            "colorbar": {
             "outlinewidth": 0,
             "ticks": ""
            },
            "colorscale": [
             [
              0,
              "#0d0887"
             ],
             [
              0.1111111111111111,
              "#46039f"
             ],
             [
              0.2222222222222222,
              "#7201a8"
             ],
             [
              0.3333333333333333,
              "#9c179e"
             ],
             [
              0.4444444444444444,
              "#bd3786"
             ],
             [
              0.5555555555555556,
              "#d8576b"
             ],
             [
              0.6666666666666666,
              "#ed7953"
             ],
             [
              0.7777777777777778,
              "#fb9f3a"
             ],
             [
              0.8888888888888888,
              "#fdca26"
             ],
             [
              1,
              "#f0f921"
             ]
            ],
            "type": "heatmapgl"
           }
          ],
          "histogram": [
           {
            "marker": {
             "pattern": {
              "fillmode": "overlay",
              "size": 10,
              "solidity": 0.2
             }
            },
            "type": "histogram"
           }
          ],
          "histogram2d": [
           {
            "colorbar": {
             "outlinewidth": 0,
             "ticks": ""
            },
            "colorscale": [
             [
              0,
              "#0d0887"
             ],
             [
              0.1111111111111111,
              "#46039f"
             ],
             [
              0.2222222222222222,
              "#7201a8"
             ],
             [
              0.3333333333333333,
              "#9c179e"
             ],
             [
              0.4444444444444444,
              "#bd3786"
             ],
             [
              0.5555555555555556,
              "#d8576b"
             ],
             [
              0.6666666666666666,
              "#ed7953"
             ],
             [
              0.7777777777777778,
              "#fb9f3a"
             ],
             [
              0.8888888888888888,
              "#fdca26"
             ],
             [
              1,
              "#f0f921"
             ]
            ],
            "type": "histogram2d"
           }
          ],
          "histogram2dcontour": [
           {
            "colorbar": {
             "outlinewidth": 0,
             "ticks": ""
            },
            "colorscale": [
             [
              0,
              "#0d0887"
             ],
             [
              0.1111111111111111,
              "#46039f"
             ],
             [
              0.2222222222222222,
              "#7201a8"
             ],
             [
              0.3333333333333333,
              "#9c179e"
             ],
             [
              0.4444444444444444,
              "#bd3786"
             ],
             [
              0.5555555555555556,
              "#d8576b"
             ],
             [
              0.6666666666666666,
              "#ed7953"
             ],
             [
              0.7777777777777778,
              "#fb9f3a"
             ],
             [
              0.8888888888888888,
              "#fdca26"
             ],
             [
              1,
              "#f0f921"
             ]
            ],
            "type": "histogram2dcontour"
           }
          ],
          "mesh3d": [
           {
            "colorbar": {
             "outlinewidth": 0,
             "ticks": ""
            },
            "type": "mesh3d"
           }
          ],
          "parcoords": [
           {
            "line": {
             "colorbar": {
              "outlinewidth": 0,
              "ticks": ""
             }
            },
            "type": "parcoords"
           }
          ],
          "pie": [
           {
            "automargin": true,
            "type": "pie"
           }
          ],
          "scatter": [
           {
            "fillpattern": {
             "fillmode": "overlay",
             "size": 10,
             "solidity": 0.2
            },
            "type": "scatter"
           }
          ],
          "scatter3d": [
           {
            "line": {
             "colorbar": {
              "outlinewidth": 0,
              "ticks": ""
             }
            },
            "marker": {
             "colorbar": {
              "outlinewidth": 0,
              "ticks": ""
             }
            },
            "type": "scatter3d"
           }
          ],
          "scattercarpet": [
           {
            "marker": {
             "colorbar": {
              "outlinewidth": 0,
              "ticks": ""
             }
            },
            "type": "scattercarpet"
           }
          ],
          "scattergeo": [
           {
            "marker": {
             "colorbar": {
              "outlinewidth": 0,
              "ticks": ""
             }
            },
            "type": "scattergeo"
           }
          ],
          "scattergl": [
           {
            "marker": {
             "colorbar": {
              "outlinewidth": 0,
              "ticks": ""
             }
            },
            "type": "scattergl"
           }
          ],
          "scattermapbox": [
           {
            "marker": {
             "colorbar": {
              "outlinewidth": 0,
              "ticks": ""
             }
            },
            "type": "scattermapbox"
           }
          ],
          "scatterpolar": [
           {
            "marker": {
             "colorbar": {
              "outlinewidth": 0,
              "ticks": ""
             }
            },
            "type": "scatterpolar"
           }
          ],
          "scatterpolargl": [
           {
            "marker": {
             "colorbar": {
              "outlinewidth": 0,
              "ticks": ""
             }
            },
            "type": "scatterpolargl"
           }
          ],
          "scatterternary": [
           {
            "marker": {
             "colorbar": {
              "outlinewidth": 0,
              "ticks": ""
             }
            },
            "type": "scatterternary"
           }
          ],
          "surface": [
           {
            "colorbar": {
             "outlinewidth": 0,
             "ticks": ""
            },
            "colorscale": [
             [
              0,
              "#0d0887"
             ],
             [
              0.1111111111111111,
              "#46039f"
             ],
             [
              0.2222222222222222,
              "#7201a8"
             ],
             [
              0.3333333333333333,
              "#9c179e"
             ],
             [
              0.4444444444444444,
              "#bd3786"
             ],
             [
              0.5555555555555556,
              "#d8576b"
             ],
             [
              0.6666666666666666,
              "#ed7953"
             ],
             [
              0.7777777777777778,
              "#fb9f3a"
             ],
             [
              0.8888888888888888,
              "#fdca26"
             ],
             [
              1,
              "#f0f921"
             ]
            ],
            "type": "surface"
           }
          ],
          "table": [
           {
            "cells": {
             "fill": {
              "color": "#EBF0F8"
             },
             "line": {
              "color": "white"
             }
            },
            "header": {
             "fill": {
              "color": "#C8D4E3"
             },
             "line": {
              "color": "white"
             }
            },
            "type": "table"
           }
          ]
         },
         "layout": {
          "annotationdefaults": {
           "arrowcolor": "#2a3f5f",
           "arrowhead": 0,
           "arrowwidth": 1
          },
          "autotypenumbers": "strict",
          "coloraxis": {
           "colorbar": {
            "outlinewidth": 0,
            "ticks": ""
           }
          },
          "colorscale": {
           "diverging": [
            [
             0,
             "#8e0152"
            ],
            [
             0.1,
             "#c51b7d"
            ],
            [
             0.2,
             "#de77ae"
            ],
            [
             0.3,
             "#f1b6da"
            ],
            [
             0.4,
             "#fde0ef"
            ],
            [
             0.5,
             "#f7f7f7"
            ],
            [
             0.6,
             "#e6f5d0"
            ],
            [
             0.7,
             "#b8e186"
            ],
            [
             0.8,
             "#7fbc41"
            ],
            [
             0.9,
             "#4d9221"
            ],
            [
             1,
             "#276419"
            ]
           ],
           "sequential": [
            [
             0,
             "#0d0887"
            ],
            [
             0.1111111111111111,
             "#46039f"
            ],
            [
             0.2222222222222222,
             "#7201a8"
            ],
            [
             0.3333333333333333,
             "#9c179e"
            ],
            [
             0.4444444444444444,
             "#bd3786"
            ],
            [
             0.5555555555555556,
             "#d8576b"
            ],
            [
             0.6666666666666666,
             "#ed7953"
            ],
            [
             0.7777777777777778,
             "#fb9f3a"
            ],
            [
             0.8888888888888888,
             "#fdca26"
            ],
            [
             1,
             "#f0f921"
            ]
           ],
           "sequentialminus": [
            [
             0,
             "#0d0887"
            ],
            [
             0.1111111111111111,
             "#46039f"
            ],
            [
             0.2222222222222222,
             "#7201a8"
            ],
            [
             0.3333333333333333,
             "#9c179e"
            ],
            [
             0.4444444444444444,
             "#bd3786"
            ],
            [
             0.5555555555555556,
             "#d8576b"
            ],
            [
             0.6666666666666666,
             "#ed7953"
            ],
            [
             0.7777777777777778,
             "#fb9f3a"
            ],
            [
             0.8888888888888888,
             "#fdca26"
            ],
            [
             1,
             "#f0f921"
            ]
           ]
          },
          "colorway": [
           "#636efa",
           "#EF553B",
           "#00cc96",
           "#ab63fa",
           "#FFA15A",
           "#19d3f3",
           "#FF6692",
           "#B6E880",
           "#FF97FF",
           "#FECB52"
          ],
          "font": {
           "color": "#2a3f5f"
          },
          "geo": {
           "bgcolor": "white",
           "lakecolor": "white",
           "landcolor": "#E5ECF6",
           "showlakes": true,
           "showland": true,
           "subunitcolor": "white"
          },
          "hoverlabel": {
           "align": "left"
          },
          "hovermode": "closest",
          "mapbox": {
           "style": "light"
          },
          "paper_bgcolor": "white",
          "plot_bgcolor": "#E5ECF6",
          "polar": {
           "angularaxis": {
            "gridcolor": "white",
            "linecolor": "white",
            "ticks": ""
           },
           "bgcolor": "#E5ECF6",
           "radialaxis": {
            "gridcolor": "white",
            "linecolor": "white",
            "ticks": ""
           }
          },
          "scene": {
           "xaxis": {
            "backgroundcolor": "#E5ECF6",
            "gridcolor": "white",
            "gridwidth": 2,
            "linecolor": "white",
            "showbackground": true,
            "ticks": "",
            "zerolinecolor": "white"
           },
           "yaxis": {
            "backgroundcolor": "#E5ECF6",
            "gridcolor": "white",
            "gridwidth": 2,
            "linecolor": "white",
            "showbackground": true,
            "ticks": "",
            "zerolinecolor": "white"
           },
           "zaxis": {
            "backgroundcolor": "#E5ECF6",
            "gridcolor": "white",
            "gridwidth": 2,
            "linecolor": "white",
            "showbackground": true,
            "ticks": "",
            "zerolinecolor": "white"
           }
          },
          "shapedefaults": {
           "line": {
            "color": "#2a3f5f"
           }
          },
          "ternary": {
           "aaxis": {
            "gridcolor": "white",
            "linecolor": "white",
            "ticks": ""
           },
           "baxis": {
            "gridcolor": "white",
            "linecolor": "white",
            "ticks": ""
           },
           "bgcolor": "#E5ECF6",
           "caxis": {
            "gridcolor": "white",
            "linecolor": "white",
            "ticks": ""
           }
          },
          "title": {
           "x": 0.05
          },
          "xaxis": {
           "automargin": true,
           "gridcolor": "white",
           "linecolor": "white",
           "ticks": "",
           "title": {
            "standoff": 15
           },
           "zerolinecolor": "white",
           "zerolinewidth": 2
          },
          "yaxis": {
           "automargin": true,
           "gridcolor": "white",
           "linecolor": "white",
           "ticks": "",
           "title": {
            "standoff": 15
           },
           "zerolinecolor": "white",
           "zerolinewidth": 2
          }
         }
        },
        "width": 500,
        "xaxis": {
         "anchor": "y",
         "domain": [
          0,
          1
         ],
         "title": {
          "text": "Длина труб"
         }
        },
        "yaxis": {
         "anchor": "x",
         "autorange": "reversed",
         "domain": [
          0,
          1
         ],
         "title": {
          "text": "Хараеткристики теплообменника"
         }
        }
       }
      }
     },
     "metadata": {},
     "output_type": "display_data"
    }
   ],
   "source": [
    "heaters = eq.calculate_equipment(\n",
    "        heaters_table,\n",
    "        aqua_vapor_saturation_by_pressure,\n",
    "        aqua_liquid_saturation,\n",
    "        aqua_vapor_saturation,\n",
    "        balance,\n",
    "        properties,\n",
    "        FEED_TEMPERATURE,\n",
    "        thermal_balance,\n",
    "        Ropt,\n",
    "        EQ_NAME = 'холодильник',\n",
    "        COOLER_NAME = 'куба',\n",
    "        pipes = 'продукт', #изменяемый параметр может быть 'вода'\n",
    "        aq_t = 20, #изменяемый параметр\n",
    "        tk = 30 #изменяемый параметр\n",
    "        )\n",
    "\n",
    "fig = px.imshow(\n",
    "    round(heaters),\n",
    "    labels=dict(x=\"Длина труб\", y=\"Хараеткристики теплообменника\", color=\"Запас поверхности, %\"),\n",
    "    range_color=[-40,80],\n",
    "    color_continuous_scale=[\"rgb(178, 50, 34)\", \"rgb(34, 149, 34)\", \"rgb(25, 65, 225)\"],\n",
    "    x=heaters.columns,\n",
    "    y=heaters.index,\n",
    "    text_auto=True, aspect=\"auto\",\n",
    "    width=500,\n",
    "    height=1000\n",
    "    )\n",
    "fig.show()"
   ]
  },
  {
   "cell_type": "code",
   "execution_count": 54,
   "metadata": {},
   "outputs": [
    {
     "data": {
      "text/plain": [
       "тепловой поток в холодильнике                    471184.205402\n",
       "расход воды                                          10.243424\n",
       "cредняя движущая сила теплопередачи                  25.114968\n",
       "площадь сечения межтруб                               0.180956\n",
       "критерий Рейнольдса межтруб                        1411.513767\n",
       "критерий Прандтля межтруб                             7.007475\n",
       "коэффициент теплопередачи в межтрубном              608.923866\n",
       "критерий Рейнольдса в трубах                        415.364023\n",
       "критерий Прандтля в трубах                            8.632434\n",
       "коэффициент теплопередачи в трубах                   33.527815\n",
       "сумма термических сопротивлений                       0.000459\n",
       "коэффициент теплоотдачи                              31.321122\n",
       "требуемая поверхность теплообмена                   598.991675\n",
       "запас поверхности, %                      [21.700434652760904]\n",
       "dtype: object"
      ]
     },
     "execution_count": 54,
     "metadata": {},
     "output_type": "execute_result"
    }
   ],
   "source": [
    "row = heaters_table.loc[40]\n",
    "name = '9'\n",
    "eq.get_cooler(\n",
    "    row,\n",
    "    name,\n",
    "    aqua_liquid_saturation,\n",
    "    aqua_vapor_saturation,\n",
    "    properties,\n",
    "    balance,\n",
    "    COOLER_NAME = 'куба',\n",
    "    pipes = 'продукт',\n",
    "    aq_t = 20,\n",
    "    tk = 30,\n",
    "    call = 'direct')"
   ]
  },
  {
   "cell_type": "code",
   "execution_count": 55,
   "metadata": {},
   "outputs": [
    {
     "data": {
      "text/html": [
       "<div>\n",
       "<style scoped>\n",
       "    .dataframe tbody tr th:only-of-type {\n",
       "        vertical-align: middle;\n",
       "    }\n",
       "\n",
       "    .dataframe tbody tr th {\n",
       "        vertical-align: top;\n",
       "    }\n",
       "\n",
       "    .dataframe thead th {\n",
       "        text-align: right;\n",
       "    }\n",
       "</style>\n",
       "<table border=\"1\" class=\"dataframe\">\n",
       "  <thead>\n",
       "    <tr style=\"text-align: right;\">\n",
       "      <th></th>\n",
       "      <th>name</th>\n",
       "      <th>formula</th>\n",
       "      <th>molar_mass</th>\n",
       "      <th>melting_point</th>\n",
       "      <th>boiling_point</th>\n",
       "      <th>critical_point</th>\n",
       "      <th>critical_pressure</th>\n",
       "    </tr>\n",
       "  </thead>\n",
       "  <tbody>\n",
       "    <tr>\n",
       "      <th>0</th>\n",
       "      <td>Анилин</td>\n",
       "      <td>C6H5NH2</td>\n",
       "      <td>93.128</td>\n",
       "      <td>-5.9</td>\n",
       "      <td>184.4</td>\n",
       "      <td>426.0</td>\n",
       "      <td>5.309</td>\n",
       "    </tr>\n",
       "    <tr>\n",
       "      <th>1</th>\n",
       "      <td>Ацетон</td>\n",
       "      <td>CH3COCH3</td>\n",
       "      <td>58.080</td>\n",
       "      <td>-95.4</td>\n",
       "      <td>56.2</td>\n",
       "      <td>235.5</td>\n",
       "      <td>4.701</td>\n",
       "    </tr>\n",
       "    <tr>\n",
       "      <th>2</th>\n",
       "      <td>Бензол</td>\n",
       "      <td>C6H6</td>\n",
       "      <td>78.114</td>\n",
       "      <td>5.5</td>\n",
       "      <td>80.1</td>\n",
       "      <td>289.4</td>\n",
       "      <td>4.894</td>\n",
       "    </tr>\n",
       "    <tr>\n",
       "      <th>3</th>\n",
       "      <td>Бромбензол</td>\n",
       "      <td>C6H5Br</td>\n",
       "      <td>157.010</td>\n",
       "      <td>-30.8</td>\n",
       "      <td>156.0</td>\n",
       "      <td>397.0</td>\n",
       "      <td>4.519</td>\n",
       "    </tr>\n",
       "    <tr>\n",
       "      <th>4</th>\n",
       "      <td>Бутанол</td>\n",
       "      <td>CH3(CH2)2CH2OH</td>\n",
       "      <td>74.123</td>\n",
       "      <td>-89.5</td>\n",
       "      <td>117.3</td>\n",
       "      <td>288.6</td>\n",
       "      <td>4.418</td>\n",
       "    </tr>\n",
       "    <tr>\n",
       "      <th>5</th>\n",
       "      <td>Гексан</td>\n",
       "      <td>CH3(CH2)4CH3</td>\n",
       "      <td>86.177</td>\n",
       "      <td>-95.3</td>\n",
       "      <td>68.7</td>\n",
       "      <td>234.7</td>\n",
       "      <td>2.969</td>\n",
       "    </tr>\n",
       "    <tr>\n",
       "      <th>6</th>\n",
       "      <td>Гептан</td>\n",
       "      <td>CH3(CH2)5CH3</td>\n",
       "      <td>100.204</td>\n",
       "      <td>-90.6</td>\n",
       "      <td>98.4</td>\n",
       "      <td>267.0</td>\n",
       "      <td>2.736</td>\n",
       "    </tr>\n",
       "    <tr>\n",
       "      <th>7</th>\n",
       "      <td>Дихлорэтан</td>\n",
       "      <td>ClCH2CH2Cl</td>\n",
       "      <td>98.959</td>\n",
       "      <td>-35.9</td>\n",
       "      <td>83.5</td>\n",
       "      <td>288.0</td>\n",
       "      <td>5.369</td>\n",
       "    </tr>\n",
       "    <tr>\n",
       "      <th>8</th>\n",
       "      <td>Изопропанол</td>\n",
       "      <td>(CH3)2CHOH</td>\n",
       "      <td>60.096</td>\n",
       "      <td>-89.5</td>\n",
       "      <td>82.4</td>\n",
       "      <td>235.6</td>\n",
       "      <td>4.762</td>\n",
       "    </tr>\n",
       "    <tr>\n",
       "      <th>9</th>\n",
       "      <td>о-Ксилол</td>\n",
       "      <td>C6H4(CH3)2</td>\n",
       "      <td>106.167</td>\n",
       "      <td>-25.2</td>\n",
       "      <td>144.4</td>\n",
       "      <td>358.4</td>\n",
       "      <td>3.729</td>\n",
       "    </tr>\n",
       "    <tr>\n",
       "      <th>10</th>\n",
       "      <td>п-Ксилол</td>\n",
       "      <td>C6H4(CH3)2</td>\n",
       "      <td>106.167</td>\n",
       "      <td>13.3</td>\n",
       "      <td>138.4</td>\n",
       "      <td>342.8</td>\n",
       "      <td>3.516</td>\n",
       "    </tr>\n",
       "    <tr>\n",
       "      <th>11</th>\n",
       "      <td>Метанол</td>\n",
       "      <td>CH3OH</td>\n",
       "      <td>32.042</td>\n",
       "      <td>-97.9</td>\n",
       "      <td>64.7</td>\n",
       "      <td>239.5</td>\n",
       "      <td>8.096</td>\n",
       "    </tr>\n",
       "    <tr>\n",
       "      <th>12</th>\n",
       "      <td>Метилацетат</td>\n",
       "      <td>CH3COOCH3</td>\n",
       "      <td>74.079</td>\n",
       "      <td>-98.1</td>\n",
       "      <td>56.9</td>\n",
       "      <td>233.7</td>\n",
       "      <td>4.691</td>\n",
       "    </tr>\n",
       "    <tr>\n",
       "      <th>13</th>\n",
       "      <td>Муравьиная кислота</td>\n",
       "      <td>HCOOH</td>\n",
       "      <td>46.026</td>\n",
       "      <td>8.3</td>\n",
       "      <td>100.7</td>\n",
       "      <td>306.8</td>\n",
       "      <td>NaN</td>\n",
       "    </tr>\n",
       "    <tr>\n",
       "      <th>14</th>\n",
       "      <td>Нитробензол</td>\n",
       "      <td>C6H5NO2</td>\n",
       "      <td>123.111</td>\n",
       "      <td>5.8</td>\n",
       "      <td>210.9</td>\n",
       "      <td>459.0</td>\n",
       "      <td>NaN</td>\n",
       "    </tr>\n",
       "    <tr>\n",
       "      <th>15</th>\n",
       "      <td>Октан</td>\n",
       "      <td>CH3(CH2)6CH3</td>\n",
       "      <td>114.231</td>\n",
       "      <td>-56.8</td>\n",
       "      <td>125.7</td>\n",
       "      <td>296.2</td>\n",
       "      <td>2.482</td>\n",
       "    </tr>\n",
       "    <tr>\n",
       "      <th>16</th>\n",
       "      <td>Пропанол</td>\n",
       "      <td>CH3CH2CH2OH</td>\n",
       "      <td>60.096</td>\n",
       "      <td>-126.2</td>\n",
       "      <td>97.2</td>\n",
       "      <td>263.7</td>\n",
       "      <td>5.168</td>\n",
       "    </tr>\n",
       "    <tr>\n",
       "      <th>17</th>\n",
       "      <td>Сероуглерод</td>\n",
       "      <td>CS2</td>\n",
       "      <td>76.143</td>\n",
       "      <td>-111.9</td>\n",
       "      <td>46.2</td>\n",
       "      <td>279.0</td>\n",
       "      <td>7.903</td>\n",
       "    </tr>\n",
       "    <tr>\n",
       "      <th>18</th>\n",
       "      <td>Тетрахлорметан</td>\n",
       "      <td>CCl4</td>\n",
       "      <td>153.822</td>\n",
       "      <td>-22.9</td>\n",
       "      <td>76.8</td>\n",
       "      <td>283.2</td>\n",
       "      <td>4.560</td>\n",
       "    </tr>\n",
       "    <tr>\n",
       "      <th>19</th>\n",
       "      <td>Толуол</td>\n",
       "      <td>C6H5CH3</td>\n",
       "      <td>92.141</td>\n",
       "      <td>-95.0</td>\n",
       "      <td>110.6</td>\n",
       "      <td>320.4</td>\n",
       "      <td>4.114</td>\n",
       "    </tr>\n",
       "    <tr>\n",
       "      <th>20</th>\n",
       "      <td>Уксусная кислота</td>\n",
       "      <td>CH3COOH</td>\n",
       "      <td>60.053</td>\n",
       "      <td>16.8</td>\n",
       "      <td>118.1</td>\n",
       "      <td>321.6</td>\n",
       "      <td>5.786</td>\n",
       "    </tr>\n",
       "    <tr>\n",
       "      <th>21</th>\n",
       "      <td>Хлорбензол</td>\n",
       "      <td>C6H5Cl</td>\n",
       "      <td>112.558</td>\n",
       "      <td>-45.6</td>\n",
       "      <td>131.7</td>\n",
       "      <td>359.2</td>\n",
       "      <td>4.519</td>\n",
       "    </tr>\n",
       "    <tr>\n",
       "      <th>22</th>\n",
       "      <td>Хлороформ</td>\n",
       "      <td>CHCl3</td>\n",
       "      <td>119.377</td>\n",
       "      <td>-63.5</td>\n",
       "      <td>61.2</td>\n",
       "      <td>263.4</td>\n",
       "      <td>5.472</td>\n",
       "    </tr>\n",
       "    <tr>\n",
       "      <th>23</th>\n",
       "      <td>Циклогексан</td>\n",
       "      <td>C6H12</td>\n",
       "      <td>84.161</td>\n",
       "      <td>6.6</td>\n",
       "      <td>80.7</td>\n",
       "      <td>280.4</td>\n",
       "      <td>4.073</td>\n",
       "    </tr>\n",
       "    <tr>\n",
       "      <th>24</th>\n",
       "      <td>Этанол</td>\n",
       "      <td>CH3CH2OH</td>\n",
       "      <td>46.069</td>\n",
       "      <td>-114.2</td>\n",
       "      <td>78.3</td>\n",
       "      <td>243.0</td>\n",
       "      <td>6.383</td>\n",
       "    </tr>\n",
       "    <tr>\n",
       "      <th>25</th>\n",
       "      <td>Этилацетат</td>\n",
       "      <td>CH3COOC2H5</td>\n",
       "      <td>88.106</td>\n",
       "      <td>-83.6</td>\n",
       "      <td>77.1</td>\n",
       "      <td>250.2</td>\n",
       "      <td>3.830</td>\n",
       "    </tr>\n",
       "    <tr>\n",
       "      <th>26</th>\n",
       "      <td>Этилбензол</td>\n",
       "      <td>C6H5C2H5</td>\n",
       "      <td>106.167</td>\n",
       "      <td>-95.0</td>\n",
       "      <td>136.2</td>\n",
       "      <td>346.4</td>\n",
       "      <td>3.607</td>\n",
       "    </tr>\n",
       "    <tr>\n",
       "      <th>27</th>\n",
       "      <td>Этиловый эфир</td>\n",
       "      <td>(C2H5)2O</td>\n",
       "      <td>74.123</td>\n",
       "      <td>-116.3</td>\n",
       "      <td>34.6</td>\n",
       "      <td>193.4</td>\n",
       "      <td>3.638</td>\n",
       "    </tr>\n",
       "  </tbody>\n",
       "</table>\n",
       "</div>"
      ],
      "text/plain": [
       "                  name         formula  molar_mass  melting_point  \\\n",
       "0               Анилин         C6H5NH2      93.128           -5.9   \n",
       "1               Ацетон        CH3COCH3      58.080          -95.4   \n",
       "2               Бензол            C6H6      78.114            5.5   \n",
       "3           Бромбензол          C6H5Br     157.010          -30.8   \n",
       "4              Бутанол  CH3(CH2)2CH2OH      74.123          -89.5   \n",
       "5               Гексан    CH3(CH2)4CH3      86.177          -95.3   \n",
       "6               Гептан    CH3(CH2)5CH3     100.204          -90.6   \n",
       "7           Дихлорэтан      ClCH2CH2Cl      98.959          -35.9   \n",
       "8          Изопропанол      (CH3)2CHOH      60.096          -89.5   \n",
       "9             о-Ксилол      C6H4(CH3)2     106.167          -25.2   \n",
       "10            п-Ксилол      C6H4(CH3)2     106.167           13.3   \n",
       "11             Метанол           CH3OH      32.042          -97.9   \n",
       "12         Метилацетат       CH3COOCH3      74.079          -98.1   \n",
       "13  Муравьиная кислота           HCOOH      46.026            8.3   \n",
       "14         Нитробензол         C6H5NO2     123.111            5.8   \n",
       "15               Октан    CH3(CH2)6CH3     114.231          -56.8   \n",
       "16            Пропанол     CH3CH2CH2OH      60.096         -126.2   \n",
       "17         Сероуглерод             CS2      76.143         -111.9   \n",
       "18      Тетрахлорметан            CCl4     153.822          -22.9   \n",
       "19              Толуол         C6H5CH3      92.141          -95.0   \n",
       "20    Уксусная кислота         CH3COOH      60.053           16.8   \n",
       "21          Хлорбензол          C6H5Cl     112.558          -45.6   \n",
       "22           Хлороформ           CHCl3     119.377          -63.5   \n",
       "23         Циклогексан           C6H12      84.161            6.6   \n",
       "24              Этанол        CH3CH2OH      46.069         -114.2   \n",
       "25          Этилацетат      CH3COOC2H5      88.106          -83.6   \n",
       "26          Этилбензол        C6H5C2H5     106.167          -95.0   \n",
       "27       Этиловый эфир        (C2H5)2O      74.123         -116.3   \n",
       "\n",
       "    boiling_point  critical_point  critical_pressure  \n",
       "0           184.4           426.0              5.309  \n",
       "1            56.2           235.5              4.701  \n",
       "2            80.1           289.4              4.894  \n",
       "3           156.0           397.0              4.519  \n",
       "4           117.3           288.6              4.418  \n",
       "5            68.7           234.7              2.969  \n",
       "6            98.4           267.0              2.736  \n",
       "7            83.5           288.0              5.369  \n",
       "8            82.4           235.6              4.762  \n",
       "9           144.4           358.4              3.729  \n",
       "10          138.4           342.8              3.516  \n",
       "11           64.7           239.5              8.096  \n",
       "12           56.9           233.7              4.691  \n",
       "13          100.7           306.8                NaN  \n",
       "14          210.9           459.0                NaN  \n",
       "15          125.7           296.2              2.482  \n",
       "16           97.2           263.7              5.168  \n",
       "17           46.2           279.0              7.903  \n",
       "18           76.8           283.2              4.560  \n",
       "19          110.6           320.4              4.114  \n",
       "20          118.1           321.6              5.786  \n",
       "21          131.7           359.2              4.519  \n",
       "22           61.2           263.4              5.472  \n",
       "23           80.7           280.4              4.073  \n",
       "24           78.3           243.0              6.383  \n",
       "25           77.1           250.2              3.830  \n",
       "26          136.2           346.4              3.607  \n",
       "27           34.6           193.4              3.638  "
      ]
     },
     "execution_count": 55,
     "metadata": {},
     "output_type": "execute_result"
    }
   ],
   "source": [
    "ph_organic"
   ]
  }
 ],
 "metadata": {
  "kernelspec": {
   "display_name": "Python 3.10.4 64-bit",
   "language": "python",
   "name": "python3"
  },
  "language_info": {
   "codemirror_mode": {
    "name": "ipython",
    "version": 3
   },
   "file_extension": ".py",
   "mimetype": "text/x-python",
   "name": "python",
   "nbconvert_exporter": "python",
   "pygments_lexer": "ipython3",
   "version": "3.10.4"
  },
  "orig_nbformat": 4,
  "vscode": {
   "interpreter": {
    "hash": "dacbaecb06468868279e470aadb77148d1041af97fd301b2102547f31dc8bcf1"
   }
  }
 },
 "nbformat": 4,
 "nbformat_minor": 2
}
